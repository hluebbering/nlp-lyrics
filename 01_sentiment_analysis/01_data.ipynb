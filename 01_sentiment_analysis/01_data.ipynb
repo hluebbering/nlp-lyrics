{
 "cells": [
  {
   "cell_type": "markdown",
   "metadata": {},
   "source": [
    "## Extracting Spotify Data\n",
    "\n",
    "Getting started, we want to extract data for a set of tracks within one of Spotify's top-featured playlists. Leveraging the **Spotify Web API**, we can seamlessly obtain detailed data for a song, such as the performing artist, the album it belongs to, its release date, popularity, and audio features like danceability, energy, and tempo.\n",
    "\n",
    "Python libraries like `spotipy` offer a user-friendly way to interact with the Spotify API, offering a range of functions that streamline tasks like API authentication, retrieving playlist data, and obtaining information about any given song.\n"
   ]
  },
  {
   "cell_type": "markdown",
   "metadata": {},
   "source": [
    "### Accessing the Spotify Web API\n",
    "\n",
    "To access data from Spotify, we import the `spotipy` library and the `SpotifyClientCredentials` module. Additionally, we utilize the `pandas` package for data manipulation and display. In order to authenticate our access to the Spotify API, we must provide our **client ID** and **client secret** to a client credentials manager. Once authenticated, we can use the spotipy module to interact with the Spotify API and retrieve data.\n"
   ]
  },
  {
   "cell_type": "code",
   "execution_count": 1,
   "metadata": {},
   "outputs": [],
   "source": [
    "import spotipy  # <1>\n",
    "from spotipy.oauth2 import SpotifyClientCredentials # <1>\n",
    "import pandas as pd # <1>\n",
    "\n",
    "client_id = \"xxx\" # <2>\n",
    "client_secret = \"xxx\" # <2>\n",
    "my_auth = SpotifyClientCredentials(client_id, client_secret) # <3>\n",
    "sp = spotipy.Spotify(auth_manager=my_auth) # <4>"
   ]
  },
  {
   "cell_type": "code",
   "execution_count": 2,
   "metadata": {
    "tags": [
     "hide-code"
    ]
   },
   "outputs": [],
   "source": [
    "client_id = \"bd1c5f1d16b94210bc1776e172cbd264\"\n",
    "client_secret = \"b152588a487b4f6e9429bdd1bfd92fb3\"\n",
    "sp = spotipy.Spotify(auth_manager=SpotifyClientCredentials(client_id, client_secret))"
   ]
  },
  {
   "cell_type": "markdown",
   "metadata": {},
   "source": [
    "#### Spotify's Featured Playlists\n",
    "\n",
    "Let's take a look at the popular Spotify playlists. Below, the code retrieves a range of Spotify playlists and generates a dataframe containing details for each playlist, including its name, ID, description, thumbnail, total number of tracks, and follower count. The resulting dataframe is displayed as an HTML table.\n"
   ]
  },
  {
   "cell_type": "code",
   "execution_count": 3,
   "metadata": {
    "tags": [
     "hide-code"
    ]
   },
   "outputs": [],
   "source": [
    "# Get the follower count for the playlist\n",
    "def get_playlist_follower_count(playlist_id):\n",
    "    playlist = sp.playlist(playlist_id)\n",
    "    return playlist[\"followers\"][\"total\"]"
   ]
  },
  {
   "cell_type": "code",
   "execution_count": 4,
   "metadata": {
    "tags": [
     "hide-code"
    ]
   },
   "outputs": [],
   "source": [
    "def get_top_playlists(username: str, lim: int):\n",
    "    all_playlists = sp.user_playlists(username)  # Get user playlists\n",
    "    playlist_data = [\n",
    "        {\n",
    "            \"thumbnail\": item[\"images\"][0][\"url\"],\n",
    "            \"name\": item[\"name\"],\n",
    "            \"id\": item[\"id\"],\n",
    "            \"description\": item[\"description\"],\n",
    "            \"tracks\": item[\"tracks\"][\"total\"],\n",
    "            \"followers\": get_playlist_follower_count(item[\"id\"]),\n",
    "        }\n",
    "        for item in all_playlists[\"items\"]  # Iterate over each playlist item\n",
    "    ]\n",
    "    # Create DataFrame from list of dictionaries\n",
    "    playlist_df = pd.DataFrame(playlist_data)\n",
    "    return playlist_df.nlargest(lim, \"followers\")"
   ]
  },
  {
   "cell_type": "code",
   "execution_count": 5,
   "metadata": {},
   "outputs": [],
   "source": [
    "username = \"spotify\"\n",
    "spotify_playlists = sp.user_playlists(username)\n",
    "top_playlists = get_top_playlists(username, 6)"
   ]
  },
  {
   "cell_type": "markdown",
   "metadata": {},
   "source": [
    "The function `get_top_playlists` retrieves all playlists for a given user and returns the playlists with the most followers. Specifically, the function gets all playlists from a given user, iterating over each playlist item to extract the thumbnail image URL, the playlist name, ID, description, total number of tracks, and follower count for the playlist. It then creates a DataFrame from the playlist data, sorts the DataFrame by the number of followers in descending order, and returns the top playlists with the most followers."
   ]
  },
  {
   "cell_type": "code",
   "execution_count": 6,
   "metadata": {
    "tags": [
     "hide-code"
    ]
   },
   "outputs": [
    {
     "data": {
      "text/html": [
       "<table border=\"1\" class=\"dataframe\">\n",
       "  <thead>\n",
       "    <tr style=\"text-align: right;\">\n",
       "      <th></th>\n",
       "      <th>thumbnail</th>\n",
       "      <th>name</th>\n",
       "      <th>id</th>\n",
       "      <th>description</th>\n",
       "      <th>tracks</th>\n",
       "      <th>followers</th>\n",
       "    </tr>\n",
       "  </thead>\n",
       "  <tbody>\n",
       "    <tr>\n",
       "      <th>0</th>\n",
       "      <td><img src=\"https://i.scdn.co/image/ab67706f00000002d4f64397019d0744c0bc1ac4\" width=\"40\" ></td>\n",
       "      <td>Today’s Top Hits</td>\n",
       "      <td>37i9dQZF1DXcBWIGoYBM5M</td>\n",
       "      <td>Karol G is on top of the Hottest 50!</td>\n",
       "      <td>50</td>\n",
       "      <td>34735922</td>\n",
       "    </tr>\n",
       "    <tr>\n",
       "      <th>1</th>\n",
       "      <td><img src=\"https://i.scdn.co/image/ab67706f00000002426dda818d07ebe7ad4c2287\" width=\"40\" ></td>\n",
       "      <td>RapCaviar</td>\n",
       "      <td>37i9dQZF1DX0XUsuxWHRQd</td>\n",
       "      <td>New music from Eminem, Ice Spice and BossMan DLow.</td>\n",
       "      <td>50</td>\n",
       "      <td>15979449</td>\n",
       "    </tr>\n",
       "    <tr>\n",
       "      <th>3</th>\n",
       "      <td><img src=\"https://i.scdn.co/image/ab67706f00000002187aec7a5f7db2593b33eb9c\" width=\"40\" ></td>\n",
       "      <td>Viva Latino</td>\n",
       "      <td>37i9dQZF1DX10zKzsJ2jva</td>\n",
       "      <td>Today's top Latin hits, elevando nuestra música. Cover: Natanael Cano, Oscar Maydon</td>\n",
       "      <td>50</td>\n",
       "      <td>15144445</td>\n",
       "    </tr>\n",
       "    <tr>\n",
       "      <th>12</th>\n",
       "      <td><img src=\"https://i.scdn.co/image/ab67706f00000002c900fae23e2a3cf42b0e1556\" width=\"40\" ></td>\n",
       "      <td>All Out 2000s</td>\n",
       "      <td>37i9dQZF1DX4o1oenSJRJd</td>\n",
       "      <td>The biggest songs of the 2000s. Cover: The Killers</td>\n",
       "      <td>150</td>\n",
       "      <td>12331870</td>\n",
       "    </tr>\n",
       "    <tr>\n",
       "      <th>7</th>\n",
       "      <td><img src=\"https://i.scdn.co/image/ab67706f000000024a83d42ca84e63abc9413b5d\" width=\"40\" ></td>\n",
       "      <td>Rock Classics</td>\n",
       "      <td>37i9dQZF1DWXRqgorJj26U</td>\n",
       "      <td>Rock legends & epic songs that continue to inspire generations. Cover: The Rolling Stones</td>\n",
       "      <td>200</td>\n",
       "      <td>12205175</td>\n",
       "    </tr>\n",
       "    <tr>\n",
       "      <th>14</th>\n",
       "      <td><img src=\"https://i.scdn.co/image/ab67706f00000002d6710ea346fec48e89d77dba\" width=\"40\" ></td>\n",
       "      <td>All Out 80s</td>\n",
       "      <td>37i9dQZF1DX4UtSsGT1Sbe</td>\n",
       "      <td>The biggest songs of the 1980s. Cover: Bruce Springsteen</td>\n",
       "      <td>150</td>\n",
       "      <td>11312274</td>\n",
       "    </tr>\n",
       "  </tbody>\n",
       "</table>"
      ],
      "text/plain": [
       "<IPython.core.display.HTML object>"
      ]
     },
     "execution_count": 6,
     "metadata": {},
     "output_type": "execute_result"
    }
   ],
   "source": [
    "from IPython.core.display import HTML\n",
    "\n",
    "# Converting links to html tags\n",
    "def path_to_image_html(path):\n",
    "    return f'<img src=\"{path}\" width=\"40\" >'\n",
    "\n",
    "# Rendering the dataframe as HTML table\n",
    "HTML(top_playlists.to_html(escape=False, formatters=dict(thumbnail=path_to_image_html)))"
   ]
  },
  {
   "cell_type": "markdown",
   "metadata": {},
   "source": [
    "---\n",
    "\n",
    "### Extracting Tracks From a Playlist\n",
    "\n",
    "The following script enables the compilation of song and artist data from any Spotify playlist through its URI. To analyze a particular playlist, simply copy the URI from the Spotify Player interface and input it into the function defined below. The `get_playlist_tracks` method returns a complete list of track IDs and corresponding artists from the selected playlist.\n"
   ]
  },
  {
   "cell_type": "code",
   "execution_count": 7,
   "metadata": {},
   "outputs": [],
   "source": [
    "def get_playlist_tracks(playlist_URI):\n",
    "    tracks = []\n",
    "    results = sp.playlist_tracks(playlist_URI)\n",
    "    tracks = results[\"items\"]\n",
    "    while results[\"next\"]:\n",
    "        results = sp.next(results)\n",
    "        tracks.extend(results[\"items\"])\n",
    "    return tracks"
   ]
  },
  {
   "cell_type": "markdown",
   "metadata": {},
   "source": [
    "#### Extracting Features from Tracks\n",
    "\n",
    "The following script utilizes Spotify's API to extract further details about each song within the playlist. It obtains metadata such as the track name, the artist it's sung by, the album it belongs to, the release date, and track features such as danceability, tempo, and popularity.\n"
   ]
  },
  {
   "cell_type": "code",
   "execution_count": 8,
   "metadata": {},
   "outputs": [],
   "source": [
    "def playlist_features(id, artist_id, playlist_id):\n",
    "    meta = sp.track(id)\n",
    "    audio_features = sp.audio_features(id)\n",
    "    artist_info = sp.artist(artist_id)\n",
    "    playlist_info = sp.playlist(playlist_id)\n",
    "\n",
    "    # print(audio_features)\n",
    "\n",
    "    if audio_features[0] is None:\n",
    "        return None\n",
    "    \n",
    "    \n",
    "\n",
    "    name = meta['name']\n",
    "    track_id = meta['id']\n",
    "    album = meta['album']['name']\n",
    "    artist = meta['album']['artists'][0]['name']\n",
    "    artist_id = meta['album']['artists'][0]['id']\n",
    "    release_date = meta['album']['release_date']\n",
    "    length = meta['duration_ms']\n",
    "    popularity = meta['popularity']\n",
    "\n",
    "    artist_pop = artist_info[\"popularity\"]\n",
    "    artist_genres = artist_info[\"genres\"]\n",
    "    artist_followers = artist_info[\"followers\"]['total']\n",
    "\n",
    "    acousticness = audio_features[0]['acousticness']\n",
    "    danceability = audio_features[0]['danceability']\n",
    "    energy = audio_features[0]['energy']\n",
    "    instrumentalness = audio_features[0]['instrumentalness']\n",
    "    liveness = audio_features[0]['liveness']\n",
    "    loudness = audio_features[0]['loudness']\n",
    "    speechiness = audio_features[0]['speechiness']\n",
    "    tempo = audio_features[0]['tempo']\n",
    "    valence = audio_features[0]['valence']\n",
    "    key = audio_features[0]['key']\n",
    "    mode = audio_features[0]['mode']\n",
    "    time_signature = audio_features[0]['time_signature']\n",
    "    \n",
    "    playlist_name = playlist_info['name']\n",
    "\n",
    "    return [name, track_id, album, artist, artist_id, release_date, length, popularity, \n",
    "            artist_pop, artist_genres, artist_followers, acousticness, danceability, \n",
    "            energy, instrumentalness, liveness, loudness, speechiness, \n",
    "            tempo, valence, key, mode, time_signature, playlist_name]\n"
   ]
  },
  {
   "cell_type": "markdown",
   "metadata": {},
   "source": [
    "Choose a specific playlist to analyze by copying the URL from the Spotify Player interface. Using that link, the `playlist_tracks` method retrieves a list of IDs and corresponding artists for each track from the playlist. Specifically, we analyze Spotify's *Today’s Top Hits* playlist."
   ]
  },
  {
   "cell_type": "code",
   "execution_count": 9,
   "metadata": {},
   "outputs": [],
   "source": [
    "playlist_links = [top_playlists['id'][0]]\n",
    "\n",
    "for playlist_URI in playlist_links:\n",
    "    # playlist_URI = link.split(\"/\")[-1].split(\"?\")[0]\n",
    "    \n",
    "    all_tracks = [  # Loop over track ids\n",
    "    playlist_features(i[\"track\"][\"id\"], i[\"track\"][\"artists\"][0][\"uri\"], playlist_URI)\n",
    "    for i in get_playlist_tracks(playlist_URI)\n",
    "]"
   ]
  },
  {
   "cell_type": "code",
   "execution_count": 10,
   "metadata": {
    "tags": [
     "hide-code"
    ]
   },
   "outputs": [],
   "source": [
    "df_all_tracks = all_tracks\n",
    "all_tracks = [i for i in df_all_tracks if i != None]"
   ]
  },
  {
   "cell_type": "markdown",
   "metadata": {},
   "source": [
    "Putting it all together, the `get_playlist_tracks` function retrieves basic details for each song in a specified Spotify playlist using its URI. The `playlist_features` function then iterates through these tracks using their IDs to extract additional information, such as danceability, energy, loudness, speechiness, acousticness, instrumentalness, liveness, valence, tempo, and more. From there, we create a Pandas dataframe by passing in the extracted information.\n"
   ]
  },
  {
   "cell_type": "code",
   "execution_count": 11,
   "metadata": {
    "tags": [
     "hide-code"
    ]
   },
   "outputs": [],
   "source": [
    "# Create dataframe\n",
    "df = pd.DataFrame(\n",
    "    all_tracks, columns=['name', 'track_id', 'album', 'artist', 'artist_id','release_date',\n",
    "                     'length', 'popularity', 'artist_pop', 'artist_genres', 'artist_followers',\n",
    "                     'acousticness', 'danceability', 'energy',\n",
    "                     'instrumentalness', 'liveness', 'loudness',\n",
    "                     'speechiness', 'tempo', 'valence', 'key', 'mode',\n",
    "                     'time_signature', 'playlist'])"
   ]
  },
  {
   "cell_type": "markdown",
   "metadata": {},
   "source": [
    "##### Loudness Scaled"
   ]
  },
  {
   "cell_type": "code",
   "execution_count": 12,
   "metadata": {},
   "outputs": [],
   "source": [
    "# Loudness Scaled\n",
    "from sklearn import preprocessing \n",
    "\n",
    "scaler = preprocessing.MinMaxScaler()\n",
    "# scale loudness to fit the same range [0, 1]\n",
    "loudness2 = df[\"loudness\"].values\n",
    "loudness_scaled=scaler.fit_transform(loudness2.reshape(-1, 1))\n",
    "df['loudness_scaled'] = loudness_scaled"
   ]
  },
  {
   "cell_type": "code",
   "execution_count": 13,
   "metadata": {
    "tags": [
     "hide-code"
    ]
   },
   "outputs": [
    {
     "data": {
      "text/html": [
       "<div>\n",
       "<style scoped>\n",
       "    .dataframe tbody tr th:only-of-type {\n",
       "        vertical-align: middle;\n",
       "    }\n",
       "\n",
       "    .dataframe tbody tr th {\n",
       "        vertical-align: top;\n",
       "    }\n",
       "\n",
       "    .dataframe thead th {\n",
       "        text-align: right;\n",
       "    }\n",
       "</style>\n",
       "<table border=\"1\" class=\"dataframe\">\n",
       "  <thead>\n",
       "    <tr style=\"text-align: right;\">\n",
       "      <th></th>\n",
       "      <th>name</th>\n",
       "      <th>track_id</th>\n",
       "      <th>album</th>\n",
       "      <th>artist</th>\n",
       "      <th>artist_id</th>\n",
       "      <th>release_date</th>\n",
       "      <th>length</th>\n",
       "      <th>popularity</th>\n",
       "      <th>artist_pop</th>\n",
       "      <th>artist_genres</th>\n",
       "      <th>...</th>\n",
       "      <th>liveness</th>\n",
       "      <th>loudness</th>\n",
       "      <th>speechiness</th>\n",
       "      <th>tempo</th>\n",
       "      <th>valence</th>\n",
       "      <th>key</th>\n",
       "      <th>mode</th>\n",
       "      <th>time_signature</th>\n",
       "      <th>playlist</th>\n",
       "      <th>loudness_scaled</th>\n",
       "    </tr>\n",
       "  </thead>\n",
       "  <tbody>\n",
       "    <tr>\n",
       "      <th>0</th>\n",
       "      <td>Please Please Please</td>\n",
       "      <td>5N3hjp1WNayUPZrA8kJmJP</td>\n",
       "      <td>Please Please Please</td>\n",
       "      <td>Sabrina Carpenter</td>\n",
       "      <td>74KM79TiuVKeVCqs8QtB0B</td>\n",
       "      <td>2024-06-06</td>\n",
       "      <td>186365</td>\n",
       "      <td>98</td>\n",
       "      <td>91</td>\n",
       "      <td>[pop]</td>\n",
       "      <td>...</td>\n",
       "      <td>0.1040</td>\n",
       "      <td>-6.073</td>\n",
       "      <td>0.0540</td>\n",
       "      <td>107.071</td>\n",
       "      <td>0.579</td>\n",
       "      <td>9</td>\n",
       "      <td>1</td>\n",
       "      <td>4</td>\n",
       "      <td>Today’s Top Hits</td>\n",
       "      <td>0.575663</td>\n",
       "    </tr>\n",
       "    <tr>\n",
       "      <th>1</th>\n",
       "      <td>Si Antes Te Hubiera Conocido</td>\n",
       "      <td>6WatFBLVB0x077xWeoVc2k</td>\n",
       "      <td>Si Antes Te Hubiera Conocido</td>\n",
       "      <td>KAROL G</td>\n",
       "      <td>790FomKkXshlbRYZFtlgla</td>\n",
       "      <td>2024-06-21</td>\n",
       "      <td>195824</td>\n",
       "      <td>91</td>\n",
       "      <td>89</td>\n",
       "      <td>[reggaeton, reggaeton colombiano, trap latino,...</td>\n",
       "      <td>...</td>\n",
       "      <td>0.0678</td>\n",
       "      <td>-6.795</td>\n",
       "      <td>0.0469</td>\n",
       "      <td>128.027</td>\n",
       "      <td>0.787</td>\n",
       "      <td>11</td>\n",
       "      <td>1</td>\n",
       "      <td>4</td>\n",
       "      <td>Today’s Top Hits</td>\n",
       "      <td>0.495503</td>\n",
       "    </tr>\n",
       "    <tr>\n",
       "      <th>2</th>\n",
       "      <td>BIRDS OF A FEATHER</td>\n",
       "      <td>6dOtVTDdiauQNBQEDOtlAB</td>\n",
       "      <td>HIT ME HARD AND SOFT</td>\n",
       "      <td>Billie Eilish</td>\n",
       "      <td>6qqNVTkY8uBg9cP3Jd7DAH</td>\n",
       "      <td>2024-05-17</td>\n",
       "      <td>210373</td>\n",
       "      <td>98</td>\n",
       "      <td>94</td>\n",
       "      <td>[art pop, pop]</td>\n",
       "      <td>...</td>\n",
       "      <td>0.1170</td>\n",
       "      <td>-10.171</td>\n",
       "      <td>0.0358</td>\n",
       "      <td>104.978</td>\n",
       "      <td>0.438</td>\n",
       "      <td>2</td>\n",
       "      <td>1</td>\n",
       "      <td>4</td>\n",
       "      <td>Today’s Top Hits</td>\n",
       "      <td>0.120684</td>\n",
       "    </tr>\n",
       "    <tr>\n",
       "      <th>3</th>\n",
       "      <td>Good Luck, Babe!</td>\n",
       "      <td>0WbMK4wrZ1wFSty9F7FCgu</td>\n",
       "      <td>Good Luck, Babe!</td>\n",
       "      <td>Chappell Roan</td>\n",
       "      <td>7GlBOeep6PqTfFi59PTUUN</td>\n",
       "      <td>2024-04-05</td>\n",
       "      <td>218423</td>\n",
       "      <td>94</td>\n",
       "      <td>86</td>\n",
       "      <td>[indie pop, pov: indie]</td>\n",
       "      <td>...</td>\n",
       "      <td>0.0881</td>\n",
       "      <td>-5.960</td>\n",
       "      <td>0.0356</td>\n",
       "      <td>116.712</td>\n",
       "      <td>0.785</td>\n",
       "      <td>11</td>\n",
       "      <td>0</td>\n",
       "      <td>4</td>\n",
       "      <td>Today’s Top Hits</td>\n",
       "      <td>0.588209</td>\n",
       "    </tr>\n",
       "    <tr>\n",
       "      <th>4</th>\n",
       "      <td>A Bar Song (Tipsy)</td>\n",
       "      <td>2FQrifJ1N335Ljm3TjTVVf</td>\n",
       "      <td>A Bar Song (Tipsy)</td>\n",
       "      <td>Shaboozey</td>\n",
       "      <td>3y2cIKLjiOlp1Np37WiUdH</td>\n",
       "      <td>2024-04-12</td>\n",
       "      <td>171291</td>\n",
       "      <td>93</td>\n",
       "      <td>81</td>\n",
       "      <td>[pop rap]</td>\n",
       "      <td>...</td>\n",
       "      <td>0.0804</td>\n",
       "      <td>-4.950</td>\n",
       "      <td>0.0273</td>\n",
       "      <td>81.012</td>\n",
       "      <td>0.604</td>\n",
       "      <td>9</td>\n",
       "      <td>1</td>\n",
       "      <td>4</td>\n",
       "      <td>Today’s Top Hits</td>\n",
       "      <td>0.700344</td>\n",
       "    </tr>\n",
       "  </tbody>\n",
       "</table>\n",
       "<p>5 rows × 25 columns</p>\n",
       "</div>"
      ],
      "text/plain": [
       "                           name                track_id  \\\n",
       "0          Please Please Please  5N3hjp1WNayUPZrA8kJmJP   \n",
       "1  Si Antes Te Hubiera Conocido  6WatFBLVB0x077xWeoVc2k   \n",
       "2            BIRDS OF A FEATHER  6dOtVTDdiauQNBQEDOtlAB   \n",
       "3              Good Luck, Babe!  0WbMK4wrZ1wFSty9F7FCgu   \n",
       "4            A Bar Song (Tipsy)  2FQrifJ1N335Ljm3TjTVVf   \n",
       "\n",
       "                          album             artist               artist_id  \\\n",
       "0          Please Please Please  Sabrina Carpenter  74KM79TiuVKeVCqs8QtB0B   \n",
       "1  Si Antes Te Hubiera Conocido            KAROL G  790FomKkXshlbRYZFtlgla   \n",
       "2          HIT ME HARD AND SOFT      Billie Eilish  6qqNVTkY8uBg9cP3Jd7DAH   \n",
       "3              Good Luck, Babe!      Chappell Roan  7GlBOeep6PqTfFi59PTUUN   \n",
       "4            A Bar Song (Tipsy)          Shaboozey  3y2cIKLjiOlp1Np37WiUdH   \n",
       "\n",
       "  release_date  length  popularity  artist_pop  \\\n",
       "0   2024-06-06  186365          98          91   \n",
       "1   2024-06-21  195824          91          89   \n",
       "2   2024-05-17  210373          98          94   \n",
       "3   2024-04-05  218423          94          86   \n",
       "4   2024-04-12  171291          93          81   \n",
       "\n",
       "                                       artist_genres  ...  liveness  loudness  \\\n",
       "0                                              [pop]  ...    0.1040    -6.073   \n",
       "1  [reggaeton, reggaeton colombiano, trap latino,...  ...    0.0678    -6.795   \n",
       "2                                     [art pop, pop]  ...    0.1170   -10.171   \n",
       "3                            [indie pop, pov: indie]  ...    0.0881    -5.960   \n",
       "4                                          [pop rap]  ...    0.0804    -4.950   \n",
       "\n",
       "   speechiness    tempo  valence  key  mode  time_signature          playlist  \\\n",
       "0       0.0540  107.071    0.579    9     1               4  Today’s Top Hits   \n",
       "1       0.0469  128.027    0.787   11     1               4  Today’s Top Hits   \n",
       "2       0.0358  104.978    0.438    2     1               4  Today’s Top Hits   \n",
       "3       0.0356  116.712    0.785   11     0               4  Today’s Top Hits   \n",
       "4       0.0273   81.012    0.604    9     1               4  Today’s Top Hits   \n",
       "\n",
       "   loudness_scaled  \n",
       "0         0.575663  \n",
       "1         0.495503  \n",
       "2         0.120684  \n",
       "3         0.588209  \n",
       "4         0.700344  \n",
       "\n",
       "[5 rows x 25 columns]"
      ]
     },
     "execution_count": 13,
     "metadata": {},
     "output_type": "execute_result"
    }
   ],
   "source": [
    "df.head()"
   ]
  },
  {
   "cell_type": "code",
   "execution_count": 14,
   "metadata": {
    "tags": [
     "hide-code"
    ]
   },
   "outputs": [],
   "source": [
    "df.to_csv(\"../assets/data/all_tracks.csv\", index = False)"
   ]
  },
  {
   "cell_type": "markdown",
   "metadata": {},
   "source": [
    "---\n"
   ]
  }
 ],
 "metadata": {
  "kernelspec": {
   "display_name": ".venv",
   "language": "python",
   "name": "python3"
  },
  "language_info": {
   "codemirror_mode": {
    "name": "ipython",
    "version": 3
   },
   "file_extension": ".py",
   "mimetype": "text/x-python",
   "name": "python",
   "nbconvert_exporter": "python",
   "pygments_lexer": "ipython3",
   "version": "3.11.0"
  }
 },
 "nbformat": 4,
 "nbformat_minor": 2
}
