{
 "cells": [
  {
   "cell_type": "markdown",
   "metadata": {},
   "source": [
    "## Extracting Spotify Data\n",
    "\n",
    "Getting started, we want to extract data for a set of tracks within one of Spotify's top-featured playlists. Leveraging the **Spotify Web API**, we can seamlessly obtain detailed data for a song, such as the performing artist, the album it belongs to, its release date, popularity, and audio features like danceability, energy, and tempo.\n",
    "\n",
    "Python libraries like `spotipy` offer a user-friendly way to interact with the Spotify API, offering a range of functions that streamline tasks like API authentication, retrieving playlist data, and obtaining information about any given song.\n"
   ]
  },
  {
   "cell_type": "markdown",
   "metadata": {},
   "source": [
    "### Accessing the Spotify Web API\n",
    "\n",
    "To access data from Spotify, we import the `spotipy` library and the `SpotifyClientCredentials` module. Additionally, we utilize the `pandas` package for data manipulation and display. In order to authenticate our access to the Spotify API, we must provide our **client ID** and **client secret** to a client credentials manager. Once authenticated, we can use the spotipy module to interact with the Spotify API and retrieve data.\n"
   ]
  },
  {
   "cell_type": "code",
   "execution_count": 1,
   "metadata": {},
   "outputs": [],
   "source": [
    "import spotipy  # <1>\n",
    "from spotipy.oauth2 import SpotifyClientCredentials # <1>\n",
    "import pandas as pd # <1>\n",
    "\n",
    "client_id = \"xxx\" # <2>\n",
    "client_secret = \"xxx\" # <2>\n",
    "my_auth = SpotifyClientCredentials(client_id, client_secret) # <3>\n",
    "sp = spotipy.Spotify(auth_manager=my_auth) # <4>"
   ]
  },
  {
   "cell_type": "code",
   "execution_count": 2,
   "metadata": {
    "tags": [
     "hide-code"
    ]
   },
   "outputs": [],
   "source": [
    "client_id = \"3899576b5fcb4c458beba2cce99aa1b6\"\n",
    "client_secret = \"4f57df7614df4f75b54364bf3c3018fd\"\n",
    "sp = spotipy.Spotify(auth_manager=SpotifyClientCredentials(client_id, client_secret))"
   ]
  },
  {
   "cell_type": "markdown",
   "metadata": {},
   "source": [
    "#### Spotify's Featured Playlists\n",
    "\n",
    "Let's take a look at the popular Spotify playlists. Below, the code retrieves a range of Spotify playlists and generates a dataframe containing details for each playlist, including its name, ID, description, thumbnail, total number of tracks, and follower count. The resulting dataframe is displayed as an HTML table.\n"
   ]
  },
  {
   "cell_type": "code",
   "execution_count": 3,
   "metadata": {
    "tags": [
     "hide-code"
    ]
   },
   "outputs": [],
   "source": [
    "# Get the follower count for the playlist\n",
    "def get_playlist_follower_count(playlist_id):\n",
    "    playlist = sp.playlist(playlist_id)\n",
    "    return playlist[\"followers\"][\"total\"]"
   ]
  },
  {
   "cell_type": "code",
   "execution_count": 4,
   "metadata": {
    "tags": [
     "hide-code"
    ]
   },
   "outputs": [],
   "source": [
    "def get_top_playlists(username: str, lim: int):\n",
    "    all_playlists = sp.user_playlists(username)  # Get user playlists\n",
    "    playlist_data = [\n",
    "        {\n",
    "            \"thumbnail\": item[\"images\"][0][\"url\"],\n",
    "            \"name\": item[\"name\"],\n",
    "            \"id\": item[\"id\"],\n",
    "            \"description\": item[\"description\"],\n",
    "            \"tracks\": item[\"tracks\"][\"total\"],\n",
    "            \"followers\": get_playlist_follower_count(item[\"id\"]),\n",
    "        }\n",
    "        for item in all_playlists[\"items\"]  # Iterate over each playlist item\n",
    "    ]\n",
    "    # Create DataFrame from list of dictionaries\n",
    "    playlist_df = pd.DataFrame(playlist_data)\n",
    "    return playlist_df.nlargest(lim, \"followers\")"
   ]
  },
  {
   "cell_type": "code",
   "execution_count": 5,
   "metadata": {},
   "outputs": [],
   "source": [
    "username = \"spotify\"\n",
    "spotify_playlists = sp.user_playlists(username)\n",
    "top_playlists = get_top_playlists(username, 6)"
   ]
  },
  {
   "cell_type": "markdown",
   "metadata": {},
   "source": [
    "The function `get_top_playlists` retrieves all playlists for a given user and returns the playlists with the most followers. Specifically, the function gets all playlists from a given user, iterating over each playlist item to extract the thumbnail image URL, the playlist name, ID, description, total number of tracks, and follower count for the playlist. It then creates a DataFrame from the playlist data, sorts the DataFrame by the number of followers in descending order, and returns the top playlists with the most followers."
   ]
  },
  {
   "cell_type": "code",
   "execution_count": 6,
   "metadata": {
    "tags": [
     "hide-code"
    ]
   },
   "outputs": [
    {
     "data": {
      "text/html": [
       "<table border=\"1\" class=\"dataframe\">\n",
       "  <thead>\n",
       "    <tr style=\"text-align: right;\">\n",
       "      <th></th>\n",
       "      <th>thumbnail</th>\n",
       "      <th>name</th>\n",
       "      <th>id</th>\n",
       "      <th>description</th>\n",
       "      <th>tracks</th>\n",
       "      <th>followers</th>\n",
       "    </tr>\n",
       "  </thead>\n",
       "  <tbody>\n",
       "    <tr>\n",
       "      <th>0</th>\n",
       "      <td><img src=\"https://i.scdn.co/image/ab67706f000000036b54553d2151369598998b78\" width=\"40\" ></td>\n",
       "      <td>Today’s Top Hits</td>\n",
       "      <td>37i9dQZF1DXcBWIGoYBM5M</td>\n",
       "      <td>Doja Cat is on top of the Hottest 50!</td>\n",
       "      <td>50</td>\n",
       "      <td>34782068</td>\n",
       "    </tr>\n",
       "    <tr>\n",
       "      <th>1</th>\n",
       "      <td><img src=\"https://i.scdn.co/image/ab67706f00000003d1963706ee048ac647ec1d5c\" width=\"40\" ></td>\n",
       "      <td>RapCaviar</td>\n",
       "      <td>37i9dQZF1DX0XUsuxWHRQd</td>\n",
       "      <td>New music from J. Cole, Lil Wayne and Doja Cat.</td>\n",
       "      <td>50</td>\n",
       "      <td>15925885</td>\n",
       "    </tr>\n",
       "    <tr>\n",
       "      <th>3</th>\n",
       "      <td><img src=\"https://i.scdn.co/image/ab67706f00000003b05bc225192371df74427e24\" width=\"40\" ></td>\n",
       "      <td>Viva Latino</td>\n",
       "      <td>37i9dQZF1DX10zKzsJ2jva</td>\n",
       "      <td>Today's top Latin hits, elevando nuestra música. Cover: Young Miko</td>\n",
       "      <td>50</td>\n",
       "      <td>14927961</td>\n",
       "    </tr>\n",
       "    <tr>\n",
       "      <th>7</th>\n",
       "      <td><img src=\"https://i.scdn.co/image/ab67706f00000003d855fad81c27d9e383a65dcb\" width=\"40\" ></td>\n",
       "      <td>Rock Classics</td>\n",
       "      <td>37i9dQZF1DWXRqgorJj26U</td>\n",
       "      <td>Rock legends & epic songs that continue to inspire generations. Cover: Nirvana</td>\n",
       "      <td>200</td>\n",
       "      <td>12122088</td>\n",
       "    </tr>\n",
       "    <tr>\n",
       "      <th>12</th>\n",
       "      <td><img src=\"https://i.scdn.co/image/ab67706f00000003603c97e588c19d27695b69c5\" width=\"40\" ></td>\n",
       "      <td>All Out 2000s</td>\n",
       "      <td>37i9dQZF1DX4o1oenSJRJd</td>\n",
       "      <td>The biggest songs of the 2000s. Cover: Kelly Clarkson</td>\n",
       "      <td>150</td>\n",
       "      <td>11163325</td>\n",
       "    </tr>\n",
       "    <tr>\n",
       "      <th>14</th>\n",
       "      <td><img src=\"https://i.scdn.co/image/ab67706f00000003fe154a455809e72e4d854880\" width=\"40\" ></td>\n",
       "      <td>All Out 80s</td>\n",
       "      <td>37i9dQZF1DX4UtSsGT1Sbe</td>\n",
       "      <td>The biggest songs of the 1980s. Cover: Bonnie Tyler.</td>\n",
       "      <td>150</td>\n",
       "      <td>10852998</td>\n",
       "    </tr>\n",
       "  </tbody>\n",
       "</table>"
      ],
      "text/plain": [
       "<IPython.core.display.HTML object>"
      ]
     },
     "execution_count": 6,
     "metadata": {},
     "output_type": "execute_result"
    }
   ],
   "source": [
    "from IPython.core.display import HTML\n",
    "\n",
    "# Converting links to html tags\n",
    "def path_to_image_html(path):\n",
    "    return f'<img src=\"{path}\" width=\"40\" >'\n",
    "\n",
    "# Rendering the dataframe as HTML table\n",
    "HTML(top_playlists.to_html(escape=False, formatters=dict(thumbnail=path_to_image_html)))"
   ]
  },
  {
   "cell_type": "markdown",
   "metadata": {},
   "source": [
    "---\n",
    "\n",
    "### Extracting Tracks From a Playlist\n",
    "\n",
    "The following script enables the compilation of song and artist data from any Spotify playlist through its URI. To analyze a particular playlist, simply copy the URI from the Spotify Player interface and input it into the function defined below. The `get_playlist_tracks` method returns a complete list of track IDs and corresponding artists from the selected playlist.\n"
   ]
  },
  {
   "cell_type": "code",
   "execution_count": 7,
   "metadata": {},
   "outputs": [],
   "source": [
    "def get_playlist_tracks(playlist_URI):\n",
    "    tracks = []\n",
    "    results = sp.playlist_tracks(playlist_URI)\n",
    "    tracks = results[\"items\"]\n",
    "    while results[\"next\"]:\n",
    "        results = sp.next(results)\n",
    "        tracks.extend(results[\"items\"])\n",
    "    return tracks"
   ]
  },
  {
   "cell_type": "markdown",
   "metadata": {},
   "source": [
    "#### Extracting Features from Tracks\n",
    "\n",
    "The following script utilizes Spotify's API to extract further details about each song within the playlist. It obtains metadata such as the track name, the artist it's sung by, the album it belongs to, the release date, and track features such as danceability, tempo, and popularity.\n"
   ]
  },
  {
   "cell_type": "code",
   "execution_count": 8,
   "metadata": {},
   "outputs": [],
   "source": [
    "def playlist_features(id, artist_id, playlist_id):\n",
    "    meta = sp.track(id)\n",
    "    audio_features = sp.audio_features(id)\n",
    "    artist_info = sp.artist(artist_id)\n",
    "    playlist_info = sp.playlist(playlist_id)\n",
    "\n",
    "    # print(audio_features)\n",
    "\n",
    "    if audio_features[0] is None:\n",
    "        return None\n",
    "    \n",
    "    \n",
    "\n",
    "    name = meta['name']\n",
    "    track_id = meta['id']\n",
    "    album = meta['album']['name']\n",
    "    artist = meta['album']['artists'][0]['name']\n",
    "    artist_id = meta['album']['artists'][0]['id']\n",
    "    release_date = meta['album']['release_date']\n",
    "    length = meta['duration_ms']\n",
    "    popularity = meta['popularity']\n",
    "\n",
    "    artist_pop = artist_info[\"popularity\"]\n",
    "    artist_genres = artist_info[\"genres\"]\n",
    "    artist_followers = artist_info[\"followers\"]['total']\n",
    "\n",
    "    acousticness = audio_features[0]['acousticness']\n",
    "    danceability = audio_features[0]['danceability']\n",
    "    energy = audio_features[0]['energy']\n",
    "    instrumentalness = audio_features[0]['instrumentalness']\n",
    "    liveness = audio_features[0]['liveness']\n",
    "    loudness = audio_features[0]['loudness']\n",
    "    speechiness = audio_features[0]['speechiness']\n",
    "    tempo = audio_features[0]['tempo']\n",
    "    valence = audio_features[0]['valence']\n",
    "    key = audio_features[0]['key']\n",
    "    mode = audio_features[0]['mode']\n",
    "    time_signature = audio_features[0]['time_signature']\n",
    "    \n",
    "    playlist_name = playlist_info['name']\n",
    "\n",
    "    return [name, track_id, album, artist, artist_id, release_date, length, popularity, \n",
    "            artist_pop, artist_genres, artist_followers, acousticness, danceability, \n",
    "            energy, instrumentalness, liveness, loudness, speechiness, \n",
    "            tempo, valence, key, mode, time_signature, playlist_name]\n"
   ]
  },
  {
   "cell_type": "markdown",
   "metadata": {},
   "source": [
    "Choose a specific playlist to analyze by copying the URL from the Spotify Player interface. Using that link, the `playlist_tracks` method retrieves a list of IDs and corresponding artists for each track from the playlist. Specifically, we analyze Spotify's *Today’s Top Hits* playlist."
   ]
  },
  {
   "cell_type": "code",
   "execution_count": 9,
   "metadata": {},
   "outputs": [],
   "source": [
    "playlist_links = [top_playlists['id'][0]]\n",
    "\n",
    "for playlist_URI in playlist_links:\n",
    "    # playlist_URI = link.split(\"/\")[-1].split(\"?\")[0]\n",
    "    \n",
    "    all_tracks = [  # Loop over track ids\n",
    "    playlist_features(i[\"track\"][\"id\"], i[\"track\"][\"artists\"][0][\"uri\"], playlist_URI)\n",
    "    for i in get_playlist_tracks(playlist_URI)\n",
    "]"
   ]
  },
  {
   "cell_type": "code",
   "execution_count": 10,
   "metadata": {
    "tags": [
     "hide-code"
    ]
   },
   "outputs": [],
   "source": [
    "df_all_tracks = all_tracks\n",
    "all_tracks = [i for i in df_all_tracks if i != None]"
   ]
  },
  {
   "cell_type": "markdown",
   "metadata": {},
   "source": [
    "Putting it all together, the `get_playlist_tracks` function retrieves basic details for each song in a specified Spotify playlist using its URI. The `playlist_features` function then iterates through these tracks using their IDs to extract additional information, such as danceability, energy, loudness, speechiness, acousticness, instrumentalness, liveness, valence, tempo, and more. From there, we create a Pandas dataframe by passing in the extracted information.\n"
   ]
  },
  {
   "cell_type": "code",
   "execution_count": 11,
   "metadata": {},
   "outputs": [],
   "source": [
    "# Create dataframe\n",
    "df = pd.DataFrame(\n",
    "    all_tracks, columns=['name', 'track_id', 'album', 'artist', 'artist_id','release_date',\n",
    "                     'length', 'popularity', 'artist_pop', 'artist_genres', 'artist_followers',\n",
    "                     'acousticness', 'danceability', 'energy',\n",
    "                     'instrumentalness', 'liveness', 'loudness',\n",
    "                     'speechiness', 'tempo', 'valence', 'key', 'mode',\n",
    "                     'time_signature', 'playlist'])"
   ]
  },
  {
   "cell_type": "markdown",
   "metadata": {},
   "source": [
    "##### Loudness Scaled"
   ]
  },
  {
   "cell_type": "code",
   "execution_count": 12,
   "metadata": {},
   "outputs": [],
   "source": [
    "# Loudness Scaled\n",
    "from sklearn import preprocessing \n",
    "\n",
    "scaler = preprocessing.MinMaxScaler()\n",
    "# scale loudness to fit the same range [0, 1]\n",
    "loudness2 = df[\"loudness\"].values\n",
    "loudness_scaled=scaler.fit_transform(loudness2.reshape(-1, 1))\n",
    "df['loudness_scaled'] = loudness_scaled"
   ]
  },
  {
   "cell_type": "code",
   "execution_count": 13,
   "metadata": {
    "tags": [
     "hide-code"
    ]
   },
   "outputs": [],
   "source": [
    "df.to_csv(\"../assets/data/all_tracks.csv\", index = False)"
   ]
  },
  {
   "cell_type": "markdown",
   "metadata": {},
   "source": [
    "---\n"
   ]
  }
 ],
 "metadata": {
  "kernelspec": {
   "display_name": ".venv",
   "language": "python",
   "name": "python3"
  },
  "language_info": {
   "codemirror_mode": {
    "name": "ipython",
    "version": 3
   },
   "file_extension": ".py",
   "mimetype": "text/x-python",
   "name": "python",
   "nbconvert_exporter": "python",
   "pygments_lexer": "ipython3",
   "version": "3.11.0"
  }
 },
 "nbformat": 4,
 "nbformat_minor": 2
}
