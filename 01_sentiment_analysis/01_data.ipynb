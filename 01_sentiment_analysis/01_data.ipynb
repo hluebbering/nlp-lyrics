{
 "cells": [
  {
   "cell_type": "markdown",
   "metadata": {},
   "source": [
    "## Extracting Spotify Data\n",
    "\n",
    "Getting started, we want to extract data for a set of tracks within one of Spotify's top-featured playlists. Leveraging the **Spotify Web API**, we can seamlessly obtain detailed data for a song, such as the performing artist, the album it belongs to, its release date, popularity, and audio features like danceability, energy, and tempo.\n",
    "\n",
    "Python libraries like `spotipy` offer a user-friendly way to interact with the Spotify API, offering a range of functions that streamline tasks like API authentication, retrieving playlist data, and obtaining information about any given song.\n"
   ]
  },
  {
   "cell_type": "markdown",
   "metadata": {},
   "source": [
    "### Accessing the Spotify Web API\n",
    "\n",
    "To access data from Spotify, we import the `spotipy` library and the `SpotifyClientCredentials` module. Additionally, we utilize the `pandas` package for data manipulation and display. In order to authenticate our access to the Spotify API, we must provide our **client ID** and **client secret** to a client credentials manager. Once authenticated, we can use the spotipy module to interact with the Spotify API and retrieve data.\n"
   ]
  },
  {
   "cell_type": "code",
   "execution_count": 1,
   "metadata": {},
   "outputs": [],
   "source": [
    "import spotipy  # <1>\n",
    "from spotipy.oauth2 import SpotifyClientCredentials # <1>\n",
    "import pandas as pd # <1>\n",
    "\n",
    "client_id = \"xxx\" # <2>\n",
    "client_secret = \"xxx\" # <2>\n",
    "my_auth = SpotifyClientCredentials(client_id, client_secret) # <3>\n",
    "sp = spotipy.Spotify(auth_manager=my_auth) # <4>"
   ]
  },
  {
   "cell_type": "code",
   "execution_count": 2,
   "metadata": {
    "tags": [
     "hide-code"
    ]
   },
   "outputs": [],
   "source": [
    "client_id = \"3899576b5fcb4c458beba2cce99aa1b6\"\n",
    "client_secret = \"4f57df7614df4f75b54364bf3c3018fd\"\n",
    "sp = spotipy.Spotify(auth_manager=SpotifyClientCredentials(client_id, client_secret))"
   ]
  },
  {
   "cell_type": "markdown",
   "metadata": {},
   "source": [
    "#### Spotify's Featured Playlists\n",
    "\n",
    "Let's take a look at the popular Spotify playlists. Below, the code retrieves a range of Spotify playlists and generates a dataframe containing details for each playlist, including its name, ID, description, thumbnail, total number of tracks, and follower count. The resulting dataframe is displayed as an HTML table.\n"
   ]
  },
  {
   "cell_type": "code",
   "execution_count": 3,
   "metadata": {
    "tags": [
     "hide-code"
    ]
   },
   "outputs": [],
   "source": [
    "# Get the follower count for the playlist\n",
    "def get_playlist_follower_count(playlist_id):\n",
    "    playlist = sp.playlist(playlist_id)\n",
    "    return playlist[\"followers\"][\"total\"]"
   ]
  },
  {
   "cell_type": "code",
   "execution_count": 4,
   "metadata": {
    "tags": [
     "hide-code"
    ]
   },
   "outputs": [],
   "source": [
    "def get_top_playlists(username: str, lim: int):\n",
    "    all_playlists = sp.user_playlists(username)  # Get user playlists\n",
    "    playlist_data = [\n",
    "        {\n",
    "            \"thumbnail\": item[\"images\"][0][\"url\"],\n",
    "            \"name\": item[\"name\"],\n",
    "            \"id\": item[\"id\"],\n",
    "            \"description\": item[\"description\"],\n",
    "            \"tracks\": item[\"tracks\"][\"total\"],\n",
    "            \"followers\": get_playlist_follower_count(item[\"id\"]),\n",
    "        }\n",
    "        for item in all_playlists[\"items\"]  # Iterate over each playlist item\n",
    "    ]\n",
    "    # Create DataFrame from list of dictionaries\n",
    "    playlist_df = pd.DataFrame(playlist_data)\n",
    "    return playlist_df.nlargest(lim, \"followers\")"
   ]
  },
  {
   "cell_type": "code",
   "execution_count": 5,
   "metadata": {},
   "outputs": [],
   "source": [
    "username = \"spotify\"\n",
    "spotify_playlists = sp.user_playlists(username)\n",
    "top_playlists = get_top_playlists(username, 6)"
   ]
  },
  {
   "cell_type": "markdown",
   "metadata": {},
   "source": [
    "The function `get_top_playlists` retrieves all playlists for a given user and returns the playlists with the most followers. Specifically, the function gets all playlists from a given user, iterating over each playlist item to extract the thumbnail image URL, the playlist name, ID, description, total number of tracks, and follower count for the playlist. It then creates a DataFrame from the playlist data, sorts the DataFrame by the number of followers in descending order, and returns the top playlists with the most followers."
   ]
  },
  {
   "cell_type": "code",
   "execution_count": 6,
   "metadata": {
    "tags": [
     "hide-code"
    ]
   },
   "outputs": [
    {
     "data": {
      "text/html": [
       "<table border=\"1\" class=\"dataframe\">\n",
       "  <thead>\n",
       "    <tr style=\"text-align: right;\">\n",
       "      <th></th>\n",
       "      <th>thumbnail</th>\n",
       "      <th>name</th>\n",
       "      <th>id</th>\n",
       "      <th>description</th>\n",
       "      <th>tracks</th>\n",
       "      <th>followers</th>\n",
       "    </tr>\n",
       "  </thead>\n",
       "  <tbody>\n",
       "    <tr>\n",
       "      <th>0</th>\n",
       "      <td><img src=\"https://i.scdn.co/image/ab67706f00000003fe878c72862acf8441676f13\" width=\"40\" ></td>\n",
       "      <td>Today’s Top Hits</td>\n",
       "      <td>37i9dQZF1DXcBWIGoYBM5M</td>\n",
       "      <td>Olivia Rodrigo is on top of the Hottest 50!</td>\n",
       "      <td>50</td>\n",
       "      <td>34686033</td>\n",
       "    </tr>\n",
       "    <tr>\n",
       "      <th>1</th>\n",
       "      <td><img src=\"https://i.scdn.co/image/ab67706f00000003d0347f6b6580e6c76046c189\" width=\"40\" ></td>\n",
       "      <td>RapCaviar</td>\n",
       "      <td>37i9dQZF1DX0XUsuxWHRQd</td>\n",
       "      <td>New music from Future and Metro Boomin.</td>\n",
       "      <td>50</td>\n",
       "      <td>15846375</td>\n",
       "    </tr>\n",
       "    <tr>\n",
       "      <th>3</th>\n",
       "      <td><img src=\"https://i.scdn.co/image/ab67706f000000031203af78282376bca621dd67\" width=\"40\" ></td>\n",
       "      <td>Viva Latino</td>\n",
       "      <td>37i9dQZF1DX10zKzsJ2jva</td>\n",
       "      <td>Today's top Latin hits, elevando nuestra música. Shakira tiene <a href=\"spotify:playlist:37i9dQZF1DXcLSxNcHepOK\">algo especial para ti</a>. ❤️‍🔥</td>\n",
       "      <td>50</td>\n",
       "      <td>14838128</td>\n",
       "    </tr>\n",
       "    <tr>\n",
       "      <th>7</th>\n",
       "      <td><img src=\"https://i.scdn.co/image/ab67706f00000003d855fad81c27d9e383a65dcb\" width=\"40\" ></td>\n",
       "      <td>Rock Classics</td>\n",
       "      <td>37i9dQZF1DWXRqgorJj26U</td>\n",
       "      <td>Rock legends & epic songs that continue to inspire generations. Cover: Nirvana</td>\n",
       "      <td>200</td>\n",
       "      <td>12095843</td>\n",
       "    </tr>\n",
       "    <tr>\n",
       "      <th>12</th>\n",
       "      <td><img src=\"https://i.scdn.co/image/ab67706f00000003603c97e588c19d27695b69c5\" width=\"40\" ></td>\n",
       "      <td>All Out 2000s</td>\n",
       "      <td>37i9dQZF1DX4o1oenSJRJd</td>\n",
       "      <td>The biggest songs of the 2000s. Cover: Kelly Clarkson</td>\n",
       "      <td>150</td>\n",
       "      <td>11125180</td>\n",
       "    </tr>\n",
       "    <tr>\n",
       "      <th>14</th>\n",
       "      <td><img src=\"https://i.scdn.co/image/ab67706f000000037fe7af589297338597341d85\" width=\"40\" ></td>\n",
       "      <td>All Out 80s</td>\n",
       "      <td>37i9dQZF1DX4UtSsGT1Sbe</td>\n",
       "      <td>The biggest songs of the 1980s. Cover: Madonna</td>\n",
       "      <td>150</td>\n",
       "      <td>10805624</td>\n",
       "    </tr>\n",
       "  </tbody>\n",
       "</table>"
      ],
      "text/plain": [
       "<IPython.core.display.HTML object>"
      ]
     },
     "execution_count": 6,
     "metadata": {},
     "output_type": "execute_result"
    }
   ],
   "source": [
    "from IPython.core.display import HTML\n",
    "\n",
    "# Converting links to html tags\n",
    "def path_to_image_html(path):\n",
    "    return f'<img src=\"{path}\" width=\"40\" >'\n",
    "\n",
    "# Rendering the dataframe as HTML table\n",
    "HTML(top_playlists.to_html(escape=False, formatters=dict(thumbnail=path_to_image_html)))"
   ]
  },
  {
   "cell_type": "markdown",
   "metadata": {},
   "source": [
    "---\n",
    "\n",
    "### Extracting Tracks From a Playlist\n",
    "\n",
    "The following script enables the compilation of song and artist data from any Spotify playlist through its URI. To analyze a particular playlist, simply copy the URI from the Spotify Player interface and input it into the function defined below. The `get_playlist_tracks` method returns a complete list of track IDs and corresponding artists from the selected playlist.\n"
   ]
  },
  {
   "cell_type": "code",
   "execution_count": 7,
   "metadata": {},
   "outputs": [],
   "source": [
    "def get_playlist_tracks(playlist_URI):\n",
    "    tracks = []\n",
    "    results = sp.playlist_tracks(playlist_URI)\n",
    "    tracks = results[\"items\"]\n",
    "    while results[\"next\"]:\n",
    "        results = sp.next(results)\n",
    "        tracks.extend(results[\"items\"])\n",
    "    return tracks"
   ]
  },
  {
   "cell_type": "markdown",
   "metadata": {},
   "source": [
    "#### Extracting Features from Tracks\n",
    "\n",
    "The following script utilizes Spotify's API to extract further details about each song within the playlist. It obtains metadata such as the track name, the artist it's sung by, the album it belongs to, the release date, and track features such as danceability, tempo, and popularity.\n"
   ]
  },
  {
   "cell_type": "code",
   "execution_count": 8,
   "metadata": {},
   "outputs": [],
   "source": [
    "def playlist_features(id, artist_id, playlist_id):\n",
    "    meta = sp.track(id)\n",
    "    audio_features = sp.audio_features(id)\n",
    "    artist_info = sp.artist(artist_id)\n",
    "    playlist_info = sp.playlist(playlist_id)\n",
    "\n",
    "    # print(audio_features)\n",
    "\n",
    "    if audio_features[0] is None:\n",
    "        return None\n",
    "    \n",
    "    \n",
    "\n",
    "    name = meta['name']\n",
    "    track_id = meta['id']\n",
    "    album = meta['album']['name']\n",
    "    artist = meta['album']['artists'][0]['name']\n",
    "    artist_id = meta['album']['artists'][0]['id']\n",
    "    release_date = meta['album']['release_date']\n",
    "    length = meta['duration_ms']\n",
    "    popularity = meta['popularity']\n",
    "\n",
    "    artist_pop = artist_info[\"popularity\"]\n",
    "    artist_genres = artist_info[\"genres\"]\n",
    "\n",
    "    acousticness = audio_features[0]['acousticness']\n",
    "    danceability = audio_features[0]['danceability']\n",
    "    energy = audio_features[0]['energy']\n",
    "    instrumentalness = audio_features[0]['instrumentalness']\n",
    "    liveness = audio_features[0]['liveness']\n",
    "    loudness = audio_features[0]['loudness']\n",
    "    speechiness = audio_features[0]['speechiness']\n",
    "    tempo = audio_features[0]['tempo']\n",
    "    valence = audio_features[0]['valence']\n",
    "    key = audio_features[0]['key']\n",
    "    mode = audio_features[0]['mode']\n",
    "    time_signature = audio_features[0]['time_signature']\n",
    "    \n",
    "    playlist_name = playlist_info['name']\n",
    "\n",
    "    return [name, track_id, album, artist, artist_id, release_date, length, popularity, \n",
    "            artist_pop, artist_genres, acousticness, danceability, \n",
    "            energy, instrumentalness, liveness, loudness, speechiness, \n",
    "            tempo, valence, key, mode, time_signature, playlist_name]\n"
   ]
  },
  {
   "cell_type": "markdown",
   "metadata": {},
   "source": [
    "Choose a specific playlist to analyze by copying the URL from the Spotify Player interface. Using that link, the `playlist_tracks` method retrieves a list of IDs and corresponding artists for each track from the playlist. Specifically, we analyze Spotify's *Today’s Top Hits* playlist."
   ]
  },
  {
   "cell_type": "code",
   "execution_count": 9,
   "metadata": {},
   "outputs": [],
   "source": [
    "playlist_links = [top_playlists['id'][0]]\n",
    "\n",
    "for playlist_URI in playlist_links:\n",
    "    # playlist_URI = link.split(\"/\")[-1].split(\"?\")[0]\n",
    "    \n",
    "    all_tracks = [  # Loop over track ids\n",
    "    playlist_features(i[\"track\"][\"id\"], i[\"track\"][\"artists\"][0][\"uri\"], playlist_URI)\n",
    "    for i in get_playlist_tracks(playlist_URI)\n",
    "]"
   ]
  },
  {
   "cell_type": "code",
   "execution_count": 10,
   "metadata": {
    "tags": [
     "hide-code"
    ]
   },
   "outputs": [],
   "source": [
    "df_all_tracks = all_tracks\n",
    "all_tracks = [i for i in df_all_tracks if i != None]\n"
   ]
  },
  {
   "cell_type": "markdown",
   "metadata": {},
   "source": [
    "Putting it all together, the `get_playlist_tracks` function retrieves basic details for each song in a specified Spotify playlist using its URI. The `playlist_features` function then iterates through these tracks using their IDs to extract additional information, such as danceability, energy, loudness, speechiness, acousticness, instrumentalness, liveness, valence, tempo, and more. From there, we create a Pandas dataframe by passing in the extracted information.\n"
   ]
  },
  {
   "cell_type": "code",
   "execution_count": 11,
   "metadata": {},
   "outputs": [
    {
     "data": {
      "text/html": [
       "<div>\n",
       "<style scoped>\n",
       "    .dataframe tbody tr th:only-of-type {\n",
       "        vertical-align: middle;\n",
       "    }\n",
       "\n",
       "    .dataframe tbody tr th {\n",
       "        vertical-align: top;\n",
       "    }\n",
       "\n",
       "    .dataframe thead th {\n",
       "        text-align: right;\n",
       "    }\n",
       "</style>\n",
       "<table border=\"1\" class=\"dataframe\">\n",
       "  <thead>\n",
       "    <tr style=\"text-align: right;\">\n",
       "      <th></th>\n",
       "      <th>name</th>\n",
       "      <th>track_id</th>\n",
       "      <th>album</th>\n",
       "      <th>artist</th>\n",
       "      <th>artist_id</th>\n",
       "      <th>release_date</th>\n",
       "      <th>length</th>\n",
       "      <th>popularity</th>\n",
       "      <th>artist_pop</th>\n",
       "      <th>artist_genres</th>\n",
       "      <th>...</th>\n",
       "      <th>instrumentalness</th>\n",
       "      <th>liveness</th>\n",
       "      <th>loudness</th>\n",
       "      <th>speechiness</th>\n",
       "      <th>tempo</th>\n",
       "      <th>valence</th>\n",
       "      <th>key</th>\n",
       "      <th>mode</th>\n",
       "      <th>time_signature</th>\n",
       "      <th>playlist</th>\n",
       "    </tr>\n",
       "  </thead>\n",
       "  <tbody>\n",
       "    <tr>\n",
       "      <th>46</th>\n",
       "      <td>Daylight</td>\n",
       "      <td>1odExI7RdWc4BT515LTAwj</td>\n",
       "      <td>Daylight</td>\n",
       "      <td>David Kushner</td>\n",
       "      <td>33NVpKoXjItPwUJTMZIOiY</td>\n",
       "      <td>2023-04-14</td>\n",
       "      <td>212953</td>\n",
       "      <td>91</td>\n",
       "      <td>77</td>\n",
       "      <td>[gen z singer-songwriter, singer-songwriter pop]</td>\n",
       "      <td>...</td>\n",
       "      <td>0.000441</td>\n",
       "      <td>0.093</td>\n",
       "      <td>-9.475</td>\n",
       "      <td>0.0335</td>\n",
       "      <td>130.090</td>\n",
       "      <td>0.324</td>\n",
       "      <td>2</td>\n",
       "      <td>0</td>\n",
       "      <td>4</td>\n",
       "      <td>Today’s Top Hits</td>\n",
       "    </tr>\n",
       "    <tr>\n",
       "      <th>47</th>\n",
       "      <td>LA FALDA</td>\n",
       "      <td>7iUtQNMRB8ZkKC4AmEuCJC</td>\n",
       "      <td>LVEU: VIVE LA TUYA...NO LA MIA</td>\n",
       "      <td>Myke Towers</td>\n",
       "      <td>7iK8PXO48WeuP03g8YR51W</td>\n",
       "      <td>2023-09-18</td>\n",
       "      <td>174229</td>\n",
       "      <td>92</td>\n",
       "      <td>87</td>\n",
       "      <td>[reggaeton, trap latino, urbano latino]</td>\n",
       "      <td>...</td>\n",
       "      <td>0.008770</td>\n",
       "      <td>0.190</td>\n",
       "      <td>-4.260</td>\n",
       "      <td>0.0691</td>\n",
       "      <td>103.008</td>\n",
       "      <td>0.267</td>\n",
       "      <td>7</td>\n",
       "      <td>1</td>\n",
       "      <td>4</td>\n",
       "      <td>Today’s Top Hits</td>\n",
       "    </tr>\n",
       "    <tr>\n",
       "      <th>48</th>\n",
       "      <td>Is It Over Now? (Taylor's Version) (From The V...</td>\n",
       "      <td>1Iq8oo9XkmmvCQiGOfORiz</td>\n",
       "      <td>1989 (Taylor's Version)</td>\n",
       "      <td>Taylor Swift</td>\n",
       "      <td>06HL4z0CvFAxyc27GXpf02</td>\n",
       "      <td>2023-10-26</td>\n",
       "      <td>229477</td>\n",
       "      <td>89</td>\n",
       "      <td>100</td>\n",
       "      <td>[pop]</td>\n",
       "      <td>...</td>\n",
       "      <td>0.000000</td>\n",
       "      <td>0.127</td>\n",
       "      <td>-7.346</td>\n",
       "      <td>0.0360</td>\n",
       "      <td>100.012</td>\n",
       "      <td>0.176</td>\n",
       "      <td>0</td>\n",
       "      <td>1</td>\n",
       "      <td>4</td>\n",
       "      <td>Today’s Top Hits</td>\n",
       "    </tr>\n",
       "    <tr>\n",
       "      <th>49</th>\n",
       "      <td>Standing Next to You</td>\n",
       "      <td>2KslE17cAJNHTsI2MI0jb2</td>\n",
       "      <td>GOLDEN</td>\n",
       "      <td>Jung Kook</td>\n",
       "      <td>6HaGTQPmzraVmaVxvz6EUc</td>\n",
       "      <td>2023-11-03</td>\n",
       "      <td>206019</td>\n",
       "      <td>92</td>\n",
       "      <td>86</td>\n",
       "      <td>[k-pop]</td>\n",
       "      <td>...</td>\n",
       "      <td>0.000000</td>\n",
       "      <td>0.339</td>\n",
       "      <td>-4.389</td>\n",
       "      <td>0.0955</td>\n",
       "      <td>106.017</td>\n",
       "      <td>0.816</td>\n",
       "      <td>2</td>\n",
       "      <td>0</td>\n",
       "      <td>4</td>\n",
       "      <td>Today’s Top Hits</td>\n",
       "    </tr>\n",
       "  </tbody>\n",
       "</table>\n",
       "<p>4 rows × 23 columns</p>\n",
       "</div>"
      ],
      "text/plain": [
       "                                                 name                track_id  \\\n",
       "46                                           Daylight  1odExI7RdWc4BT515LTAwj   \n",
       "47                                           LA FALDA  7iUtQNMRB8ZkKC4AmEuCJC   \n",
       "48  Is It Over Now? (Taylor's Version) (From The V...  1Iq8oo9XkmmvCQiGOfORiz   \n",
       "49                               Standing Next to You  2KslE17cAJNHTsI2MI0jb2   \n",
       "\n",
       "                             album         artist               artist_id  \\\n",
       "46                        Daylight  David Kushner  33NVpKoXjItPwUJTMZIOiY   \n",
       "47  LVEU: VIVE LA TUYA...NO LA MIA    Myke Towers  7iK8PXO48WeuP03g8YR51W   \n",
       "48         1989 (Taylor's Version)   Taylor Swift  06HL4z0CvFAxyc27GXpf02   \n",
       "49                          GOLDEN      Jung Kook  6HaGTQPmzraVmaVxvz6EUc   \n",
       "\n",
       "   release_date  length  popularity  artist_pop  \\\n",
       "46   2023-04-14  212953          91          77   \n",
       "47   2023-09-18  174229          92          87   \n",
       "48   2023-10-26  229477          89         100   \n",
       "49   2023-11-03  206019          92          86   \n",
       "\n",
       "                                       artist_genres  ...  instrumentalness  \\\n",
       "46  [gen z singer-songwriter, singer-songwriter pop]  ...          0.000441   \n",
       "47           [reggaeton, trap latino, urbano latino]  ...          0.008770   \n",
       "48                                             [pop]  ...          0.000000   \n",
       "49                                           [k-pop]  ...          0.000000   \n",
       "\n",
       "    liveness  loudness  speechiness    tempo  valence  key  mode  \\\n",
       "46     0.093    -9.475       0.0335  130.090    0.324    2     0   \n",
       "47     0.190    -4.260       0.0691  103.008    0.267    7     1   \n",
       "48     0.127    -7.346       0.0360  100.012    0.176    0     1   \n",
       "49     0.339    -4.389       0.0955  106.017    0.816    2     0   \n",
       "\n",
       "    time_signature          playlist  \n",
       "46               4  Today’s Top Hits  \n",
       "47               4  Today’s Top Hits  \n",
       "48               4  Today’s Top Hits  \n",
       "49               4  Today’s Top Hits  \n",
       "\n",
       "[4 rows x 23 columns]"
      ]
     },
     "execution_count": 11,
     "metadata": {},
     "output_type": "execute_result"
    }
   ],
   "source": [
    "# Create dataframe\n",
    "df = pd.DataFrame(\n",
    "    all_tracks, columns=['name', 'track_id', 'album', 'artist', 'artist_id','release_date',\n",
    "                     'length', 'popularity', 'artist_pop', 'artist_genres',\n",
    "                     'acousticness', 'danceability', 'energy',\n",
    "                     'instrumentalness', 'liveness', 'loudness',\n",
    "                     'speechiness', 'tempo', 'valence', 'key', 'mode',\n",
    "                     'time_signature', 'playlist'])\n",
    "\n",
    "df.tail(4)"
   ]
  },
  {
   "cell_type": "code",
   "execution_count": 12,
   "metadata": {
    "tags": [
     "hide-code"
    ]
   },
   "outputs": [],
   "source": [
    "df.to_csv(\"../assets/data/all_tracks.csv\", index = False)"
   ]
  },
  {
   "cell_type": "markdown",
   "metadata": {},
   "source": [
    "---\n"
   ]
  }
 ],
 "metadata": {
  "kernelspec": {
   "display_name": ".venv",
   "language": "python",
   "name": "python3"
  },
  "language_info": {
   "codemirror_mode": {
    "name": "ipython",
    "version": 3
   },
   "file_extension": ".py",
   "mimetype": "text/x-python",
   "name": "python",
   "nbconvert_exporter": "python",
   "pygments_lexer": "ipython3",
   "version": "3.11.0"
  }
 },
 "nbformat": 4,
 "nbformat_minor": 2
}
