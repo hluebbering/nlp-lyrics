{
 "cells": [
  {
   "cell_type": "markdown",
   "metadata": {},
   "source": [
    "## Natural Language Processing\n",
    "\n",
    "Using the data gathered from the Spotify API, we now want to extract and process the lyrics for each song. This is accomplished through scraping textual information, namely lyrical data, from the **Genius Lyrics** website. Following extraction, the lyrics are thoroughly processed and cleaned before undergoing sentiment analysis. \n",
    "\n",
    "\n",
    "\n",
    "<!--### Scraping the Genius Lyrics Website\n",
    "scraping textual information\n",
    "Scraping the Genius Lyrics Website-->\n"
   ]
  },
  {
   "cell_type": "code",
   "execution_count": 1,
   "metadata": {
    "tags": [
     "hide-code",
     "hide-warning",
     "hide-message",
     "hide-output"
    ]
   },
   "outputs": [
    {
     "name": "stderr",
     "output_type": "stream",
     "text": [
      "C:\\Python311\\Lib\\site-packages\\tqdm\\auto.py:21: TqdmWarning:\n",
      "\n",
      "IProgress not found. Please update jupyter and ipywidgets. See https://ipywidgets.readthedocs.io/en/stable/user_install.html\n",
      "\n"
     ]
    }
   ],
   "source": [
    "import pandas as pd\n",
    "import re\n",
    "import contractions\n",
    "import string\n",
    "from better_profanity import profanity\n",
    "from nltk.tokenize import word_tokenize\n",
    "from deep_translator import GoogleTranslator\n",
    "from langdetect import detect\n",
    "from nltk.corpus import stopwords\n",
    "from nltk.stem import WordNetLemmatizer\n",
    "from nltk.tag import pos_tag\n",
    "from nltk.corpus import wordnet\n",
    "import lyricsgenius\n",
    "from transformers import pipeline\n",
    "from spellchecker import SpellChecker\n",
    "from tkinter import *\n",
    "\n",
    "\n",
    "all_tracks = pd.read_csv(\"../assets/data/all_tracks.csv\")"
   ]
  },
  {
   "cell_type": "markdown",
   "metadata": {},
   "source": [
    "\n",
    "\n",
    "### Scraping the Web\n",
    "\n",
    "To get started, the script below imports `lyricsgenius`, a fundamental package libary allowing for web scraping of the Genius Lyrics website to retrieve the lyrics of any given song. Through the initialization of the `genius` variable, one can access the Genius API and retrieve the lyrics of any given song, such as \"Too Many Nights\" by Metro Boomin.\n"
   ]
  },
  {
   "cell_type": "code",
   "execution_count": 2,
   "metadata": {},
   "outputs": [
    {
     "name": "stdout",
     "output_type": "stream",
     "text": [
      "Searching for \"Too Many Nights\" by Metro Boomin...\n"
     ]
    },
    {
     "name": "stdout",
     "output_type": "stream",
     "text": [
      "Done.\n"
     ]
    }
   ],
   "source": [
    "import lyricsgenius\n",
    "\n",
    "genius = lyricsgenius.Genius(\"epFCxujgBe-Y6WrkZedI8kerKxiCpR6Rh0DAHYNlKDf9B4H1nXTdZIkj7krNUHVV\")\n",
    "song = genius.search_song(\"Too Many Nights\", \"Metro Boomin\")"
   ]
  },
  {
   "cell_type": "markdown",
   "metadata": {},
   "source": [
    "First, we define a function that retrieves the lyrics for any song and artist from the Genius database. As shown below, it first searches for the track using the provided name and artist and then extracts the lyrics from the search results."
   ]
  },
  {
   "cell_type": "code",
   "execution_count": 3,
   "metadata": {},
   "outputs": [],
   "source": [
    "def get_song_lyrics(song_name, song_artist):\n",
    "    song_genius = genius.search_song(song_name, song_artist)\n",
    "    song_lyrics = song_genius.lyrics.partition(\"Lyrics\")[2]\n",
    "    # Remove any numbers followed by 'Embed'\n",
    "    song_lyrics = re.sub(r\"[\\[].*?[\\]]|\\d+Embed\", \"\", song_lyrics)\n",
    "    # Remove text between square brackets\n",
    "    song_lyrics = re.sub(r\"(\\-[A-Za-z]+\\-)\", \"\", song_lyrics)\n",
    "    song_lyrics = re.sub(r'\\d+', '', song_lyrics)\n",
    "\n",
    "    return song_lyrics"
   ]
  },
  {
   "cell_type": "markdown",
   "metadata": {},
   "source": [
    "### Pre-Processing Text Data\n",
    "\n",
    "Using the genius package, we define a function to fetch the lyrics of a song given the track name and artist. Once retrieved, the next step is to pre-process the textual data. This involves a cleansing process to eliminate profanity and patterns that may hinder the overall readability. The Python script contains the following steps:\n",
    "\n",
    "1. Language Detection\n",
    "2. Expanding Contractions\n",
    "3. Converting Text to Lowercase\n",
    "4. Spell Checking + Censoring\n",
    "5. Removing Punctuations\n",
    "6. Tokenization"
   ]
  },
  {
   "cell_type": "markdown",
   "metadata": {},
   "source": [
    "The function `detect_and_translate` below is designed to identify and translate text into a specified language, specifically English. It first checks the language of the original text and compares it to the target language. If the detected language differs from the target language, the function utilizes GoogleTranslator to translate the input text into the target language (English).\n"
   ]
  },
  {
   "cell_type": "code",
   "execution_count": 4,
   "metadata": {},
   "outputs": [],
   "source": [
    "# Function to detect and translate text\n",
    "def detect_and_translate(track_lyrics, target_lang='en'):\n",
    "    if detect(track_lyrics) == target_lang:\n",
    "        return track_lyrics\n",
    "    translator = GoogleTranslator(source='auto', target=target_lang)\n",
    "    return translator.translate(track_lyrics)"
   ]
  },
  {
   "cell_type": "markdown",
   "metadata": {},
   "source": [
    "We also develop various functions to support the preprocessing of textual data, streamlining the process and improving the accuracy of the final output. Among these functions are a method for removing punctuation from a given string of lyrics and a spell-checker that automatically finds and corrects any spelling errors.\n"
   ]
  },
  {
   "cell_type": "code",
   "execution_count": 5,
   "metadata": {},
   "outputs": [],
   "source": [
    "def remove_punctuation(text):\n",
    "    no_punct = \"\"\n",
    "    for char in text:\n",
    "        if char not in string.punctuation:\n",
    "            no_punct = no_punct + char\n",
    "    return no_punct  # return unpunctuated string"
   ]
  },
  {
   "cell_type": "code",
   "execution_count": 6,
   "metadata": {},
   "outputs": [],
   "source": [
    "# Spell Check + Censor\n",
    "spell = SpellChecker()\n",
    "\n",
    "def spell_check(word_list_str):\n",
    "    word_corrected_list = []\n",
    "    for word in word_list_str.split():\n",
    "        word_corrected = spell.correction(word)\n",
    "        if word_corrected is not None:\n",
    "            word_corrected_list.append(word_corrected)\n",
    "        else:\n",
    "            word_corrected_list.append(word)\n",
    "    return word_corrected_list"
   ]
  },
  {
   "cell_type": "markdown",
   "metadata": {},
   "source": [
    "The `clean_song_lyrics` function is designed to simplify the processing of lyrics for a specific song and artist. The function extracts the lyrics from the Genius database and performs a series of modifications, including expanding contractions, removing repetitive phrases, and converting the text to lowercase. It also ensures that the spelling is correct and eliminates any profanity. The end result is a cleaned set of lyrics, tokenized and encoded as a list of words."
   ]
  },
  {
   "cell_type": "code",
   "execution_count": 7,
   "metadata": {},
   "outputs": [],
   "source": [
    "def clean_song_lyrics(song_name, artist_name):\n",
    "    genius_lyrics = get_song_lyrics(song_name, artist_name) # <1>\n",
    "    lyrics_en = detect_and_translate(genius_lyrics, \"en\")  # <2> \n",
    "    \n",
    "    no_contract = [contractions.fix(word) for word in lyrics_en.split()] # <3>\n",
    "    no_contract_str = \" \".join(no_contract).lower()  # lowercase # <4>\n",
    "    no_contract_str = re.sub(r\"nana|lala\", \"\", no_contract_str) # <4>\n",
    "\n",
    "    corrected = spell_check(no_contract_str) # <5> # Spell Check + Censor\n",
    "    censored = profanity.censor(\" \".join(corrected), censor_char=\"\") # <5>\n",
    "    no_punct = remove_punctuation(censored) # <6> # Remove Punctuation\n",
    "    \n",
    "    tokenized = word_tokenize(no_punct)  # Tokenize # <7>\n",
    "    strencode = [i.encode(\"ascii\", \"ignore\") for i in tokenized]  # Encode() method # <8>\n",
    "    return [i.decode() for i in strencode]  # Decode() method # <8>"
   ]
  },
  {
   "cell_type": "markdown",
   "metadata": {},
   "source": [
    "#### Removing Stop Words\n",
    "\n",
    "We employ the Natural Language Toolkit (*NLTK*) library and its `WordNetLemmatizer` tool to filter out stopwords. By removing frequently used words like \"the,\" \"and,\" or \"of,\" the resulting text becomes more concise, enabling a more thorough examination of the lyrics and their underlying message.\n"
   ]
  },
  {
   "cell_type": "code",
   "execution_count": 8,
   "metadata": {},
   "outputs": [],
   "source": [
    "def remove_stopwords_lyrics(clean_lyrics_decode):\n",
    "    stopword = stopwords.words(\"english\")\n",
    "    stopword.extend([\"yeah\", \"nanana\", \"nana\", \"oh\", \"la\"])\n",
    "    return [word for word in clean_lyrics_decode if word not in stopword]"
   ]
  },
  {
   "cell_type": "markdown",
   "metadata": {},
   "source": [
    "#### Lemmatization\n",
    "\n",
    "\n",
    "\n",
    "Next, we define a function to perform lemmatization on a set of words using the `WordNetLemmatizer` class from the NLTK library. Lemmatization helps to standardize words and reduce their complexity by reducing words to their root or base form. Our function specifically targets verbs and transforms different variations of the same verb into its most basic form.\n",
    "\n",
    "\n"
   ]
  },
  {
   "cell_type": "code",
   "execution_count": 9,
   "metadata": {},
   "outputs": [],
   "source": [
    "from nltk.corpus import stopwords, wordnet\n",
    "\n",
    "def get_wordnet_pos(tag):\n",
    "    if tag.startswith(\"J\"):\n",
    "        return wordnet.ADJ\n",
    "    elif tag.startswith(\"V\"):\n",
    "        return wordnet.VERB\n",
    "    elif tag.startswith(\"N\"):\n",
    "        return wordnet.NOUN\n",
    "    elif tag.startswith(\"R\"):\n",
    "        return wordnet.ADV\n",
    "    else:\n",
    "        return wordnet.NOUN"
   ]
  },
  {
   "cell_type": "code",
   "execution_count": 10,
   "metadata": {},
   "outputs": [],
   "source": [
    "from nltk.tag import pos_tag\n",
    "from nltk import pos_tag\n",
    "\n",
    "def word_lemmatize(lyrics_cleaned):  # clean_lyrics_decode):\n",
    "    pos_tags = pos_tag(lyrics_cleaned)\n",
    "    wordnet_pos = [(word, get_wordnet_pos(pos_tag)) for (word, pos_tag) in pos_tags]\n",
    "\n",
    "    wnl = WordNetLemmatizer()  # Lemmatize Lyrics\n",
    "    return [wnl.lemmatize(word, tag) for word, tag in wordnet_pos]"
   ]
  },
  {
   "cell_type": "markdown",
   "metadata": {},
   "source": [
    "In summary, the code above defines a function that makes use of the WordNetLemmatizer class from the NLTK library to conduct lemmatization specifically targeting verbs, thereby converting words to their most basic form.\n"
   ]
  },
  {
   "cell_type": "markdown",
   "metadata": {},
   "source": [
    "--------------\n",
    "\n",
    "\n",
    "## Sentiment Analysis\n",
    "\n",
    "\n",
    "Subsequently, the process involves the implementation of pipeline classes to carry out predictions using models accessible in the Hub. The code imports and employs multiple transformer models specifically designed for text classification and sentiment analysis. Specifically, the following procedure creates three distinct pipelines, each equipped with different models that facilitate the assessment of emotions and sentiment in textual content.\n"
   ]
  },
  {
   "cell_type": "code",
   "execution_count": 11,
   "metadata": {
    "tags": [
     "hide-code"
    ]
   },
   "outputs": [],
   "source": [
    "import warnings\n",
    "warnings.filterwarnings('ignore')\n",
    "# python -m pip install \"tensorflow<2.11\"\n",
    "# python -m pip install \"protobuf<3.2\"\n"
   ]
  },
  {
   "cell_type": "code",
   "execution_count": 12,
   "metadata": {},
   "outputs": [
    {
     "name": "stderr",
     "output_type": "stream",
     "text": [
      "No model was supplied, defaulted to distilbert-base-uncased-finetuned-sst-2-english and revision af0f99b (https://huggingface.co/distilbert-base-uncased-finetuned-sst-2-english).\n",
      "Using a pipeline without specifying a model name and revision in production is not recommended.\n"
     ]
    }
   ],
   "source": [
    "import transformers\n",
    "from transformers import pipeline\n",
    "\n",
    "# Initialize Genius API and sentiment classifiers\n",
    "classifiers = [\n",
    "    pipeline(\"text-classification\", model='bhadresh-savani/distilbert-base-uncased-emotion', return_all_scores=True),\n",
    "    pipeline(\"text-classification\", model='cardiffnlp/twitter-roberta-base-sentiment', return_all_scores=True),\n",
    "    pipeline(\"sentiment-analysis\", return_all_scores=True)\n",
    "]"
   ]
  },
  {
   "cell_type": "markdown",
   "metadata": {},
   "source": [
    "The `get_lyric_sentiment` function takes in pre-processed lyrics as input and produces a dictionary of sentiment scores. It leverages three distinct classifiers to calculate the scores and aggregates them into a final result. For instance, one of these classifiers is the *distilbert-base-uncased-emotion* model, specifically trained to detect \"emotions in texts such as sadness, joy, love, anger, fear, and surprise\".\n"
   ]
  },
  {
   "cell_type": "code",
   "execution_count": 13,
   "metadata": {},
   "outputs": [],
   "source": [
    "# Function to perform sentiment analysis\n",
    "def get_lyric_sentiment(lyrics, classifiers):\n",
    "    text = ' '.join(lyrics)\n",
    "    scores = {}\n",
    "    for classifier in classifiers:\n",
    "        try:\n",
    "            predictions = classifier(text, truncation=True)\n",
    "            for prediction in predictions[0]:\n",
    "                scores[prediction['label']] = prediction['score']\n",
    "        except Exception as e:\n",
    "            print(f\"Error during sentiment analysis: {e}\")\n",
    "    return scores"
   ]
  },
  {
   "cell_type": "markdown",
   "metadata": {},
   "source": [
    "If the lyric sequence contains more than 512 tokens, it will trigger an error message indicating an exception encountered in the 'embeddings' layer. However, we have implemented measures to properly manage lyric sequences that exceed 512 words in the function mentioned above."
   ]
  },
  {
   "cell_type": "markdown",
   "metadata": {},
   "source": [
    "---------------------\n",
    "\n",
    "\n",
    "## Putting it All Together\n",
    "\n",
    "\n",
    "To summarize, the code efficiently collects data and performs text analysis on every song in a playlist. Specifically, it systematically processes a list of tracks and corresponding artists while simultaneously conducting a thorough cleaning procedure on the lyrics. The cleaning process involves removing all nonessential characters, resulting in a more precise depiction of the song's content. The outcome is a comprehensive frequency analysis of each word in a song's lyrics, providing deeper insights into the overall conveyed message.\n",
    "\n",
    "Additionally, the program computes a sentiment score for each song based on the lyrics, indicating whether the lyrics are positive, negative, or neutral. It also collects information about the song and artist, such as the release date, length, popularity, and genre. Finally, the program compiles all this information into a dataframe for further analysis.\n",
    "\n",
    "\n",
    "\n",
    "\n"
   ]
  },
  {
   "cell_type": "code",
   "execution_count": 14,
   "metadata": {},
   "outputs": [
    {
     "name": "stdout",
     "output_type": "stream",
     "text": [
      "Searching for \"Espresso\" by Sabrina Carpenter...\n"
     ]
    },
    {
     "name": "stdout",
     "output_type": "stream",
     "text": [
      "Done.\n"
     ]
    },
    {
     "name": "stderr",
     "output_type": "stream",
     "text": [
      "Asking to truncate to max_length but no maximum length is provided and the model has no predefined maximum length. Default to no truncation.\n"
     ]
    },
    {
     "name": "stdout",
     "output_type": "stream",
     "text": [
      "Searching for \"BIRDS OF A FEATHER\" by Billie Eilish...\n"
     ]
    },
    {
     "name": "stdout",
     "output_type": "stream",
     "text": [
      "Done.\n"
     ]
    },
    {
     "name": "stdout",
     "output_type": "stream",
     "text": [
      "Searching for \"I Had Some Help (Feat. Morgan Wallen)\" by Post Malone...\n"
     ]
    },
    {
     "name": "stdout",
     "output_type": "stream",
     "text": [
      "Done.\n"
     ]
    },
    {
     "name": "stdout",
     "output_type": "stream",
     "text": [
      "Searching for \"Too Sweet\" by Hozier...\n"
     ]
    },
    {
     "name": "stdout",
     "output_type": "stream",
     "text": [
      "Done.\n"
     ]
    },
    {
     "name": "stdout",
     "output_type": "stream",
     "text": [
      "Searching for \"MILLION DOLLAR BABY\" by Tommy Richman...\n"
     ]
    },
    {
     "name": "stdout",
     "output_type": "stream",
     "text": [
      "Done.\n"
     ]
    },
    {
     "name": "stdout",
     "output_type": "stream",
     "text": [
      "Searching for \"we can't be friends (wait for your love)\" by Ariana Grande...\n"
     ]
    },
    {
     "name": "stdout",
     "output_type": "stream",
     "text": [
      "Done.\n"
     ]
    },
    {
     "name": "stdout",
     "output_type": "stream",
     "text": [
      "Searching for \"A Bar Song (Tipsy)\" by Shaboozey...\n"
     ]
    },
    {
     "name": "stdout",
     "output_type": "stream",
     "text": [
      "Done.\n"
     ]
    },
    {
     "name": "stdout",
     "output_type": "stream",
     "text": [
      "Searching for \"LUNCH\" by Billie Eilish...\n"
     ]
    },
    {
     "name": "stdout",
     "output_type": "stream",
     "text": [
      "Done.\n"
     ]
    },
    {
     "name": "stdout",
     "output_type": "stream",
     "text": [
      "Searching for \"Fortnight (feat. Post Malone)\" by Taylor Swift...\n"
     ]
    },
    {
     "name": "stdout",
     "output_type": "stream",
     "text": [
      "Done.\n"
     ]
    },
    {
     "name": "stdout",
     "output_type": "stream",
     "text": [
      "Searching for \"Beautiful Things\" by Benson Boone...\n"
     ]
    },
    {
     "name": "stdout",
     "output_type": "stream",
     "text": [
      "Done.\n"
     ]
    },
    {
     "name": "stdout",
     "output_type": "stream",
     "text": [
      "Searching for \"i like the way you kiss me\" by Artemas...\n"
     ]
    },
    {
     "name": "stdout",
     "output_type": "stream",
     "text": [
      "Done.\n"
     ]
    },
    {
     "name": "stdout",
     "output_type": "stream",
     "text": [
      "Searching for \"Please Please Please\" by Sabrina Carpenter...\n"
     ]
    },
    {
     "name": "stdout",
     "output_type": "stream",
     "text": [
      "Done.\n"
     ]
    },
    {
     "name": "stdout",
     "output_type": "stream",
     "text": [
      "Searching for \"End of Beginning\" by Djo...\n"
     ]
    },
    {
     "name": "stdout",
     "output_type": "stream",
     "text": [
      "Done.\n"
     ]
    },
    {
     "name": "stdout",
     "output_type": "stream",
     "text": [
      "Searching for \"Houdini\" by Eminem...\n"
     ]
    },
    {
     "name": "stdout",
     "output_type": "stream",
     "text": [
      "Done.\n"
     ]
    },
    {
     "name": "stdout",
     "output_type": "stream",
     "text": [
      "Searching for \"Lose Control\" by Teddy Swims...\n"
     ]
    },
    {
     "name": "stdout",
     "output_type": "stream",
     "text": [
      "Done.\n"
     ]
    },
    {
     "name": "stdout",
     "output_type": "stream",
     "text": [
      "Searching for \"Not Like Us\" by Kendrick Lamar...\n"
     ]
    },
    {
     "name": "stdout",
     "output_type": "stream",
     "text": [
      "Done.\n"
     ]
    },
    {
     "name": "stdout",
     "output_type": "stream",
     "text": [
      "Error during sentiment analysis: The expanded size of the tensor (529) must match the existing size (514) at non-singleton dimension 1.  Target sizes: [1, 529].  Tensor sizes: [1, 514]\n"
     ]
    },
    {
     "name": "stdout",
     "output_type": "stream",
     "text": [
      "Searching for \"Good Luck, Babe!\" by Chappell Roan...\n"
     ]
    },
    {
     "name": "stdout",
     "output_type": "stream",
     "text": [
      "Done.\n"
     ]
    },
    {
     "name": "stdout",
     "output_type": "stream",
     "text": [
      "Searching for \"I Can Do It With a Broken Heart\" by Taylor Swift...\n"
     ]
    },
    {
     "name": "stdout",
     "output_type": "stream",
     "text": [
      "Done.\n"
     ]
    },
    {
     "name": "stdout",
     "output_type": "stream",
     "text": [
      "Searching for \"Belong Together\" by Mark Ambor...\n"
     ]
    },
    {
     "name": "stdout",
     "output_type": "stream",
     "text": [
      "Done.\n"
     ]
    },
    {
     "name": "stdout",
     "output_type": "stream",
     "text": [
      "Searching for \"Saturn\" by SZA...\n"
     ]
    },
    {
     "name": "stdout",
     "output_type": "stream",
     "text": [
      "Done.\n"
     ]
    },
    {
     "name": "stdout",
     "output_type": "stream",
     "text": [
      "Searching for \"Slow It Down\" by Benson Boone...\n"
     ]
    },
    {
     "name": "stdout",
     "output_type": "stream",
     "text": [
      "Done.\n"
     ]
    },
    {
     "name": "stdout",
     "output_type": "stream",
     "text": [
      "Searching for \"Austin\" by Dasha...\n"
     ]
    },
    {
     "name": "stdout",
     "output_type": "stream",
     "text": [
      "Done.\n"
     ]
    },
    {
     "name": "stdout",
     "output_type": "stream",
     "text": [
      "Searching for \"Stargazing\" by Myles Smith...\n"
     ]
    },
    {
     "name": "stdout",
     "output_type": "stream",
     "text": [
      "Done.\n"
     ]
    },
    {
     "name": "stdout",
     "output_type": "stream",
     "text": [
      "Searching for \"Pink Skies\" by Zach Bryan...\n"
     ]
    },
    {
     "name": "stdout",
     "output_type": "stream",
     "text": [
      "Done.\n"
     ]
    },
    {
     "name": "stdout",
     "output_type": "stream",
     "text": [
      "Searching for \"Stick Season\" by Noah Kahan...\n"
     ]
    },
    {
     "name": "stdout",
     "output_type": "stream",
     "text": [
      "Done.\n"
     ]
    },
    {
     "name": "stdout",
     "output_type": "stream",
     "text": [
      "Searching for \"greedy\" by Tate McRae...\n"
     ]
    },
    {
     "name": "stdout",
     "output_type": "stream",
     "text": [
      "Done.\n"
     ]
    },
    {
     "name": "stdout",
     "output_type": "stream",
     "text": [
      "Searching for \"Scared To Start\" by Michael Marcagi...\n"
     ]
    },
    {
     "name": "stdout",
     "output_type": "stream",
     "text": [
      "Done.\n"
     ]
    },
    {
     "name": "stdout",
     "output_type": "stream",
     "text": [
      "Searching for \"Nasty\" by Tinashe...\n"
     ]
    },
    {
     "name": "stdout",
     "output_type": "stream",
     "text": [
      "Done.\n"
     ]
    },
    {
     "name": "stdout",
     "output_type": "stream",
     "text": [
      "Searching for \"Water\" by Tyla...\n"
     ]
    },
    {
     "name": "stdout",
     "output_type": "stream",
     "text": [
      "Done.\n"
     ]
    },
    {
     "name": "stdout",
     "output_type": "stream",
     "text": [
      "Searching for \"Gata Only\" by FloyyMenor...\n"
     ]
    },
    {
     "name": "stdout",
     "output_type": "stream",
     "text": [
      "Done.\n"
     ]
    },
    {
     "name": "stdout",
     "output_type": "stream",
     "text": [
      "Searching for \"Miles On It\" by Marshmello...\n"
     ]
    },
    {
     "name": "stdout",
     "output_type": "stream",
     "text": [
      "Done.\n"
     ]
    },
    {
     "name": "stdout",
     "output_type": "stream",
     "text": [
      "Searching for \"yes, and?\" by Ariana Grande...\n"
     ]
    },
    {
     "name": "stdout",
     "output_type": "stream",
     "text": [
      "Done.\n"
     ]
    },
    {
     "name": "stdout",
     "output_type": "stream",
     "text": [
      "Searching for \"TEXAS HOLD 'EM\" by Beyoncé...\n"
     ]
    },
    {
     "name": "stdout",
     "output_type": "stream",
     "text": [
      "Done.\n"
     ]
    },
    {
     "name": "stdout",
     "output_type": "stream",
     "text": [
      "Searching for \"BAND4BAND (feat. Lil Baby)\" by Central Cee...\n"
     ]
    },
    {
     "name": "stdout",
     "output_type": "stream",
     "text": [
      "Done.\n"
     ]
    },
    {
     "name": "stdout",
     "output_type": "stream",
     "text": [
      "Searching for \"Feel It\" by d4vd...\n"
     ]
    },
    {
     "name": "stdout",
     "output_type": "stream",
     "text": [
      "Done.\n"
     ]
    },
    {
     "name": "stdout",
     "output_type": "stream",
     "text": [
      "Searching for \"One Of The Girls\" by The Weeknd...\n"
     ]
    },
    {
     "name": "stdout",
     "output_type": "stream",
     "text": [
      "Done.\n"
     ]
    },
    {
     "name": "stdout",
     "output_type": "stream",
     "text": [
      "Searching for \"Tell Ur Girlfriend\" by Lay Bankz...\n"
     ]
    },
    {
     "name": "stdout",
     "output_type": "stream",
     "text": [
      "Done.\n"
     ]
    },
    {
     "name": "stdout",
     "output_type": "stream",
     "text": [
      "Searching for \"Lovin On Me\" by Jack Harlow...\n"
     ]
    },
    {
     "name": "stdout",
     "output_type": "stream",
     "text": [
      "Done.\n"
     ]
    },
    {
     "name": "stdout",
     "output_type": "stream",
     "text": [
      "Searching for \"Santa\" by Rvssian...\n"
     ]
    },
    {
     "name": "stdout",
     "output_type": "stream",
     "text": [
      "Done.\n"
     ]
    },
    {
     "name": "stdout",
     "output_type": "stream",
     "text": [
      "Searching for \"CHIHIRO\" by Billie Eilish...\n"
     ]
    },
    {
     "name": "stdout",
     "output_type": "stream",
     "text": [
      "Done.\n"
     ]
    },
    {
     "name": "stdout",
     "output_type": "stream",
     "text": [
      "Searching for \"Whatever\" by Kygo...\n"
     ]
    },
    {
     "name": "stdout",
     "output_type": "stream",
     "text": [
      "Done.\n"
     ]
    },
    {
     "name": "stdout",
     "output_type": "stream",
     "text": [
      "Searching for \"Illusion\" by Dua Lipa...\n"
     ]
    },
    {
     "name": "stdout",
     "output_type": "stream",
     "text": [
      "Done.\n"
     ]
    },
    {
     "name": "stdout",
     "output_type": "stream",
     "text": [
      "Searching for \"I Don't Wanna Wait\" by David Guetta...\n"
     ]
    },
    {
     "name": "stdout",
     "output_type": "stream",
     "text": [
      "Done.\n"
     ]
    },
    {
     "name": "stdout",
     "output_type": "stream",
     "text": [
      "Searching for \"Whatever She Wants\" by Bryson Tiller...\n"
     ]
    },
    {
     "name": "stdout",
     "output_type": "stream",
     "text": [
      "Error processing track Whatever She Wants by Bryson Tiller: Request timed out:\n",
      "HTTPSConnectionPool(host='genius.com', port=443): Read timed out. (read timeout=5)\n",
      "Searching for \"Jump\" by Tyla...\n"
     ]
    },
    {
     "name": "stdout",
     "output_type": "stream",
     "text": [
      "Done.\n"
     ]
    },
    {
     "name": "stdout",
     "output_type": "stream",
     "text": [
      "Searching for \"I Remember Everything (feat. Kacey Musgraves)\" by Zach Bryan...\n"
     ]
    },
    {
     "name": "stdout",
     "output_type": "stream",
     "text": [
      "Done.\n"
     ]
    },
    {
     "name": "stdout",
     "output_type": "stream",
     "text": [
      "Error during sentiment analysis: The expanded size of the tensor (517) must match the existing size (514) at non-singleton dimension 1.  Target sizes: [1, 517].  Tensor sizes: [1, 514]\n",
      "Searching for \"one of wun\" by Gunna...\n"
     ]
    },
    {
     "name": "stdout",
     "output_type": "stream",
     "text": [
      "Done.\n"
     ]
    },
    {
     "name": "stdout",
     "output_type": "stream",
     "text": [
      "Searching for \"obsessed\" by Olivia Rodrigo...\n"
     ]
    },
    {
     "name": "stdout",
     "output_type": "stream",
     "text": [
      "Done.\n"
     ]
    },
    {
     "name": "stdout",
     "output_type": "stream",
     "text": [
      "Searching for \"Magnetic\" by ILLIT...\n"
     ]
    },
    {
     "name": "stdout",
     "output_type": "stream",
     "text": [
      "Done.\n"
     ]
    },
    {
     "name": "stdout",
     "output_type": "stream",
     "text": [
      "Searching for \"redrum\" by 21 Savage...\n"
     ]
    },
    {
     "name": "stdout",
     "output_type": "stream",
     "text": [
      "Done.\n"
     ]
    }
   ],
   "source": [
    "track_data = []\n",
    "for i, track in all_tracks.iterrows():\n",
    "\n",
    "    song_name = track[\"name\"] #.partition(\" (\")[0]\n",
    "    song_name = track['name'].partition(\" (with\")[0]\n",
    "    song_name = song_name.partition(\" - From\")[0]\n",
    "    \n",
    "    artist_name = track[\"artist\"]\n",
    "\n",
    "    try:\n",
    "        track_lyrics = clean_song_lyrics(song_name, artist_name)\n",
    "        stopwords_removed = remove_stopwords_lyrics(track_lyrics)\n",
    "        lemmatized = word_lemmatize(stopwords_removed)\n",
    "\n",
    "        sentiment_scores = get_lyric_sentiment(stopwords_removed, classifiers)\n",
    "\n",
    "        track_info = track.to_dict()\n",
    "        track_info.update(sentiment_scores)\n",
    "\n",
    "        track_info[\"lyrics\"] = track_lyrics\n",
    "        track_info[\"stopwords_removed\"] = stopwords_removed\n",
    "        track_info[\"lemmatized\"] = lemmatized\n",
    "\n",
    "        track_data.append(track_info)\n",
    "\n",
    "    except Exception as e:\n",
    "        print(f\"Error processing track {track['name']} by {track['artist']}: {e}\")\n",
    "\n",
    "df_tracks = pd.DataFrame(track_data)"
   ]
  },
  {
   "cell_type": "code",
   "execution_count": 15,
   "metadata": {},
   "outputs": [],
   "source": [
    "#df_tracks = pd.DataFrame(track_data)\n",
    "df_tracks.to_csv(\"../assets/data/all_tracks+lyrics.csv\", index=False)"
   ]
  },
  {
   "cell_type": "code",
   "execution_count": 16,
   "metadata": {},
   "outputs": [
    {
     "data": {
      "text/html": [
       "<div>\n",
       "<style scoped>\n",
       "    .dataframe tbody tr th:only-of-type {\n",
       "        vertical-align: middle;\n",
       "    }\n",
       "\n",
       "    .dataframe tbody tr th {\n",
       "        vertical-align: top;\n",
       "    }\n",
       "\n",
       "    .dataframe thead th {\n",
       "        text-align: right;\n",
       "    }\n",
       "</style>\n",
       "<table border=\"1\" class=\"dataframe\">\n",
       "  <thead>\n",
       "    <tr style=\"text-align: right;\">\n",
       "      <th></th>\n",
       "      <th>name</th>\n",
       "      <th>track_id</th>\n",
       "      <th>album</th>\n",
       "      <th>artist</th>\n",
       "      <th>artist_id</th>\n",
       "      <th>release_date</th>\n",
       "      <th>length</th>\n",
       "      <th>popularity</th>\n",
       "      <th>artist_pop</th>\n",
       "      <th>artist_genres</th>\n",
       "      <th>...</th>\n",
       "      <th>fear</th>\n",
       "      <th>surprise</th>\n",
       "      <th>LABEL_0</th>\n",
       "      <th>LABEL_1</th>\n",
       "      <th>LABEL_2</th>\n",
       "      <th>NEGATIVE</th>\n",
       "      <th>POSITIVE</th>\n",
       "      <th>lyrics</th>\n",
       "      <th>stopwords_removed</th>\n",
       "      <th>lemmatized</th>\n",
       "    </tr>\n",
       "  </thead>\n",
       "  <tbody>\n",
       "    <tr>\n",
       "      <th>0</th>\n",
       "      <td>Espresso</td>\n",
       "      <td>2qSkIjg1o9h3YT9RAgYN75</td>\n",
       "      <td>Espresso</td>\n",
       "      <td>Sabrina Carpenter</td>\n",
       "      <td>74KM79TiuVKeVCqs8QtB0B</td>\n",
       "      <td>2024-04-12</td>\n",
       "      <td>175459</td>\n",
       "      <td>95</td>\n",
       "      <td>87</td>\n",
       "      <td>['pop']</td>\n",
       "      <td>...</td>\n",
       "      <td>0.046130</td>\n",
       "      <td>0.005205</td>\n",
       "      <td>0.058558</td>\n",
       "      <td>0.745153</td>\n",
       "      <td>0.196289</td>\n",
       "      <td>0.988320</td>\n",
       "      <td>0.011680</td>\n",
       "      <td>[now, he, is, thinking, about, me, every, nigh...</td>\n",
       "      <td>[thinking, every, night, sweet, guess, say, sl...</td>\n",
       "      <td>[think, every, night, sweet, guess, say, sleep...</td>\n",
       "    </tr>\n",
       "    <tr>\n",
       "      <th>1</th>\n",
       "      <td>BIRDS OF A FEATHER</td>\n",
       "      <td>6dOtVTDdiauQNBQEDOtlAB</td>\n",
       "      <td>HIT ME HARD AND SOFT</td>\n",
       "      <td>Billie Eilish</td>\n",
       "      <td>6qqNVTkY8uBg9cP3Jd7DAH</td>\n",
       "      <td>2024-05-17</td>\n",
       "      <td>210373</td>\n",
       "      <td>92</td>\n",
       "      <td>94</td>\n",
       "      <td>['art pop', 'pop']</td>\n",
       "      <td>...</td>\n",
       "      <td>0.548626</td>\n",
       "      <td>0.067396</td>\n",
       "      <td>0.112151</td>\n",
       "      <td>0.500842</td>\n",
       "      <td>0.387007</td>\n",
       "      <td>0.963745</td>\n",
       "      <td>0.036255</td>\n",
       "      <td>[i, want, you, to, stay, i, want, you, to, sta...</td>\n",
       "      <td>[want, stay, want, stay, til, grave, til, rot,...</td>\n",
       "      <td>[want, stay, want, stay, til, grave, til, rot,...</td>\n",
       "    </tr>\n",
       "    <tr>\n",
       "      <th>2</th>\n",
       "      <td>I Had Some Help (Feat. Morgan Wallen)</td>\n",
       "      <td>7221xIgOnuakPdLqT0F3nP</td>\n",
       "      <td>I Had Some Help</td>\n",
       "      <td>Post Malone</td>\n",
       "      <td>246dkjvS1zLTtiykXe5h60</td>\n",
       "      <td>2024-05-10</td>\n",
       "      <td>178205</td>\n",
       "      <td>91</td>\n",
       "      <td>90</td>\n",
       "      <td>['dfw rap', 'melodic rap', 'pop', 'rap']</td>\n",
       "      <td>...</td>\n",
       "      <td>0.000706</td>\n",
       "      <td>0.000557</td>\n",
       "      <td>0.210037</td>\n",
       "      <td>0.717910</td>\n",
       "      <td>0.072052</td>\n",
       "      <td>0.998456</td>\n",
       "      <td>0.001544</td>\n",
       "      <td>[you, got, a, got, ta, nerve, do, not, you, ba...</td>\n",
       "      <td>[got, got, ta, nerve, baby, hit, curb, made, t...</td>\n",
       "      <td>[get, get, ta, nerve, baby, hit, curb, make, t...</td>\n",
       "    </tr>\n",
       "    <tr>\n",
       "      <th>3</th>\n",
       "      <td>Too Sweet</td>\n",
       "      <td>4IadxL6BUymXlh8RCJJu7T</td>\n",
       "      <td>Unheard</td>\n",
       "      <td>Hozier</td>\n",
       "      <td>2FXC3k01G6Gw61bmprjgqS</td>\n",
       "      <td>2024-03-22</td>\n",
       "      <td>251424</td>\n",
       "      <td>80</td>\n",
       "      <td>85</td>\n",
       "      <td>['irish singer-songwriter', 'modern rock', 'po...</td>\n",
       "      <td>...</td>\n",
       "      <td>0.002293</td>\n",
       "      <td>0.001093</td>\n",
       "      <td>0.120370</td>\n",
       "      <td>0.648945</td>\n",
       "      <td>0.230685</td>\n",
       "      <td>0.984314</td>\n",
       "      <td>0.015686</td>\n",
       "      <td>[it, can, not, be, said, i, am, an, early, bir...</td>\n",
       "      <td>[said, early, bird, clock, say, word, baby, ne...</td>\n",
       "      <td>[say, early, bird, clock, say, word, baby, nev...</td>\n",
       "    </tr>\n",
       "    <tr>\n",
       "      <th>4</th>\n",
       "      <td>MILLION DOLLAR BABY</td>\n",
       "      <td>7fzHQizxTqy8wTXwlrgPQQ</td>\n",
       "      <td>MILLION DOLLAR BABY</td>\n",
       "      <td>Tommy Richman</td>\n",
       "      <td>1WaFQSHVGZQJTbf0BdxdNo</td>\n",
       "      <td>2024-04-26</td>\n",
       "      <td>155151</td>\n",
       "      <td>92</td>\n",
       "      <td>82</td>\n",
       "      <td>['chill abstract hip hop']</td>\n",
       "      <td>...</td>\n",
       "      <td>0.025805</td>\n",
       "      <td>0.003822</td>\n",
       "      <td>0.336834</td>\n",
       "      <td>0.601042</td>\n",
       "      <td>0.062124</td>\n",
       "      <td>0.993108</td>\n",
       "      <td>0.006892</td>\n",
       "      <td>[do, it, baby, do, what, i, should, think, do,...</td>\n",
       "      <td>[baby, think, baby, could, think, baby, think,...</td>\n",
       "      <td>[baby, think, baby, could, think, baby, think,...</td>\n",
       "    </tr>\n",
       "    <tr>\n",
       "      <th>5</th>\n",
       "      <td>we can't be friends (wait for your love)</td>\n",
       "      <td>46kspZSY3aKmwQe7O77fCC</td>\n",
       "      <td>eternal sunshine</td>\n",
       "      <td>Ariana Grande</td>\n",
       "      <td>66CXWjxzNUsdJxJ2JdwvnR</td>\n",
       "      <td>2024-03-08</td>\n",
       "      <td>228639</td>\n",
       "      <td>83</td>\n",
       "      <td>90</td>\n",
       "      <td>['pop']</td>\n",
       "      <td>...</td>\n",
       "      <td>0.000605</td>\n",
       "      <td>0.000460</td>\n",
       "      <td>0.063339</td>\n",
       "      <td>0.507926</td>\n",
       "      <td>0.428735</td>\n",
       "      <td>0.996296</td>\n",
       "      <td>0.003704</td>\n",
       "      <td>[i, did, not, think, you, would, understand, m...</td>\n",
       "      <td>[think, would, understand, could, ever, even, ...</td>\n",
       "      <td>[think, would, understand, could, ever, even, ...</td>\n",
       "    </tr>\n",
       "    <tr>\n",
       "      <th>6</th>\n",
       "      <td>A Bar Song (Tipsy)</td>\n",
       "      <td>2FQrifJ1N335Ljm3TjTVVf</td>\n",
       "      <td>A Bar Song (Tipsy)</td>\n",
       "      <td>Shaboozey</td>\n",
       "      <td>3y2cIKLjiOlp1Np37WiUdH</td>\n",
       "      <td>2024-04-12</td>\n",
       "      <td>171291</td>\n",
       "      <td>90</td>\n",
       "      <td>80</td>\n",
       "      <td>['pop rap']</td>\n",
       "      <td>...</td>\n",
       "      <td>0.009928</td>\n",
       "      <td>0.003751</td>\n",
       "      <td>0.057218</td>\n",
       "      <td>0.763994</td>\n",
       "      <td>0.178788</td>\n",
       "      <td>0.994249</td>\n",
       "      <td>0.005751</td>\n",
       "      <td>[my, baby, want, a, barking, she, is, been, te...</td>\n",
       "      <td>[baby, want, barking, telling, night, long, ga...</td>\n",
       "      <td>[baby, want, bark, tell, night, long, gasoline...</td>\n",
       "    </tr>\n",
       "    <tr>\n",
       "      <th>7</th>\n",
       "      <td>LUNCH</td>\n",
       "      <td>629DixmZGHc7ILtEntuiWE</td>\n",
       "      <td>HIT ME HARD AND SOFT</td>\n",
       "      <td>Billie Eilish</td>\n",
       "      <td>6qqNVTkY8uBg9cP3Jd7DAH</td>\n",
       "      <td>2024-05-17</td>\n",
       "      <td>179586</td>\n",
       "      <td>92</td>\n",
       "      <td>94</td>\n",
       "      <td>['art pop', 'pop']</td>\n",
       "      <td>...</td>\n",
       "      <td>0.004807</td>\n",
       "      <td>0.005700</td>\n",
       "      <td>0.226971</td>\n",
       "      <td>0.703515</td>\n",
       "      <td>0.069515</td>\n",
       "      <td>0.995480</td>\n",
       "      <td>0.004520</td>\n",
       "      <td>[oh, mmmm, i, could, eat, that, girl, for, lun...</td>\n",
       "      <td>[mmmm, could, eat, girl, lunch, dances, tongue...</td>\n",
       "      <td>[mmmm, could, eat, girl, lunch, dance, tongue,...</td>\n",
       "    </tr>\n",
       "    <tr>\n",
       "      <th>8</th>\n",
       "      <td>Fortnight (feat. Post Malone)</td>\n",
       "      <td>2OzhQlSqBEmt7hmkYxfT6m</td>\n",
       "      <td>THE TORTURED POETS DEPARTMENT</td>\n",
       "      <td>Taylor Swift</td>\n",
       "      <td>06HL4z0CvFAxyc27GXpf02</td>\n",
       "      <td>2024-04-18</td>\n",
       "      <td>228965</td>\n",
       "      <td>89</td>\n",
       "      <td>100</td>\n",
       "      <td>['pop']</td>\n",
       "      <td>...</td>\n",
       "      <td>0.018662</td>\n",
       "      <td>0.010463</td>\n",
       "      <td>0.575611</td>\n",
       "      <td>0.374097</td>\n",
       "      <td>0.050291</td>\n",
       "      <td>0.991912</td>\n",
       "      <td>0.008088</td>\n",
       "      <td>[i, was, supposed, to, be, sent, away, i, shou...</td>\n",
       "      <td>[supposed, sent, away, taken, away, forgot, co...</td>\n",
       "      <td>[suppose, send, away, take, away, forgot, come...</td>\n",
       "    </tr>\n",
       "    <tr>\n",
       "      <th>9</th>\n",
       "      <td>Beautiful Things</td>\n",
       "      <td>6tNQ70jh4OwmPGpYy6R2o9</td>\n",
       "      <td>Beautiful Things</td>\n",
       "      <td>Benson Boone</td>\n",
       "      <td>22wbnEMDvgVIAGdFeek6ET</td>\n",
       "      <td>2024-01-18</td>\n",
       "      <td>180304</td>\n",
       "      <td>88</td>\n",
       "      <td>85</td>\n",
       "      <td>['singer-songwriter pop']</td>\n",
       "      <td>...</td>\n",
       "      <td>0.996488</td>\n",
       "      <td>0.000843</td>\n",
       "      <td>0.033857</td>\n",
       "      <td>0.318134</td>\n",
       "      <td>0.648009</td>\n",
       "      <td>0.012351</td>\n",
       "      <td>0.987649</td>\n",
       "      <td>[for, a, while, there, it, was, rough, but, la...</td>\n",
       "      <td>[rough, lately, better, last, four, cold, reme...</td>\n",
       "      <td>[rough, lately, well, last, four, cold, rememb...</td>\n",
       "    </tr>\n",
       "    <tr>\n",
       "      <th>10</th>\n",
       "      <td>i like the way you kiss me</td>\n",
       "      <td>2GxrNKugF82CnoRFbQfzPf</td>\n",
       "      <td>i like the way you kiss me</td>\n",
       "      <td>Artemas</td>\n",
       "      <td>0PCCGZ0wGLizHt2KZ7hhA2</td>\n",
       "      <td>2024-03-19</td>\n",
       "      <td>142514</td>\n",
       "      <td>92</td>\n",
       "      <td>81</td>\n",
       "      <td>[]</td>\n",
       "      <td>...</td>\n",
       "      <td>0.001377</td>\n",
       "      <td>0.001145</td>\n",
       "      <td>0.034661</td>\n",
       "      <td>0.521730</td>\n",
       "      <td>0.443609</td>\n",
       "      <td>0.984495</td>\n",
       "      <td>0.015505</td>\n",
       "      <td>[i, like, the, way, you, kiss, me, i, like, th...</td>\n",
       "      <td>[like, way, kiss, like, way, uh, like, way, ki...</td>\n",
       "      <td>[like, way, kiss, like, way, uh, like, way, ki...</td>\n",
       "    </tr>\n",
       "    <tr>\n",
       "      <th>11</th>\n",
       "      <td>Please Please Please</td>\n",
       "      <td>5N3hjp1WNayUPZrA8kJmJP</td>\n",
       "      <td>Please Please Please</td>\n",
       "      <td>Sabrina Carpenter</td>\n",
       "      <td>74KM79TiuVKeVCqs8QtB0B</td>\n",
       "      <td>2024-06-06</td>\n",
       "      <td>186365</td>\n",
       "      <td>83</td>\n",
       "      <td>87</td>\n",
       "      <td>['pop']</td>\n",
       "      <td>...</td>\n",
       "      <td>0.000562</td>\n",
       "      <td>0.000837</td>\n",
       "      <td>0.269767</td>\n",
       "      <td>0.516786</td>\n",
       "      <td>0.213447</td>\n",
       "      <td>0.825784</td>\n",
       "      <td>0.174216</td>\n",
       "      <td>[i, know, i, have, good, judgment, i, know, i,...</td>\n",
       "      <td>[know, good, judgment, know, good, taste, funn...</td>\n",
       "      <td>[know, good, judgment, know, good, taste, funn...</td>\n",
       "    </tr>\n",
       "    <tr>\n",
       "      <th>12</th>\n",
       "      <td>End of Beginning</td>\n",
       "      <td>3qhlB30KknSejmIvZZLjOD</td>\n",
       "      <td>DECIDE</td>\n",
       "      <td>Djo</td>\n",
       "      <td>5p9HO3XC5P3BLxJs5Mtrhm</td>\n",
       "      <td>2022-09-16</td>\n",
       "      <td>159245</td>\n",
       "      <td>90</td>\n",
       "      <td>77</td>\n",
       "      <td>['pov: indie', 'psychedelic pop']</td>\n",
       "      <td>...</td>\n",
       "      <td>0.018631</td>\n",
       "      <td>0.004027</td>\n",
       "      <td>0.159378</td>\n",
       "      <td>0.691760</td>\n",
       "      <td>0.148862</td>\n",
       "      <td>0.964887</td>\n",
       "      <td>0.035113</td>\n",
       "      <td>[just, one, more, tear, to, cry, one, teardrop...</td>\n",
       "      <td>[one, tear, cry, one, teardrop, eye, better, s...</td>\n",
       "      <td>[one, tear, cry, one, teardrop, eye, well, sav...</td>\n",
       "    </tr>\n",
       "    <tr>\n",
       "      <th>13</th>\n",
       "      <td>Houdini</td>\n",
       "      <td>2HYFX63wP3otVIvopRS99Z</td>\n",
       "      <td>Houdini</td>\n",
       "      <td>Eminem</td>\n",
       "      <td>7dGJo4pcD2V6oG8kP0tJRR</td>\n",
       "      <td>2024-05-31</td>\n",
       "      <td>227239</td>\n",
       "      <td>88</td>\n",
       "      <td>90</td>\n",
       "      <td>['detroit hip hop', 'hip hop', 'rap']</td>\n",
       "      <td>...</td>\n",
       "      <td>0.059232</td>\n",
       "      <td>0.007880</td>\n",
       "      <td>0.143081</td>\n",
       "      <td>0.793169</td>\n",
       "      <td>0.063750</td>\n",
       "      <td>0.994274</td>\n",
       "      <td>0.005726</td>\n",
       "      <td>[hey, them, it, is, pal, uh, i, was, listening...</td>\n",
       "      <td>[hey, pal, uh, listening, album, good, lucky, ...</td>\n",
       "      <td>[hey, pal, uh, listen, album, good, lucky, gue...</td>\n",
       "    </tr>\n",
       "    <tr>\n",
       "      <th>14</th>\n",
       "      <td>Lose Control</td>\n",
       "      <td>17phhZDn6oGtzMe56NuWvj</td>\n",
       "      <td>I've Tried Everything But Therapy (Part 1)</td>\n",
       "      <td>Teddy Swims</td>\n",
       "      <td>33qOK5uJ8AR2xuQQAhHump</td>\n",
       "      <td>2023-09-15</td>\n",
       "      <td>210688</td>\n",
       "      <td>87</td>\n",
       "      <td>81</td>\n",
       "      <td>[]</td>\n",
       "      <td>...</td>\n",
       "      <td>0.000485</td>\n",
       "      <td>0.000120</td>\n",
       "      <td>0.557471</td>\n",
       "      <td>0.412347</td>\n",
       "      <td>0.030183</td>\n",
       "      <td>0.998184</td>\n",
       "      <td>0.001816</td>\n",
       "      <td>[something, is, got, a, hold, of, me, lately, ...</td>\n",
       "      <td>[something, got, hold, lately, know, anymore, ...</td>\n",
       "      <td>[something, get, hold, lately, know, anymore, ...</td>\n",
       "    </tr>\n",
       "    <tr>\n",
       "      <th>15</th>\n",
       "      <td>Not Like Us</td>\n",
       "      <td>6AI3ezQ4o3HUoP6Dhudph3</td>\n",
       "      <td>Not Like Us</td>\n",
       "      <td>Kendrick Lamar</td>\n",
       "      <td>2YZyLoL8N0Wb9xBt1NhZWg</td>\n",
       "      <td>2024-05-04</td>\n",
       "      <td>274192</td>\n",
       "      <td>92</td>\n",
       "      <td>92</td>\n",
       "      <td>['conscious hip hop', 'hip hop', 'rap', 'west ...</td>\n",
       "      <td>...</td>\n",
       "      <td>0.005929</td>\n",
       "      <td>0.003224</td>\n",
       "      <td>NaN</td>\n",
       "      <td>NaN</td>\n",
       "      <td>NaN</td>\n",
       "      <td>0.997200</td>\n",
       "      <td>0.002800</td>\n",
       "      <td>[psst, i, see, dead, people, mustard, on, the,...</td>\n",
       "      <td>[psst, see, dead, people, mustard, beat, musta...</td>\n",
       "      <td>[psst, see, dead, people, mustard, beat, musta...</td>\n",
       "    </tr>\n",
       "    <tr>\n",
       "      <th>16</th>\n",
       "      <td>Good Luck, Babe!</td>\n",
       "      <td>0WbMK4wrZ1wFSty9F7FCgu</td>\n",
       "      <td>Good Luck, Babe!</td>\n",
       "      <td>Chappell Roan</td>\n",
       "      <td>7GlBOeep6PqTfFi59PTUUN</td>\n",
       "      <td>2024-04-05</td>\n",
       "      <td>218423</td>\n",
       "      <td>87</td>\n",
       "      <td>81</td>\n",
       "      <td>['indie pop', 'pov: indie', 'springfield mo in...</td>\n",
       "      <td>...</td>\n",
       "      <td>0.000427</td>\n",
       "      <td>0.000471</td>\n",
       "      <td>0.343443</td>\n",
       "      <td>0.554660</td>\n",
       "      <td>0.101897</td>\n",
       "      <td>0.981645</td>\n",
       "      <td>0.018355</td>\n",
       "      <td>[it, is, fine, it, is, cool, you, can, say, th...</td>\n",
       "      <td>[fine, cool, say, nothing, know, truth, guess,...</td>\n",
       "      <td>[fine, cool, say, nothing, know, truth, guess,...</td>\n",
       "    </tr>\n",
       "    <tr>\n",
       "      <th>17</th>\n",
       "      <td>I Can Do It With a Broken Heart</td>\n",
       "      <td>4q5YezDOIPcoLr8R81x9qy</td>\n",
       "      <td>THE TORTURED POETS DEPARTMENT</td>\n",
       "      <td>Taylor Swift</td>\n",
       "      <td>06HL4z0CvFAxyc27GXpf02</td>\n",
       "      <td>2024-04-18</td>\n",
       "      <td>218004</td>\n",
       "      <td>84</td>\n",
       "      <td>100</td>\n",
       "      <td>['pop']</td>\n",
       "      <td>...</td>\n",
       "      <td>0.001501</td>\n",
       "      <td>0.000734</td>\n",
       "      <td>0.268903</td>\n",
       "      <td>0.570628</td>\n",
       "      <td>0.160469</td>\n",
       "      <td>0.992031</td>\n",
       "      <td>0.007969</td>\n",
       "      <td>[i, can, read, your, mind, she, is, having, th...</td>\n",
       "      <td>[read, mind, time, life, glittering, prime, li...</td>\n",
       "      <td>[read, mind, time, life, glitter, prime, light...</td>\n",
       "    </tr>\n",
       "    <tr>\n",
       "      <th>18</th>\n",
       "      <td>Belong Together</td>\n",
       "      <td>5uQ7de4EWjb3rkcFxyEOpu</td>\n",
       "      <td>Belong Together</td>\n",
       "      <td>Mark Ambor</td>\n",
       "      <td>11p2E654TTU8e0nZWBR4AL</td>\n",
       "      <td>2024-02-16</td>\n",
       "      <td>148317</td>\n",
       "      <td>87</td>\n",
       "      <td>75</td>\n",
       "      <td>['singer-songwriter pop']</td>\n",
       "      <td>...</td>\n",
       "      <td>0.005112</td>\n",
       "      <td>0.002070</td>\n",
       "      <td>0.018785</td>\n",
       "      <td>0.284418</td>\n",
       "      <td>0.696797</td>\n",
       "      <td>0.206854</td>\n",
       "      <td>0.793146</td>\n",
       "      <td>[i, know, sleep, is, friends, with, death, but...</td>\n",
       "      <td>[know, sleep, friends, death, maybe, get, rest...</td>\n",
       "      <td>[know, sleep, friend, death, maybe, get, rest,...</td>\n",
       "    </tr>\n",
       "    <tr>\n",
       "      <th>19</th>\n",
       "      <td>Saturn</td>\n",
       "      <td>1bjeWoagtHmUKputLVyDxQ</td>\n",
       "      <td>Saturn</td>\n",
       "      <td>SZA</td>\n",
       "      <td>7tYKF4w9nC0nq9CsPZTHyP</td>\n",
       "      <td>2024-02-22</td>\n",
       "      <td>186191</td>\n",
       "      <td>87</td>\n",
       "      <td>89</td>\n",
       "      <td>['pop', 'r&amp;b', 'rap']</td>\n",
       "      <td>...</td>\n",
       "      <td>0.077055</td>\n",
       "      <td>0.002667</td>\n",
       "      <td>0.401661</td>\n",
       "      <td>0.494084</td>\n",
       "      <td>0.104256</td>\n",
       "      <td>0.998026</td>\n",
       "      <td>0.001974</td>\n",
       "      <td>[if, there, is, another, universe, please, mak...</td>\n",
       "      <td>[another, universe, please, make, noise, noise...</td>\n",
       "      <td>[another, universe, please, make, noise, noise...</td>\n",
       "    </tr>\n",
       "    <tr>\n",
       "      <th>20</th>\n",
       "      <td>Slow It Down</td>\n",
       "      <td>51eSHglvG1RJXtL3qI5trr</td>\n",
       "      <td>Fireworks &amp; Rollerblades</td>\n",
       "      <td>Benson Boone</td>\n",
       "      <td>22wbnEMDvgVIAGdFeek6ET</td>\n",
       "      <td>2024-04-05</td>\n",
       "      <td>161831</td>\n",
       "      <td>85</td>\n",
       "      <td>85</td>\n",
       "      <td>['singer-songwriter pop']</td>\n",
       "      <td>...</td>\n",
       "      <td>0.669380</td>\n",
       "      <td>0.007431</td>\n",
       "      <td>0.709808</td>\n",
       "      <td>0.263808</td>\n",
       "      <td>0.026384</td>\n",
       "      <td>0.983390</td>\n",
       "      <td>0.016610</td>\n",
       "      <td>[i, would, never, met, you, but, i, wanted, to...</td>\n",
       "      <td>[would, never, met, wanted, invite, party, wal...</td>\n",
       "      <td>[would, never, meet, want, invite, party, walk...</td>\n",
       "    </tr>\n",
       "    <tr>\n",
       "      <th>21</th>\n",
       "      <td>Austin</td>\n",
       "      <td>4NJqhmkGN042BrvHoMKUrJ</td>\n",
       "      <td>Austin</td>\n",
       "      <td>Dasha</td>\n",
       "      <td>7Ez6lTtSMjMf2YSYpukP1I</td>\n",
       "      <td>2023-11-17</td>\n",
       "      <td>171782</td>\n",
       "      <td>47</td>\n",
       "      <td>74</td>\n",
       "      <td>[]</td>\n",
       "      <td>...</td>\n",
       "      <td>0.002042</td>\n",
       "      <td>0.000548</td>\n",
       "      <td>0.332335</td>\n",
       "      <td>0.619888</td>\n",
       "      <td>0.047777</td>\n",
       "      <td>0.997655</td>\n",
       "      <td>0.002345</td>\n",
       "      <td>[we, had, a, plan, move, out, of, this, town, ...</td>\n",
       "      <td>[plan, move, town, baby, west, sand, talked, l...</td>\n",
       "      <td>[plan, move, town, baby, west, sand, talk, lat...</td>\n",
       "    </tr>\n",
       "    <tr>\n",
       "      <th>22</th>\n",
       "      <td>Stargazing</td>\n",
       "      <td>3Vr3zh0r7ALn8VLqCiRR10</td>\n",
       "      <td>Stargazing</td>\n",
       "      <td>Myles Smith</td>\n",
       "      <td>3bO19AOone0ubCsfDXDtYt</td>\n",
       "      <td>2024-05-10</td>\n",
       "      <td>172533</td>\n",
       "      <td>87</td>\n",
       "      <td>76</td>\n",
       "      <td>['singer-songwriter pop']</td>\n",
       "      <td>...</td>\n",
       "      <td>0.000203</td>\n",
       "      <td>0.000153</td>\n",
       "      <td>0.479969</td>\n",
       "      <td>0.450779</td>\n",
       "      <td>0.069251</td>\n",
       "      <td>0.994339</td>\n",
       "      <td>0.005661</td>\n",
       "      <td>[oohooh, oohooh, oohooh, time, stood, still, j...</td>\n",
       "      <td>[oohooh, oohooh, oohooh, time, stood, still, l...</td>\n",
       "      <td>[oohooh, oohooh, oohooh, time, stand, still, l...</td>\n",
       "    </tr>\n",
       "    <tr>\n",
       "      <th>23</th>\n",
       "      <td>Pink Skies</td>\n",
       "      <td>4ZJ4vzLQekI0WntDbanNC7</td>\n",
       "      <td>Pink Skies</td>\n",
       "      <td>Zach Bryan</td>\n",
       "      <td>40ZNYROS4zLfyyBSs2PGe2</td>\n",
       "      <td>2024-05-24</td>\n",
       "      <td>194920</td>\n",
       "      <td>84</td>\n",
       "      <td>88</td>\n",
       "      <td>['classic oklahoma country']</td>\n",
       "      <td>...</td>\n",
       "      <td>0.000670</td>\n",
       "      <td>0.000719</td>\n",
       "      <td>0.016503</td>\n",
       "      <td>0.276442</td>\n",
       "      <td>0.707055</td>\n",
       "      <td>0.396575</td>\n",
       "      <td>0.603425</td>\n",
       "      <td>[the, kids, are, in, town, for, a, funeral, so...</td>\n",
       "      <td>[kids, town, funeral, pack, car, dry, eyes, kn...</td>\n",
       "      <td>[kid, town, funeral, pack, car, dry, eye, know...</td>\n",
       "    </tr>\n",
       "    <tr>\n",
       "      <th>24</th>\n",
       "      <td>Stick Season</td>\n",
       "      <td>0mflMxspEfB0VbI1kyLiAv</td>\n",
       "      <td>Stick Season</td>\n",
       "      <td>Noah Kahan</td>\n",
       "      <td>2RQXRUsr4IW1f3mKyKsy4B</td>\n",
       "      <td>2022-10-14</td>\n",
       "      <td>182346</td>\n",
       "      <td>86</td>\n",
       "      <td>84</td>\n",
       "      <td>['pov: indie']</td>\n",
       "      <td>...</td>\n",
       "      <td>0.104740</td>\n",
       "      <td>0.003200</td>\n",
       "      <td>0.516024</td>\n",
       "      <td>0.447031</td>\n",
       "      <td>0.036945</td>\n",
       "      <td>0.998780</td>\n",
       "      <td>0.001220</td>\n",
       "      <td>[as, you, promised, me, that, i, was, more, th...</td>\n",
       "      <td>[promised, miles, combined, must, change, hear...</td>\n",
       "      <td>[promise, mile, combine, must, change, heart, ...</td>\n",
       "    </tr>\n",
       "    <tr>\n",
       "      <th>25</th>\n",
       "      <td>greedy</td>\n",
       "      <td>3rUGC1vUpkDG9CZFHMur1t</td>\n",
       "      <td>greedy</td>\n",
       "      <td>Tate McRae</td>\n",
       "      <td>45dkTj5sMRSjrmBSBeiHym</td>\n",
       "      <td>2023-09-15</td>\n",
       "      <td>131872</td>\n",
       "      <td>87</td>\n",
       "      <td>82</td>\n",
       "      <td>['pop']</td>\n",
       "      <td>...</td>\n",
       "      <td>0.001383</td>\n",
       "      <td>0.000401</td>\n",
       "      <td>0.257882</td>\n",
       "      <td>0.650690</td>\n",
       "      <td>0.091428</td>\n",
       "      <td>0.970451</td>\n",
       "      <td>0.029549</td>\n",
       "      <td>[wood, he, said, are, you, serious, i, have, t...</td>\n",
       "      <td>[wood, said, serious, tried, figure, next, nig...</td>\n",
       "      <td>[wood, say, serious, tried, figure, next, nigh...</td>\n",
       "    </tr>\n",
       "    <tr>\n",
       "      <th>26</th>\n",
       "      <td>Scared To Start</td>\n",
       "      <td>3Pbp7cUCx4d3OAkZSCoNvn</td>\n",
       "      <td>Scared To Start</td>\n",
       "      <td>Michael Marcagi</td>\n",
       "      <td>4j96cMcT8GRi11qbvo1cLQ</td>\n",
       "      <td>2024-01-12</td>\n",
       "      <td>159636</td>\n",
       "      <td>84</td>\n",
       "      <td>72</td>\n",
       "      <td>[]</td>\n",
       "      <td>...</td>\n",
       "      <td>0.993651</td>\n",
       "      <td>0.000680</td>\n",
       "      <td>0.467322</td>\n",
       "      <td>0.498693</td>\n",
       "      <td>0.033985</td>\n",
       "      <td>0.993110</td>\n",
       "      <td>0.006890</td>\n",
       "      <td>[she, is, wearing, an, old, dress, walking, it...</td>\n",
       "      <td>[wearing, old, dress, walking, waiting, someon...</td>\n",
       "      <td>[wear, old, dress, walk, wait, someone, turn, ...</td>\n",
       "    </tr>\n",
       "    <tr>\n",
       "      <th>27</th>\n",
       "      <td>Nasty</td>\n",
       "      <td>6NjWCIYu1W8xa3HIvcIhd4</td>\n",
       "      <td>Nasty</td>\n",
       "      <td>Tinashe</td>\n",
       "      <td>0NIIxcxNHmOoyBx03SfTCD</td>\n",
       "      <td>2024-04-12</td>\n",
       "      <td>176027</td>\n",
       "      <td>76</td>\n",
       "      <td>69</td>\n",
       "      <td>['alternative r&amp;b', 'dance pop', 'metropopolis...</td>\n",
       "      <td>...</td>\n",
       "      <td>0.003332</td>\n",
       "      <td>0.002755</td>\n",
       "      <td>0.546907</td>\n",
       "      <td>0.416473</td>\n",
       "      <td>0.036621</td>\n",
       "      <td>0.997654</td>\n",
       "      <td>0.002346</td>\n",
       "      <td>[because, it, feels, like, heaven, when, it, h...</td>\n",
       "      <td>[feels, like, heaven, hurts, bad, baby, put, l...</td>\n",
       "      <td>[feel, like, heaven, hurt, bad, baby, put, lik...</td>\n",
       "    </tr>\n",
       "    <tr>\n",
       "      <th>28</th>\n",
       "      <td>Water</td>\n",
       "      <td>5aIVCx5tnk0ntmdiinnYvw</td>\n",
       "      <td>Water</td>\n",
       "      <td>Tyla</td>\n",
       "      <td>3SozjO3Lat463tQICI9LcE</td>\n",
       "      <td>2023-07-28</td>\n",
       "      <td>200255</td>\n",
       "      <td>83</td>\n",
       "      <td>77</td>\n",
       "      <td>[]</td>\n",
       "      <td>...</td>\n",
       "      <td>0.006878</td>\n",
       "      <td>0.002168</td>\n",
       "      <td>0.210546</td>\n",
       "      <td>0.642083</td>\n",
       "      <td>0.147372</td>\n",
       "      <td>0.992614</td>\n",
       "      <td>0.007386</td>\n",
       "      <td>[make, me, sweat, make, me, hotter, make, me, ...</td>\n",
       "      <td>[make, sweat, make, hotter, make, lose, breath...</td>\n",
       "      <td>[make, sweat, make, hotter, make, lose, breath...</td>\n",
       "    </tr>\n",
       "    <tr>\n",
       "      <th>29</th>\n",
       "      <td>Gata Only</td>\n",
       "      <td>6XjDF6nds4DE2BBbagZol6</td>\n",
       "      <td>Gata Only</td>\n",
       "      <td>FloyyMenor</td>\n",
       "      <td>7CvTknweLr9feJtRGrpDBy</td>\n",
       "      <td>2024-02-02</td>\n",
       "      <td>222000</td>\n",
       "      <td>92</td>\n",
       "      <td>80</td>\n",
       "      <td>['reggaeton chileno']</td>\n",
       "      <td>...</td>\n",
       "      <td>0.889733</td>\n",
       "      <td>0.003425</td>\n",
       "      <td>0.223531</td>\n",
       "      <td>0.686388</td>\n",
       "      <td>0.090082</td>\n",
       "      <td>0.995981</td>\n",
       "      <td>0.004019</td>\n",
       "      <td>[hey, mommy, i, feel, you, far, away, tell, me...</td>\n",
       "      <td>[hey, mommy, feel, far, away, tell, want, goin...</td>\n",
       "      <td>[hey, mommy, feel, far, away, tell, want, go, ...</td>\n",
       "    </tr>\n",
       "    <tr>\n",
       "      <th>30</th>\n",
       "      <td>Miles On It</td>\n",
       "      <td>4pkb8SbRGeHAvdb87v9rpf</td>\n",
       "      <td>Miles On It</td>\n",
       "      <td>Marshmello</td>\n",
       "      <td>64KEffDW9EtZ1y2vBYgq8T</td>\n",
       "      <td>2024-05-03</td>\n",
       "      <td>168355</td>\n",
       "      <td>79</td>\n",
       "      <td>82</td>\n",
       "      <td>['brostep', 'edm', 'pop', 'progressive electro...</td>\n",
       "      <td>...</td>\n",
       "      <td>0.022199</td>\n",
       "      <td>0.003526</td>\n",
       "      <td>0.144933</td>\n",
       "      <td>0.754521</td>\n",
       "      <td>0.100546</td>\n",
       "      <td>0.997120</td>\n",
       "      <td>0.002880</td>\n",
       "      <td>[new, truck, big, lift, old, roads, we, have, ...</td>\n",
       "      <td>[new, truck, big, lift, old, roads, tearing, s...</td>\n",
       "      <td>[new, truck, big, lift, old, road, tear, since...</td>\n",
       "    </tr>\n",
       "    <tr>\n",
       "      <th>31</th>\n",
       "      <td>yes, and?</td>\n",
       "      <td>7gaA3wERFkFkgivjwbSvkG</td>\n",
       "      <td>yes, and?</td>\n",
       "      <td>Ariana Grande</td>\n",
       "      <td>66CXWjxzNUsdJxJ2JdwvnR</td>\n",
       "      <td>2024-01-12</td>\n",
       "      <td>214994</td>\n",
       "      <td>77</td>\n",
       "      <td>90</td>\n",
       "      <td>['pop']</td>\n",
       "      <td>...</td>\n",
       "      <td>0.001213</td>\n",
       "      <td>0.000830</td>\n",
       "      <td>0.136892</td>\n",
       "      <td>0.807006</td>\n",
       "      <td>0.056103</td>\n",
       "      <td>0.868278</td>\n",
       "      <td>0.131722</td>\n",
       "      <td>[in, case, you, have, not, noticed, well, ever...</td>\n",
       "      <td>[case, noticed, well, everybodys, tired, heali...</td>\n",
       "      <td>[case, notice, well, everybodys, tire, heal, s...</td>\n",
       "    </tr>\n",
       "    <tr>\n",
       "      <th>32</th>\n",
       "      <td>TEXAS HOLD 'EM</td>\n",
       "      <td>0Z7nGFVCLfixWctgePsRk9</td>\n",
       "      <td>TEXAS HOLD 'EM</td>\n",
       "      <td>Beyoncé</td>\n",
       "      <td>6vWDO969PvNqNYHIOW5v0m</td>\n",
       "      <td>2024-02-11</td>\n",
       "      <td>233456</td>\n",
       "      <td>81</td>\n",
       "      <td>86</td>\n",
       "      <td>['pop', 'r&amp;b']</td>\n",
       "      <td>...</td>\n",
       "      <td>0.095105</td>\n",
       "      <td>0.005935</td>\n",
       "      <td>0.063050</td>\n",
       "      <td>0.677763</td>\n",
       "      <td>0.259187</td>\n",
       "      <td>0.991808</td>\n",
       "      <td>0.008192</td>\n",
       "      <td>[this, are, not, texts, wood, are, not, no, ho...</td>\n",
       "      <td>[texts, wood, hold, lay, cards, park, nexus, w...</td>\n",
       "      <td>[texts, wood, hold, lay, card, park, nexus, wo...</td>\n",
       "    </tr>\n",
       "    <tr>\n",
       "      <th>33</th>\n",
       "      <td>BAND4BAND (feat. Lil Baby)</td>\n",
       "      <td>7iabz12vAuVQYyekFIWJxD</td>\n",
       "      <td>BAND4BAND (feat. Lil Baby)</td>\n",
       "      <td>Central Cee</td>\n",
       "      <td>5H4yInM5zmHqpKIoMNAx4r</td>\n",
       "      <td>2024-05-23</td>\n",
       "      <td>140733</td>\n",
       "      <td>86</td>\n",
       "      <td>80</td>\n",
       "      <td>['melodic drill', 'r&amp;drill']</td>\n",
       "      <td>...</td>\n",
       "      <td>0.031337</td>\n",
       "      <td>0.003643</td>\n",
       "      <td>0.158056</td>\n",
       "      <td>0.726879</td>\n",
       "      <td>0.115065</td>\n",
       "      <td>0.995000</td>\n",
       "      <td>0.005000</td>\n",
       "      <td>[i, am, not, in, the, mood, because, my, fligh...</td>\n",
       "      <td>[mood, flight, delayed, jumped, private, jet, ...</td>\n",
       "      <td>[mood, flight, delay, jump, private, jet, ask,...</td>\n",
       "    </tr>\n",
       "    <tr>\n",
       "      <th>34</th>\n",
       "      <td>Feel It - From The Original Series “Invincible”</td>\n",
       "      <td>3SAga35lAPYdjj3qyfEsCF</td>\n",
       "      <td>Feel It (From The Original Series “Invincible”)</td>\n",
       "      <td>d4vd</td>\n",
       "      <td>5y8tKLUfMvliMe8IKamR32</td>\n",
       "      <td>2024-03-28</td>\n",
       "      <td>157974</td>\n",
       "      <td>81</td>\n",
       "      <td>77</td>\n",
       "      <td>['bedroom pop']</td>\n",
       "      <td>...</td>\n",
       "      <td>0.052882</td>\n",
       "      <td>0.003317</td>\n",
       "      <td>0.217128</td>\n",
       "      <td>0.640834</td>\n",
       "      <td>0.142039</td>\n",
       "      <td>0.968726</td>\n",
       "      <td>0.031274</td>\n",
       "      <td>[what, do, you, have, in, store, one, life, aw...</td>\n",
       "      <td>[store, one, life, away, explore, want, get, w...</td>\n",
       "      <td>[store, one, life, away, explore, want, get, w...</td>\n",
       "    </tr>\n",
       "    <tr>\n",
       "      <th>35</th>\n",
       "      <td>One Of The Girls (with JENNIE, Lily Rose Depp)</td>\n",
       "      <td>7CyPwkp0oE8Ro9Dd5CUDjW</td>\n",
       "      <td>The Idol Episode 4 (Music from the HBO Origina...</td>\n",
       "      <td>The Weeknd</td>\n",
       "      <td>1Xyo4u8uXC1ZmMpatF05PJ</td>\n",
       "      <td>2023-06-23</td>\n",
       "      <td>244684</td>\n",
       "      <td>87</td>\n",
       "      <td>92</td>\n",
       "      <td>['canadian contemporary r&amp;b', 'canadian pop', ...</td>\n",
       "      <td>...</td>\n",
       "      <td>0.018034</td>\n",
       "      <td>0.003468</td>\n",
       "      <td>0.178038</td>\n",
       "      <td>0.707149</td>\n",
       "      <td>0.114813</td>\n",
       "      <td>0.885132</td>\n",
       "      <td>0.114868</td>\n",
       "      <td>[lock, me, up, and, throw, away, the, key, he,...</td>\n",
       "      <td>[lock, throw, away, key, knows, get, best, for...</td>\n",
       "      <td>[lock, throw, away, key, know, get, best, forc...</td>\n",
       "    </tr>\n",
       "    <tr>\n",
       "      <th>36</th>\n",
       "      <td>Tell Ur Girlfriend</td>\n",
       "      <td>3lMzT16MjAKKXF7pSZn13B</td>\n",
       "      <td>Tell Ur Girlfriend</td>\n",
       "      <td>Lay Bankz</td>\n",
       "      <td>4OVbrPbhvK46A1uXTU1u5F</td>\n",
       "      <td>2024-02-07</td>\n",
       "      <td>124444</td>\n",
       "      <td>83</td>\n",
       "      <td>72</td>\n",
       "      <td>['jersey club']</td>\n",
       "      <td>...</td>\n",
       "      <td>0.193861</td>\n",
       "      <td>0.006144</td>\n",
       "      <td>0.154598</td>\n",
       "      <td>0.793314</td>\n",
       "      <td>0.052088</td>\n",
       "      <td>0.989258</td>\n",
       "      <td>0.010742</td>\n",
       "      <td>[should, tell, my, boyfriend, what, i, been, d...</td>\n",
       "      <td>[tell, boyfriend, thinking, every, time, want,...</td>\n",
       "      <td>[tell, boyfriend, think, every, time, want, ge...</td>\n",
       "    </tr>\n",
       "    <tr>\n",
       "      <th>37</th>\n",
       "      <td>Lovin On Me</td>\n",
       "      <td>4xhsWYTOGcal8zt0J161CU</td>\n",
       "      <td>Lovin On Me</td>\n",
       "      <td>Jack Harlow</td>\n",
       "      <td>2LIk90788K0zvyj2JJVwkJ</td>\n",
       "      <td>2023-11-10</td>\n",
       "      <td>138411</td>\n",
       "      <td>83</td>\n",
       "      <td>79</td>\n",
       "      <td>['deep underground hip hop', 'kentucky hip hop...</td>\n",
       "      <td>...</td>\n",
       "      <td>0.001004</td>\n",
       "      <td>0.001236</td>\n",
       "      <td>0.150591</td>\n",
       "      <td>0.733557</td>\n",
       "      <td>0.115853</td>\n",
       "      <td>0.941148</td>\n",
       "      <td>0.058852</td>\n",
       "      <td>[i, do, not, like, no, whips, and, chains, and...</td>\n",
       "      <td>[like, whips, chains, tie, whip, loving, baby,...</td>\n",
       "      <td>[like, whip, chain, tie, whip, love, baby, whi...</td>\n",
       "    </tr>\n",
       "    <tr>\n",
       "      <th>38</th>\n",
       "      <td>Santa</td>\n",
       "      <td>5bi0gh89wRuH2OgjdAKFsb</td>\n",
       "      <td>Santa</td>\n",
       "      <td>Rvssian</td>\n",
       "      <td>1fctva4kpRbg2k3v7kwRuS</td>\n",
       "      <td>2024-04-04</td>\n",
       "      <td>193038</td>\n",
       "      <td>85</td>\n",
       "      <td>75</td>\n",
       "      <td>['reggaeton', 'reggaeton flow', 'trap latino',...</td>\n",
       "      <td>...</td>\n",
       "      <td>0.222502</td>\n",
       "      <td>0.006456</td>\n",
       "      <td>0.260976</td>\n",
       "      <td>0.676515</td>\n",
       "      <td>0.062509</td>\n",
       "      <td>0.986034</td>\n",
       "      <td>0.013966</td>\n",
       "      <td>[they, rvssian, i, can, not, deny, this, desir...</td>\n",
       "      <td>[rvssian, deny, desire, stop, looking, lips, r...</td>\n",
       "      <td>[rvssian, deny, desire, stop, look, lip, rejec...</td>\n",
       "    </tr>\n",
       "    <tr>\n",
       "      <th>39</th>\n",
       "      <td>CHIHIRO</td>\n",
       "      <td>7BRD7x5pt8Lqa1eGYC4dzj</td>\n",
       "      <td>HIT ME HARD AND SOFT</td>\n",
       "      <td>Billie Eilish</td>\n",
       "      <td>6qqNVTkY8uBg9cP3Jd7DAH</td>\n",
       "      <td>2024-05-17</td>\n",
       "      <td>303440</td>\n",
       "      <td>90</td>\n",
       "      <td>94</td>\n",
       "      <td>['art pop', 'pop']</td>\n",
       "      <td>...</td>\n",
       "      <td>0.088560</td>\n",
       "      <td>0.007637</td>\n",
       "      <td>0.350795</td>\n",
       "      <td>0.600648</td>\n",
       "      <td>0.048556</td>\n",
       "      <td>0.992751</td>\n",
       "      <td>0.007249</td>\n",
       "      <td>[to, take, my, love, away, when, i, come, back...</td>\n",
       "      <td>[take, love, away, come, back, around, know, s...</td>\n",
       "      <td>[take, love, away, come, back, around, know, s...</td>\n",
       "    </tr>\n",
       "    <tr>\n",
       "      <th>40</th>\n",
       "      <td>Whatever</td>\n",
       "      <td>0LMwmV37RCmBO2so0szAFs</td>\n",
       "      <td>Whatever</td>\n",
       "      <td>Kygo</td>\n",
       "      <td>23fqKkggKUBHNkbKtXEls4</td>\n",
       "      <td>2024-01-19</td>\n",
       "      <td>178273</td>\n",
       "      <td>83</td>\n",
       "      <td>79</td>\n",
       "      <td>['edm', 'pop', 'pop dance', 'tropical house']</td>\n",
       "      <td>...</td>\n",
       "      <td>0.004015</td>\n",
       "      <td>0.002350</td>\n",
       "      <td>0.610942</td>\n",
       "      <td>0.347206</td>\n",
       "      <td>0.041852</td>\n",
       "      <td>0.994950</td>\n",
       "      <td>0.005050</td>\n",
       "      <td>[there, is, a, space, in, my, heart, when, it,...</td>\n",
       "      <td>[space, heart, comes, crashing, anytime, hear,...</td>\n",
       "      <td>[space, heart, come, crash, anytime, hear, nam...</td>\n",
       "    </tr>\n",
       "    <tr>\n",
       "      <th>41</th>\n",
       "      <td>Illusion</td>\n",
       "      <td>59xD5osEFsaNt5PXfIKUnX</td>\n",
       "      <td>Illusion</td>\n",
       "      <td>Dua Lipa</td>\n",
       "      <td>6M2wZ9GZgrQXHCFfjv46we</td>\n",
       "      <td>2024-04-11</td>\n",
       "      <td>188143</td>\n",
       "      <td>78</td>\n",
       "      <td>87</td>\n",
       "      <td>['dance pop', 'pop', 'uk pop']</td>\n",
       "      <td>...</td>\n",
       "      <td>0.292987</td>\n",
       "      <td>0.295016</td>\n",
       "      <td>0.178378</td>\n",
       "      <td>0.761315</td>\n",
       "      <td>0.060307</td>\n",
       "      <td>0.980528</td>\n",
       "      <td>0.019472</td>\n",
       "      <td>[i, been, known, to, miss, a, red, flag, i, be...</td>\n",
       "      <td>[known, miss, red, flag, known, put, lover, pe...</td>\n",
       "      <td>[know, miss, red, flag, know, put, lover, pede...</td>\n",
       "    </tr>\n",
       "    <tr>\n",
       "      <th>42</th>\n",
       "      <td>I Don't Wanna Wait</td>\n",
       "      <td>331l3xABO0HMr1Kkyh2LZq</td>\n",
       "      <td>I Don't Wanna Wait</td>\n",
       "      <td>David Guetta</td>\n",
       "      <td>1Cs0zKBU1kc0i8ypK3B9ai</td>\n",
       "      <td>2024-04-05</td>\n",
       "      <td>149667</td>\n",
       "      <td>84</td>\n",
       "      <td>87</td>\n",
       "      <td>['big room', 'dance pop', 'edm', 'pop', 'pop d...</td>\n",
       "      <td>...</td>\n",
       "      <td>0.000750</td>\n",
       "      <td>0.001233</td>\n",
       "      <td>0.186699</td>\n",
       "      <td>0.667073</td>\n",
       "      <td>0.146227</td>\n",
       "      <td>0.926766</td>\n",
       "      <td>0.073234</td>\n",
       "      <td>[let, us, make, tonight, the, weekend, i, do, ...</td>\n",
       "      <td>[let, us, make, tonight, weekend, want, waiait...</td>\n",
       "      <td>[let, u, make, tonight, weekend, want, waiait,...</td>\n",
       "    </tr>\n",
       "    <tr>\n",
       "      <th>43</th>\n",
       "      <td>Jump</td>\n",
       "      <td>0ve0CavjqrUqVmZ605RhTV</td>\n",
       "      <td>Jump</td>\n",
       "      <td>Tyla</td>\n",
       "      <td>3SozjO3Lat463tQICI9LcE</td>\n",
       "      <td>2024-03-20</td>\n",
       "      <td>147071</td>\n",
       "      <td>74</td>\n",
       "      <td>77</td>\n",
       "      <td>[]</td>\n",
       "      <td>...</td>\n",
       "      <td>0.074129</td>\n",
       "      <td>0.006129</td>\n",
       "      <td>0.160605</td>\n",
       "      <td>0.730697</td>\n",
       "      <td>0.108697</td>\n",
       "      <td>0.992549</td>\n",
       "      <td>0.007451</td>\n",
       "      <td>[original, goal, you, are, no, replica, not, s...</td>\n",
       "      <td>[original, goal, replica, smooth, dean, regula...</td>\n",
       "      <td>[original, goal, replica, smooth, dean, regula...</td>\n",
       "    </tr>\n",
       "    <tr>\n",
       "      <th>44</th>\n",
       "      <td>I Remember Everything (feat. Kacey Musgraves)</td>\n",
       "      <td>4KULAymBBJcPRpk1yO4dOG</td>\n",
       "      <td>Zach Bryan</td>\n",
       "      <td>Zach Bryan</td>\n",
       "      <td>40ZNYROS4zLfyyBSs2PGe2</td>\n",
       "      <td>2023-08-25</td>\n",
       "      <td>227195</td>\n",
       "      <td>84</td>\n",
       "      <td>88</td>\n",
       "      <td>['classic oklahoma country']</td>\n",
       "      <td>...</td>\n",
       "      <td>0.061445</td>\n",
       "      <td>0.007630</td>\n",
       "      <td>NaN</td>\n",
       "      <td>NaN</td>\n",
       "      <td>NaN</td>\n",
       "      <td>0.986801</td>\n",
       "      <td>0.013199</td>\n",
       "      <td>[each, bran, i, remember, everything, feat, pa...</td>\n",
       "      <td>[bran, remember, everything, feat, pacey, musg...</td>\n",
       "      <td>[bran, remember, everything, feat, pacey, musg...</td>\n",
       "    </tr>\n",
       "    <tr>\n",
       "      <th>45</th>\n",
       "      <td>one of wun</td>\n",
       "      <td>4Na2HfNSr58chvfX69fy36</td>\n",
       "      <td>One of Wun</td>\n",
       "      <td>Gunna</td>\n",
       "      <td>2hlmm7s2ICUX0LVIhVFlZQ</td>\n",
       "      <td>2024-05-10</td>\n",
       "      <td>144000</td>\n",
       "      <td>82</td>\n",
       "      <td>86</td>\n",
       "      <td>['atl hip hop', 'melodic rap', 'rap', 'trap']</td>\n",
       "      <td>...</td>\n",
       "      <td>0.047478</td>\n",
       "      <td>0.007180</td>\n",
       "      <td>0.224431</td>\n",
       "      <td>0.700020</td>\n",
       "      <td>0.075549</td>\n",
       "      <td>0.991757</td>\n",
       "      <td>0.008243</td>\n",
       "      <td>[that, is, a, good, one, pa, someone, they, te...</td>\n",
       "      <td>[good, one, pa, someone, tens, one, one, never...</td>\n",
       "      <td>[good, one, pa, someone, tens, one, one, never...</td>\n",
       "    </tr>\n",
       "    <tr>\n",
       "      <th>46</th>\n",
       "      <td>obsessed</td>\n",
       "      <td>6tNgRQ0K2NYZ0Rb9l9DzL8</td>\n",
       "      <td>GUTS (spilled)</td>\n",
       "      <td>Olivia Rodrigo</td>\n",
       "      <td>1McMsnEElThX1knmY4oliG</td>\n",
       "      <td>2024-03-22</td>\n",
       "      <td>170541</td>\n",
       "      <td>80</td>\n",
       "      <td>87</td>\n",
       "      <td>['pop']</td>\n",
       "      <td>...</td>\n",
       "      <td>0.002200</td>\n",
       "      <td>0.000302</td>\n",
       "      <td>0.324626</td>\n",
       "      <td>0.581667</td>\n",
       "      <td>0.093707</td>\n",
       "      <td>0.993318</td>\n",
       "      <td>0.006682</td>\n",
       "      <td>[law, dada, data, lambda, law, dada, dada, if,...</td>\n",
       "      <td>[law, dada, data, lambda, law, dada, dada, tol...</td>\n",
       "      <td>[law, dada, data, lambda, law, dada, dada, tol...</td>\n",
       "    </tr>\n",
       "    <tr>\n",
       "      <th>47</th>\n",
       "      <td>Magnetic</td>\n",
       "      <td>1aKvZDoLGkNMxoRYgkckZG</td>\n",
       "      <td>SUPER REAL ME</td>\n",
       "      <td>ILLIT</td>\n",
       "      <td>36cgvBn0aadzOijnjjwqMN</td>\n",
       "      <td>2024-03-25</td>\n",
       "      <td>160688</td>\n",
       "      <td>86</td>\n",
       "      <td>74</td>\n",
       "      <td>['5th gen k-pop']</td>\n",
       "      <td>...</td>\n",
       "      <td>0.069957</td>\n",
       "      <td>0.007273</td>\n",
       "      <td>0.092965</td>\n",
       "      <td>0.713226</td>\n",
       "      <td>0.193809</td>\n",
       "      <td>0.986112</td>\n",
       "      <td>0.013888</td>\n",
       "      <td>[baby, i, am, just, trying, to, play, it, cool...</td>\n",
       "      <td>[baby, trying, play, cool, hide, want, wait, m...</td>\n",
       "      <td>[baby, try, play, cool, hide, want, wait, minu...</td>\n",
       "    </tr>\n",
       "    <tr>\n",
       "      <th>48</th>\n",
       "      <td>redrum</td>\n",
       "      <td>52eIcoLUM25zbQupAZYoFh</td>\n",
       "      <td>american dream</td>\n",
       "      <td>21 Savage</td>\n",
       "      <td>1URnnhqYAYcrqrcwql10ft</td>\n",
       "      <td>2024-01-12</td>\n",
       "      <td>270697</td>\n",
       "      <td>84</td>\n",
       "      <td>88</td>\n",
       "      <td>['atl hip hop', 'hip hop', 'rap']</td>\n",
       "      <td>...</td>\n",
       "      <td>0.096404</td>\n",
       "      <td>0.007055</td>\n",
       "      <td>0.236659</td>\n",
       "      <td>0.726418</td>\n",
       "      <td>0.036923</td>\n",
       "      <td>0.995288</td>\n",
       "      <td>0.004712</td>\n",
       "      <td>[cain, a, note, sore, o, boss, armor, cain, e,...</td>\n",
       "      <td>[cain, note, sore, boss, armor, cain, e, agora...</td>\n",
       "      <td>[cain, note, sore, bos, armor, cain, e, agora,...</td>\n",
       "    </tr>\n",
       "  </tbody>\n",
       "</table>\n",
       "<p>49 rows × 39 columns</p>\n",
       "</div>"
      ],
      "text/plain": [
       "                                               name                track_id  \\\n",
       "0                                          Espresso  2qSkIjg1o9h3YT9RAgYN75   \n",
       "1                                BIRDS OF A FEATHER  6dOtVTDdiauQNBQEDOtlAB   \n",
       "2             I Had Some Help (Feat. Morgan Wallen)  7221xIgOnuakPdLqT0F3nP   \n",
       "3                                         Too Sweet  4IadxL6BUymXlh8RCJJu7T   \n",
       "4                               MILLION DOLLAR BABY  7fzHQizxTqy8wTXwlrgPQQ   \n",
       "5          we can't be friends (wait for your love)  46kspZSY3aKmwQe7O77fCC   \n",
       "6                                A Bar Song (Tipsy)  2FQrifJ1N335Ljm3TjTVVf   \n",
       "7                                             LUNCH  629DixmZGHc7ILtEntuiWE   \n",
       "8                     Fortnight (feat. Post Malone)  2OzhQlSqBEmt7hmkYxfT6m   \n",
       "9                                  Beautiful Things  6tNQ70jh4OwmPGpYy6R2o9   \n",
       "10                       i like the way you kiss me  2GxrNKugF82CnoRFbQfzPf   \n",
       "11                             Please Please Please  5N3hjp1WNayUPZrA8kJmJP   \n",
       "12                                 End of Beginning  3qhlB30KknSejmIvZZLjOD   \n",
       "13                                          Houdini  2HYFX63wP3otVIvopRS99Z   \n",
       "14                                     Lose Control  17phhZDn6oGtzMe56NuWvj   \n",
       "15                                      Not Like Us  6AI3ezQ4o3HUoP6Dhudph3   \n",
       "16                                 Good Luck, Babe!  0WbMK4wrZ1wFSty9F7FCgu   \n",
       "17                  I Can Do It With a Broken Heart  4q5YezDOIPcoLr8R81x9qy   \n",
       "18                                  Belong Together  5uQ7de4EWjb3rkcFxyEOpu   \n",
       "19                                           Saturn  1bjeWoagtHmUKputLVyDxQ   \n",
       "20                                     Slow It Down  51eSHglvG1RJXtL3qI5trr   \n",
       "21                                           Austin  4NJqhmkGN042BrvHoMKUrJ   \n",
       "22                                       Stargazing  3Vr3zh0r7ALn8VLqCiRR10   \n",
       "23                                       Pink Skies  4ZJ4vzLQekI0WntDbanNC7   \n",
       "24                                     Stick Season  0mflMxspEfB0VbI1kyLiAv   \n",
       "25                                           greedy  3rUGC1vUpkDG9CZFHMur1t   \n",
       "26                                  Scared To Start  3Pbp7cUCx4d3OAkZSCoNvn   \n",
       "27                                            Nasty  6NjWCIYu1W8xa3HIvcIhd4   \n",
       "28                                            Water  5aIVCx5tnk0ntmdiinnYvw   \n",
       "29                                        Gata Only  6XjDF6nds4DE2BBbagZol6   \n",
       "30                                      Miles On It  4pkb8SbRGeHAvdb87v9rpf   \n",
       "31                                        yes, and?  7gaA3wERFkFkgivjwbSvkG   \n",
       "32                                   TEXAS HOLD 'EM  0Z7nGFVCLfixWctgePsRk9   \n",
       "33                       BAND4BAND (feat. Lil Baby)  7iabz12vAuVQYyekFIWJxD   \n",
       "34  Feel It - From The Original Series “Invincible”  3SAga35lAPYdjj3qyfEsCF   \n",
       "35   One Of The Girls (with JENNIE, Lily Rose Depp)  7CyPwkp0oE8Ro9Dd5CUDjW   \n",
       "36                               Tell Ur Girlfriend  3lMzT16MjAKKXF7pSZn13B   \n",
       "37                                      Lovin On Me  4xhsWYTOGcal8zt0J161CU   \n",
       "38                                            Santa  5bi0gh89wRuH2OgjdAKFsb   \n",
       "39                                          CHIHIRO  7BRD7x5pt8Lqa1eGYC4dzj   \n",
       "40                                         Whatever  0LMwmV37RCmBO2so0szAFs   \n",
       "41                                         Illusion  59xD5osEFsaNt5PXfIKUnX   \n",
       "42                               I Don't Wanna Wait  331l3xABO0HMr1Kkyh2LZq   \n",
       "43                                             Jump  0ve0CavjqrUqVmZ605RhTV   \n",
       "44    I Remember Everything (feat. Kacey Musgraves)  4KULAymBBJcPRpk1yO4dOG   \n",
       "45                                       one of wun  4Na2HfNSr58chvfX69fy36   \n",
       "46                                         obsessed  6tNgRQ0K2NYZ0Rb9l9DzL8   \n",
       "47                                         Magnetic  1aKvZDoLGkNMxoRYgkckZG   \n",
       "48                                           redrum  52eIcoLUM25zbQupAZYoFh   \n",
       "\n",
       "                                                album             artist  \\\n",
       "0                                            Espresso  Sabrina Carpenter   \n",
       "1                                HIT ME HARD AND SOFT      Billie Eilish   \n",
       "2                                     I Had Some Help        Post Malone   \n",
       "3                                             Unheard             Hozier   \n",
       "4                                 MILLION DOLLAR BABY      Tommy Richman   \n",
       "5                                    eternal sunshine      Ariana Grande   \n",
       "6                                  A Bar Song (Tipsy)          Shaboozey   \n",
       "7                                HIT ME HARD AND SOFT      Billie Eilish   \n",
       "8                       THE TORTURED POETS DEPARTMENT       Taylor Swift   \n",
       "9                                    Beautiful Things       Benson Boone   \n",
       "10                         i like the way you kiss me            Artemas   \n",
       "11                               Please Please Please  Sabrina Carpenter   \n",
       "12                                             DECIDE                Djo   \n",
       "13                                            Houdini             Eminem   \n",
       "14         I've Tried Everything But Therapy (Part 1)        Teddy Swims   \n",
       "15                                        Not Like Us     Kendrick Lamar   \n",
       "16                                   Good Luck, Babe!      Chappell Roan   \n",
       "17                      THE TORTURED POETS DEPARTMENT       Taylor Swift   \n",
       "18                                    Belong Together         Mark Ambor   \n",
       "19                                             Saturn                SZA   \n",
       "20                           Fireworks & Rollerblades       Benson Boone   \n",
       "21                                             Austin              Dasha   \n",
       "22                                         Stargazing        Myles Smith   \n",
       "23                                         Pink Skies         Zach Bryan   \n",
       "24                                       Stick Season         Noah Kahan   \n",
       "25                                             greedy         Tate McRae   \n",
       "26                                    Scared To Start    Michael Marcagi   \n",
       "27                                              Nasty            Tinashe   \n",
       "28                                              Water               Tyla   \n",
       "29                                          Gata Only         FloyyMenor   \n",
       "30                                        Miles On It         Marshmello   \n",
       "31                                          yes, and?      Ariana Grande   \n",
       "32                                     TEXAS HOLD 'EM            Beyoncé   \n",
       "33                         BAND4BAND (feat. Lil Baby)        Central Cee   \n",
       "34    Feel It (From The Original Series “Invincible”)               d4vd   \n",
       "35  The Idol Episode 4 (Music from the HBO Origina...         The Weeknd   \n",
       "36                                 Tell Ur Girlfriend          Lay Bankz   \n",
       "37                                        Lovin On Me        Jack Harlow   \n",
       "38                                              Santa            Rvssian   \n",
       "39                               HIT ME HARD AND SOFT      Billie Eilish   \n",
       "40                                           Whatever               Kygo   \n",
       "41                                           Illusion           Dua Lipa   \n",
       "42                                 I Don't Wanna Wait       David Guetta   \n",
       "43                                               Jump               Tyla   \n",
       "44                                         Zach Bryan         Zach Bryan   \n",
       "45                                         One of Wun              Gunna   \n",
       "46                                     GUTS (spilled)     Olivia Rodrigo   \n",
       "47                                      SUPER REAL ME              ILLIT   \n",
       "48                                     american dream          21 Savage   \n",
       "\n",
       "                 artist_id release_date  length  popularity  artist_pop  \\\n",
       "0   74KM79TiuVKeVCqs8QtB0B   2024-04-12  175459          95          87   \n",
       "1   6qqNVTkY8uBg9cP3Jd7DAH   2024-05-17  210373          92          94   \n",
       "2   246dkjvS1zLTtiykXe5h60   2024-05-10  178205          91          90   \n",
       "3   2FXC3k01G6Gw61bmprjgqS   2024-03-22  251424          80          85   \n",
       "4   1WaFQSHVGZQJTbf0BdxdNo   2024-04-26  155151          92          82   \n",
       "5   66CXWjxzNUsdJxJ2JdwvnR   2024-03-08  228639          83          90   \n",
       "6   3y2cIKLjiOlp1Np37WiUdH   2024-04-12  171291          90          80   \n",
       "7   6qqNVTkY8uBg9cP3Jd7DAH   2024-05-17  179586          92          94   \n",
       "8   06HL4z0CvFAxyc27GXpf02   2024-04-18  228965          89         100   \n",
       "9   22wbnEMDvgVIAGdFeek6ET   2024-01-18  180304          88          85   \n",
       "10  0PCCGZ0wGLizHt2KZ7hhA2   2024-03-19  142514          92          81   \n",
       "11  74KM79TiuVKeVCqs8QtB0B   2024-06-06  186365          83          87   \n",
       "12  5p9HO3XC5P3BLxJs5Mtrhm   2022-09-16  159245          90          77   \n",
       "13  7dGJo4pcD2V6oG8kP0tJRR   2024-05-31  227239          88          90   \n",
       "14  33qOK5uJ8AR2xuQQAhHump   2023-09-15  210688          87          81   \n",
       "15  2YZyLoL8N0Wb9xBt1NhZWg   2024-05-04  274192          92          92   \n",
       "16  7GlBOeep6PqTfFi59PTUUN   2024-04-05  218423          87          81   \n",
       "17  06HL4z0CvFAxyc27GXpf02   2024-04-18  218004          84         100   \n",
       "18  11p2E654TTU8e0nZWBR4AL   2024-02-16  148317          87          75   \n",
       "19  7tYKF4w9nC0nq9CsPZTHyP   2024-02-22  186191          87          89   \n",
       "20  22wbnEMDvgVIAGdFeek6ET   2024-04-05  161831          85          85   \n",
       "21  7Ez6lTtSMjMf2YSYpukP1I   2023-11-17  171782          47          74   \n",
       "22  3bO19AOone0ubCsfDXDtYt   2024-05-10  172533          87          76   \n",
       "23  40ZNYROS4zLfyyBSs2PGe2   2024-05-24  194920          84          88   \n",
       "24  2RQXRUsr4IW1f3mKyKsy4B   2022-10-14  182346          86          84   \n",
       "25  45dkTj5sMRSjrmBSBeiHym   2023-09-15  131872          87          82   \n",
       "26  4j96cMcT8GRi11qbvo1cLQ   2024-01-12  159636          84          72   \n",
       "27  0NIIxcxNHmOoyBx03SfTCD   2024-04-12  176027          76          69   \n",
       "28  3SozjO3Lat463tQICI9LcE   2023-07-28  200255          83          77   \n",
       "29  7CvTknweLr9feJtRGrpDBy   2024-02-02  222000          92          80   \n",
       "30  64KEffDW9EtZ1y2vBYgq8T   2024-05-03  168355          79          82   \n",
       "31  66CXWjxzNUsdJxJ2JdwvnR   2024-01-12  214994          77          90   \n",
       "32  6vWDO969PvNqNYHIOW5v0m   2024-02-11  233456          81          86   \n",
       "33  5H4yInM5zmHqpKIoMNAx4r   2024-05-23  140733          86          80   \n",
       "34  5y8tKLUfMvliMe8IKamR32   2024-03-28  157974          81          77   \n",
       "35  1Xyo4u8uXC1ZmMpatF05PJ   2023-06-23  244684          87          92   \n",
       "36  4OVbrPbhvK46A1uXTU1u5F   2024-02-07  124444          83          72   \n",
       "37  2LIk90788K0zvyj2JJVwkJ   2023-11-10  138411          83          79   \n",
       "38  1fctva4kpRbg2k3v7kwRuS   2024-04-04  193038          85          75   \n",
       "39  6qqNVTkY8uBg9cP3Jd7DAH   2024-05-17  303440          90          94   \n",
       "40  23fqKkggKUBHNkbKtXEls4   2024-01-19  178273          83          79   \n",
       "41  6M2wZ9GZgrQXHCFfjv46we   2024-04-11  188143          78          87   \n",
       "42  1Cs0zKBU1kc0i8ypK3B9ai   2024-04-05  149667          84          87   \n",
       "43  3SozjO3Lat463tQICI9LcE   2024-03-20  147071          74          77   \n",
       "44  40ZNYROS4zLfyyBSs2PGe2   2023-08-25  227195          84          88   \n",
       "45  2hlmm7s2ICUX0LVIhVFlZQ   2024-05-10  144000          82          86   \n",
       "46  1McMsnEElThX1knmY4oliG   2024-03-22  170541          80          87   \n",
       "47  36cgvBn0aadzOijnjjwqMN   2024-03-25  160688          86          74   \n",
       "48  1URnnhqYAYcrqrcwql10ft   2024-01-12  270697          84          88   \n",
       "\n",
       "                                        artist_genres  ...      fear  \\\n",
       "0                                             ['pop']  ...  0.046130   \n",
       "1                                  ['art pop', 'pop']  ...  0.548626   \n",
       "2            ['dfw rap', 'melodic rap', 'pop', 'rap']  ...  0.000706   \n",
       "3   ['irish singer-songwriter', 'modern rock', 'po...  ...  0.002293   \n",
       "4                          ['chill abstract hip hop']  ...  0.025805   \n",
       "5                                             ['pop']  ...  0.000605   \n",
       "6                                         ['pop rap']  ...  0.009928   \n",
       "7                                  ['art pop', 'pop']  ...  0.004807   \n",
       "8                                             ['pop']  ...  0.018662   \n",
       "9                           ['singer-songwriter pop']  ...  0.996488   \n",
       "10                                                 []  ...  0.001377   \n",
       "11                                            ['pop']  ...  0.000562   \n",
       "12                  ['pov: indie', 'psychedelic pop']  ...  0.018631   \n",
       "13              ['detroit hip hop', 'hip hop', 'rap']  ...  0.059232   \n",
       "14                                                 []  ...  0.000485   \n",
       "15  ['conscious hip hop', 'hip hop', 'rap', 'west ...  ...  0.005929   \n",
       "16  ['indie pop', 'pov: indie', 'springfield mo in...  ...  0.000427   \n",
       "17                                            ['pop']  ...  0.001501   \n",
       "18                          ['singer-songwriter pop']  ...  0.005112   \n",
       "19                              ['pop', 'r&b', 'rap']  ...  0.077055   \n",
       "20                          ['singer-songwriter pop']  ...  0.669380   \n",
       "21                                                 []  ...  0.002042   \n",
       "22                          ['singer-songwriter pop']  ...  0.000203   \n",
       "23                       ['classic oklahoma country']  ...  0.000670   \n",
       "24                                     ['pov: indie']  ...  0.104740   \n",
       "25                                            ['pop']  ...  0.001383   \n",
       "26                                                 []  ...  0.993651   \n",
       "27  ['alternative r&b', 'dance pop', 'metropopolis...  ...  0.003332   \n",
       "28                                                 []  ...  0.006878   \n",
       "29                              ['reggaeton chileno']  ...  0.889733   \n",
       "30  ['brostep', 'edm', 'pop', 'progressive electro...  ...  0.022199   \n",
       "31                                            ['pop']  ...  0.001213   \n",
       "32                                     ['pop', 'r&b']  ...  0.095105   \n",
       "33                       ['melodic drill', 'r&drill']  ...  0.031337   \n",
       "34                                    ['bedroom pop']  ...  0.052882   \n",
       "35  ['canadian contemporary r&b', 'canadian pop', ...  ...  0.018034   \n",
       "36                                    ['jersey club']  ...  0.193861   \n",
       "37  ['deep underground hip hop', 'kentucky hip hop...  ...  0.001004   \n",
       "38  ['reggaeton', 'reggaeton flow', 'trap latino',...  ...  0.222502   \n",
       "39                                 ['art pop', 'pop']  ...  0.088560   \n",
       "40      ['edm', 'pop', 'pop dance', 'tropical house']  ...  0.004015   \n",
       "41                     ['dance pop', 'pop', 'uk pop']  ...  0.292987   \n",
       "42  ['big room', 'dance pop', 'edm', 'pop', 'pop d...  ...  0.000750   \n",
       "43                                                 []  ...  0.074129   \n",
       "44                       ['classic oklahoma country']  ...  0.061445   \n",
       "45      ['atl hip hop', 'melodic rap', 'rap', 'trap']  ...  0.047478   \n",
       "46                                            ['pop']  ...  0.002200   \n",
       "47                                  ['5th gen k-pop']  ...  0.069957   \n",
       "48                  ['atl hip hop', 'hip hop', 'rap']  ...  0.096404   \n",
       "\n",
       "    surprise   LABEL_0   LABEL_1   LABEL_2  NEGATIVE  POSITIVE  \\\n",
       "0   0.005205  0.058558  0.745153  0.196289  0.988320  0.011680   \n",
       "1   0.067396  0.112151  0.500842  0.387007  0.963745  0.036255   \n",
       "2   0.000557  0.210037  0.717910  0.072052  0.998456  0.001544   \n",
       "3   0.001093  0.120370  0.648945  0.230685  0.984314  0.015686   \n",
       "4   0.003822  0.336834  0.601042  0.062124  0.993108  0.006892   \n",
       "5   0.000460  0.063339  0.507926  0.428735  0.996296  0.003704   \n",
       "6   0.003751  0.057218  0.763994  0.178788  0.994249  0.005751   \n",
       "7   0.005700  0.226971  0.703515  0.069515  0.995480  0.004520   \n",
       "8   0.010463  0.575611  0.374097  0.050291  0.991912  0.008088   \n",
       "9   0.000843  0.033857  0.318134  0.648009  0.012351  0.987649   \n",
       "10  0.001145  0.034661  0.521730  0.443609  0.984495  0.015505   \n",
       "11  0.000837  0.269767  0.516786  0.213447  0.825784  0.174216   \n",
       "12  0.004027  0.159378  0.691760  0.148862  0.964887  0.035113   \n",
       "13  0.007880  0.143081  0.793169  0.063750  0.994274  0.005726   \n",
       "14  0.000120  0.557471  0.412347  0.030183  0.998184  0.001816   \n",
       "15  0.003224       NaN       NaN       NaN  0.997200  0.002800   \n",
       "16  0.000471  0.343443  0.554660  0.101897  0.981645  0.018355   \n",
       "17  0.000734  0.268903  0.570628  0.160469  0.992031  0.007969   \n",
       "18  0.002070  0.018785  0.284418  0.696797  0.206854  0.793146   \n",
       "19  0.002667  0.401661  0.494084  0.104256  0.998026  0.001974   \n",
       "20  0.007431  0.709808  0.263808  0.026384  0.983390  0.016610   \n",
       "21  0.000548  0.332335  0.619888  0.047777  0.997655  0.002345   \n",
       "22  0.000153  0.479969  0.450779  0.069251  0.994339  0.005661   \n",
       "23  0.000719  0.016503  0.276442  0.707055  0.396575  0.603425   \n",
       "24  0.003200  0.516024  0.447031  0.036945  0.998780  0.001220   \n",
       "25  0.000401  0.257882  0.650690  0.091428  0.970451  0.029549   \n",
       "26  0.000680  0.467322  0.498693  0.033985  0.993110  0.006890   \n",
       "27  0.002755  0.546907  0.416473  0.036621  0.997654  0.002346   \n",
       "28  0.002168  0.210546  0.642083  0.147372  0.992614  0.007386   \n",
       "29  0.003425  0.223531  0.686388  0.090082  0.995981  0.004019   \n",
       "30  0.003526  0.144933  0.754521  0.100546  0.997120  0.002880   \n",
       "31  0.000830  0.136892  0.807006  0.056103  0.868278  0.131722   \n",
       "32  0.005935  0.063050  0.677763  0.259187  0.991808  0.008192   \n",
       "33  0.003643  0.158056  0.726879  0.115065  0.995000  0.005000   \n",
       "34  0.003317  0.217128  0.640834  0.142039  0.968726  0.031274   \n",
       "35  0.003468  0.178038  0.707149  0.114813  0.885132  0.114868   \n",
       "36  0.006144  0.154598  0.793314  0.052088  0.989258  0.010742   \n",
       "37  0.001236  0.150591  0.733557  0.115853  0.941148  0.058852   \n",
       "38  0.006456  0.260976  0.676515  0.062509  0.986034  0.013966   \n",
       "39  0.007637  0.350795  0.600648  0.048556  0.992751  0.007249   \n",
       "40  0.002350  0.610942  0.347206  0.041852  0.994950  0.005050   \n",
       "41  0.295016  0.178378  0.761315  0.060307  0.980528  0.019472   \n",
       "42  0.001233  0.186699  0.667073  0.146227  0.926766  0.073234   \n",
       "43  0.006129  0.160605  0.730697  0.108697  0.992549  0.007451   \n",
       "44  0.007630       NaN       NaN       NaN  0.986801  0.013199   \n",
       "45  0.007180  0.224431  0.700020  0.075549  0.991757  0.008243   \n",
       "46  0.000302  0.324626  0.581667  0.093707  0.993318  0.006682   \n",
       "47  0.007273  0.092965  0.713226  0.193809  0.986112  0.013888   \n",
       "48  0.007055  0.236659  0.726418  0.036923  0.995288  0.004712   \n",
       "\n",
       "                                               lyrics  \\\n",
       "0   [now, he, is, thinking, about, me, every, nigh...   \n",
       "1   [i, want, you, to, stay, i, want, you, to, sta...   \n",
       "2   [you, got, a, got, ta, nerve, do, not, you, ba...   \n",
       "3   [it, can, not, be, said, i, am, an, early, bir...   \n",
       "4   [do, it, baby, do, what, i, should, think, do,...   \n",
       "5   [i, did, not, think, you, would, understand, m...   \n",
       "6   [my, baby, want, a, barking, she, is, been, te...   \n",
       "7   [oh, mmmm, i, could, eat, that, girl, for, lun...   \n",
       "8   [i, was, supposed, to, be, sent, away, i, shou...   \n",
       "9   [for, a, while, there, it, was, rough, but, la...   \n",
       "10  [i, like, the, way, you, kiss, me, i, like, th...   \n",
       "11  [i, know, i, have, good, judgment, i, know, i,...   \n",
       "12  [just, one, more, tear, to, cry, one, teardrop...   \n",
       "13  [hey, them, it, is, pal, uh, i, was, listening...   \n",
       "14  [something, is, got, a, hold, of, me, lately, ...   \n",
       "15  [psst, i, see, dead, people, mustard, on, the,...   \n",
       "16  [it, is, fine, it, is, cool, you, can, say, th...   \n",
       "17  [i, can, read, your, mind, she, is, having, th...   \n",
       "18  [i, know, sleep, is, friends, with, death, but...   \n",
       "19  [if, there, is, another, universe, please, mak...   \n",
       "20  [i, would, never, met, you, but, i, wanted, to...   \n",
       "21  [we, had, a, plan, move, out, of, this, town, ...   \n",
       "22  [oohooh, oohooh, oohooh, time, stood, still, j...   \n",
       "23  [the, kids, are, in, town, for, a, funeral, so...   \n",
       "24  [as, you, promised, me, that, i, was, more, th...   \n",
       "25  [wood, he, said, are, you, serious, i, have, t...   \n",
       "26  [she, is, wearing, an, old, dress, walking, it...   \n",
       "27  [because, it, feels, like, heaven, when, it, h...   \n",
       "28  [make, me, sweat, make, me, hotter, make, me, ...   \n",
       "29  [hey, mommy, i, feel, you, far, away, tell, me...   \n",
       "30  [new, truck, big, lift, old, roads, we, have, ...   \n",
       "31  [in, case, you, have, not, noticed, well, ever...   \n",
       "32  [this, are, not, texts, wood, are, not, no, ho...   \n",
       "33  [i, am, not, in, the, mood, because, my, fligh...   \n",
       "34  [what, do, you, have, in, store, one, life, aw...   \n",
       "35  [lock, me, up, and, throw, away, the, key, he,...   \n",
       "36  [should, tell, my, boyfriend, what, i, been, d...   \n",
       "37  [i, do, not, like, no, whips, and, chains, and...   \n",
       "38  [they, rvssian, i, can, not, deny, this, desir...   \n",
       "39  [to, take, my, love, away, when, i, come, back...   \n",
       "40  [there, is, a, space, in, my, heart, when, it,...   \n",
       "41  [i, been, known, to, miss, a, red, flag, i, be...   \n",
       "42  [let, us, make, tonight, the, weekend, i, do, ...   \n",
       "43  [original, goal, you, are, no, replica, not, s...   \n",
       "44  [each, bran, i, remember, everything, feat, pa...   \n",
       "45  [that, is, a, good, one, pa, someone, they, te...   \n",
       "46  [law, dada, data, lambda, law, dada, dada, if,...   \n",
       "47  [baby, i, am, just, trying, to, play, it, cool...   \n",
       "48  [cain, a, note, sore, o, boss, armor, cain, e,...   \n",
       "\n",
       "                                    stopwords_removed  \\\n",
       "0   [thinking, every, night, sweet, guess, say, sl...   \n",
       "1   [want, stay, want, stay, til, grave, til, rot,...   \n",
       "2   [got, got, ta, nerve, baby, hit, curb, made, t...   \n",
       "3   [said, early, bird, clock, say, word, baby, ne...   \n",
       "4   [baby, think, baby, could, think, baby, think,...   \n",
       "5   [think, would, understand, could, ever, even, ...   \n",
       "6   [baby, want, barking, telling, night, long, ga...   \n",
       "7   [mmmm, could, eat, girl, lunch, dances, tongue...   \n",
       "8   [supposed, sent, away, taken, away, forgot, co...   \n",
       "9   [rough, lately, better, last, four, cold, reme...   \n",
       "10  [like, way, kiss, like, way, uh, like, way, ki...   \n",
       "11  [know, good, judgment, know, good, taste, funn...   \n",
       "12  [one, tear, cry, one, teardrop, eye, better, s...   \n",
       "13  [hey, pal, uh, listening, album, good, lucky, ...   \n",
       "14  [something, got, hold, lately, know, anymore, ...   \n",
       "15  [psst, see, dead, people, mustard, beat, musta...   \n",
       "16  [fine, cool, say, nothing, know, truth, guess,...   \n",
       "17  [read, mind, time, life, glittering, prime, li...   \n",
       "18  [know, sleep, friends, death, maybe, get, rest...   \n",
       "19  [another, universe, please, make, noise, noise...   \n",
       "20  [would, never, met, wanted, invite, party, wal...   \n",
       "21  [plan, move, town, baby, west, sand, talked, l...   \n",
       "22  [oohooh, oohooh, oohooh, time, stood, still, l...   \n",
       "23  [kids, town, funeral, pack, car, dry, eyes, kn...   \n",
       "24  [promised, miles, combined, must, change, hear...   \n",
       "25  [wood, said, serious, tried, figure, next, nig...   \n",
       "26  [wearing, old, dress, walking, waiting, someon...   \n",
       "27  [feels, like, heaven, hurts, bad, baby, put, l...   \n",
       "28  [make, sweat, make, hotter, make, lose, breath...   \n",
       "29  [hey, mommy, feel, far, away, tell, want, goin...   \n",
       "30  [new, truck, big, lift, old, roads, tearing, s...   \n",
       "31  [case, noticed, well, everybodys, tired, heali...   \n",
       "32  [texts, wood, hold, lay, cards, park, nexus, w...   \n",
       "33  [mood, flight, delayed, jumped, private, jet, ...   \n",
       "34  [store, one, life, away, explore, want, get, w...   \n",
       "35  [lock, throw, away, key, knows, get, best, for...   \n",
       "36  [tell, boyfriend, thinking, every, time, want,...   \n",
       "37  [like, whips, chains, tie, whip, loving, baby,...   \n",
       "38  [rvssian, deny, desire, stop, looking, lips, r...   \n",
       "39  [take, love, away, come, back, around, know, s...   \n",
       "40  [space, heart, comes, crashing, anytime, hear,...   \n",
       "41  [known, miss, red, flag, known, put, lover, pe...   \n",
       "42  [let, us, make, tonight, weekend, want, waiait...   \n",
       "43  [original, goal, replica, smooth, dean, regula...   \n",
       "44  [bran, remember, everything, feat, pacey, musg...   \n",
       "45  [good, one, pa, someone, tens, one, one, never...   \n",
       "46  [law, dada, data, lambda, law, dada, dada, tol...   \n",
       "47  [baby, trying, play, cool, hide, want, wait, m...   \n",
       "48  [cain, note, sore, boss, armor, cain, e, agora...   \n",
       "\n",
       "                                           lemmatized  \n",
       "0   [think, every, night, sweet, guess, say, sleep...  \n",
       "1   [want, stay, want, stay, til, grave, til, rot,...  \n",
       "2   [get, get, ta, nerve, baby, hit, curb, make, t...  \n",
       "3   [say, early, bird, clock, say, word, baby, nev...  \n",
       "4   [baby, think, baby, could, think, baby, think,...  \n",
       "5   [think, would, understand, could, ever, even, ...  \n",
       "6   [baby, want, bark, tell, night, long, gasoline...  \n",
       "7   [mmmm, could, eat, girl, lunch, dance, tongue,...  \n",
       "8   [suppose, send, away, take, away, forgot, come...  \n",
       "9   [rough, lately, well, last, four, cold, rememb...  \n",
       "10  [like, way, kiss, like, way, uh, like, way, ki...  \n",
       "11  [know, good, judgment, know, good, taste, funn...  \n",
       "12  [one, tear, cry, one, teardrop, eye, well, sav...  \n",
       "13  [hey, pal, uh, listen, album, good, lucky, gue...  \n",
       "14  [something, get, hold, lately, know, anymore, ...  \n",
       "15  [psst, see, dead, people, mustard, beat, musta...  \n",
       "16  [fine, cool, say, nothing, know, truth, guess,...  \n",
       "17  [read, mind, time, life, glitter, prime, light...  \n",
       "18  [know, sleep, friend, death, maybe, get, rest,...  \n",
       "19  [another, universe, please, make, noise, noise...  \n",
       "20  [would, never, meet, want, invite, party, walk...  \n",
       "21  [plan, move, town, baby, west, sand, talk, lat...  \n",
       "22  [oohooh, oohooh, oohooh, time, stand, still, l...  \n",
       "23  [kid, town, funeral, pack, car, dry, eye, know...  \n",
       "24  [promise, mile, combine, must, change, heart, ...  \n",
       "25  [wood, say, serious, tried, figure, next, nigh...  \n",
       "26  [wear, old, dress, walk, wait, someone, turn, ...  \n",
       "27  [feel, like, heaven, hurt, bad, baby, put, lik...  \n",
       "28  [make, sweat, make, hotter, make, lose, breath...  \n",
       "29  [hey, mommy, feel, far, away, tell, want, go, ...  \n",
       "30  [new, truck, big, lift, old, road, tear, since...  \n",
       "31  [case, notice, well, everybodys, tire, heal, s...  \n",
       "32  [texts, wood, hold, lay, card, park, nexus, wo...  \n",
       "33  [mood, flight, delay, jump, private, jet, ask,...  \n",
       "34  [store, one, life, away, explore, want, get, w...  \n",
       "35  [lock, throw, away, key, know, get, best, forc...  \n",
       "36  [tell, boyfriend, think, every, time, want, ge...  \n",
       "37  [like, whip, chain, tie, whip, love, baby, whi...  \n",
       "38  [rvssian, deny, desire, stop, look, lip, rejec...  \n",
       "39  [take, love, away, come, back, around, know, s...  \n",
       "40  [space, heart, come, crash, anytime, hear, nam...  \n",
       "41  [know, miss, red, flag, know, put, lover, pede...  \n",
       "42  [let, u, make, tonight, weekend, want, waiait,...  \n",
       "43  [original, goal, replica, smooth, dean, regula...  \n",
       "44  [bran, remember, everything, feat, pacey, musg...  \n",
       "45  [good, one, pa, someone, tens, one, one, never...  \n",
       "46  [law, dada, data, lambda, law, dada, dada, tol...  \n",
       "47  [baby, try, play, cool, hide, want, wait, minu...  \n",
       "48  [cain, note, sore, bos, armor, cain, e, agora,...  \n",
       "\n",
       "[49 rows x 39 columns]"
      ]
     },
     "execution_count": 16,
     "metadata": {},
     "output_type": "execute_result"
    }
   ],
   "source": [
    "df_tracks"
   ]
  },
  {
   "cell_type": "markdown",
   "metadata": {},
   "source": [
    "-----------------------------------"
   ]
  }
 ],
 "metadata": {
  "kernelspec": {
   "display_name": "cse160",
   "language": "python",
   "name": "python3"
  },
  "language_info": {
   "codemirror_mode": {
    "name": "ipython",
    "version": 3
   },
   "file_extension": ".py",
   "mimetype": "text/x-python",
   "name": "python",
   "nbconvert_exporter": "python",
   "pygments_lexer": "ipython3",
   "version": "3.11.0"
  }
 },
 "nbformat": 4,
 "nbformat_minor": 2
}
