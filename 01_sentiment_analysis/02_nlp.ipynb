{
 "cells": [
  {
   "cell_type": "markdown",
   "metadata": {},
   "source": [
    "## Natural Language Processing\n",
    "\n",
    "Using the data gathered from the Spotify API, we now want to extract and process the lyrics for each song. This is accomplished through scraping textual information, namely lyrical data, from the **Genius Lyrics** website. Following extraction, the lyrics are thoroughly processed and cleaned before undergoing sentiment analysis. \n",
    "\n",
    "\n",
    "\n",
    "<!--### Scraping the Genius Lyrics Website\n",
    "scraping textual information\n",
    "Scraping the Genius Lyrics Website-->\n"
   ]
  },
  {
   "cell_type": "code",
   "execution_count": 1,
   "metadata": {
    "tags": [
     "hide-code",
     "hide-warning",
     "hide-message",
     "hide-output"
    ]
   },
   "outputs": [
    {
     "name": "stderr",
     "output_type": "stream",
     "text": [
      "C:\\Python311\\Lib\\site-packages\\tqdm\\auto.py:21: TqdmWarning:\n",
      "\n",
      "IProgress not found. Please update jupyter and ipywidgets. See https://ipywidgets.readthedocs.io/en/stable/user_install.html\n",
      "\n"
     ]
    }
   ],
   "source": [
    "import pandas as pd\n",
    "import re\n",
    "import contractions\n",
    "import string\n",
    "from better_profanity import profanity\n",
    "from nltk.tokenize import word_tokenize\n",
    "from deep_translator import GoogleTranslator\n",
    "from langdetect import detect\n",
    "from nltk.corpus import stopwords\n",
    "from nltk.stem import WordNetLemmatizer\n",
    "from nltk.tag import pos_tag\n",
    "from nltk.corpus import wordnet\n",
    "import lyricsgenius\n",
    "from transformers import pipeline\n",
    "from spellchecker import SpellChecker\n",
    "from tkinter import *\n",
    "\n",
    "\n",
    "all_tracks = pd.read_csv(\"../assets/data/all_tracks.csv\")"
   ]
  },
  {
   "cell_type": "markdown",
   "metadata": {},
   "source": [
    "\n",
    "\n",
    "### Scraping the Web\n",
    "\n",
    "To get started, the script below imports `lyricsgenius`, a fundamental package libary allowing for web scraping of the Genius Lyrics website to retrieve the lyrics of any given song. Through the initialization of the `genius` variable, one can access the Genius API and retrieve the lyrics of any given song, such as \"Too Many Nights\" by Metro Boomin.\n"
   ]
  },
  {
   "cell_type": "code",
   "execution_count": 2,
   "metadata": {},
   "outputs": [
    {
     "name": "stdout",
     "output_type": "stream",
     "text": [
      "Searching for \"Too Many Nights\" by Metro Boomin...\n"
     ]
    },
    {
     "name": "stdout",
     "output_type": "stream",
     "text": [
      "Done.\n"
     ]
    }
   ],
   "source": [
    "import lyricsgenius\n",
    "\n",
    "genius = lyricsgenius.Genius(\"epFCxujgBe-Y6WrkZedI8kerKxiCpR6Rh0DAHYNlKDf9B4H1nXTdZIkj7krNUHVV\")\n",
    "song = genius.search_song(\"Too Many Nights\", \"Metro Boomin\")"
   ]
  },
  {
   "cell_type": "markdown",
   "metadata": {},
   "source": [
    "First, we define a function that retrieves the lyrics for any song and artist from the Genius database. As shown below, it first searches for the track using the provided name and artist and then extracts the lyrics from the search results."
   ]
  },
  {
   "cell_type": "code",
   "execution_count": 3,
   "metadata": {},
   "outputs": [],
   "source": [
    "def get_song_lyrics(song_name, song_artist):\n",
    "    song_genius = genius.search_song(song_name, song_artist)\n",
    "    song_lyrics = song_genius.lyrics.partition(\"Lyrics\")[2]\n",
    "    # Remove any numbers followed by 'Embed'\n",
    "    song_lyrics = re.sub(r\"[\\[].*?[\\]]|\\d+Embed\", \"\", song_lyrics)\n",
    "    # Remove text between square brackets\n",
    "    song_lyrics = re.sub(r\"(\\-[A-Za-z]+\\-)\", \"\", song_lyrics)\n",
    "    song_lyrics = re.sub(r'\\d+', '', song_lyrics)\n",
    "\n",
    "    return song_lyrics"
   ]
  },
  {
   "cell_type": "markdown",
   "metadata": {},
   "source": [
    "### Pre-Processing Text Data\n",
    "\n",
    "Using the genius package, we define a function to fetch the lyrics of a song given the track name and artist. Once retrieved, the next step is to pre-process the textual data. This involves a cleansing process to eliminate profanity and patterns that may hinder the overall readability. The Python script contains the following steps:\n",
    "\n",
    "1. Language Detection\n",
    "2. Expanding Contractions\n",
    "3. Converting Text to Lowercase\n",
    "4. Spell Checking + Censoring\n",
    "5. Removing Punctuations\n",
    "6. Tokenization"
   ]
  },
  {
   "cell_type": "markdown",
   "metadata": {},
   "source": [
    "The function `detect_and_translate` below is designed to identify and translate text into a specified language, specifically English. It first checks the language of the original text and compares it to the target language. If the detected language differs from the target language, the function utilizes GoogleTranslator to translate the input text into the target language (English).\n"
   ]
  },
  {
   "cell_type": "code",
   "execution_count": 4,
   "metadata": {},
   "outputs": [],
   "source": [
    "# Function to detect and translate text\n",
    "def detect_and_translate(track_lyrics, target_lang='en'):\n",
    "    if detect(track_lyrics) == target_lang:\n",
    "        return track_lyrics\n",
    "    translator = GoogleTranslator(source='auto', target=target_lang)\n",
    "    return translator.translate(track_lyrics)"
   ]
  },
  {
   "cell_type": "markdown",
   "metadata": {},
   "source": [
    "We also develop various functions to support the preprocessing of textual data, streamlining the process and improving the accuracy of the final output. Among these functions are a method for removing punctuation from a given string of lyrics and a spell-checker that automatically finds and corrects any spelling errors.\n"
   ]
  },
  {
   "cell_type": "code",
   "execution_count": 5,
   "metadata": {},
   "outputs": [],
   "source": [
    "def remove_punctuation(text):\n",
    "    no_punct = \"\"\n",
    "    for char in text:\n",
    "        if char not in string.punctuation:\n",
    "            no_punct = no_punct + char\n",
    "    return no_punct  # return unpunctuated string"
   ]
  },
  {
   "cell_type": "code",
   "execution_count": 6,
   "metadata": {},
   "outputs": [],
   "source": [
    "# Spell Check + Censor\n",
    "spell = SpellChecker()\n",
    "\n",
    "def spell_check(word_list_str):\n",
    "    word_corrected_list = []\n",
    "    for word in word_list_str.split():\n",
    "        word_corrected = spell.correction(word)\n",
    "        if word_corrected is not None:\n",
    "            word_corrected_list.append(word_corrected)\n",
    "        else:\n",
    "            word_corrected_list.append(word)\n",
    "    return word_corrected_list"
   ]
  },
  {
   "cell_type": "markdown",
   "metadata": {},
   "source": [
    "The `clean_song_lyrics` function is designed to simplify the processing of lyrics for a specific song and artist. The function extracts the lyrics from the Genius database and performs a series of modifications, including expanding contractions, removing repetitive phrases, and converting the text to lowercase. It also ensures that the spelling is correct and eliminates any profanity. The end result is a cleaned set of lyrics, tokenized and encoded as a list of words."
   ]
  },
  {
   "cell_type": "code",
   "execution_count": 7,
   "metadata": {},
   "outputs": [],
   "source": [
    "def clean_song_lyrics(song_name, artist_name):\n",
    "    genius_lyrics = get_song_lyrics(song_name, artist_name) # <1>\n",
    "    lyrics_en = detect_and_translate(genius_lyrics, \"en\")  # <2> \n",
    "    \n",
    "    no_contract = [contractions.fix(word) for word in lyrics_en.split()] # <3>\n",
    "    no_contract_str = \" \".join(no_contract).lower()  # lowercase # <4>\n",
    "    no_contract_str = re.sub(r\"nana|lala\", \"\", no_contract_str) # <4>\n",
    "\n",
    "    corrected = spell_check(no_contract_str) # <5> # Spell Check + Censor\n",
    "    censored = profanity.censor(\" \".join(corrected), censor_char=\"\") # <5>\n",
    "    no_punct = remove_punctuation(censored) # <6> # Remove Punctuation\n",
    "    \n",
    "    tokenized = word_tokenize(no_punct)  # Tokenize # <7>\n",
    "    strencode = [i.encode(\"ascii\", \"ignore\") for i in tokenized]  # Encode() method # <8>\n",
    "    return [i.decode() for i in strencode]  # Decode() method # <8>"
   ]
  },
  {
   "cell_type": "markdown",
   "metadata": {},
   "source": [
    "#### Removing Stop Words\n",
    "\n",
    "We employ the Natural Language Toolkit (*NLTK*) library and its `WordNetLemmatizer` tool to filter out stopwords. By removing frequently used words like \"the,\" \"and,\" or \"of,\" the resulting text becomes more concise, enabling a more thorough examination of the lyrics and their underlying message.\n"
   ]
  },
  {
   "cell_type": "code",
   "execution_count": 8,
   "metadata": {},
   "outputs": [],
   "source": [
    "def remove_stopwords_lyrics(clean_lyrics_decode):\n",
    "    stopword = stopwords.words(\"english\")\n",
    "    stopword.extend([\"yeah\", \"nanana\", \"nana\", \"oh\", \"la\"])\n",
    "    return [word for word in clean_lyrics_decode if word not in stopword]"
   ]
  },
  {
   "cell_type": "markdown",
   "metadata": {},
   "source": [
    "#### Lemmatization\n",
    "\n",
    "\n",
    "\n",
    "Next, we define a function to perform lemmatization on a set of words using the `WordNetLemmatizer` class from the NLTK library. Lemmatization helps to standardize words and reduce their complexity by reducing words to their root or base form. Our function specifically targets verbs and transforms different variations of the same verb into its most basic form.\n",
    "\n",
    "\n"
   ]
  },
  {
   "cell_type": "code",
   "execution_count": 9,
   "metadata": {},
   "outputs": [],
   "source": [
    "from nltk.corpus import stopwords, wordnet\n",
    "\n",
    "def get_wordnet_pos(tag):\n",
    "    if tag.startswith(\"J\"):\n",
    "        return wordnet.ADJ\n",
    "    elif tag.startswith(\"V\"):\n",
    "        return wordnet.VERB\n",
    "    elif tag.startswith(\"N\"):\n",
    "        return wordnet.NOUN\n",
    "    elif tag.startswith(\"R\"):\n",
    "        return wordnet.ADV\n",
    "    else:\n",
    "        return wordnet.NOUN"
   ]
  },
  {
   "cell_type": "code",
   "execution_count": 10,
   "metadata": {},
   "outputs": [],
   "source": [
    "from nltk.tag import pos_tag\n",
    "from nltk import pos_tag\n",
    "\n",
    "def word_lemmatize(lyrics_cleaned):  # clean_lyrics_decode):\n",
    "    pos_tags = pos_tag(lyrics_cleaned)\n",
    "    wordnet_pos = [(word, get_wordnet_pos(pos_tag)) for (word, pos_tag) in pos_tags]\n",
    "\n",
    "    wnl = WordNetLemmatizer()  # Lemmatize Lyrics\n",
    "    return [wnl.lemmatize(word, tag) for word, tag in wordnet_pos]"
   ]
  },
  {
   "cell_type": "markdown",
   "metadata": {},
   "source": [
    "In summary, the code above defines a function that makes use of the WordNetLemmatizer class from the NLTK library to conduct lemmatization specifically targeting verbs, thereby converting words to their most basic form.\n"
   ]
  },
  {
   "cell_type": "markdown",
   "metadata": {},
   "source": [
    "--------------\n",
    "\n",
    "\n",
    "## Sentiment Analysis\n",
    "\n",
    "\n",
    "Subsequently, the process involves the implementation of pipeline classes to carry out predictions using models accessible in the Hub. The code imports and employs multiple transformer models specifically designed for text classification and sentiment analysis. Specifically, the following procedure creates three distinct pipelines, each equipped with different models that facilitate the assessment of emotions and sentiment in textual content.\n"
   ]
  },
  {
   "cell_type": "code",
   "execution_count": 11,
   "metadata": {
    "tags": [
     "hide-code"
    ]
   },
   "outputs": [],
   "source": [
    "import warnings\n",
    "warnings.filterwarnings('ignore')\n",
    "# python -m pip install \"tensorflow<2.11\"\n",
    "# python -m pip install \"protobuf<3.2\"\n"
   ]
  },
  {
   "cell_type": "code",
   "execution_count": 12,
   "metadata": {},
   "outputs": [
    {
     "name": "stderr",
     "output_type": "stream",
     "text": [
      "No model was supplied, defaulted to distilbert-base-uncased-finetuned-sst-2-english and revision af0f99b (https://huggingface.co/distilbert-base-uncased-finetuned-sst-2-english).\n",
      "Using a pipeline without specifying a model name and revision in production is not recommended.\n"
     ]
    }
   ],
   "source": [
    "import transformers\n",
    "from transformers import pipeline\n",
    "\n",
    "# Initialize Genius API and sentiment classifiers\n",
    "classifiers = [\n",
    "    pipeline(\"text-classification\", model='bhadresh-savani/distilbert-base-uncased-emotion', return_all_scores=True),\n",
    "    pipeline(\"text-classification\", model='cardiffnlp/twitter-roberta-base-sentiment', return_all_scores=True),\n",
    "    pipeline(\"sentiment-analysis\", return_all_scores=True)\n",
    "]"
   ]
  },
  {
   "cell_type": "markdown",
   "metadata": {},
   "source": [
    "The `get_lyric_sentiment` function takes in pre-processed lyrics as input and produces a dictionary of sentiment scores. It leverages three distinct classifiers to calculate the scores and aggregates them into a final result. For instance, one of these classifiers is the *distilbert-base-uncased-emotion* model, specifically trained to detect \"emotions in texts such as sadness, joy, love, anger, fear, and surprise\".\n"
   ]
  },
  {
   "cell_type": "code",
   "execution_count": 13,
   "metadata": {},
   "outputs": [],
   "source": [
    "# Function to perform sentiment analysis\n",
    "def get_lyric_sentiment(lyrics, classifiers):\n",
    "    text = ' '.join(lyrics)\n",
    "    scores = {}\n",
    "    for classifier in classifiers:\n",
    "        try:\n",
    "            predictions = classifier(text, truncation=True)\n",
    "            for prediction in predictions[0]:\n",
    "                scores[prediction['label']] = prediction['score']\n",
    "        except Exception as e:\n",
    "            print(f\"Error during sentiment analysis: {e}\")\n",
    "    return scores"
   ]
  },
  {
   "cell_type": "markdown",
   "metadata": {},
   "source": [
    "If the lyric sequence contains more than 512 tokens, it will trigger an error message indicating an exception encountered in the 'embeddings' layer. However, we have implemented measures to properly manage lyric sequences that exceed 512 words in the function mentioned above."
   ]
  },
  {
   "cell_type": "markdown",
   "metadata": {},
   "source": [
    "---------------------\n",
    "\n",
    "\n",
    "## Putting it All Together\n",
    "\n",
    "\n",
    "To summarize, the code efficiently collects data and performs text analysis on every song in a playlist. Specifically, it systematically processes a list of tracks and corresponding artists while simultaneously conducting a thorough cleaning procedure on the lyrics. The cleaning process involves removing all nonessential characters, resulting in a more precise depiction of the song's content. The outcome is a comprehensive frequency analysis of each word in a song's lyrics, providing deeper insights into the overall conveyed message.\n",
    "\n",
    "Additionally, the program computes a sentiment score for each song based on the lyrics, indicating whether the lyrics are positive, negative, or neutral. It also collects information about the song and artist, such as the release date, length, popularity, and genre. Finally, the program compiles all this information into a dataframe for further analysis.\n",
    "\n",
    "\n",
    "\n",
    "\n"
   ]
  },
  {
   "cell_type": "code",
   "execution_count": 14,
   "metadata": {},
   "outputs": [
    {
     "name": "stdout",
     "output_type": "stream",
     "text": [
      "Searching for \"Please Please Please\" by Sabrina Carpenter...\n"
     ]
    },
    {
     "name": "stdout",
     "output_type": "stream",
     "text": [
      "Done.\n"
     ]
    },
    {
     "name": "stderr",
     "output_type": "stream",
     "text": [
      "Asking to truncate to max_length but no maximum length is provided and the model has no predefined maximum length. Default to no truncation.\n"
     ]
    },
    {
     "name": "stdout",
     "output_type": "stream",
     "text": [
      "Searching for \"Si Antes Te Hubiera Conocido\" by KAROL G...\n"
     ]
    },
    {
     "name": "stdout",
     "output_type": "stream",
     "text": [
      "Done.\n"
     ]
    },
    {
     "name": "stdout",
     "output_type": "stream",
     "text": [
      "Searching for \"BIRDS OF A FEATHER\" by Billie Eilish...\n"
     ]
    },
    {
     "name": "stdout",
     "output_type": "stream",
     "text": [
      "Done.\n"
     ]
    },
    {
     "name": "stdout",
     "output_type": "stream",
     "text": [
      "Searching for \"Good Luck, Babe!\" by Chappell Roan...\n"
     ]
    },
    {
     "name": "stdout",
     "output_type": "stream",
     "text": [
      "Done.\n"
     ]
    },
    {
     "name": "stdout",
     "output_type": "stream",
     "text": [
      "Searching for \"A Bar Song (Tipsy)\" by Shaboozey...\n"
     ]
    },
    {
     "name": "stdout",
     "output_type": "stream",
     "text": [
      "Done.\n"
     ]
    },
    {
     "name": "stdout",
     "output_type": "stream",
     "text": [
      "Searching for \"Not Like Us\" by Kendrick Lamar...\n"
     ]
    },
    {
     "name": "stdout",
     "output_type": "stream",
     "text": [
      "Done.\n"
     ]
    },
    {
     "name": "stdout",
     "output_type": "stream",
     "text": [
      "Error during sentiment analysis: The expanded size of the tensor (519) must match the existing size (514) at non-singleton dimension 1.  Target sizes: [1, 519].  Tensor sizes: [1, 514]\n",
      "Searching for \"MILLION DOLLAR BABY\" by Tommy Richman...\n"
     ]
    },
    {
     "name": "stdout",
     "output_type": "stream",
     "text": [
      "Done.\n"
     ]
    },
    {
     "name": "stdout",
     "output_type": "stream",
     "text": [
      "Searching for \"Too Sweet\" by Hozier...\n"
     ]
    },
    {
     "name": "stdout",
     "output_type": "stream",
     "text": [
      "Done.\n"
     ]
    },
    {
     "name": "stdout",
     "output_type": "stream",
     "text": [
      "Searching for \"Beautiful Things\" by Benson Boone...\n"
     ]
    },
    {
     "name": "stdout",
     "output_type": "stream",
     "text": [
      "Done.\n"
     ]
    },
    {
     "name": "stdout",
     "output_type": "stream",
     "text": [
      "Searching for \"I Had Some Help (Feat. Morgan Wallen)\" by Post Malone...\n"
     ]
    },
    {
     "name": "stdout",
     "output_type": "stream",
     "text": [
      "Done.\n"
     ]
    },
    {
     "name": "stdout",
     "output_type": "stream",
     "text": [
      "Searching for \"Espresso\" by Sabrina Carpenter...\n"
     ]
    },
    {
     "name": "stdout",
     "output_type": "stream",
     "text": [
      "Done.\n"
     ]
    },
    {
     "name": "stdout",
     "output_type": "stream",
     "text": [
      "Searching for \"i like the way you kiss me\" by Artemas...\n"
     ]
    },
    {
     "name": "stdout",
     "output_type": "stream",
     "text": [
      "Done.\n"
     ]
    },
    {
     "name": "stdout",
     "output_type": "stream",
     "text": [
      "Searching for \"Stargazing\" by Myles Smith...\n"
     ]
    },
    {
     "name": "stdout",
     "output_type": "stream",
     "text": [
      "Done.\n"
     ]
    },
    {
     "name": "stdout",
     "output_type": "stream",
     "text": [
      "Searching for \"LUNCH\" by Billie Eilish...\n"
     ]
    },
    {
     "name": "stdout",
     "output_type": "stream",
     "text": [
      "Done.\n"
     ]
    },
    {
     "name": "stdout",
     "output_type": "stream",
     "text": [
      "Searching for \"End of Beginning\" by Djo...\n"
     ]
    },
    {
     "name": "stdout",
     "output_type": "stream",
     "text": [
      "Done.\n"
     ]
    },
    {
     "name": "stdout",
     "output_type": "stream",
     "text": [
      "Searching for \"we can't be friends (wait for your love)\" by Ariana Grande...\n"
     ]
    },
    {
     "name": "stdout",
     "output_type": "stream",
     "text": [
      "Done.\n"
     ]
    },
    {
     "name": "stdout",
     "output_type": "stream",
     "text": [
      "Searching for \"Lose Control\" by Teddy Swims...\n"
     ]
    },
    {
     "name": "stdout",
     "output_type": "stream",
     "text": [
      "Done.\n"
     ]
    },
    {
     "name": "stdout",
     "output_type": "stream",
     "text": [
      "Searching for \"Tough\" by Quavo...\n"
     ]
    },
    {
     "name": "stdout",
     "output_type": "stream",
     "text": [
      "Done.\n"
     ]
    },
    {
     "name": "stdout",
     "output_type": "stream",
     "text": [
      "Searching for \"Austin\" by Dasha...\n"
     ]
    },
    {
     "name": "stdout",
     "output_type": "stream",
     "text": [
      "Done.\n"
     ]
    },
    {
     "name": "stdout",
     "output_type": "stream",
     "text": [
      "Searching for \"I Can Do It With a Broken Heart\" by Taylor Swift...\n"
     ]
    },
    {
     "name": "stdout",
     "output_type": "stream",
     "text": [
      "Done.\n"
     ]
    },
    {
     "name": "stdout",
     "output_type": "stream",
     "text": [
      "Searching for \"Houdini\" by Eminem...\n"
     ]
    },
    {
     "name": "stdout",
     "output_type": "stream",
     "text": [
      "Done.\n"
     ]
    },
    {
     "name": "stdout",
     "output_type": "stream",
     "text": [
      "Searching for \"Nasty\" by Tinashe...\n"
     ]
    },
    {
     "name": "stdout",
     "output_type": "stream",
     "text": [
      "Done.\n"
     ]
    },
    {
     "name": "stdout",
     "output_type": "stream",
     "text": [
      "Searching for \"Belong Together\" by Mark Ambor...\n"
     ]
    },
    {
     "name": "stdout",
     "output_type": "stream",
     "text": [
      "Done.\n"
     ]
    },
    {
     "name": "stdout",
     "output_type": "stream",
     "text": [
      "Searching for \"Slow It Down\" by Benson Boone...\n"
     ]
    },
    {
     "name": "stdout",
     "output_type": "stream",
     "text": [
      "Done.\n"
     ]
    },
    {
     "name": "stdout",
     "output_type": "stream",
     "text": [
      "Searching for \"HOT TO GO!\" by Chappell Roan...\n"
     ]
    },
    {
     "name": "stdout",
     "output_type": "stream",
     "text": [
      "Done.\n"
     ]
    },
    {
     "name": "stdout",
     "output_type": "stream",
     "text": [
      "Searching for \"GIRLS\" by The Kid LAROI...\n"
     ]
    },
    {
     "name": "stdout",
     "output_type": "stream",
     "text": [
      "Done.\n"
     ]
    },
    {
     "name": "stdout",
     "output_type": "stream",
     "text": [
      "Searching for \"greedy\" by Tate McRae...\n"
     ]
    },
    {
     "name": "stdout",
     "output_type": "stream",
     "text": [
      "Done.\n"
     ]
    },
    {
     "name": "stdout",
     "output_type": "stream",
     "text": [
      "Searching for \"Move\" by Adam Port...\n"
     ]
    },
    {
     "name": "stdout",
     "output_type": "stream",
     "text": [
      "Done.\n"
     ]
    },
    {
     "name": "stdout",
     "output_type": "stream",
     "text": [
      "Searching for \"Fortnight (feat. Post Malone)\" by Taylor Swift...\n"
     ]
    },
    {
     "name": "stdout",
     "output_type": "stream",
     "text": [
      "Done.\n"
     ]
    },
    {
     "name": "stdout",
     "output_type": "stream",
     "text": [
      "Searching for \"Saturn\" by SZA...\n"
     ]
    },
    {
     "name": "stdout",
     "output_type": "stream",
     "text": [
      "Done.\n"
     ]
    },
    {
     "name": "stdout",
     "output_type": "stream",
     "text": [
      "Searching for \"28\" by Zach Bryan...\n"
     ]
    },
    {
     "name": "stdout",
     "output_type": "stream",
     "text": [
      "Done.\n"
     ]
    },
    {
     "name": "stdout",
     "output_type": "stream",
     "text": [
      "Searching for \"Close To You\" by Gracie Abrams...\n"
     ]
    },
    {
     "name": "stdout",
     "output_type": "stream",
     "text": [
      "Done.\n"
     ]
    },
    {
     "name": "stdout",
     "output_type": "stream",
     "text": [
      "Searching for \"the boy is mine\" by Ariana Grande...\n"
     ]
    },
    {
     "name": "stdout",
     "output_type": "stream",
     "text": [
      "Done.\n"
     ]
    },
    {
     "name": "stdout",
     "output_type": "stream",
     "text": [
      "Searching for \"Stick Season\" by Noah Kahan...\n"
     ]
    },
    {
     "name": "stdout",
     "output_type": "stream",
     "text": [
      "Done.\n"
     ]
    },
    {
     "name": "stdout",
     "output_type": "stream",
     "text": [
      "Searching for \"I Don't Wanna Wait\" by David Guetta...\n"
     ]
    },
    {
     "name": "stdout",
     "output_type": "stream",
     "text": [
      "Done.\n"
     ]
    },
    {
     "name": "stdout",
     "output_type": "stream",
     "text": [
      "Searching for \"Smeraldo Garden Marching Band (feat. Loco)\" by Jimin...\n"
     ]
    },
    {
     "name": "stdout",
     "output_type": "stream",
     "text": [
      "Done.\n"
     ]
    },
    {
     "name": "stdout",
     "output_type": "stream",
     "text": [
      "Searching for \"Stumblin' In\" by CYRIL...\n"
     ]
    },
    {
     "name": "stdout",
     "output_type": "stream",
     "text": [
      "Done.\n"
     ]
    },
    {
     "name": "stdout",
     "output_type": "stream",
     "text": [
      "Searching for \"360\" by Charli xcx...\n"
     ]
    },
    {
     "name": "stdout",
     "output_type": "stream",
     "text": [
      "Done.\n"
     ]
    },
    {
     "name": "stdout",
     "output_type": "stream",
     "text": [
      "Searching for \"Rockstar\" by LISA...\n"
     ]
    },
    {
     "name": "stdout",
     "output_type": "stream",
     "text": [
      "Done.\n"
     ]
    },
    {
     "name": "stdout",
     "output_type": "stream",
     "text": [
      "Searching for \"One Of The Girls\" by The Weeknd...\n"
     ]
    },
    {
     "name": "stdout",
     "output_type": "stream",
     "text": [
      "Done.\n"
     ]
    },
    {
     "name": "stdout",
     "output_type": "stream",
     "text": [
      "Searching for \"Scared To Start\" by Michael Marcagi...\n"
     ]
    },
    {
     "name": "stdout",
     "output_type": "stream",
     "text": [
      "Done.\n"
     ]
    },
    {
     "name": "stdout",
     "output_type": "stream",
     "text": [
      "Searching for \"Lies Lies Lies\" by Morgan Wallen...\n"
     ]
    },
    {
     "name": "stdout",
     "output_type": "stream",
     "text": [
      "Done.\n"
     ]
    },
    {
     "name": "stdout",
     "output_type": "stream",
     "text": [
      "Searching for \"feelslikeimfallinginlove\" by Coldplay...\n"
     ]
    },
    {
     "name": "stdout",
     "output_type": "stream",
     "text": [
      "Done.\n"
     ]
    },
    {
     "name": "stdout",
     "output_type": "stream",
     "text": [
      "Searching for \"Parking Lot\" by Mustard...\n"
     ]
    },
    {
     "name": "stdout",
     "output_type": "stream",
     "text": [
      "Done.\n"
     ]
    },
    {
     "name": "stdout",
     "output_type": "stream",
     "text": [
      "Searching for \"Gata Only\" by FloyyMenor...\n"
     ]
    },
    {
     "name": "stdout",
     "output_type": "stream",
     "text": [
      "Done.\n"
     ]
    },
    {
     "name": "stdout",
     "output_type": "stream",
     "text": [
      "Searching for \"BAND4BAND (feat. Lil Baby)\" by Central Cee...\n"
     ]
    },
    {
     "name": "stdout",
     "output_type": "stream",
     "text": [
      "Done.\n"
     ]
    },
    {
     "name": "stdout",
     "output_type": "stream",
     "text": [
      "Searching for \"Santa\" by Rvssian...\n"
     ]
    },
    {
     "name": "stdout",
     "output_type": "stream",
     "text": [
      "Done.\n"
     ]
    },
    {
     "name": "stdout",
     "output_type": "stream",
     "text": [
      "Searching for \"Magnetic\" by ILLIT...\n"
     ]
    },
    {
     "name": "stdout",
     "output_type": "stream",
     "text": [
      "Done.\n"
     ]
    },
    {
     "name": "stdout",
     "output_type": "stream",
     "text": [
      "Searching for \"Water\" by Tyla...\n"
     ]
    },
    {
     "name": "stdout",
     "output_type": "stream",
     "text": [
      "Done.\n"
     ]
    },
    {
     "name": "stdout",
     "output_type": "stream",
     "text": [
      "Searching for \"Illusion\" by Dua Lipa...\n"
     ]
    },
    {
     "name": "stdout",
     "output_type": "stream",
     "text": [
      "Done.\n"
     ]
    }
   ],
   "source": [
    "track_data = []\n",
    "for i, track in all_tracks.iterrows():\n",
    "\n",
    "    song_name = track[\"name\"] #.partition(\" (\")[0]\n",
    "    song_name = track['name'].partition(\" (with\")[0]\n",
    "    song_name = song_name.partition(\" - From\")[0]\n",
    "    \n",
    "    artist_name = track[\"artist\"]\n",
    "\n",
    "    try:\n",
    "        track_lyrics = clean_song_lyrics(song_name, artist_name)\n",
    "        stopwords_removed = remove_stopwords_lyrics(track_lyrics)\n",
    "        lemmatized = word_lemmatize(stopwords_removed)\n",
    "\n",
    "        sentiment_scores = get_lyric_sentiment(stopwords_removed, classifiers)\n",
    "\n",
    "        track_info = track.to_dict()\n",
    "        track_info.update(sentiment_scores)\n",
    "\n",
    "        track_info[\"lyrics\"] = track_lyrics\n",
    "        track_info[\"stopwords_removed\"] = stopwords_removed\n",
    "        track_info[\"lemmatized\"] = lemmatized\n",
    "\n",
    "        track_data.append(track_info)\n",
    "\n",
    "    except Exception as e:\n",
    "        print(f\"Error processing track {track['name']} by {track['artist']}: {e}\")\n",
    "\n",
    "df_tracks = pd.DataFrame(track_data)"
   ]
  },
  {
   "cell_type": "code",
   "execution_count": 15,
   "metadata": {},
   "outputs": [],
   "source": [
    "#df_tracks = pd.DataFrame(track_data)\n",
    "df_tracks.to_csv(\"../assets/data/all_tracks+lyrics.csv\", index=False)"
   ]
  },
  {
   "cell_type": "code",
   "execution_count": 16,
   "metadata": {},
   "outputs": [
    {
     "data": {
      "text/html": [
       "<div>\n",
       "<style scoped>\n",
       "    .dataframe tbody tr th:only-of-type {\n",
       "        vertical-align: middle;\n",
       "    }\n",
       "\n",
       "    .dataframe tbody tr th {\n",
       "        vertical-align: top;\n",
       "    }\n",
       "\n",
       "    .dataframe thead th {\n",
       "        text-align: right;\n",
       "    }\n",
       "</style>\n",
       "<table border=\"1\" class=\"dataframe\">\n",
       "  <thead>\n",
       "    <tr style=\"text-align: right;\">\n",
       "      <th></th>\n",
       "      <th>name</th>\n",
       "      <th>track_id</th>\n",
       "      <th>album</th>\n",
       "      <th>artist</th>\n",
       "      <th>artist_id</th>\n",
       "      <th>release_date</th>\n",
       "      <th>length</th>\n",
       "      <th>popularity</th>\n",
       "      <th>artist_pop</th>\n",
       "      <th>artist_genres</th>\n",
       "      <th>...</th>\n",
       "      <th>fear</th>\n",
       "      <th>surprise</th>\n",
       "      <th>LABEL_0</th>\n",
       "      <th>LABEL_1</th>\n",
       "      <th>LABEL_2</th>\n",
       "      <th>NEGATIVE</th>\n",
       "      <th>POSITIVE</th>\n",
       "      <th>lyrics</th>\n",
       "      <th>stopwords_removed</th>\n",
       "      <th>lemmatized</th>\n",
       "    </tr>\n",
       "  </thead>\n",
       "  <tbody>\n",
       "    <tr>\n",
       "      <th>0</th>\n",
       "      <td>Please Please Please</td>\n",
       "      <td>5N3hjp1WNayUPZrA8kJmJP</td>\n",
       "      <td>Please Please Please</td>\n",
       "      <td>Sabrina Carpenter</td>\n",
       "      <td>74KM79TiuVKeVCqs8QtB0B</td>\n",
       "      <td>2024-06-06</td>\n",
       "      <td>186365</td>\n",
       "      <td>98</td>\n",
       "      <td>91</td>\n",
       "      <td>['pop']</td>\n",
       "      <td>...</td>\n",
       "      <td>0.000637</td>\n",
       "      <td>0.000841</td>\n",
       "      <td>0.251058</td>\n",
       "      <td>0.542962</td>\n",
       "      <td>0.205980</td>\n",
       "      <td>0.857851</td>\n",
       "      <td>0.142149</td>\n",
       "      <td>[i, know, i, have, good, judgment, i, know, i,...</td>\n",
       "      <td>[know, good, judgment, know, good, taste, funn...</td>\n",
       "      <td>[know, good, judgment, know, good, taste, funn...</td>\n",
       "    </tr>\n",
       "    <tr>\n",
       "      <th>1</th>\n",
       "      <td>Si Antes Te Hubiera Conocido</td>\n",
       "      <td>6WatFBLVB0x077xWeoVc2k</td>\n",
       "      <td>Si Antes Te Hubiera Conocido</td>\n",
       "      <td>KAROL G</td>\n",
       "      <td>790FomKkXshlbRYZFtlgla</td>\n",
       "      <td>2024-06-21</td>\n",
       "      <td>195824</td>\n",
       "      <td>91</td>\n",
       "      <td>89</td>\n",
       "      <td>['reggaeton', 'reggaeton colombiano', 'trap la...</td>\n",
       "      <td>...</td>\n",
       "      <td>0.001239</td>\n",
       "      <td>0.000147</td>\n",
       "      <td>0.030611</td>\n",
       "      <td>0.523545</td>\n",
       "      <td>0.445844</td>\n",
       "      <td>0.966250</td>\n",
       "      <td>0.033750</td>\n",
       "      <td>[what, what, we, are, ready, to, rule, summer,...</td>\n",
       "      <td>[ready, rule, summer, started, fire, would, me...</td>\n",
       "      <td>[ready, rule, summer, start, fire, would, meet...</td>\n",
       "    </tr>\n",
       "    <tr>\n",
       "      <th>2</th>\n",
       "      <td>BIRDS OF A FEATHER</td>\n",
       "      <td>6dOtVTDdiauQNBQEDOtlAB</td>\n",
       "      <td>HIT ME HARD AND SOFT</td>\n",
       "      <td>Billie Eilish</td>\n",
       "      <td>6qqNVTkY8uBg9cP3Jd7DAH</td>\n",
       "      <td>2024-05-17</td>\n",
       "      <td>210373</td>\n",
       "      <td>98</td>\n",
       "      <td>94</td>\n",
       "      <td>['art pop', 'pop']</td>\n",
       "      <td>...</td>\n",
       "      <td>0.434426</td>\n",
       "      <td>0.034063</td>\n",
       "      <td>0.122799</td>\n",
       "      <td>0.504202</td>\n",
       "      <td>0.372999</td>\n",
       "      <td>0.959893</td>\n",
       "      <td>0.040107</td>\n",
       "      <td>[i, want, you, to, stay, til, i, am, in, the, ...</td>\n",
       "      <td>[want, stay, til, grave, til, rot, away, dead,...</td>\n",
       "      <td>[want, stay, til, grave, til, rot, away, dead,...</td>\n",
       "    </tr>\n",
       "    <tr>\n",
       "      <th>3</th>\n",
       "      <td>Good Luck, Babe!</td>\n",
       "      <td>0WbMK4wrZ1wFSty9F7FCgu</td>\n",
       "      <td>Good Luck, Babe!</td>\n",
       "      <td>Chappell Roan</td>\n",
       "      <td>7GlBOeep6PqTfFi59PTUUN</td>\n",
       "      <td>2024-04-05</td>\n",
       "      <td>218423</td>\n",
       "      <td>94</td>\n",
       "      <td>86</td>\n",
       "      <td>['indie pop', 'pov: indie']</td>\n",
       "      <td>...</td>\n",
       "      <td>0.000427</td>\n",
       "      <td>0.000471</td>\n",
       "      <td>0.343443</td>\n",
       "      <td>0.554660</td>\n",
       "      <td>0.101897</td>\n",
       "      <td>0.981645</td>\n",
       "      <td>0.018355</td>\n",
       "      <td>[it, is, fine, it, is, cool, you, can, say, th...</td>\n",
       "      <td>[fine, cool, say, nothing, know, truth, guess,...</td>\n",
       "      <td>[fine, cool, say, nothing, know, truth, guess,...</td>\n",
       "    </tr>\n",
       "    <tr>\n",
       "      <th>4</th>\n",
       "      <td>A Bar Song (Tipsy)</td>\n",
       "      <td>2FQrifJ1N335Ljm3TjTVVf</td>\n",
       "      <td>A Bar Song (Tipsy)</td>\n",
       "      <td>Shaboozey</td>\n",
       "      <td>3y2cIKLjiOlp1Np37WiUdH</td>\n",
       "      <td>2024-04-12</td>\n",
       "      <td>171291</td>\n",
       "      <td>93</td>\n",
       "      <td>81</td>\n",
       "      <td>['pop rap']</td>\n",
       "      <td>...</td>\n",
       "      <td>0.009928</td>\n",
       "      <td>0.003751</td>\n",
       "      <td>0.057218</td>\n",
       "      <td>0.763994</td>\n",
       "      <td>0.178788</td>\n",
       "      <td>0.994249</td>\n",
       "      <td>0.005751</td>\n",
       "      <td>[my, baby, want, a, barking, she, is, been, te...</td>\n",
       "      <td>[baby, want, barking, telling, night, long, ga...</td>\n",
       "      <td>[baby, want, bark, tell, night, long, gasoline...</td>\n",
       "    </tr>\n",
       "    <tr>\n",
       "      <th>5</th>\n",
       "      <td>Not Like Us</td>\n",
       "      <td>6AI3ezQ4o3HUoP6Dhudph3</td>\n",
       "      <td>Not Like Us</td>\n",
       "      <td>Kendrick Lamar</td>\n",
       "      <td>2YZyLoL8N0Wb9xBt1NhZWg</td>\n",
       "      <td>2024-05-04</td>\n",
       "      <td>274192</td>\n",
       "      <td>96</td>\n",
       "      <td>92</td>\n",
       "      <td>['conscious hip hop', 'hip hop', 'rap', 'west ...</td>\n",
       "      <td>...</td>\n",
       "      <td>0.007257</td>\n",
       "      <td>0.004582</td>\n",
       "      <td>NaN</td>\n",
       "      <td>NaN</td>\n",
       "      <td>NaN</td>\n",
       "      <td>0.997331</td>\n",
       "      <td>0.002669</td>\n",
       "      <td>[psst, i, see, dead, people, mustard, on, the,...</td>\n",
       "      <td>[psst, see, dead, people, mustard, beat, musta...</td>\n",
       "      <td>[psst, see, dead, people, mustard, beat, musta...</td>\n",
       "    </tr>\n",
       "    <tr>\n",
       "      <th>6</th>\n",
       "      <td>MILLION DOLLAR BABY</td>\n",
       "      <td>7fzHQizxTqy8wTXwlrgPQQ</td>\n",
       "      <td>MILLION DOLLAR BABY</td>\n",
       "      <td>Tommy Richman</td>\n",
       "      <td>1WaFQSHVGZQJTbf0BdxdNo</td>\n",
       "      <td>2024-04-26</td>\n",
       "      <td>155151</td>\n",
       "      <td>86</td>\n",
       "      <td>83</td>\n",
       "      <td>['chill abstract hip hop']</td>\n",
       "      <td>...</td>\n",
       "      <td>0.032734</td>\n",
       "      <td>0.004189</td>\n",
       "      <td>0.280416</td>\n",
       "      <td>0.655696</td>\n",
       "      <td>0.063888</td>\n",
       "      <td>0.992852</td>\n",
       "      <td>0.007148</td>\n",
       "      <td>[do, it, baby, do, what, i, should, think, do,...</td>\n",
       "      <td>[baby, think, baby, could, think, baby, think,...</td>\n",
       "      <td>[baby, think, baby, could, think, baby, think,...</td>\n",
       "    </tr>\n",
       "    <tr>\n",
       "      <th>7</th>\n",
       "      <td>Too Sweet</td>\n",
       "      <td>4IadxL6BUymXlh8RCJJu7T</td>\n",
       "      <td>Unheard</td>\n",
       "      <td>Hozier</td>\n",
       "      <td>2FXC3k01G6Gw61bmprjgqS</td>\n",
       "      <td>2024-03-22</td>\n",
       "      <td>251424</td>\n",
       "      <td>83</td>\n",
       "      <td>85</td>\n",
       "      <td>['irish singer-songwriter', 'modern rock', 'po...</td>\n",
       "      <td>...</td>\n",
       "      <td>0.002293</td>\n",
       "      <td>0.001093</td>\n",
       "      <td>0.120370</td>\n",
       "      <td>0.648945</td>\n",
       "      <td>0.230685</td>\n",
       "      <td>0.984314</td>\n",
       "      <td>0.015686</td>\n",
       "      <td>[it, can, not, be, said, i, am, an, early, bir...</td>\n",
       "      <td>[said, early, bird, clock, say, word, baby, ne...</td>\n",
       "      <td>[say, early, bird, clock, say, word, baby, nev...</td>\n",
       "    </tr>\n",
       "    <tr>\n",
       "      <th>8</th>\n",
       "      <td>Beautiful Things</td>\n",
       "      <td>6tNQ70jh4OwmPGpYy6R2o9</td>\n",
       "      <td>Beautiful Things</td>\n",
       "      <td>Benson Boone</td>\n",
       "      <td>22wbnEMDvgVIAGdFeek6ET</td>\n",
       "      <td>2024-01-18</td>\n",
       "      <td>180304</td>\n",
       "      <td>91</td>\n",
       "      <td>85</td>\n",
       "      <td>['singer-songwriter pop']</td>\n",
       "      <td>...</td>\n",
       "      <td>0.996488</td>\n",
       "      <td>0.000843</td>\n",
       "      <td>0.033857</td>\n",
       "      <td>0.318134</td>\n",
       "      <td>0.648009</td>\n",
       "      <td>0.012351</td>\n",
       "      <td>0.987649</td>\n",
       "      <td>[for, a, while, there, it, was, rough, but, la...</td>\n",
       "      <td>[rough, lately, better, last, four, cold, reme...</td>\n",
       "      <td>[rough, lately, well, last, four, cold, rememb...</td>\n",
       "    </tr>\n",
       "    <tr>\n",
       "      <th>9</th>\n",
       "      <td>I Had Some Help (Feat. Morgan Wallen)</td>\n",
       "      <td>7221xIgOnuakPdLqT0F3nP</td>\n",
       "      <td>I Had Some Help</td>\n",
       "      <td>Post Malone</td>\n",
       "      <td>246dkjvS1zLTtiykXe5h60</td>\n",
       "      <td>2024-05-10</td>\n",
       "      <td>178205</td>\n",
       "      <td>95</td>\n",
       "      <td>90</td>\n",
       "      <td>['dfw rap', 'melodic rap', 'pop', 'rap']</td>\n",
       "      <td>...</td>\n",
       "      <td>0.000706</td>\n",
       "      <td>0.000557</td>\n",
       "      <td>0.210037</td>\n",
       "      <td>0.717910</td>\n",
       "      <td>0.072052</td>\n",
       "      <td>0.998456</td>\n",
       "      <td>0.001544</td>\n",
       "      <td>[you, got, a, got, ta, nerve, do, not, you, ba...</td>\n",
       "      <td>[got, got, ta, nerve, baby, hit, curb, made, t...</td>\n",
       "      <td>[get, get, ta, nerve, baby, hit, curb, make, t...</td>\n",
       "    </tr>\n",
       "    <tr>\n",
       "      <th>10</th>\n",
       "      <td>Espresso</td>\n",
       "      <td>2qSkIjg1o9h3YT9RAgYN75</td>\n",
       "      <td>Espresso</td>\n",
       "      <td>Sabrina Carpenter</td>\n",
       "      <td>74KM79TiuVKeVCqs8QtB0B</td>\n",
       "      <td>2024-04-12</td>\n",
       "      <td>175459</td>\n",
       "      <td>99</td>\n",
       "      <td>91</td>\n",
       "      <td>['pop']</td>\n",
       "      <td>...</td>\n",
       "      <td>0.027107</td>\n",
       "      <td>0.004054</td>\n",
       "      <td>0.070886</td>\n",
       "      <td>0.800304</td>\n",
       "      <td>0.128810</td>\n",
       "      <td>0.992557</td>\n",
       "      <td>0.007443</td>\n",
       "      <td>[now, he, is, thinking, about, me, every, nigh...</td>\n",
       "      <td>[thinking, every, night, sweet, guess, say, sl...</td>\n",
       "      <td>[think, every, night, sweet, guess, say, sleep...</td>\n",
       "    </tr>\n",
       "    <tr>\n",
       "      <th>11</th>\n",
       "      <td>i like the way you kiss me</td>\n",
       "      <td>2GxrNKugF82CnoRFbQfzPf</td>\n",
       "      <td>i like the way you kiss me</td>\n",
       "      <td>Artemas</td>\n",
       "      <td>0PCCGZ0wGLizHt2KZ7hhA2</td>\n",
       "      <td>2024-03-19</td>\n",
       "      <td>142514</td>\n",
       "      <td>95</td>\n",
       "      <td>81</td>\n",
       "      <td>[]</td>\n",
       "      <td>...</td>\n",
       "      <td>0.001377</td>\n",
       "      <td>0.001145</td>\n",
       "      <td>0.034661</td>\n",
       "      <td>0.521730</td>\n",
       "      <td>0.443609</td>\n",
       "      <td>0.984495</td>\n",
       "      <td>0.015505</td>\n",
       "      <td>[i, like, the, way, you, kiss, me, i, like, th...</td>\n",
       "      <td>[like, way, kiss, like, way, uh, like, way, ki...</td>\n",
       "      <td>[like, way, kiss, like, way, uh, like, way, ki...</td>\n",
       "    </tr>\n",
       "    <tr>\n",
       "      <th>12</th>\n",
       "      <td>Stargazing</td>\n",
       "      <td>3Vr3zh0r7ALn8VLqCiRR10</td>\n",
       "      <td>Stargazing</td>\n",
       "      <td>Myles Smith</td>\n",
       "      <td>3bO19AOone0ubCsfDXDtYt</td>\n",
       "      <td>2024-05-10</td>\n",
       "      <td>172533</td>\n",
       "      <td>92</td>\n",
       "      <td>78</td>\n",
       "      <td>['singer-songwriter pop']</td>\n",
       "      <td>...</td>\n",
       "      <td>0.000203</td>\n",
       "      <td>0.000153</td>\n",
       "      <td>0.479969</td>\n",
       "      <td>0.450779</td>\n",
       "      <td>0.069251</td>\n",
       "      <td>0.994339</td>\n",
       "      <td>0.005661</td>\n",
       "      <td>[oohooh, oohooh, oohooh, time, stood, still, j...</td>\n",
       "      <td>[oohooh, oohooh, oohooh, time, stood, still, l...</td>\n",
       "      <td>[oohooh, oohooh, oohooh, time, stand, still, l...</td>\n",
       "    </tr>\n",
       "    <tr>\n",
       "      <th>13</th>\n",
       "      <td>LUNCH</td>\n",
       "      <td>629DixmZGHc7ILtEntuiWE</td>\n",
       "      <td>HIT ME HARD AND SOFT</td>\n",
       "      <td>Billie Eilish</td>\n",
       "      <td>6qqNVTkY8uBg9cP3Jd7DAH</td>\n",
       "      <td>2024-05-17</td>\n",
       "      <td>179586</td>\n",
       "      <td>94</td>\n",
       "      <td>94</td>\n",
       "      <td>['art pop', 'pop']</td>\n",
       "      <td>...</td>\n",
       "      <td>0.004807</td>\n",
       "      <td>0.005700</td>\n",
       "      <td>0.226971</td>\n",
       "      <td>0.703515</td>\n",
       "      <td>0.069515</td>\n",
       "      <td>0.995480</td>\n",
       "      <td>0.004520</td>\n",
       "      <td>[oh, mmmm, i, could, eat, that, girl, for, lun...</td>\n",
       "      <td>[mmmm, could, eat, girl, lunch, dances, tongue...</td>\n",
       "      <td>[mmmm, could, eat, girl, lunch, dance, tongue,...</td>\n",
       "    </tr>\n",
       "    <tr>\n",
       "      <th>14</th>\n",
       "      <td>End of Beginning</td>\n",
       "      <td>3qhlB30KknSejmIvZZLjOD</td>\n",
       "      <td>DECIDE</td>\n",
       "      <td>Djo</td>\n",
       "      <td>5p9HO3XC5P3BLxJs5Mtrhm</td>\n",
       "      <td>2022-09-16</td>\n",
       "      <td>159245</td>\n",
       "      <td>93</td>\n",
       "      <td>77</td>\n",
       "      <td>['pov: indie', 'psychedelic pop']</td>\n",
       "      <td>...</td>\n",
       "      <td>0.018631</td>\n",
       "      <td>0.004027</td>\n",
       "      <td>0.159378</td>\n",
       "      <td>0.691760</td>\n",
       "      <td>0.148862</td>\n",
       "      <td>0.964887</td>\n",
       "      <td>0.035113</td>\n",
       "      <td>[just, one, more, tear, to, cry, one, teardrop...</td>\n",
       "      <td>[one, tear, cry, one, teardrop, eye, better, s...</td>\n",
       "      <td>[one, tear, cry, one, teardrop, eye, well, sav...</td>\n",
       "    </tr>\n",
       "    <tr>\n",
       "      <th>15</th>\n",
       "      <td>we can't be friends (wait for your love)</td>\n",
       "      <td>46kspZSY3aKmwQe7O77fCC</td>\n",
       "      <td>eternal sunshine</td>\n",
       "      <td>Ariana Grande</td>\n",
       "      <td>66CXWjxzNUsdJxJ2JdwvnR</td>\n",
       "      <td>2024-03-08</td>\n",
       "      <td>228639</td>\n",
       "      <td>86</td>\n",
       "      <td>91</td>\n",
       "      <td>['pop']</td>\n",
       "      <td>...</td>\n",
       "      <td>0.000605</td>\n",
       "      <td>0.000460</td>\n",
       "      <td>0.063339</td>\n",
       "      <td>0.507926</td>\n",
       "      <td>0.428735</td>\n",
       "      <td>0.996296</td>\n",
       "      <td>0.003704</td>\n",
       "      <td>[i, did, not, think, you, would, understand, m...</td>\n",
       "      <td>[think, would, understand, could, ever, even, ...</td>\n",
       "      <td>[think, would, understand, could, ever, even, ...</td>\n",
       "    </tr>\n",
       "    <tr>\n",
       "      <th>16</th>\n",
       "      <td>Lose Control</td>\n",
       "      <td>17phhZDn6oGtzMe56NuWvj</td>\n",
       "      <td>I've Tried Everything But Therapy (Part 1)</td>\n",
       "      <td>Teddy Swims</td>\n",
       "      <td>33qOK5uJ8AR2xuQQAhHump</td>\n",
       "      <td>2023-09-15</td>\n",
       "      <td>210688</td>\n",
       "      <td>90</td>\n",
       "      <td>82</td>\n",
       "      <td>[]</td>\n",
       "      <td>...</td>\n",
       "      <td>0.000485</td>\n",
       "      <td>0.000120</td>\n",
       "      <td>0.557471</td>\n",
       "      <td>0.412347</td>\n",
       "      <td>0.030183</td>\n",
       "      <td>0.998184</td>\n",
       "      <td>0.001816</td>\n",
       "      <td>[something, is, got, a, hold, of, me, lately, ...</td>\n",
       "      <td>[something, got, hold, lately, know, anymore, ...</td>\n",
       "      <td>[something, get, hold, lately, know, anymore, ...</td>\n",
       "    </tr>\n",
       "    <tr>\n",
       "      <th>17</th>\n",
       "      <td>Tough</td>\n",
       "      <td>22DH8NChecsgPxDjA4pqer</td>\n",
       "      <td>Tough</td>\n",
       "      <td>Quavo</td>\n",
       "      <td>0VRj0yCOv2FXJNP47XQnx5</td>\n",
       "      <td>2024-07-03</td>\n",
       "      <td>188828</td>\n",
       "      <td>85</td>\n",
       "      <td>79</td>\n",
       "      <td>['atl hip hop', 'melodic rap', 'rap', 'trap']</td>\n",
       "      <td>...</td>\n",
       "      <td>0.041581</td>\n",
       "      <td>0.004940</td>\n",
       "      <td>0.152115</td>\n",
       "      <td>0.734467</td>\n",
       "      <td>0.113419</td>\n",
       "      <td>0.977612</td>\n",
       "      <td>0.022388</td>\n",
       "      <td>[tough, like, the, scuff, on, a, pair, of, old...</td>\n",
       "      <td>[tough, like, scuff, pair, old, leather, boots...</td>\n",
       "      <td>[tough, like, scuff, pair, old, leather, boot,...</td>\n",
       "    </tr>\n",
       "    <tr>\n",
       "      <th>18</th>\n",
       "      <td>Austin</td>\n",
       "      <td>4NJqhmkGN042BrvHoMKUrJ</td>\n",
       "      <td>Austin</td>\n",
       "      <td>Dasha</td>\n",
       "      <td>7Ez6lTtSMjMf2YSYpukP1I</td>\n",
       "      <td>2023-11-17</td>\n",
       "      <td>171782</td>\n",
       "      <td>41</td>\n",
       "      <td>75</td>\n",
       "      <td>[]</td>\n",
       "      <td>...</td>\n",
       "      <td>0.002042</td>\n",
       "      <td>0.000548</td>\n",
       "      <td>0.332335</td>\n",
       "      <td>0.619888</td>\n",
       "      <td>0.047777</td>\n",
       "      <td>0.997655</td>\n",
       "      <td>0.002345</td>\n",
       "      <td>[we, had, a, plan, move, out, of, this, town, ...</td>\n",
       "      <td>[plan, move, town, baby, west, sand, talked, l...</td>\n",
       "      <td>[plan, move, town, baby, west, sand, talk, lat...</td>\n",
       "    </tr>\n",
       "    <tr>\n",
       "      <th>19</th>\n",
       "      <td>I Can Do It With a Broken Heart</td>\n",
       "      <td>4q5YezDOIPcoLr8R81x9qy</td>\n",
       "      <td>THE TORTURED POETS DEPARTMENT</td>\n",
       "      <td>Taylor Swift</td>\n",
       "      <td>06HL4z0CvFAxyc27GXpf02</td>\n",
       "      <td>2024-04-18</td>\n",
       "      <td>218004</td>\n",
       "      <td>87</td>\n",
       "      <td>100</td>\n",
       "      <td>['pop']</td>\n",
       "      <td>...</td>\n",
       "      <td>0.001501</td>\n",
       "      <td>0.000734</td>\n",
       "      <td>0.268903</td>\n",
       "      <td>0.570628</td>\n",
       "      <td>0.160469</td>\n",
       "      <td>0.992031</td>\n",
       "      <td>0.007969</td>\n",
       "      <td>[i, can, read, your, mind, she, is, having, th...</td>\n",
       "      <td>[read, mind, time, life, glittering, prime, li...</td>\n",
       "      <td>[read, mind, time, life, glitter, prime, light...</td>\n",
       "    </tr>\n",
       "    <tr>\n",
       "      <th>20</th>\n",
       "      <td>Houdini</td>\n",
       "      <td>2HYFX63wP3otVIvopRS99Z</td>\n",
       "      <td>Houdini</td>\n",
       "      <td>Eminem</td>\n",
       "      <td>7dGJo4pcD2V6oG8kP0tJRR</td>\n",
       "      <td>2024-05-31</td>\n",
       "      <td>227239</td>\n",
       "      <td>94</td>\n",
       "      <td>91</td>\n",
       "      <td>['detroit hip hop', 'hip hop', 'rap']</td>\n",
       "      <td>...</td>\n",
       "      <td>0.059232</td>\n",
       "      <td>0.007880</td>\n",
       "      <td>0.143081</td>\n",
       "      <td>0.793169</td>\n",
       "      <td>0.063750</td>\n",
       "      <td>0.994274</td>\n",
       "      <td>0.005726</td>\n",
       "      <td>[hey, them, it, is, pal, uh, i, was, listening...</td>\n",
       "      <td>[hey, pal, uh, listening, album, good, lucky, ...</td>\n",
       "      <td>[hey, pal, uh, listen, album, good, lucky, gue...</td>\n",
       "    </tr>\n",
       "    <tr>\n",
       "      <th>21</th>\n",
       "      <td>Nasty</td>\n",
       "      <td>6NjWCIYu1W8xa3HIvcIhd4</td>\n",
       "      <td>Nasty</td>\n",
       "      <td>Tinashe</td>\n",
       "      <td>0NIIxcxNHmOoyBx03SfTCD</td>\n",
       "      <td>2024-04-12</td>\n",
       "      <td>176027</td>\n",
       "      <td>86</td>\n",
       "      <td>73</td>\n",
       "      <td>['alternative r&amp;b', 'dance pop', 'metropopolis...</td>\n",
       "      <td>...</td>\n",
       "      <td>0.003332</td>\n",
       "      <td>0.002755</td>\n",
       "      <td>0.546907</td>\n",
       "      <td>0.416473</td>\n",
       "      <td>0.036621</td>\n",
       "      <td>0.997654</td>\n",
       "      <td>0.002346</td>\n",
       "      <td>[because, it, feels, like, heaven, when, it, h...</td>\n",
       "      <td>[feels, like, heaven, hurts, bad, baby, put, l...</td>\n",
       "      <td>[feel, like, heaven, hurt, bad, baby, put, lik...</td>\n",
       "    </tr>\n",
       "    <tr>\n",
       "      <th>22</th>\n",
       "      <td>Belong Together</td>\n",
       "      <td>5uQ7de4EWjb3rkcFxyEOpu</td>\n",
       "      <td>Belong Together</td>\n",
       "      <td>Mark Ambor</td>\n",
       "      <td>11p2E654TTU8e0nZWBR4AL</td>\n",
       "      <td>2024-02-16</td>\n",
       "      <td>148317</td>\n",
       "      <td>91</td>\n",
       "      <td>76</td>\n",
       "      <td>['singer-songwriter pop']</td>\n",
       "      <td>...</td>\n",
       "      <td>0.005112</td>\n",
       "      <td>0.002070</td>\n",
       "      <td>0.018785</td>\n",
       "      <td>0.284418</td>\n",
       "      <td>0.696797</td>\n",
       "      <td>0.206854</td>\n",
       "      <td>0.793146</td>\n",
       "      <td>[i, know, sleep, is, friends, with, death, but...</td>\n",
       "      <td>[know, sleep, friends, death, maybe, get, rest...</td>\n",
       "      <td>[know, sleep, friend, death, maybe, get, rest,...</td>\n",
       "    </tr>\n",
       "    <tr>\n",
       "      <th>23</th>\n",
       "      <td>Slow It Down</td>\n",
       "      <td>51eSHglvG1RJXtL3qI5trr</td>\n",
       "      <td>Fireworks &amp; Rollerblades</td>\n",
       "      <td>Benson Boone</td>\n",
       "      <td>22wbnEMDvgVIAGdFeek6ET</td>\n",
       "      <td>2024-04-05</td>\n",
       "      <td>161831</td>\n",
       "      <td>89</td>\n",
       "      <td>85</td>\n",
       "      <td>['singer-songwriter pop']</td>\n",
       "      <td>...</td>\n",
       "      <td>0.669380</td>\n",
       "      <td>0.007431</td>\n",
       "      <td>0.709808</td>\n",
       "      <td>0.263808</td>\n",
       "      <td>0.026384</td>\n",
       "      <td>0.983390</td>\n",
       "      <td>0.016610</td>\n",
       "      <td>[i, would, never, met, you, but, i, wanted, to...</td>\n",
       "      <td>[would, never, met, wanted, invite, party, wal...</td>\n",
       "      <td>[would, never, meet, want, invite, party, walk...</td>\n",
       "    </tr>\n",
       "    <tr>\n",
       "      <th>24</th>\n",
       "      <td>HOT TO GO!</td>\n",
       "      <td>4xdBrk0nFZaP54vvZj0yx7</td>\n",
       "      <td>The Rise and Fall of a Midwest Princess</td>\n",
       "      <td>Chappell Roan</td>\n",
       "      <td>7GlBOeep6PqTfFi59PTUUN</td>\n",
       "      <td>2023-09-22</td>\n",
       "      <td>184841</td>\n",
       "      <td>88</td>\n",
       "      <td>86</td>\n",
       "      <td>['indie pop', 'pov: indie']</td>\n",
       "      <td>...</td>\n",
       "      <td>0.001401</td>\n",
       "      <td>0.002167</td>\n",
       "      <td>0.105176</td>\n",
       "      <td>0.805817</td>\n",
       "      <td>0.089007</td>\n",
       "      <td>0.988687</td>\n",
       "      <td>0.011313</td>\n",
       "      <td>[five, six, five, six, seven, eight, i, could,...</td>\n",
       "      <td>[five, six, five, six, seven, eight, could, on...</td>\n",
       "      <td>[five, six, five, six, seven, eight, could, on...</td>\n",
       "    </tr>\n",
       "    <tr>\n",
       "      <th>25</th>\n",
       "      <td>GIRLS</td>\n",
       "      <td>7z3PblAN3dH1JMewiRydkZ</td>\n",
       "      <td>GIRLS</td>\n",
       "      <td>The Kid LAROI</td>\n",
       "      <td>2tIP7SsRs7vjIcLrU85W8J</td>\n",
       "      <td>2024-06-28</td>\n",
       "      <td>152979</td>\n",
       "      <td>82</td>\n",
       "      <td>81</td>\n",
       "      <td>['australian hip hop']</td>\n",
       "      <td>...</td>\n",
       "      <td>0.004544</td>\n",
       "      <td>0.001163</td>\n",
       "      <td>0.171786</td>\n",
       "      <td>0.707467</td>\n",
       "      <td>0.120747</td>\n",
       "      <td>0.994324</td>\n",
       "      <td>0.005676</td>\n",
       "      <td>[fall, in, love, for, no, reason, fallin, uh, ...</td>\n",
       "      <td>[fall, love, reason, fallin, uh, turned, said,...</td>\n",
       "      <td>[fall, love, reason, fallin, uh, turn, say, gi...</td>\n",
       "    </tr>\n",
       "    <tr>\n",
       "      <th>26</th>\n",
       "      <td>greedy</td>\n",
       "      <td>3rUGC1vUpkDG9CZFHMur1t</td>\n",
       "      <td>greedy</td>\n",
       "      <td>Tate McRae</td>\n",
       "      <td>45dkTj5sMRSjrmBSBeiHym</td>\n",
       "      <td>2023-09-15</td>\n",
       "      <td>131872</td>\n",
       "      <td>89</td>\n",
       "      <td>82</td>\n",
       "      <td>['pop']</td>\n",
       "      <td>...</td>\n",
       "      <td>0.001383</td>\n",
       "      <td>0.000401</td>\n",
       "      <td>0.257882</td>\n",
       "      <td>0.650690</td>\n",
       "      <td>0.091428</td>\n",
       "      <td>0.970451</td>\n",
       "      <td>0.029549</td>\n",
       "      <td>[wood, he, said, are, you, serious, i, have, t...</td>\n",
       "      <td>[wood, said, serious, tried, figure, next, nig...</td>\n",
       "      <td>[wood, say, serious, tried, figure, next, nigh...</td>\n",
       "    </tr>\n",
       "    <tr>\n",
       "      <th>27</th>\n",
       "      <td>Move</td>\n",
       "      <td>1BJJbSX6muJVF2AK7uH1x4</td>\n",
       "      <td>Move</td>\n",
       "      <td>Adam Port</td>\n",
       "      <td>2loEsOijJ6XiGzWYFXMIRk</td>\n",
       "      <td>2024-06-07</td>\n",
       "      <td>177598</td>\n",
       "      <td>86</td>\n",
       "      <td>72</td>\n",
       "      <td>['melodic house']</td>\n",
       "      <td>...</td>\n",
       "      <td>0.001471</td>\n",
       "      <td>0.001813</td>\n",
       "      <td>0.125568</td>\n",
       "      <td>0.807287</td>\n",
       "      <td>0.067145</td>\n",
       "      <td>0.155766</td>\n",
       "      <td>0.844234</td>\n",
       "      <td>[fire, burning, style, gunning, any, i, am, fe...</td>\n",
       "      <td>[fire, burning, style, gunning, feenin, want, ...</td>\n",
       "      <td>[fire, burning, style, gun, feenin, want, tast...</td>\n",
       "    </tr>\n",
       "    <tr>\n",
       "      <th>28</th>\n",
       "      <td>Fortnight (feat. Post Malone)</td>\n",
       "      <td>2OzhQlSqBEmt7hmkYxfT6m</td>\n",
       "      <td>THE TORTURED POETS DEPARTMENT</td>\n",
       "      <td>Taylor Swift</td>\n",
       "      <td>06HL4z0CvFAxyc27GXpf02</td>\n",
       "      <td>2024-04-18</td>\n",
       "      <td>228965</td>\n",
       "      <td>91</td>\n",
       "      <td>100</td>\n",
       "      <td>['pop']</td>\n",
       "      <td>...</td>\n",
       "      <td>0.097827</td>\n",
       "      <td>0.012489</td>\n",
       "      <td>0.494738</td>\n",
       "      <td>0.437140</td>\n",
       "      <td>0.068122</td>\n",
       "      <td>0.984428</td>\n",
       "      <td>0.015572</td>\n",
       "      <td>[i, should, have, been, taken, away, but, peop...</td>\n",
       "      <td>[taken, away, people, forgot, come, pick, alco...</td>\n",
       "      <td>[take, away, people, forget, come, pick, alcoh...</td>\n",
       "    </tr>\n",
       "    <tr>\n",
       "      <th>29</th>\n",
       "      <td>Saturn</td>\n",
       "      <td>1bjeWoagtHmUKputLVyDxQ</td>\n",
       "      <td>Saturn</td>\n",
       "      <td>SZA</td>\n",
       "      <td>7tYKF4w9nC0nq9CsPZTHyP</td>\n",
       "      <td>2024-02-22</td>\n",
       "      <td>186191</td>\n",
       "      <td>90</td>\n",
       "      <td>89</td>\n",
       "      <td>['pop', 'r&amp;b', 'rap']</td>\n",
       "      <td>...</td>\n",
       "      <td>0.077055</td>\n",
       "      <td>0.002667</td>\n",
       "      <td>0.401661</td>\n",
       "      <td>0.494084</td>\n",
       "      <td>0.104256</td>\n",
       "      <td>0.998026</td>\n",
       "      <td>0.001974</td>\n",
       "      <td>[if, there, is, another, universe, please, mak...</td>\n",
       "      <td>[another, universe, please, make, noise, noise...</td>\n",
       "      <td>[another, universe, please, make, noise, noise...</td>\n",
       "    </tr>\n",
       "    <tr>\n",
       "      <th>30</th>\n",
       "      <td>28</td>\n",
       "      <td>5iJKGpnFfvbjZJeAtwXfCj</td>\n",
       "      <td>The Great American Bar Scene</td>\n",
       "      <td>Zach Bryan</td>\n",
       "      <td>40ZNYROS4zLfyyBSs2PGe2</td>\n",
       "      <td>2024-07-04</td>\n",
       "      <td>233333</td>\n",
       "      <td>81</td>\n",
       "      <td>91</td>\n",
       "      <td>['classic oklahoma country']</td>\n",
       "      <td>...</td>\n",
       "      <td>0.000493</td>\n",
       "      <td>0.000980</td>\n",
       "      <td>0.127071</td>\n",
       "      <td>0.535515</td>\n",
       "      <td>0.337414</td>\n",
       "      <td>0.918328</td>\n",
       "      <td>0.081672</td>\n",
       "      <td>[you, took, a, train, to, the, south, side, of...</td>\n",
       "      <td>[took, train, south, side, boson, showed, old,...</td>\n",
       "      <td>[take, train, south, side, boson, show, old, m...</td>\n",
       "    </tr>\n",
       "    <tr>\n",
       "      <th>31</th>\n",
       "      <td>Close To You</td>\n",
       "      <td>5MPi9e7z46wopyad10R6qx</td>\n",
       "      <td>Close To You</td>\n",
       "      <td>Gracie Abrams</td>\n",
       "      <td>4tuJ0bMpJh08umKkEXKUI5</td>\n",
       "      <td>2024-06-07</td>\n",
       "      <td>225973</td>\n",
       "      <td>77</td>\n",
       "      <td>82</td>\n",
       "      <td>['alt z']</td>\n",
       "      <td>...</td>\n",
       "      <td>0.080101</td>\n",
       "      <td>0.008835</td>\n",
       "      <td>0.207858</td>\n",
       "      <td>0.741581</td>\n",
       "      <td>0.050560</td>\n",
       "      <td>0.963049</td>\n",
       "      <td>0.036952</td>\n",
       "      <td>[close, to, you, close, to, you, i, do, not, g...</td>\n",
       "      <td>[close, close, got, single, problem, provocati...</td>\n",
       "      <td>[close, close, get, single, problem, provocati...</td>\n",
       "    </tr>\n",
       "    <tr>\n",
       "      <th>32</th>\n",
       "      <td>the boy is mine</td>\n",
       "      <td>0Lmbke3KNVFXtoH2mMSHCw</td>\n",
       "      <td>eternal sunshine</td>\n",
       "      <td>Ariana Grande</td>\n",
       "      <td>66CXWjxzNUsdJxJ2JdwvnR</td>\n",
       "      <td>2024-03-08</td>\n",
       "      <td>173639</td>\n",
       "      <td>86</td>\n",
       "      <td>91</td>\n",
       "      <td>['pop']</td>\n",
       "      <td>...</td>\n",
       "      <td>0.009534</td>\n",
       "      <td>0.002129</td>\n",
       "      <td>0.181925</td>\n",
       "      <td>0.762790</td>\n",
       "      <td>0.055285</td>\n",
       "      <td>0.988922</td>\n",
       "      <td>0.011078</td>\n",
       "      <td>[how, can, it, be, you, and, me, might, be, me...</td>\n",
       "      <td>[might, meant, unseen, want, scene, usually, u...</td>\n",
       "      <td>[might, mean, unseen, want, scene, usually, un...</td>\n",
       "    </tr>\n",
       "    <tr>\n",
       "      <th>33</th>\n",
       "      <td>Stick Season</td>\n",
       "      <td>0mflMxspEfB0VbI1kyLiAv</td>\n",
       "      <td>Stick Season</td>\n",
       "      <td>Noah Kahan</td>\n",
       "      <td>2RQXRUsr4IW1f3mKyKsy4B</td>\n",
       "      <td>2022-10-14</td>\n",
       "      <td>182346</td>\n",
       "      <td>90</td>\n",
       "      <td>84</td>\n",
       "      <td>['pov: indie']</td>\n",
       "      <td>...</td>\n",
       "      <td>0.104740</td>\n",
       "      <td>0.003200</td>\n",
       "      <td>0.516024</td>\n",
       "      <td>0.447031</td>\n",
       "      <td>0.036945</td>\n",
       "      <td>0.998780</td>\n",
       "      <td>0.001220</td>\n",
       "      <td>[as, you, promised, me, that, i, was, more, th...</td>\n",
       "      <td>[promised, miles, combined, must, change, hear...</td>\n",
       "      <td>[promise, mile, combine, must, change, heart, ...</td>\n",
       "    </tr>\n",
       "    <tr>\n",
       "      <th>34</th>\n",
       "      <td>I Don't Wanna Wait</td>\n",
       "      <td>331l3xABO0HMr1Kkyh2LZq</td>\n",
       "      <td>I Don't Wanna Wait</td>\n",
       "      <td>David Guetta</td>\n",
       "      <td>1Cs0zKBU1kc0i8ypK3B9ai</td>\n",
       "      <td>2024-04-05</td>\n",
       "      <td>149667</td>\n",
       "      <td>90</td>\n",
       "      <td>89</td>\n",
       "      <td>['big room', 'dance pop', 'edm', 'pop', 'pop d...</td>\n",
       "      <td>...</td>\n",
       "      <td>0.000750</td>\n",
       "      <td>0.001233</td>\n",
       "      <td>0.186699</td>\n",
       "      <td>0.667073</td>\n",
       "      <td>0.146227</td>\n",
       "      <td>0.926766</td>\n",
       "      <td>0.073234</td>\n",
       "      <td>[let, us, make, tonight, the, weekend, i, do, ...</td>\n",
       "      <td>[let, us, make, tonight, weekend, want, waiait...</td>\n",
       "      <td>[let, u, make, tonight, weekend, want, waiait,...</td>\n",
       "    </tr>\n",
       "    <tr>\n",
       "      <th>35</th>\n",
       "      <td>Smeraldo Garden Marching Band (feat. Loco)</td>\n",
       "      <td>1kPhV0KQui1phEpjnWIqUN</td>\n",
       "      <td>Smeraldo Garden Marching Band (feat. Loco)</td>\n",
       "      <td>Jimin</td>\n",
       "      <td>1oSPZhvZMIrWW5I41kPkkY</td>\n",
       "      <td>2024-06-28</td>\n",
       "      <td>182840</td>\n",
       "      <td>91</td>\n",
       "      <td>84</td>\n",
       "      <td>['k-pop']</td>\n",
       "      <td>...</td>\n",
       "      <td>0.002519</td>\n",
       "      <td>0.001851</td>\n",
       "      <td>0.053019</td>\n",
       "      <td>0.700006</td>\n",
       "      <td>0.246975</td>\n",
       "      <td>0.068059</td>\n",
       "      <td>0.931941</td>\n",
       "      <td>[say, oh, this, harmonys, just, for, you, oh, ...</td>\n",
       "      <td>[say, harmonys, say, love, introducing, began,...</td>\n",
       "      <td>[say, harmony, say, love, introduce, begin, tu...</td>\n",
       "    </tr>\n",
       "    <tr>\n",
       "      <th>36</th>\n",
       "      <td>Stumblin' In</td>\n",
       "      <td>0h3Xy4V4apMraB5NuM8U7Z</td>\n",
       "      <td>Stumblin' In</td>\n",
       "      <td>CYRIL</td>\n",
       "      <td>11kt6ggsdxvI8MhyeSMKom</td>\n",
       "      <td>2023-11-10</td>\n",
       "      <td>213363</td>\n",
       "      <td>89</td>\n",
       "      <td>79</td>\n",
       "      <td>[]</td>\n",
       "      <td>...</td>\n",
       "      <td>0.327841</td>\n",
       "      <td>0.003080</td>\n",
       "      <td>0.325368</td>\n",
       "      <td>0.583619</td>\n",
       "      <td>0.091013</td>\n",
       "      <td>0.995401</td>\n",
       "      <td>0.004599</td>\n",
       "      <td>[our, love, is, alive, and, so, we, begin, foo...</td>\n",
       "      <td>[love, alive, begin, foolishly, laying, hearts...</td>\n",
       "      <td>[love, alive, begin, foolishly, lay, heart, ta...</td>\n",
       "    </tr>\n",
       "    <tr>\n",
       "      <th>37</th>\n",
       "      <td>360</td>\n",
       "      <td>4w2GLmK2wnioVnb5CPQeex</td>\n",
       "      <td>BRAT</td>\n",
       "      <td>Charli xcx</td>\n",
       "      <td>25uiPmTg16RbhZWAqwLBy5</td>\n",
       "      <td>2024-06-07</td>\n",
       "      <td>133805</td>\n",
       "      <td>84</td>\n",
       "      <td>85</td>\n",
       "      <td>['art pop', 'candy pop', 'metropopolis', 'pop'...</td>\n",
       "      <td>...</td>\n",
       "      <td>0.012352</td>\n",
       "      <td>0.004491</td>\n",
       "      <td>0.165593</td>\n",
       "      <td>0.730096</td>\n",
       "      <td>0.104311</td>\n",
       "      <td>0.991431</td>\n",
       "      <td>0.008569</td>\n",
       "      <td>[i, went, my, own, way, and, i, made, it, i, a...</td>\n",
       "      <td>[went, way, made, favorite, reference, baby, c...</td>\n",
       "      <td>[go, way, make, favorite, reference, baby, cal...</td>\n",
       "    </tr>\n",
       "    <tr>\n",
       "      <th>38</th>\n",
       "      <td>Rockstar</td>\n",
       "      <td>6vvPecFTmWxDfEJ6cYT1wa</td>\n",
       "      <td>Rockstar</td>\n",
       "      <td>LISA</td>\n",
       "      <td>5L1lO4eRHmJ7a0Q6csE5cT</td>\n",
       "      <td>2024-06-27</td>\n",
       "      <td>138213</td>\n",
       "      <td>90</td>\n",
       "      <td>79</td>\n",
       "      <td>['k-pop']</td>\n",
       "      <td>...</td>\n",
       "      <td>0.036838</td>\n",
       "      <td>0.012582</td>\n",
       "      <td>0.055340</td>\n",
       "      <td>0.774254</td>\n",
       "      <td>0.170406</td>\n",
       "      <td>0.981867</td>\n",
       "      <td>0.018133</td>\n",
       "      <td>[gold, teeth, sitting, on, the, dash, she, a, ...</td>\n",
       "      <td>[gold, teeth, sitting, dash, rockstar, make, f...</td>\n",
       "      <td>[gold, teeth, sit, dash, rockstar, make, favor...</td>\n",
       "    </tr>\n",
       "    <tr>\n",
       "      <th>39</th>\n",
       "      <td>One Of The Girls (with JENNIE, Lily Rose Depp)</td>\n",
       "      <td>7CyPwkp0oE8Ro9Dd5CUDjW</td>\n",
       "      <td>The Idol Episode 4 (Music from the HBO Origina...</td>\n",
       "      <td>The Weeknd</td>\n",
       "      <td>1Xyo4u8uXC1ZmMpatF05PJ</td>\n",
       "      <td>2023-06-23</td>\n",
       "      <td>244684</td>\n",
       "      <td>91</td>\n",
       "      <td>93</td>\n",
       "      <td>['canadian contemporary r&amp;b', 'canadian pop', ...</td>\n",
       "      <td>...</td>\n",
       "      <td>0.018034</td>\n",
       "      <td>0.003468</td>\n",
       "      <td>0.178038</td>\n",
       "      <td>0.707149</td>\n",
       "      <td>0.114813</td>\n",
       "      <td>0.885132</td>\n",
       "      <td>0.114868</td>\n",
       "      <td>[lock, me, up, and, throw, away, the, key, he,...</td>\n",
       "      <td>[lock, throw, away, key, knows, get, best, for...</td>\n",
       "      <td>[lock, throw, away, key, know, get, best, forc...</td>\n",
       "    </tr>\n",
       "    <tr>\n",
       "      <th>40</th>\n",
       "      <td>Scared To Start</td>\n",
       "      <td>3Pbp7cUCx4d3OAkZSCoNvn</td>\n",
       "      <td>Scared To Start</td>\n",
       "      <td>Michael Marcagi</td>\n",
       "      <td>4j96cMcT8GRi11qbvo1cLQ</td>\n",
       "      <td>2024-01-12</td>\n",
       "      <td>159636</td>\n",
       "      <td>88</td>\n",
       "      <td>73</td>\n",
       "      <td>[]</td>\n",
       "      <td>...</td>\n",
       "      <td>0.993651</td>\n",
       "      <td>0.000680</td>\n",
       "      <td>0.467322</td>\n",
       "      <td>0.498693</td>\n",
       "      <td>0.033985</td>\n",
       "      <td>0.993110</td>\n",
       "      <td>0.006890</td>\n",
       "      <td>[she, is, wearing, an, old, dress, walking, it...</td>\n",
       "      <td>[wearing, old, dress, walking, waiting, someon...</td>\n",
       "      <td>[wear, old, dress, walk, wait, someone, turn, ...</td>\n",
       "    </tr>\n",
       "    <tr>\n",
       "      <th>41</th>\n",
       "      <td>Lies Lies Lies</td>\n",
       "      <td>7Fzl7QaTu47WyP9R5S5mh5</td>\n",
       "      <td>Lies Lies Lies</td>\n",
       "      <td>Morgan Wallen</td>\n",
       "      <td>4oUHIQIBe0LHzYfvXNW4QM</td>\n",
       "      <td>2024-07-05</td>\n",
       "      <td>198068</td>\n",
       "      <td>80</td>\n",
       "      <td>90</td>\n",
       "      <td>['contemporary country']</td>\n",
       "      <td>...</td>\n",
       "      <td>0.005516</td>\n",
       "      <td>0.000481</td>\n",
       "      <td>0.621788</td>\n",
       "      <td>0.354477</td>\n",
       "      <td>0.023735</td>\n",
       "      <td>0.990984</td>\n",
       "      <td>0.009016</td>\n",
       "      <td>[i, do, not, come, down, with, the, sun, i, wi...</td>\n",
       "      <td>[come, sun, hate, morning, comes, thoughts, bo...</td>\n",
       "      <td>[come, sun, hate, morning, come, thought, body...</td>\n",
       "    </tr>\n",
       "    <tr>\n",
       "      <th>42</th>\n",
       "      <td>feelslikeimfallinginlove</td>\n",
       "      <td>1YsU8rW2u8z4F0pwOBQ4Ea</td>\n",
       "      <td>feelslikeimfallinginlove</td>\n",
       "      <td>Coldplay</td>\n",
       "      <td>4gzpq5DPGxSnKTe4SA8HAU</td>\n",
       "      <td>2024-06-21</td>\n",
       "      <td>237803</td>\n",
       "      <td>83</td>\n",
       "      <td>88</td>\n",
       "      <td>['permanent wave', 'pop']</td>\n",
       "      <td>...</td>\n",
       "      <td>0.001050</td>\n",
       "      <td>0.000178</td>\n",
       "      <td>0.352217</td>\n",
       "      <td>0.564125</td>\n",
       "      <td>0.083659</td>\n",
       "      <td>0.954148</td>\n",
       "      <td>0.045852</td>\n",
       "      <td>[i, know, that, this, could, hurt, me, bad, i,...</td>\n",
       "      <td>[know, could, hurt, bad, know, could, feel, li...</td>\n",
       "      <td>[know, could, hurt, bad, know, could, feel, li...</td>\n",
       "    </tr>\n",
       "    <tr>\n",
       "      <th>43</th>\n",
       "      <td>Parking Lot</td>\n",
       "      <td>4IFd7EVCyJsUHesBMXI8ju</td>\n",
       "      <td>Parking Lot</td>\n",
       "      <td>Mustard</td>\n",
       "      <td>0YinUQ50QDB7ZxSCLyQ40k</td>\n",
       "      <td>2024-06-21</td>\n",
       "      <td>172794</td>\n",
       "      <td>83</td>\n",
       "      <td>73</td>\n",
       "      <td>['cali rap', 'pop rap', 'rap', 'southern hip h...</td>\n",
       "      <td>...</td>\n",
       "      <td>0.091244</td>\n",
       "      <td>0.010612</td>\n",
       "      <td>0.097719</td>\n",
       "      <td>0.778541</td>\n",
       "      <td>0.123740</td>\n",
       "      <td>0.991387</td>\n",
       "      <td>0.008613</td>\n",
       "      <td>[away, away, away, away, away, away, away, awa...</td>\n",
       "      <td>[away, away, away, away, away, away, away, awa...</td>\n",
       "      <td>[away, away, away, away, away, away, away, awa...</td>\n",
       "    </tr>\n",
       "    <tr>\n",
       "      <th>44</th>\n",
       "      <td>Gata Only</td>\n",
       "      <td>6XjDF6nds4DE2BBbagZol6</td>\n",
       "      <td>Gata Only</td>\n",
       "      <td>FloyyMenor</td>\n",
       "      <td>7CvTknweLr9feJtRGrpDBy</td>\n",
       "      <td>2024-02-02</td>\n",
       "      <td>222000</td>\n",
       "      <td>96</td>\n",
       "      <td>82</td>\n",
       "      <td>['reggaeton chileno']</td>\n",
       "      <td>...</td>\n",
       "      <td>0.884537</td>\n",
       "      <td>0.003583</td>\n",
       "      <td>0.210103</td>\n",
       "      <td>0.690181</td>\n",
       "      <td>0.099717</td>\n",
       "      <td>0.996415</td>\n",
       "      <td>0.003585</td>\n",
       "      <td>[hey, mommy, i, feel, you, far, away, tell, me...</td>\n",
       "      <td>[hey, mommy, feel, far, away, tell, want, goin...</td>\n",
       "      <td>[hey, mommy, feel, far, away, tell, want, go, ...</td>\n",
       "    </tr>\n",
       "    <tr>\n",
       "      <th>45</th>\n",
       "      <td>BAND4BAND (feat. Lil Baby)</td>\n",
       "      <td>7iabz12vAuVQYyekFIWJxD</td>\n",
       "      <td>BAND4BAND (feat. Lil Baby)</td>\n",
       "      <td>Central Cee</td>\n",
       "      <td>5H4yInM5zmHqpKIoMNAx4r</td>\n",
       "      <td>2024-05-23</td>\n",
       "      <td>140733</td>\n",
       "      <td>91</td>\n",
       "      <td>82</td>\n",
       "      <td>['melodic drill', 'r&amp;drill']</td>\n",
       "      <td>...</td>\n",
       "      <td>0.031337</td>\n",
       "      <td>0.003643</td>\n",
       "      <td>0.158056</td>\n",
       "      <td>0.726879</td>\n",
       "      <td>0.115065</td>\n",
       "      <td>0.995000</td>\n",
       "      <td>0.005000</td>\n",
       "      <td>[i, am, not, in, the, mood, because, my, fligh...</td>\n",
       "      <td>[mood, flight, delayed, jumped, private, jet, ...</td>\n",
       "      <td>[mood, flight, delay, jump, private, jet, ask,...</td>\n",
       "    </tr>\n",
       "    <tr>\n",
       "      <th>46</th>\n",
       "      <td>Santa</td>\n",
       "      <td>5bi0gh89wRuH2OgjdAKFsb</td>\n",
       "      <td>Santa</td>\n",
       "      <td>Rvssian</td>\n",
       "      <td>1fctva4kpRbg2k3v7kwRuS</td>\n",
       "      <td>2024-04-04</td>\n",
       "      <td>193038</td>\n",
       "      <td>88</td>\n",
       "      <td>76</td>\n",
       "      <td>['reggaeton', 'reggaeton flow', 'trap latino',...</td>\n",
       "      <td>...</td>\n",
       "      <td>0.221692</td>\n",
       "      <td>0.006951</td>\n",
       "      <td>0.261035</td>\n",
       "      <td>0.679751</td>\n",
       "      <td>0.059214</td>\n",
       "      <td>0.986848</td>\n",
       "      <td>0.013152</td>\n",
       "      <td>[they, rvssian, i, can, not, deny, this, desir...</td>\n",
       "      <td>[rvssian, deny, desire, stop, looking, lips, r...</td>\n",
       "      <td>[rvssian, deny, desire, stop, look, lip, rejec...</td>\n",
       "    </tr>\n",
       "    <tr>\n",
       "      <th>47</th>\n",
       "      <td>Magnetic</td>\n",
       "      <td>1aKvZDoLGkNMxoRYgkckZG</td>\n",
       "      <td>SUPER REAL ME</td>\n",
       "      <td>ILLIT</td>\n",
       "      <td>36cgvBn0aadzOijnjjwqMN</td>\n",
       "      <td>2024-03-25</td>\n",
       "      <td>160688</td>\n",
       "      <td>89</td>\n",
       "      <td>74</td>\n",
       "      <td>['5th gen k-pop']</td>\n",
       "      <td>...</td>\n",
       "      <td>0.069957</td>\n",
       "      <td>0.007273</td>\n",
       "      <td>0.092965</td>\n",
       "      <td>0.713226</td>\n",
       "      <td>0.193809</td>\n",
       "      <td>0.986112</td>\n",
       "      <td>0.013888</td>\n",
       "      <td>[baby, i, am, just, trying, to, play, it, cool...</td>\n",
       "      <td>[baby, trying, play, cool, hide, want, wait, m...</td>\n",
       "      <td>[baby, try, play, cool, hide, want, wait, minu...</td>\n",
       "    </tr>\n",
       "    <tr>\n",
       "      <th>48</th>\n",
       "      <td>Water</td>\n",
       "      <td>5aIVCx5tnk0ntmdiinnYvw</td>\n",
       "      <td>Water</td>\n",
       "      <td>Tyla</td>\n",
       "      <td>3SozjO3Lat463tQICI9LcE</td>\n",
       "      <td>2023-07-28</td>\n",
       "      <td>200255</td>\n",
       "      <td>86</td>\n",
       "      <td>77</td>\n",
       "      <td>[]</td>\n",
       "      <td>...</td>\n",
       "      <td>0.006878</td>\n",
       "      <td>0.002168</td>\n",
       "      <td>0.210546</td>\n",
       "      <td>0.642083</td>\n",
       "      <td>0.147372</td>\n",
       "      <td>0.992614</td>\n",
       "      <td>0.007386</td>\n",
       "      <td>[make, me, sweat, make, me, hotter, make, me, ...</td>\n",
       "      <td>[make, sweat, make, hotter, make, lose, breath...</td>\n",
       "      <td>[make, sweat, make, hotter, make, lose, breath...</td>\n",
       "    </tr>\n",
       "    <tr>\n",
       "      <th>49</th>\n",
       "      <td>Illusion</td>\n",
       "      <td>59xD5osEFsaNt5PXfIKUnX</td>\n",
       "      <td>Illusion</td>\n",
       "      <td>Dua Lipa</td>\n",
       "      <td>6M2wZ9GZgrQXHCFfjv46we</td>\n",
       "      <td>2024-04-11</td>\n",
       "      <td>188143</td>\n",
       "      <td>79</td>\n",
       "      <td>88</td>\n",
       "      <td>['dance pop', 'pop', 'uk pop']</td>\n",
       "      <td>...</td>\n",
       "      <td>0.292987</td>\n",
       "      <td>0.295016</td>\n",
       "      <td>0.178378</td>\n",
       "      <td>0.761315</td>\n",
       "      <td>0.060307</td>\n",
       "      <td>0.980528</td>\n",
       "      <td>0.019472</td>\n",
       "      <td>[i, been, known, to, miss, a, red, flag, i, be...</td>\n",
       "      <td>[known, miss, red, flag, known, put, lover, pe...</td>\n",
       "      <td>[know, miss, red, flag, know, put, lover, pede...</td>\n",
       "    </tr>\n",
       "  </tbody>\n",
       "</table>\n",
       "<p>50 rows × 39 columns</p>\n",
       "</div>"
      ],
      "text/plain": [
       "                                              name                track_id  \\\n",
       "0                             Please Please Please  5N3hjp1WNayUPZrA8kJmJP   \n",
       "1                     Si Antes Te Hubiera Conocido  6WatFBLVB0x077xWeoVc2k   \n",
       "2                               BIRDS OF A FEATHER  6dOtVTDdiauQNBQEDOtlAB   \n",
       "3                                 Good Luck, Babe!  0WbMK4wrZ1wFSty9F7FCgu   \n",
       "4                               A Bar Song (Tipsy)  2FQrifJ1N335Ljm3TjTVVf   \n",
       "5                                      Not Like Us  6AI3ezQ4o3HUoP6Dhudph3   \n",
       "6                              MILLION DOLLAR BABY  7fzHQizxTqy8wTXwlrgPQQ   \n",
       "7                                        Too Sweet  4IadxL6BUymXlh8RCJJu7T   \n",
       "8                                 Beautiful Things  6tNQ70jh4OwmPGpYy6R2o9   \n",
       "9            I Had Some Help (Feat. Morgan Wallen)  7221xIgOnuakPdLqT0F3nP   \n",
       "10                                        Espresso  2qSkIjg1o9h3YT9RAgYN75   \n",
       "11                      i like the way you kiss me  2GxrNKugF82CnoRFbQfzPf   \n",
       "12                                      Stargazing  3Vr3zh0r7ALn8VLqCiRR10   \n",
       "13                                           LUNCH  629DixmZGHc7ILtEntuiWE   \n",
       "14                                End of Beginning  3qhlB30KknSejmIvZZLjOD   \n",
       "15        we can't be friends (wait for your love)  46kspZSY3aKmwQe7O77fCC   \n",
       "16                                    Lose Control  17phhZDn6oGtzMe56NuWvj   \n",
       "17                                           Tough  22DH8NChecsgPxDjA4pqer   \n",
       "18                                          Austin  4NJqhmkGN042BrvHoMKUrJ   \n",
       "19                 I Can Do It With a Broken Heart  4q5YezDOIPcoLr8R81x9qy   \n",
       "20                                         Houdini  2HYFX63wP3otVIvopRS99Z   \n",
       "21                                           Nasty  6NjWCIYu1W8xa3HIvcIhd4   \n",
       "22                                 Belong Together  5uQ7de4EWjb3rkcFxyEOpu   \n",
       "23                                    Slow It Down  51eSHglvG1RJXtL3qI5trr   \n",
       "24                                      HOT TO GO!  4xdBrk0nFZaP54vvZj0yx7   \n",
       "25                                           GIRLS  7z3PblAN3dH1JMewiRydkZ   \n",
       "26                                          greedy  3rUGC1vUpkDG9CZFHMur1t   \n",
       "27                                            Move  1BJJbSX6muJVF2AK7uH1x4   \n",
       "28                   Fortnight (feat. Post Malone)  2OzhQlSqBEmt7hmkYxfT6m   \n",
       "29                                          Saturn  1bjeWoagtHmUKputLVyDxQ   \n",
       "30                                              28  5iJKGpnFfvbjZJeAtwXfCj   \n",
       "31                                    Close To You  5MPi9e7z46wopyad10R6qx   \n",
       "32                                 the boy is mine  0Lmbke3KNVFXtoH2mMSHCw   \n",
       "33                                    Stick Season  0mflMxspEfB0VbI1kyLiAv   \n",
       "34                              I Don't Wanna Wait  331l3xABO0HMr1Kkyh2LZq   \n",
       "35      Smeraldo Garden Marching Band (feat. Loco)  1kPhV0KQui1phEpjnWIqUN   \n",
       "36                                    Stumblin' In  0h3Xy4V4apMraB5NuM8U7Z   \n",
       "37                                             360  4w2GLmK2wnioVnb5CPQeex   \n",
       "38                                        Rockstar  6vvPecFTmWxDfEJ6cYT1wa   \n",
       "39  One Of The Girls (with JENNIE, Lily Rose Depp)  7CyPwkp0oE8Ro9Dd5CUDjW   \n",
       "40                                 Scared To Start  3Pbp7cUCx4d3OAkZSCoNvn   \n",
       "41                                  Lies Lies Lies  7Fzl7QaTu47WyP9R5S5mh5   \n",
       "42                        feelslikeimfallinginlove  1YsU8rW2u8z4F0pwOBQ4Ea   \n",
       "43                                     Parking Lot  4IFd7EVCyJsUHesBMXI8ju   \n",
       "44                                       Gata Only  6XjDF6nds4DE2BBbagZol6   \n",
       "45                      BAND4BAND (feat. Lil Baby)  7iabz12vAuVQYyekFIWJxD   \n",
       "46                                           Santa  5bi0gh89wRuH2OgjdAKFsb   \n",
       "47                                        Magnetic  1aKvZDoLGkNMxoRYgkckZG   \n",
       "48                                           Water  5aIVCx5tnk0ntmdiinnYvw   \n",
       "49                                        Illusion  59xD5osEFsaNt5PXfIKUnX   \n",
       "\n",
       "                                                album             artist  \\\n",
       "0                                Please Please Please  Sabrina Carpenter   \n",
       "1                        Si Antes Te Hubiera Conocido            KAROL G   \n",
       "2                                HIT ME HARD AND SOFT      Billie Eilish   \n",
       "3                                    Good Luck, Babe!      Chappell Roan   \n",
       "4                                  A Bar Song (Tipsy)          Shaboozey   \n",
       "5                                         Not Like Us     Kendrick Lamar   \n",
       "6                                 MILLION DOLLAR BABY      Tommy Richman   \n",
       "7                                             Unheard             Hozier   \n",
       "8                                    Beautiful Things       Benson Boone   \n",
       "9                                     I Had Some Help        Post Malone   \n",
       "10                                           Espresso  Sabrina Carpenter   \n",
       "11                         i like the way you kiss me            Artemas   \n",
       "12                                         Stargazing        Myles Smith   \n",
       "13                               HIT ME HARD AND SOFT      Billie Eilish   \n",
       "14                                             DECIDE                Djo   \n",
       "15                                   eternal sunshine      Ariana Grande   \n",
       "16         I've Tried Everything But Therapy (Part 1)        Teddy Swims   \n",
       "17                                              Tough              Quavo   \n",
       "18                                             Austin              Dasha   \n",
       "19                      THE TORTURED POETS DEPARTMENT       Taylor Swift   \n",
       "20                                            Houdini             Eminem   \n",
       "21                                              Nasty            Tinashe   \n",
       "22                                    Belong Together         Mark Ambor   \n",
       "23                           Fireworks & Rollerblades       Benson Boone   \n",
       "24            The Rise and Fall of a Midwest Princess      Chappell Roan   \n",
       "25                                              GIRLS      The Kid LAROI   \n",
       "26                                             greedy         Tate McRae   \n",
       "27                                               Move          Adam Port   \n",
       "28                      THE TORTURED POETS DEPARTMENT       Taylor Swift   \n",
       "29                                             Saturn                SZA   \n",
       "30                       The Great American Bar Scene         Zach Bryan   \n",
       "31                                       Close To You      Gracie Abrams   \n",
       "32                                   eternal sunshine      Ariana Grande   \n",
       "33                                       Stick Season         Noah Kahan   \n",
       "34                                 I Don't Wanna Wait       David Guetta   \n",
       "35         Smeraldo Garden Marching Band (feat. Loco)              Jimin   \n",
       "36                                       Stumblin' In              CYRIL   \n",
       "37                                               BRAT         Charli xcx   \n",
       "38                                           Rockstar               LISA   \n",
       "39  The Idol Episode 4 (Music from the HBO Origina...         The Weeknd   \n",
       "40                                    Scared To Start    Michael Marcagi   \n",
       "41                                     Lies Lies Lies      Morgan Wallen   \n",
       "42                           feelslikeimfallinginlove           Coldplay   \n",
       "43                                        Parking Lot            Mustard   \n",
       "44                                          Gata Only         FloyyMenor   \n",
       "45                         BAND4BAND (feat. Lil Baby)        Central Cee   \n",
       "46                                              Santa            Rvssian   \n",
       "47                                      SUPER REAL ME              ILLIT   \n",
       "48                                              Water               Tyla   \n",
       "49                                           Illusion           Dua Lipa   \n",
       "\n",
       "                 artist_id release_date  length  popularity  artist_pop  \\\n",
       "0   74KM79TiuVKeVCqs8QtB0B   2024-06-06  186365          98          91   \n",
       "1   790FomKkXshlbRYZFtlgla   2024-06-21  195824          91          89   \n",
       "2   6qqNVTkY8uBg9cP3Jd7DAH   2024-05-17  210373          98          94   \n",
       "3   7GlBOeep6PqTfFi59PTUUN   2024-04-05  218423          94          86   \n",
       "4   3y2cIKLjiOlp1Np37WiUdH   2024-04-12  171291          93          81   \n",
       "5   2YZyLoL8N0Wb9xBt1NhZWg   2024-05-04  274192          96          92   \n",
       "6   1WaFQSHVGZQJTbf0BdxdNo   2024-04-26  155151          86          83   \n",
       "7   2FXC3k01G6Gw61bmprjgqS   2024-03-22  251424          83          85   \n",
       "8   22wbnEMDvgVIAGdFeek6ET   2024-01-18  180304          91          85   \n",
       "9   246dkjvS1zLTtiykXe5h60   2024-05-10  178205          95          90   \n",
       "10  74KM79TiuVKeVCqs8QtB0B   2024-04-12  175459          99          91   \n",
       "11  0PCCGZ0wGLizHt2KZ7hhA2   2024-03-19  142514          95          81   \n",
       "12  3bO19AOone0ubCsfDXDtYt   2024-05-10  172533          92          78   \n",
       "13  6qqNVTkY8uBg9cP3Jd7DAH   2024-05-17  179586          94          94   \n",
       "14  5p9HO3XC5P3BLxJs5Mtrhm   2022-09-16  159245          93          77   \n",
       "15  66CXWjxzNUsdJxJ2JdwvnR   2024-03-08  228639          86          91   \n",
       "16  33qOK5uJ8AR2xuQQAhHump   2023-09-15  210688          90          82   \n",
       "17  0VRj0yCOv2FXJNP47XQnx5   2024-07-03  188828          85          79   \n",
       "18  7Ez6lTtSMjMf2YSYpukP1I   2023-11-17  171782          41          75   \n",
       "19  06HL4z0CvFAxyc27GXpf02   2024-04-18  218004          87         100   \n",
       "20  7dGJo4pcD2V6oG8kP0tJRR   2024-05-31  227239          94          91   \n",
       "21  0NIIxcxNHmOoyBx03SfTCD   2024-04-12  176027          86          73   \n",
       "22  11p2E654TTU8e0nZWBR4AL   2024-02-16  148317          91          76   \n",
       "23  22wbnEMDvgVIAGdFeek6ET   2024-04-05  161831          89          85   \n",
       "24  7GlBOeep6PqTfFi59PTUUN   2023-09-22  184841          88          86   \n",
       "25  2tIP7SsRs7vjIcLrU85W8J   2024-06-28  152979          82          81   \n",
       "26  45dkTj5sMRSjrmBSBeiHym   2023-09-15  131872          89          82   \n",
       "27  2loEsOijJ6XiGzWYFXMIRk   2024-06-07  177598          86          72   \n",
       "28  06HL4z0CvFAxyc27GXpf02   2024-04-18  228965          91         100   \n",
       "29  7tYKF4w9nC0nq9CsPZTHyP   2024-02-22  186191          90          89   \n",
       "30  40ZNYROS4zLfyyBSs2PGe2   2024-07-04  233333          81          91   \n",
       "31  4tuJ0bMpJh08umKkEXKUI5   2024-06-07  225973          77          82   \n",
       "32  66CXWjxzNUsdJxJ2JdwvnR   2024-03-08  173639          86          91   \n",
       "33  2RQXRUsr4IW1f3mKyKsy4B   2022-10-14  182346          90          84   \n",
       "34  1Cs0zKBU1kc0i8ypK3B9ai   2024-04-05  149667          90          89   \n",
       "35  1oSPZhvZMIrWW5I41kPkkY   2024-06-28  182840          91          84   \n",
       "36  11kt6ggsdxvI8MhyeSMKom   2023-11-10  213363          89          79   \n",
       "37  25uiPmTg16RbhZWAqwLBy5   2024-06-07  133805          84          85   \n",
       "38  5L1lO4eRHmJ7a0Q6csE5cT   2024-06-27  138213          90          79   \n",
       "39  1Xyo4u8uXC1ZmMpatF05PJ   2023-06-23  244684          91          93   \n",
       "40  4j96cMcT8GRi11qbvo1cLQ   2024-01-12  159636          88          73   \n",
       "41  4oUHIQIBe0LHzYfvXNW4QM   2024-07-05  198068          80          90   \n",
       "42  4gzpq5DPGxSnKTe4SA8HAU   2024-06-21  237803          83          88   \n",
       "43  0YinUQ50QDB7ZxSCLyQ40k   2024-06-21  172794          83          73   \n",
       "44  7CvTknweLr9feJtRGrpDBy   2024-02-02  222000          96          82   \n",
       "45  5H4yInM5zmHqpKIoMNAx4r   2024-05-23  140733          91          82   \n",
       "46  1fctva4kpRbg2k3v7kwRuS   2024-04-04  193038          88          76   \n",
       "47  36cgvBn0aadzOijnjjwqMN   2024-03-25  160688          89          74   \n",
       "48  3SozjO3Lat463tQICI9LcE   2023-07-28  200255          86          77   \n",
       "49  6M2wZ9GZgrQXHCFfjv46we   2024-04-11  188143          79          88   \n",
       "\n",
       "                                        artist_genres  ...      fear  \\\n",
       "0                                             ['pop']  ...  0.000637   \n",
       "1   ['reggaeton', 'reggaeton colombiano', 'trap la...  ...  0.001239   \n",
       "2                                  ['art pop', 'pop']  ...  0.434426   \n",
       "3                         ['indie pop', 'pov: indie']  ...  0.000427   \n",
       "4                                         ['pop rap']  ...  0.009928   \n",
       "5   ['conscious hip hop', 'hip hop', 'rap', 'west ...  ...  0.007257   \n",
       "6                          ['chill abstract hip hop']  ...  0.032734   \n",
       "7   ['irish singer-songwriter', 'modern rock', 'po...  ...  0.002293   \n",
       "8                           ['singer-songwriter pop']  ...  0.996488   \n",
       "9            ['dfw rap', 'melodic rap', 'pop', 'rap']  ...  0.000706   \n",
       "10                                            ['pop']  ...  0.027107   \n",
       "11                                                 []  ...  0.001377   \n",
       "12                          ['singer-songwriter pop']  ...  0.000203   \n",
       "13                                 ['art pop', 'pop']  ...  0.004807   \n",
       "14                  ['pov: indie', 'psychedelic pop']  ...  0.018631   \n",
       "15                                            ['pop']  ...  0.000605   \n",
       "16                                                 []  ...  0.000485   \n",
       "17      ['atl hip hop', 'melodic rap', 'rap', 'trap']  ...  0.041581   \n",
       "18                                                 []  ...  0.002042   \n",
       "19                                            ['pop']  ...  0.001501   \n",
       "20              ['detroit hip hop', 'hip hop', 'rap']  ...  0.059232   \n",
       "21  ['alternative r&b', 'dance pop', 'metropopolis...  ...  0.003332   \n",
       "22                          ['singer-songwriter pop']  ...  0.005112   \n",
       "23                          ['singer-songwriter pop']  ...  0.669380   \n",
       "24                        ['indie pop', 'pov: indie']  ...  0.001401   \n",
       "25                             ['australian hip hop']  ...  0.004544   \n",
       "26                                            ['pop']  ...  0.001383   \n",
       "27                                  ['melodic house']  ...  0.001471   \n",
       "28                                            ['pop']  ...  0.097827   \n",
       "29                              ['pop', 'r&b', 'rap']  ...  0.077055   \n",
       "30                       ['classic oklahoma country']  ...  0.000493   \n",
       "31                                          ['alt z']  ...  0.080101   \n",
       "32                                            ['pop']  ...  0.009534   \n",
       "33                                     ['pov: indie']  ...  0.104740   \n",
       "34  ['big room', 'dance pop', 'edm', 'pop', 'pop d...  ...  0.000750   \n",
       "35                                          ['k-pop']  ...  0.002519   \n",
       "36                                                 []  ...  0.327841   \n",
       "37  ['art pop', 'candy pop', 'metropopolis', 'pop'...  ...  0.012352   \n",
       "38                                          ['k-pop']  ...  0.036838   \n",
       "39  ['canadian contemporary r&b', 'canadian pop', ...  ...  0.018034   \n",
       "40                                                 []  ...  0.993651   \n",
       "41                           ['contemporary country']  ...  0.005516   \n",
       "42                          ['permanent wave', 'pop']  ...  0.001050   \n",
       "43  ['cali rap', 'pop rap', 'rap', 'southern hip h...  ...  0.091244   \n",
       "44                              ['reggaeton chileno']  ...  0.884537   \n",
       "45                       ['melodic drill', 'r&drill']  ...  0.031337   \n",
       "46  ['reggaeton', 'reggaeton flow', 'trap latino',...  ...  0.221692   \n",
       "47                                  ['5th gen k-pop']  ...  0.069957   \n",
       "48                                                 []  ...  0.006878   \n",
       "49                     ['dance pop', 'pop', 'uk pop']  ...  0.292987   \n",
       "\n",
       "    surprise   LABEL_0   LABEL_1   LABEL_2  NEGATIVE  POSITIVE  \\\n",
       "0   0.000841  0.251058  0.542962  0.205980  0.857851  0.142149   \n",
       "1   0.000147  0.030611  0.523545  0.445844  0.966250  0.033750   \n",
       "2   0.034063  0.122799  0.504202  0.372999  0.959893  0.040107   \n",
       "3   0.000471  0.343443  0.554660  0.101897  0.981645  0.018355   \n",
       "4   0.003751  0.057218  0.763994  0.178788  0.994249  0.005751   \n",
       "5   0.004582       NaN       NaN       NaN  0.997331  0.002669   \n",
       "6   0.004189  0.280416  0.655696  0.063888  0.992852  0.007148   \n",
       "7   0.001093  0.120370  0.648945  0.230685  0.984314  0.015686   \n",
       "8   0.000843  0.033857  0.318134  0.648009  0.012351  0.987649   \n",
       "9   0.000557  0.210037  0.717910  0.072052  0.998456  0.001544   \n",
       "10  0.004054  0.070886  0.800304  0.128810  0.992557  0.007443   \n",
       "11  0.001145  0.034661  0.521730  0.443609  0.984495  0.015505   \n",
       "12  0.000153  0.479969  0.450779  0.069251  0.994339  0.005661   \n",
       "13  0.005700  0.226971  0.703515  0.069515  0.995480  0.004520   \n",
       "14  0.004027  0.159378  0.691760  0.148862  0.964887  0.035113   \n",
       "15  0.000460  0.063339  0.507926  0.428735  0.996296  0.003704   \n",
       "16  0.000120  0.557471  0.412347  0.030183  0.998184  0.001816   \n",
       "17  0.004940  0.152115  0.734467  0.113419  0.977612  0.022388   \n",
       "18  0.000548  0.332335  0.619888  0.047777  0.997655  0.002345   \n",
       "19  0.000734  0.268903  0.570628  0.160469  0.992031  0.007969   \n",
       "20  0.007880  0.143081  0.793169  0.063750  0.994274  0.005726   \n",
       "21  0.002755  0.546907  0.416473  0.036621  0.997654  0.002346   \n",
       "22  0.002070  0.018785  0.284418  0.696797  0.206854  0.793146   \n",
       "23  0.007431  0.709808  0.263808  0.026384  0.983390  0.016610   \n",
       "24  0.002167  0.105176  0.805817  0.089007  0.988687  0.011313   \n",
       "25  0.001163  0.171786  0.707467  0.120747  0.994324  0.005676   \n",
       "26  0.000401  0.257882  0.650690  0.091428  0.970451  0.029549   \n",
       "27  0.001813  0.125568  0.807287  0.067145  0.155766  0.844234   \n",
       "28  0.012489  0.494738  0.437140  0.068122  0.984428  0.015572   \n",
       "29  0.002667  0.401661  0.494084  0.104256  0.998026  0.001974   \n",
       "30  0.000980  0.127071  0.535515  0.337414  0.918328  0.081672   \n",
       "31  0.008835  0.207858  0.741581  0.050560  0.963049  0.036952   \n",
       "32  0.002129  0.181925  0.762790  0.055285  0.988922  0.011078   \n",
       "33  0.003200  0.516024  0.447031  0.036945  0.998780  0.001220   \n",
       "34  0.001233  0.186699  0.667073  0.146227  0.926766  0.073234   \n",
       "35  0.001851  0.053019  0.700006  0.246975  0.068059  0.931941   \n",
       "36  0.003080  0.325368  0.583619  0.091013  0.995401  0.004599   \n",
       "37  0.004491  0.165593  0.730096  0.104311  0.991431  0.008569   \n",
       "38  0.012582  0.055340  0.774254  0.170406  0.981867  0.018133   \n",
       "39  0.003468  0.178038  0.707149  0.114813  0.885132  0.114868   \n",
       "40  0.000680  0.467322  0.498693  0.033985  0.993110  0.006890   \n",
       "41  0.000481  0.621788  0.354477  0.023735  0.990984  0.009016   \n",
       "42  0.000178  0.352217  0.564125  0.083659  0.954148  0.045852   \n",
       "43  0.010612  0.097719  0.778541  0.123740  0.991387  0.008613   \n",
       "44  0.003583  0.210103  0.690181  0.099717  0.996415  0.003585   \n",
       "45  0.003643  0.158056  0.726879  0.115065  0.995000  0.005000   \n",
       "46  0.006951  0.261035  0.679751  0.059214  0.986848  0.013152   \n",
       "47  0.007273  0.092965  0.713226  0.193809  0.986112  0.013888   \n",
       "48  0.002168  0.210546  0.642083  0.147372  0.992614  0.007386   \n",
       "49  0.295016  0.178378  0.761315  0.060307  0.980528  0.019472   \n",
       "\n",
       "                                               lyrics  \\\n",
       "0   [i, know, i, have, good, judgment, i, know, i,...   \n",
       "1   [what, what, we, are, ready, to, rule, summer,...   \n",
       "2   [i, want, you, to, stay, til, i, am, in, the, ...   \n",
       "3   [it, is, fine, it, is, cool, you, can, say, th...   \n",
       "4   [my, baby, want, a, barking, she, is, been, te...   \n",
       "5   [psst, i, see, dead, people, mustard, on, the,...   \n",
       "6   [do, it, baby, do, what, i, should, think, do,...   \n",
       "7   [it, can, not, be, said, i, am, an, early, bir...   \n",
       "8   [for, a, while, there, it, was, rough, but, la...   \n",
       "9   [you, got, a, got, ta, nerve, do, not, you, ba...   \n",
       "10  [now, he, is, thinking, about, me, every, nigh...   \n",
       "11  [i, like, the, way, you, kiss, me, i, like, th...   \n",
       "12  [oohooh, oohooh, oohooh, time, stood, still, j...   \n",
       "13  [oh, mmmm, i, could, eat, that, girl, for, lun...   \n",
       "14  [just, one, more, tear, to, cry, one, teardrop...   \n",
       "15  [i, did, not, think, you, would, understand, m...   \n",
       "16  [something, is, got, a, hold, of, me, lately, ...   \n",
       "17  [tough, like, the, scuff, on, a, pair, of, old...   \n",
       "18  [we, had, a, plan, move, out, of, this, town, ...   \n",
       "19  [i, can, read, your, mind, she, is, having, th...   \n",
       "20  [hey, them, it, is, pal, uh, i, was, listening...   \n",
       "21  [because, it, feels, like, heaven, when, it, h...   \n",
       "22  [i, know, sleep, is, friends, with, death, but...   \n",
       "23  [i, would, never, met, you, but, i, wanted, to...   \n",
       "24  [five, six, five, six, seven, eight, i, could,...   \n",
       "25  [fall, in, love, for, no, reason, fallin, uh, ...   \n",
       "26  [wood, he, said, are, you, serious, i, have, t...   \n",
       "27  [fire, burning, style, gunning, any, i, am, fe...   \n",
       "28  [i, should, have, been, taken, away, but, peop...   \n",
       "29  [if, there, is, another, universe, please, mak...   \n",
       "30  [you, took, a, train, to, the, south, side, of...   \n",
       "31  [close, to, you, close, to, you, i, do, not, g...   \n",
       "32  [how, can, it, be, you, and, me, might, be, me...   \n",
       "33  [as, you, promised, me, that, i, was, more, th...   \n",
       "34  [let, us, make, tonight, the, weekend, i, do, ...   \n",
       "35  [say, oh, this, harmonys, just, for, you, oh, ...   \n",
       "36  [our, love, is, alive, and, so, we, begin, foo...   \n",
       "37  [i, went, my, own, way, and, i, made, it, i, a...   \n",
       "38  [gold, teeth, sitting, on, the, dash, she, a, ...   \n",
       "39  [lock, me, up, and, throw, away, the, key, he,...   \n",
       "40  [she, is, wearing, an, old, dress, walking, it...   \n",
       "41  [i, do, not, come, down, with, the, sun, i, wi...   \n",
       "42  [i, know, that, this, could, hurt, me, bad, i,...   \n",
       "43  [away, away, away, away, away, away, away, awa...   \n",
       "44  [hey, mommy, i, feel, you, far, away, tell, me...   \n",
       "45  [i, am, not, in, the, mood, because, my, fligh...   \n",
       "46  [they, rvssian, i, can, not, deny, this, desir...   \n",
       "47  [baby, i, am, just, trying, to, play, it, cool...   \n",
       "48  [make, me, sweat, make, me, hotter, make, me, ...   \n",
       "49  [i, been, known, to, miss, a, red, flag, i, be...   \n",
       "\n",
       "                                    stopwords_removed  \\\n",
       "0   [know, good, judgment, know, good, taste, funn...   \n",
       "1   [ready, rule, summer, started, fire, would, me...   \n",
       "2   [want, stay, til, grave, til, rot, away, dead,...   \n",
       "3   [fine, cool, say, nothing, know, truth, guess,...   \n",
       "4   [baby, want, barking, telling, night, long, ga...   \n",
       "5   [psst, see, dead, people, mustard, beat, musta...   \n",
       "6   [baby, think, baby, could, think, baby, think,...   \n",
       "7   [said, early, bird, clock, say, word, baby, ne...   \n",
       "8   [rough, lately, better, last, four, cold, reme...   \n",
       "9   [got, got, ta, nerve, baby, hit, curb, made, t...   \n",
       "10  [thinking, every, night, sweet, guess, say, sl...   \n",
       "11  [like, way, kiss, like, way, uh, like, way, ki...   \n",
       "12  [oohooh, oohooh, oohooh, time, stood, still, l...   \n",
       "13  [mmmm, could, eat, girl, lunch, dances, tongue...   \n",
       "14  [one, tear, cry, one, teardrop, eye, better, s...   \n",
       "15  [think, would, understand, could, ever, even, ...   \n",
       "16  [something, got, hold, lately, know, anymore, ...   \n",
       "17  [tough, like, scuff, pair, old, leather, boots...   \n",
       "18  [plan, move, town, baby, west, sand, talked, l...   \n",
       "19  [read, mind, time, life, glittering, prime, li...   \n",
       "20  [hey, pal, uh, listening, album, good, lucky, ...   \n",
       "21  [feels, like, heaven, hurts, bad, baby, put, l...   \n",
       "22  [know, sleep, friends, death, maybe, get, rest...   \n",
       "23  [would, never, met, wanted, invite, party, wal...   \n",
       "24  [five, six, five, six, seven, eight, could, on...   \n",
       "25  [fall, love, reason, fallin, uh, turned, said,...   \n",
       "26  [wood, said, serious, tried, figure, next, nig...   \n",
       "27  [fire, burning, style, gunning, feenin, want, ...   \n",
       "28  [taken, away, people, forgot, come, pick, alco...   \n",
       "29  [another, universe, please, make, noise, noise...   \n",
       "30  [took, train, south, side, boson, showed, old,...   \n",
       "31  [close, close, got, single, problem, provocati...   \n",
       "32  [might, meant, unseen, want, scene, usually, u...   \n",
       "33  [promised, miles, combined, must, change, hear...   \n",
       "34  [let, us, make, tonight, weekend, want, waiait...   \n",
       "35  [say, harmonys, say, love, introducing, began,...   \n",
       "36  [love, alive, begin, foolishly, laying, hearts...   \n",
       "37  [went, way, made, favorite, reference, baby, c...   \n",
       "38  [gold, teeth, sitting, dash, rockstar, make, f...   \n",
       "39  [lock, throw, away, key, knows, get, best, for...   \n",
       "40  [wearing, old, dress, walking, waiting, someon...   \n",
       "41  [come, sun, hate, morning, comes, thoughts, bo...   \n",
       "42  [know, could, hurt, bad, know, could, feel, li...   \n",
       "43  [away, away, away, away, away, away, away, awa...   \n",
       "44  [hey, mommy, feel, far, away, tell, want, goin...   \n",
       "45  [mood, flight, delayed, jumped, private, jet, ...   \n",
       "46  [rvssian, deny, desire, stop, looking, lips, r...   \n",
       "47  [baby, trying, play, cool, hide, want, wait, m...   \n",
       "48  [make, sweat, make, hotter, make, lose, breath...   \n",
       "49  [known, miss, red, flag, known, put, lover, pe...   \n",
       "\n",
       "                                           lemmatized  \n",
       "0   [know, good, judgment, know, good, taste, funn...  \n",
       "1   [ready, rule, summer, start, fire, would, meet...  \n",
       "2   [want, stay, til, grave, til, rot, away, dead,...  \n",
       "3   [fine, cool, say, nothing, know, truth, guess,...  \n",
       "4   [baby, want, bark, tell, night, long, gasoline...  \n",
       "5   [psst, see, dead, people, mustard, beat, musta...  \n",
       "6   [baby, think, baby, could, think, baby, think,...  \n",
       "7   [say, early, bird, clock, say, word, baby, nev...  \n",
       "8   [rough, lately, well, last, four, cold, rememb...  \n",
       "9   [get, get, ta, nerve, baby, hit, curb, make, t...  \n",
       "10  [think, every, night, sweet, guess, say, sleep...  \n",
       "11  [like, way, kiss, like, way, uh, like, way, ki...  \n",
       "12  [oohooh, oohooh, oohooh, time, stand, still, l...  \n",
       "13  [mmmm, could, eat, girl, lunch, dance, tongue,...  \n",
       "14  [one, tear, cry, one, teardrop, eye, well, sav...  \n",
       "15  [think, would, understand, could, ever, even, ...  \n",
       "16  [something, get, hold, lately, know, anymore, ...  \n",
       "17  [tough, like, scuff, pair, old, leather, boot,...  \n",
       "18  [plan, move, town, baby, west, sand, talk, lat...  \n",
       "19  [read, mind, time, life, glitter, prime, light...  \n",
       "20  [hey, pal, uh, listen, album, good, lucky, gue...  \n",
       "21  [feel, like, heaven, hurt, bad, baby, put, lik...  \n",
       "22  [know, sleep, friend, death, maybe, get, rest,...  \n",
       "23  [would, never, meet, want, invite, party, walk...  \n",
       "24  [five, six, five, six, seven, eight, could, on...  \n",
       "25  [fall, love, reason, fallin, uh, turn, say, gi...  \n",
       "26  [wood, say, serious, tried, figure, next, nigh...  \n",
       "27  [fire, burning, style, gun, feenin, want, tast...  \n",
       "28  [take, away, people, forget, come, pick, alcoh...  \n",
       "29  [another, universe, please, make, noise, noise...  \n",
       "30  [take, train, south, side, boson, show, old, m...  \n",
       "31  [close, close, get, single, problem, provocati...  \n",
       "32  [might, mean, unseen, want, scene, usually, un...  \n",
       "33  [promise, mile, combine, must, change, heart, ...  \n",
       "34  [let, u, make, tonight, weekend, want, waiait,...  \n",
       "35  [say, harmony, say, love, introduce, begin, tu...  \n",
       "36  [love, alive, begin, foolishly, lay, heart, ta...  \n",
       "37  [go, way, make, favorite, reference, baby, cal...  \n",
       "38  [gold, teeth, sit, dash, rockstar, make, favor...  \n",
       "39  [lock, throw, away, key, know, get, best, forc...  \n",
       "40  [wear, old, dress, walk, wait, someone, turn, ...  \n",
       "41  [come, sun, hate, morning, come, thought, body...  \n",
       "42  [know, could, hurt, bad, know, could, feel, li...  \n",
       "43  [away, away, away, away, away, away, away, awa...  \n",
       "44  [hey, mommy, feel, far, away, tell, want, go, ...  \n",
       "45  [mood, flight, delay, jump, private, jet, ask,...  \n",
       "46  [rvssian, deny, desire, stop, look, lip, rejec...  \n",
       "47  [baby, try, play, cool, hide, want, wait, minu...  \n",
       "48  [make, sweat, make, hotter, make, lose, breath...  \n",
       "49  [know, miss, red, flag, know, put, lover, pede...  \n",
       "\n",
       "[50 rows x 39 columns]"
      ]
     },
     "execution_count": 16,
     "metadata": {},
     "output_type": "execute_result"
    }
   ],
   "source": [
    "df_tracks"
   ]
  },
  {
   "cell_type": "markdown",
   "metadata": {},
   "source": [
    "-----------------------------------"
   ]
  }
 ],
 "metadata": {
  "kernelspec": {
   "display_name": "cse160",
   "language": "python",
   "name": "python3"
  },
  "language_info": {
   "codemirror_mode": {
    "name": "ipython",
    "version": 3
   },
   "file_extension": ".py",
   "mimetype": "text/x-python",
   "name": "python",
   "nbconvert_exporter": "python",
   "pygments_lexer": "ipython3",
   "version": "3.11.0"
  }
 },
 "nbformat": 4,
 "nbformat_minor": 2
}
