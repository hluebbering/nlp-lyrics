{
 "cells": [
  {
   "attachments": {},
   "cell_type": "markdown",
   "id": "738e8839",
   "metadata": {},
   "source": [
    "# Overview\n",
    "\n",
    "\n",
    "<span class = \"myhighlight\">Objective.</span>\n",
    "The following project involves extracting and analyzing Spotify data from top playlists using the Spotify and Genius Lyrics Web API. Natural Language Processing techniques are used to process lyrics and perform sentiment analysis. K-means clustering and PCA analysis are employed to categorize songs and analyze relationships between musical features.\n",
    "\n"
   ]
  },
  {
   "cell_type": "code",
   "execution_count": 1,
   "id": "e61de63a",
   "metadata": {
    "tags": [
     "hide-code",
     "hide-output"
    ]
   },
   "outputs": [
    {
     "name": "stderr",
     "output_type": "stream",
     "text": [
      "C:\\Python311\\Lib\\site-packages\\tqdm\\auto.py:21: TqdmWarning:\n",
      "\n",
      "IProgress not found. Please update jupyter and ipywidgets. See https://ipywidgets.readthedocs.io/en/stable/user_install.html\n",
      "\n"
     ]
    },
    {
     "name": "stderr",
     "output_type": "stream",
     "text": [
      "C:\\Python311\\Lib\\site-packages\\rpy2\\robjects\\packages.py:367: UserWarning:\n",
      "\n",
      "The symbol 'quartz' is not in this R namespace/package.\n",
      "\n"
     ]
    }
   ],
   "source": [
    "import pandas as pd\n",
    "from bioinfokit.visuz import cluster\n",
    "import numpy as np\n",
    "import spotipy\n",
    "from spotipy.oauth2 import SpotifyClientCredentials\n",
    "import transformers\n",
    "from IPython.core.display import HTML\n",
    "from IPython.display import set_matplotlib_formats\n",
    "import seaborn as sns\n",
    "import matplotlib.pyplot as plt\n",
    "import plotly\n",
    "import plotly.graph_objects as go\n",
    "import plotly.express as px\n",
    "import plotly.io as pio\n",
    "pio.renderers.default = \"plotly_mimetype+notebook_connected\"\n",
    "from functools import partial\n",
    "from rpy2.ipython import html\n",
    "from rpy2.robjects.packages import importr\n",
    "html.html_rdataframe=partial(html.html_rdataframe, table_class=\"docutils\")\n",
    "import warnings # Hide warnings if there are any\n",
    "warnings.filterwarnings('ignore')\n",
    "\n",
    "# Import Data\n",
    "all_tracks = pd.read_csv(\"assets/data/all_tracks.csv\", index_col=False)\n",
    "all_tracks_with_lyrics = pd.read_csv(\"assets/data/all_tracks+lyrics.csv\", index_col=False)"
   ]
  },
  {
   "cell_type": "code",
   "execution_count": 2,
   "id": "5579f7c2",
   "metadata": {
    "tags": [
     "hide-code",
     "hide-output"
    ]
   },
   "outputs": [
    {
     "data": {
      "text/plain": [
       "Loading required package: ggplot2\n",
       "In addition: Warning message:\n",
       "package 'ggplot2' was built under R version 4.1.3 \n"
      ]
     },
     "metadata": {},
     "output_type": "display_data"
    },
    {
     "data": {
      "text/plain": [
       "Loading required package: hrbrthemes\n",
       "Registering Windows fonts with R\n",
       "In addition: Warning message:\n",
       "package 'hrbrthemes' was built under R version 4.1.3 \n"
      ]
     },
     "metadata": {},
     "output_type": "display_data"
    },
    {
     "data": {
      "text/plain": [
       "Loading required package: patchwork\n"
      ]
     },
     "metadata": {},
     "output_type": "display_data"
    },
    {
     "data": {
      "text/plain": [
       "Loading required package: ragg\n",
       "In addition: Warning message:\n",
       "package 'ragg' was built under R version 4.1.3 \n"
      ]
     },
     "metadata": {},
     "output_type": "display_data"
    }
   ],
   "source": [
    "## Set Default Plot Chart Style Configurations\n",
    "%config InlineBackend.figure_format='retina'\n",
    "plt.rcParams['figure.figsize'] = (8, 5) # Set default figure size.\n",
    "plt.rc('font', family='Roboto') # Set default font family\n",
    "\n",
    "pd.set_option('display.max_colwidth', None)\n",
    "sns.set(style=\"whitegrid\")\n",
    "sns.set_context(\"poster\", font_scale=.5, rc={\"grid.linewidth\": 0.6})\n",
    "sns.set_style({'font.family': 'Roboto'})\n",
    "\n",
    "%load_ext rpy2.ipython \n",
    "%R require(ggplot2)\n",
    "%R require(hrbrthemes)\n",
    "%R require(patchwork)\n",
    "%R require(ragg)"
   ]
  },
  {
   "cell_type": "markdown",
   "id": "f98834fc",
   "metadata": {},
   "source": [
    "## Extracting Spotify Data\n",
    "\n",
    "Getting started, we want to extract data for a set of tracks within one of Spotify's top-featured playlists. Leveraging the **Spotify Web API**, we can seamlessly obtain detailed data for a song, such as the artist, the album it belongs to, its release date, popularity, and audio features like danceability, energy, and tempo. \n"
   ]
  },
  {
   "cell_type": "markdown",
   "id": "6b5c4b1c",
   "metadata": {},
   "source": [
    "### Accessing the Spotify Web API\n",
    "\n",
    "Python libraries like `spotipy` offer a user-friendly way to interact with the Spotify API, offering a range of functions that streamline tasks like API authentication. To authenticate access, we provide a client ID and secret. Once authenticated, we can interact with the API and retrieve data.\n"
   ]
  },
  {
   "cell_type": "code",
   "execution_count": 3,
   "id": "92d35941",
   "metadata": {},
   "outputs": [],
   "source": [
    "import spotipy\n",
    "from spotipy.oauth2 import SpotifyClientCredentials\n",
    "\n",
    "my_auth = SpotifyClientCredentials(client_id = \"xxx\", client_secret = \"xxx\")\n",
    "sp = spotipy.Spotify(auth_manager=my_auth)  # Spotify authentication"
   ]
  },
  {
   "cell_type": "code",
   "execution_count": 4,
   "id": "effe5694",
   "metadata": {
    "tags": [
     "hide-code"
    ]
   },
   "outputs": [],
   "source": [
    "client_id = \"3899576b5fcb4c458beba2cce99aa1b6\"\n",
    "client_secret = \"4f57df7614df4f75b54364bf3c3018fd\"\n",
    "sp = spotipy.Spotify(auth_manager=SpotifyClientCredentials(client_id, client_secret))"
   ]
  },
  {
   "attachments": {},
   "cell_type": "markdown",
   "id": "acfff26b",
   "metadata": {},
   "source": [
    "#### Spotify's Featured Playlists\n",
    "\n",
    "Let's take a look at the popular Spotify playlists. Below, the code retrieves a range of Spotify playlists and generates a dataframe containing details for each playlist."
   ]
  },
  {
   "cell_type": "code",
   "execution_count": 5,
   "id": "73b4e095",
   "metadata": {
    "tags": [
     "hide-code"
    ]
   },
   "outputs": [],
   "source": [
    "username = \"spotify\"\n",
    "my_playlists = sp.user_playlists(username)"
   ]
  },
  {
   "cell_type": "code",
   "execution_count": 6,
   "id": "73b3147d",
   "metadata": {
    "tags": [
     "hide-code"
    ]
   },
   "outputs": [
    {
     "data": {
      "text/html": [
       "<table border=\"1\" class=\"dataframe\">\n",
       "  <thead>\n",
       "    <tr style=\"text-align: right;\">\n",
       "      <th></th>\n",
       "      <th>thumbnail</th>\n",
       "      <th>playlist_name</th>\n",
       "      <th>playlist_id</th>\n",
       "      <th>description</th>\n",
       "      <th>total</th>\n",
       "    </tr>\n",
       "  </thead>\n",
       "  <tbody>\n",
       "    <tr>\n",
       "      <th>0</th>\n",
       "      <td><img src=\"https://i.scdn.co/image/ab67706f00000002d4f64397019d0744c0bc1ac4\" width=\"40\" ></td>\n",
       "      <td>Today’s Top Hits</td>\n",
       "      <td>37i9dQZF1DXcBWIGoYBM5M</td>\n",
       "      <td>Karol G is on top of the Hottest 50!</td>\n",
       "      <td>50</td>\n",
       "    </tr>\n",
       "    <tr>\n",
       "      <th>1</th>\n",
       "      <td><img src=\"https://i.scdn.co/image/ab67706f00000002426dda818d07ebe7ad4c2287\" width=\"40\" ></td>\n",
       "      <td>RapCaviar</td>\n",
       "      <td>37i9dQZF1DX0XUsuxWHRQd</td>\n",
       "      <td>New music from Eminem, Ice Spice and BossMan DLow.</td>\n",
       "      <td>50</td>\n",
       "    </tr>\n",
       "    <tr>\n",
       "      <th>2</th>\n",
       "      <td><img src=\"https://i.scdn.co/image/ab67706f00000002f9c51ffc2c7c1a2de4d86073\" width=\"40\" ></td>\n",
       "      <td>Hot Country</td>\n",
       "      <td>37i9dQZF1DX1lVhptIYRda</td>\n",
       "      <td>Today's top country hits. Cover: Megan Moroney</td>\n",
       "      <td>50</td>\n",
       "    </tr>\n",
       "  </tbody>\n",
       "</table>"
      ],
      "text/plain": [
       "<IPython.core.display.HTML object>"
      ]
     },
     "execution_count": 6,
     "metadata": {},
     "output_type": "execute_result"
    }
   ],
   "source": [
    "playlist_df = []\n",
    "# Loop through list of response dictionaries\n",
    "for item in my_playlists[\"items\"]:\n",
    "    playlist_id = item[\"id\"]\n",
    "    playlist_name = item[\"name\"]\n",
    "    description = item[\"description\"]\n",
    "    thumbnail = item[\"images\"][0][\"url\"]\n",
    "    total = item[\"tracks\"][\"total\"]\n",
    "    playlist_df.append([thumbnail, playlist_name, playlist_id, description, total])\n",
    "\n",
    "playlist_df = pd.DataFrame(playlist_df, columns=[\"thumbnail\", \"playlist_name\", \"playlist_id\", \"description\", \"total\"], ).head(3)\n",
    "\n",
    "# Converting links to html tags\n",
    "def path_to_image_html(path):\n",
    "    return f'<img src=\"{path}\" width=\"40\" >'\n",
    "\n",
    "# Rendering the dataframe as HTML table\n",
    "HTML(playlist_df.to_html(escape=False, formatters=dict(thumbnail=path_to_image_html)))"
   ]
  },
  {
   "attachments": {},
   "cell_type": "markdown",
   "id": "930cbad1",
   "metadata": {},
   "source": [
    "---------------------\n",
    "\n",
    "### Extracting Track Data From Playlist\n",
    "\n",
    "Next, we utilize Spotify's API to extract further details about each song within the playlist. We obtain metadata such as the track name, the artist it's sung by, the album it belongs to, the release date, and track features such as danceability, tempo, and popularity."
   ]
  },
  {
   "cell_type": "code",
   "execution_count": 7,
   "id": "f0e6309b",
   "metadata": {},
   "outputs": [],
   "source": [
    "def get_playlist_tracks(playlist_URI):\n",
    "    results = sp.playlist_tracks(playlist_URI)\n",
    "    tracks = results[\"items\"]\n",
    "    while results[\"next\"]:\n",
    "        results = sp.next(results)\n",
    "        tracks.extend(results[\"items\"])\n",
    "    return tracks"
   ]
  },
  {
   "cell_type": "markdown",
   "id": "abbdc47a",
   "metadata": {},
   "source": [
    "Choose a specific playlist to analyze by copying the URL from the Spotify Player interface. Using that link, the `playlist_tracks` method retrieves a list of IDs and corresponding artists for each track from the playlist. Specifically, we analyze Spotify's *Today’s Top Hits* playlist."
   ]
  },
  {
   "cell_type": "code",
   "execution_count": 8,
   "id": "cf282f50",
   "metadata": {
    "tags": [
     "hide-code"
    ]
   },
   "outputs": [],
   "source": [
    "all_tracks = all_tracks[['name', 'track_id', 'album', 'artist', 'artist_id', 'release_date',\n",
    "       'length', 'popularity', 'artist_pop', 'artist_genres',\n",
    "       'artist_followers', 'acousticness', 'danceability', 'energy', 'instrumentalness', \n",
    "       'liveness', 'loudness', 'loudness_scaled', 'speechiness', 'tempo',\n",
    "       'valence', 'key', 'mode', 'time_signature', 'playlist']]"
   ]
  },
  {
   "cell_type": "code",
   "execution_count": 9,
   "id": "45797493",
   "metadata": {
    "tags": [
     "hide-code"
    ]
   },
   "outputs": [],
   "source": [
    "# Count distinct values in column\n",
    "tallyArtists = all_tracks.value_counts([\"artist\", \"artist_id\"]).reset_index(name='counts')\n",
    "topArtist = tallyArtists['artist_id'][1]\n",
    "\n",
    "tallyArtistPop = all_tracks.value_counts([\"artist_pop\"]).reset_index(name='counts')\n",
    "tallyPop = all_tracks.value_counts([\"popularity\"]).reset_index(name='counts')\n",
    "tallyPop = tallyPop[tallyPop['popularity'] > 0]"
   ]
  },
  {
   "cell_type": "markdown",
   "id": "fefe169b",
   "metadata": {},
   "source": [
    "<iframe width=\"102%\" height=\"350px\" src=\"./01_sentiment_analysis/genres_plot.html\" frameborder=\"0\" allowfullscreen=\"\" style=\"margin-bottom: -5px;\"></iframe>\n",
    "<iframe width=\"100%\" height=\"290px\" src=\"./01_sentiment_analysis/html/track_features.html\" frameborder=\"0\" allowfullscreen=\"\" style=\"margin-bottom: 0px;\"></iframe>"
   ]
  },
  {
   "cell_type": "code",
   "execution_count": 10,
   "id": "1fa70d15",
   "metadata": {
    "tags": [
     "hide-code"
    ]
   },
   "outputs": [],
   "source": [
    "links_dict = {\"source_name\":[],\"source_id\":[],\"target_name\":[],\"target_id\":[]};\n",
    "\n",
    "for id, name in tallyArtists[[\"artist_id\",\"artist\"]].values:\n",
    "    ra = sp.artist_related_artists(id)\n",
    "    for artist in ra['artists']:\n",
    "        links_dict[\"source_name\"].append(name)\n",
    "        links_dict[\"source_id\"].append(id)\n",
    "        links_dict[\"target_name\"].append(artist['name'])\n",
    "        links_dict[\"target_id\"].append(artist['id'])\n",
    "\n",
    "links_dict_df = pd.DataFrame(links_dict)\n",
    "#links_dict_df.to_csv(\"assets/data/artist_nodes.csv\", index=False)"
   ]
  },
  {
   "attachments": {},
   "cell_type": "markdown",
   "id": "e192da07",
   "metadata": {},
   "source": [
    "-------\n",
    "\n",
    "\n",
    "## Natural Language Processing\n",
    "\n",
    "Using the data gathered from the Spotify API, we now want to extract and process lyrics for each song. This is accomplished through scraping textual lyrical data from the **Genius Lyrics** website. Following extraction, the lyrics are cleaned before undergoing sentiment analysis.\n",
    "\n",
    "\n",
    "\n",
    "\n",
    "\n"
   ]
  },
  {
   "cell_type": "markdown",
   "id": "fe82a770",
   "metadata": {},
   "source": [
    "### Scraping Song Lyrics\n",
    "\n",
    "The `lyricsgenius` is a fundamental library allowing for web scraping of the Genius Lyrics website. Through the initialization of the `genius` variable, one can access the Genius API and retrieve the lyrics of any given song, such as \"Too Many Nights\" by Metro Boomin.\n",
    "\n"
   ]
  },
  {
   "cell_type": "code",
   "execution_count": 11,
   "id": "e073ecf8",
   "metadata": {
    "tags": [
     "hide-code"
    ]
   },
   "outputs": [],
   "source": [
    "access_token = \"epFCxujgBe-Y6WrkZedI8kerKxiCpR6Rh0DAHYNlKDf9B4H1nXTdZIkj7krNUHVV\""
   ]
  },
  {
   "cell_type": "code",
   "execution_count": 12,
   "id": "95d1a134",
   "metadata": {},
   "outputs": [
    {
     "name": "stdout",
     "output_type": "stream",
     "text": [
      "Searching for \"Too Many Nights\" by Metro Boomin...\n"
     ]
    },
    {
     "name": "stdout",
     "output_type": "stream",
     "text": [
      "Done.\n"
     ]
    }
   ],
   "source": [
    "import lyricsgenius\n",
    "genius = lyricsgenius.Genius(access_token) # Initialize Genius API\n",
    "song = genius.search_song(\"Too Many Nights\", \"Metro Boomin\")"
   ]
  },
  {
   "cell_type": "markdown",
   "id": "7e2ae787",
   "metadata": {},
   "source": [
    "### Pre-Processing Text Data\n",
    "\n",
    "Using the genius library, we define a function to fetch the lyrics of a song given the name and artist. Once retrieved, the next step is to pre-process the lyrics. This involves a cleaning process to eliminate patterns that may hinder the overall readability. The script contains the following steps:\n",
    "\n",
    "<div class = \"roundedlist\">\n",
    "\n",
    "1. Fetching Track Lyrics\n",
    "2. Expanding Contractions\n",
    "3. Converting Text to Lowercase\n",
    "4. Spell Checking + Censoring\n",
    "5. Removing Punctuations\n",
    "6. Tokenizing and encoding to ASCII\n",
    "\n",
    "</div>\n",
    "\n",
    "<!-- Overall, the `clean_song_lyrics` function extracts lyrics from Genius database, expands contractions, removes repetitive phrases, corrects spelling, eliminates profanity, and returns tokenized lyrics as a list of words.-->"
   ]
  },
  {
   "cell_type": "code",
   "execution_count": 13,
   "id": "3daa8a73",
   "metadata": {},
   "outputs": [],
   "source": [
    "def clean_song_lyrics(song_name, artist_name):\n",
    "    # Fetch song lyrics and clean\n",
    "    lyrics = get_song_lyrics(song_name, artist_name) \n",
    "    lyrics = profanity.censor(contractions.fix(lyrics).lower(), censor_char=\"\")\n",
    "    lyrics = remove_punctuation(lyrics) \n",
    "    \n",
    "    # Tokenizing and encoding to ASCII\n",
    "    return [word.encode(\"ascii\", \"ignore\").decode() for word in word_tokenize(lyrics)]"
   ]
  },
  {
   "attachments": {},
   "cell_type": "markdown",
   "id": "f0e701f6",
   "metadata": {},
   "source": [
    "#### Further Text Cleaning\n",
    "\n",
    "We employ the Natural Language Toolkit (*NLTK*) to filter out stopwords and perform lemmatization. Removing common words like \"the\" condenses the text, allowing for a more thorough analysis of the lyrics' core message. Lemmatization helps standardize text by transforming different verb variations into their most basic form. \n"
   ]
  },
  {
   "cell_type": "code",
   "execution_count": 14,
   "id": "90b10b92",
   "metadata": {
    "tags": [
     "hide-code"
    ]
   },
   "outputs": [
    {
     "data": {
      "text/html": [
       "<div>\n",
       "<style scoped>\n",
       "    .dataframe tbody tr th:only-of-type {\n",
       "        vertical-align: middle;\n",
       "    }\n",
       "\n",
       "    .dataframe tbody tr th {\n",
       "        vertical-align: top;\n",
       "    }\n",
       "\n",
       "    .dataframe thead th {\n",
       "        text-align: right;\n",
       "    }\n",
       "</style>\n",
       "<table border=\"1\" class=\"dataframe\">\n",
       "  <thead>\n",
       "    <tr style=\"text-align: right;\">\n",
       "      <th></th>\n",
       "      <th>name</th>\n",
       "      <th>artist</th>\n",
       "      <th>lyrics</th>\n",
       "      <th>stopwords_removed</th>\n",
       "      <th>lemmatized</th>\n",
       "    </tr>\n",
       "  </thead>\n",
       "  <tbody>\n",
       "    <tr>\n",
       "      <th>0</th>\n",
       "      <td>Please Please Please</td>\n",
       "      <td>Sabrina Carpenter</td>\n",
       "      <td>['i', 'know', 'i', 'have', 'good', 'judgment', 'i',...</td>\n",
       "      <td>['know', 'good', 'judgment', 'know', 'good', 'taste...</td>\n",
       "      <td>['know', 'good', 'judgment', 'know', 'good', 'taste...</td>\n",
       "    </tr>\n",
       "    <tr>\n",
       "      <th>1</th>\n",
       "      <td>Si Antes Te Hubiera Conocido</td>\n",
       "      <td>KAROL G</td>\n",
       "      <td>['what', 'what', 'we', 'are', 'in', 'a', 'relay', '...</td>\n",
       "      <td>['relay', 'summer', 'started', 'fire', 'would', 'me...</td>\n",
       "      <td>['relay', 'summer', 'start', 'fire', 'would', 'meet...</td>\n",
       "    </tr>\n",
       "    <tr>\n",
       "      <th>2</th>\n",
       "      <td>BIRDS OF A FEATHER</td>\n",
       "      <td>Billie Eilish</td>\n",
       "      <td>['i', 'want', 'you', 'to', 'stay', 'til', 'i', 'am'...</td>\n",
       "      <td>['want', 'stay', 'til', 'grave', 'til', 'rot', 'awa...</td>\n",
       "      <td>['want', 'stay', 'til', 'grave', 'til', 'rot', 'awa...</td>\n",
       "    </tr>\n",
       "  </tbody>\n",
       "</table>\n",
       "</div>"
      ],
      "text/plain": [
       "                           name             artist  \\\n",
       "0          Please Please Please  Sabrina Carpenter   \n",
       "1  Si Antes Te Hubiera Conocido            KAROL G   \n",
       "2            BIRDS OF A FEATHER      Billie Eilish   \n",
       "\n",
       "                                                   lyrics  \\\n",
       "0  ['i', 'know', 'i', 'have', 'good', 'judgment', 'i',...   \n",
       "1  ['what', 'what', 'we', 'are', 'in', 'a', 'relay', '...   \n",
       "2  ['i', 'want', 'you', 'to', 'stay', 'til', 'i', 'am'...   \n",
       "\n",
       "                                        stopwords_removed  \\\n",
       "0  ['know', 'good', 'judgment', 'know', 'good', 'taste...   \n",
       "1  ['relay', 'summer', 'started', 'fire', 'would', 'me...   \n",
       "2  ['want', 'stay', 'til', 'grave', 'til', 'rot', 'awa...   \n",
       "\n",
       "                                               lemmatized  \n",
       "0  ['know', 'good', 'judgment', 'know', 'good', 'taste...  \n",
       "1  ['relay', 'summer', 'start', 'fire', 'would', 'meet...  \n",
       "2  ['want', 'stay', 'til', 'grave', 'til', 'rot', 'awa...  "
      ]
     },
     "execution_count": 14,
     "metadata": {},
     "output_type": "execute_result"
    }
   ],
   "source": [
    "pd.options.display.max_colwidth = 55\n",
    "df_lyrics = all_tracks_with_lyrics[['name',  'artist', 'lyrics', 'stopwords_removed', 'lemmatized']]\n",
    "df_lyrics.head(3)"
   ]
  },
  {
   "cell_type": "markdown",
   "id": "3b605838",
   "metadata": {},
   "source": [
    "#### Term Frequency Analysis\n",
    "\n",
    "<!-- Exploratory text analysis-->\n",
    "\n",
    "Let's examine the most frequent words. Plotting the frequency distribution helps to determine the occurrence of the most common terms in our lyrical corpus."
   ]
  },
  {
   "cell_type": "code",
   "execution_count": 15,
   "id": "46f1b6bd",
   "metadata": {
    "tags": [
     "hide-code"
    ]
   },
   "outputs": [],
   "source": [
    "from nltk.probability import FreqDist\n",
    "\n",
    "all_words = []\n",
    "for words in df_lyrics['lemmatized']:\n",
    "    res = words.replace(\"'\", \"\").strip('][').split(', ')\n",
    "    all_words += res\n",
    "\n",
    "mostcommon = FreqDist(all_words).most_common(30)\n",
    "x_mostcommon, y_mostcommon = zip(*mostcommon)\n"
   ]
  },
  {
   "cell_type": "markdown",
   "id": "0792ddb7",
   "metadata": {},
   "source": [
    "<iframe width=\"100%\" height=\"360px\" src=\"./01_sentiment_analysis/html/lyrics.html\" frameborder=\"0\" allowfullscreen=\"\" style=\"margin-bottom: -5px;\"></iframe>\n"
   ]
  },
  {
   "attachments": {},
   "cell_type": "markdown",
   "id": "55ec739a",
   "metadata": {},
   "source": [
    "--------------\n",
    "\n",
    "\n",
    "## Sentiment Analysis\n",
    "\n",
    "The next process involves implementing pipelines to predict emotions and sentiment in textual content using transformer models designed for text classification and sentiment analysis. Three distinct pipelines are created, each equipped with different models.\n"
   ]
  },
  {
   "cell_type": "code",
   "execution_count": 16,
   "id": "6af2eb41",
   "metadata": {
    "tags": [
     "hide-output",
     "hide-message",
     "hide-warning"
    ]
   },
   "outputs": [],
   "source": [
    "from transformers import pipeline\n",
    "\n",
    "classifiers = [ # Initialize sentiment classifiers\n",
    "    pipeline(model='bhadresh-savani/distilbert-base-uncased-emotion'),\n",
    "    pipeline(model='cardiffnlp/twitter-roberta-base-sentiment')\n",
    "]"
   ]
  },
  {
   "cell_type": "markdown",
   "id": "8b72aa4d",
   "metadata": {},
   "source": [
    "One of the classifiers is the *distilbert-base-uncased-emotion* model, which detects emotions in texts like sadness, joy, love, anger, fear, and surprise. Another classifier is the *roBERTa-base* model \"trained on 58 million tweets and fine-tuned for sentiment analysis using the TweetEval benchmark\" (EMNLP 2020). \n",
    "\n",
    "We then implement the `get_lyric_sentiment` function, which uses three classifiers to calculate sentiment scores from pre-processed lyrics. "
   ]
  },
  {
   "cell_type": "code",
   "execution_count": 17,
   "id": "f392c729",
   "metadata": {},
   "outputs": [],
   "source": [
    "# Function to perform sentiment analysis\n",
    "def get_lyric_sentiment(lyrics, classifiers):\n",
    "    text = \" \".join(lyrics)\n",
    "    scores = {}\n",
    "    for classifier in classifiers:\n",
    "        try:\n",
    "            predictions = classifier(text, truncation=True)\n",
    "            for prediction in predictions[0]:\n",
    "                scores[prediction[\"label\"]] = prediction[\"score\"]\n",
    "        except Exception as e:\n",
    "            print(f\"Error during sentiment analysis: {e}\")\n",
    "    return scores"
   ]
  },
  {
   "cell_type": "markdown",
   "id": "a0179055",
   "metadata": {},
   "source": [
    "Below is a graphical representation of the results obtained from the *roBERTa-base* model. According to the **TweetEval** reference paper and official Github repository, the resulting labels `0`, `1`, and `2` correspond to Negative, Neutral, and Positive, respectively.\n"
   ]
  },
  {
   "cell_type": "markdown",
   "id": "efb8ca04",
   "metadata": {},
   "source": [
    "<iframe width=\"100%\" height=\"200px\" src=\"./01_sentiment_analysis/html/roBERTa.html\" frameborder=\"0\" allowfullscreen=\"\" style=\"margin-bottom: 0px;\"></iframe>\n"
   ]
  },
  {
   "attachments": {},
   "cell_type": "markdown",
   "id": "2dc6ac29",
   "metadata": {},
   "source": [
    "---------------------\n",
    "\n",
    "\n",
    "## Putting it All Together\n",
    "\n",
    "\n",
    "To summarize, the code efficiently collects data and performs text analysis on every song in a playlist. Specifically, it systematically processes a list of tracks and corresponding artists while simultaneously conducting a thorough cleaning procedure on the lyrics. Additionally, the program computes a sentiment score for each song based on the lyrics, indicating whether the lyrics are positive, negative, or neutral. \n"
   ]
  },
  {
   "cell_type": "code",
   "execution_count": 18,
   "id": "b4a4e177",
   "metadata": {
    "tags": [
     "hide-code"
    ]
   },
   "outputs": [
    {
     "data": {
      "text/html": [
       "<div>\n",
       "<style scoped>\n",
       "    .dataframe tbody tr th:only-of-type {\n",
       "        vertical-align: middle;\n",
       "    }\n",
       "\n",
       "    .dataframe tbody tr th {\n",
       "        vertical-align: top;\n",
       "    }\n",
       "\n",
       "    .dataframe thead th {\n",
       "        text-align: right;\n",
       "    }\n",
       "</style>\n",
       "<table border=\"1\" class=\"dataframe\">\n",
       "  <thead>\n",
       "    <tr style=\"text-align: right;\">\n",
       "      <th></th>\n",
       "      <th>name</th>\n",
       "      <th>album</th>\n",
       "      <th>artist</th>\n",
       "      <th>release_date</th>\n",
       "      <th>length</th>\n",
       "      <th>popularity</th>\n",
       "      <th>artist_pop</th>\n",
       "      <th>artist_genres</th>\n",
       "      <th>acousticness</th>\n",
       "      <th>danceability</th>\n",
       "      <th>...</th>\n",
       "      <th>joy</th>\n",
       "      <th>love</th>\n",
       "      <th>anger</th>\n",
       "      <th>fear</th>\n",
       "      <th>surprise</th>\n",
       "      <th>LABEL_0</th>\n",
       "      <th>LABEL_1</th>\n",
       "      <th>LABEL_2</th>\n",
       "      <th>NEGATIVE</th>\n",
       "      <th>POSITIVE</th>\n",
       "    </tr>\n",
       "  </thead>\n",
       "  <tbody>\n",
       "    <tr>\n",
       "      <th>0</th>\n",
       "      <td>Please Please Please</td>\n",
       "      <td>Please Please Please</td>\n",
       "      <td>Sabrina Carpenter</td>\n",
       "      <td>2024-06-06</td>\n",
       "      <td>186365</td>\n",
       "      <td>98</td>\n",
       "      <td>91</td>\n",
       "      <td>['pop']</td>\n",
       "      <td>0.274</td>\n",
       "      <td>0.669</td>\n",
       "      <td>...</td>\n",
       "      <td>0.955393</td>\n",
       "      <td>0.035888</td>\n",
       "      <td>0.002778</td>\n",
       "      <td>0.000637</td>\n",
       "      <td>0.000841</td>\n",
       "      <td>0.251058</td>\n",
       "      <td>0.542962</td>\n",
       "      <td>0.205980</td>\n",
       "      <td>0.857851</td>\n",
       "      <td>0.142149</td>\n",
       "    </tr>\n",
       "    <tr>\n",
       "      <th>1</th>\n",
       "      <td>Si Antes Te Hubiera Conocido</td>\n",
       "      <td>Si Antes Te Hubiera Conocido</td>\n",
       "      <td>KAROL G</td>\n",
       "      <td>2024-06-21</td>\n",
       "      <td>195824</td>\n",
       "      <td>91</td>\n",
       "      <td>89</td>\n",
       "      <td>['reggaeton', 'reggaeton colombiano', 'trap latino'...</td>\n",
       "      <td>0.446</td>\n",
       "      <td>0.924</td>\n",
       "      <td>...</td>\n",
       "      <td>0.003352</td>\n",
       "      <td>0.008062</td>\n",
       "      <td>0.982214</td>\n",
       "      <td>0.002481</td>\n",
       "      <td>0.000541</td>\n",
       "      <td>0.043676</td>\n",
       "      <td>0.469266</td>\n",
       "      <td>0.487059</td>\n",
       "      <td>0.957238</td>\n",
       "      <td>0.042762</td>\n",
       "    </tr>\n",
       "    <tr>\n",
       "      <th>2</th>\n",
       "      <td>BIRDS OF A FEATHER</td>\n",
       "      <td>HIT ME HARD AND SOFT</td>\n",
       "      <td>Billie Eilish</td>\n",
       "      <td>2024-05-17</td>\n",
       "      <td>210373</td>\n",
       "      <td>98</td>\n",
       "      <td>94</td>\n",
       "      <td>['art pop', 'pop']</td>\n",
       "      <td>0.200</td>\n",
       "      <td>0.747</td>\n",
       "      <td>...</td>\n",
       "      <td>0.180090</td>\n",
       "      <td>0.008181</td>\n",
       "      <td>0.068175</td>\n",
       "      <td>0.434426</td>\n",
       "      <td>0.034063</td>\n",
       "      <td>0.122799</td>\n",
       "      <td>0.504202</td>\n",
       "      <td>0.372999</td>\n",
       "      <td>0.959893</td>\n",
       "      <td>0.040107</td>\n",
       "    </tr>\n",
       "  </tbody>\n",
       "</table>\n",
       "<p>3 rows × 33 columns</p>\n",
       "</div>"
      ],
      "text/plain": [
       "                           name                         album  \\\n",
       "0          Please Please Please          Please Please Please   \n",
       "1  Si Antes Te Hubiera Conocido  Si Antes Te Hubiera Conocido   \n",
       "2            BIRDS OF A FEATHER          HIT ME HARD AND SOFT   \n",
       "\n",
       "              artist release_date  length  popularity  artist_pop  \\\n",
       "0  Sabrina Carpenter   2024-06-06  186365          98          91   \n",
       "1            KAROL G   2024-06-21  195824          91          89   \n",
       "2      Billie Eilish   2024-05-17  210373          98          94   \n",
       "\n",
       "                                            artist_genres  acousticness  \\\n",
       "0                                                 ['pop']         0.274   \n",
       "1  ['reggaeton', 'reggaeton colombiano', 'trap latino'...         0.446   \n",
       "2                                      ['art pop', 'pop']         0.200   \n",
       "\n",
       "   danceability  ...       joy      love     anger      fear  surprise  \\\n",
       "0         0.669  ...  0.955393  0.035888  0.002778  0.000637  0.000841   \n",
       "1         0.924  ...  0.003352  0.008062  0.982214  0.002481  0.000541   \n",
       "2         0.747  ...  0.180090  0.008181  0.068175  0.434426  0.034063   \n",
       "\n",
       "    LABEL_0   LABEL_1   LABEL_2  NEGATIVE  POSITIVE  \n",
       "0  0.251058  0.542962  0.205980  0.857851  0.142149  \n",
       "1  0.043676  0.469266  0.487059  0.957238  0.042762  \n",
       "2  0.122799  0.504202  0.372999  0.959893  0.040107  \n",
       "\n",
       "[3 rows x 33 columns]"
      ]
     },
     "execution_count": 18,
     "metadata": {},
     "output_type": "execute_result"
    }
   ],
   "source": [
    "# all_tracks_with_lyrics.head(2)\n",
    "df_final = all_tracks_with_lyrics[['name', 'album', 'artist', 'release_date',\n",
    "       'length', 'popularity', 'artist_pop', 'artist_genres', 'acousticness',\n",
    "       'danceability', 'energy', 'instrumentalness', 'liveness', 'loudness','loudness_scaled',\n",
    "       'speechiness', 'tempo', 'valence', 'key', 'mode', 'time_signature',\n",
    "       'playlist', 'sadness', 'joy', 'love', 'anger', 'fear', 'surprise',\n",
    "       'LABEL_0', 'LABEL_1', 'LABEL_2', 'NEGATIVE', 'POSITIVE']]\n",
    "\n",
    "df_final.head(3)"
   ]
  },
  {
   "attachments": {},
   "cell_type": "markdown",
   "id": "71aa091a",
   "metadata": {},
   "source": [
    "In summary, the above code aims to collect and refine song lyrics by eliminating stopwords and conducting lemmatization. Subsequently, it employs pre-trained models for sentiment analysis to determine the prevailing emotion conveyed in the lyrics. Finally, the program compiles all this information into a dataframe for further analysis.\n"
   ]
  },
  {
   "attachments": {},
   "cell_type": "markdown",
   "id": "e8862747",
   "metadata": {},
   "source": [
    "------------------------------------\n",
    "\n",
    "\n",
    "## Correlations Matrix\n",
    "\n",
    "After completing the initial data analysis, we proceed with generating the Pearson correlations matrix using the Pandas command `df.corr()`. Subsequently, we visualize the matrix using the seaborn heatmap, providing a detailed understanding of the relationships between the various variables in our dataset.\n"
   ]
  },
  {
   "cell_type": "code",
   "execution_count": 19,
   "id": "bc666f30",
   "metadata": {},
   "outputs": [],
   "source": [
    "track_sentiment_df = df_final[['name', 'artist',\n",
    "           'acousticness', 'danceability', 'energy', 'instrumentalness', \n",
    "           'loudness', 'speechiness', 'tempo', 'valence', \n",
    "           'sadness', 'joy', 'love', 'anger', 'fear', 'surprise',\n",
    "           'LABEL_0', 'LABEL_1', 'LABEL_2', 'NEGATIVE', 'POSITIVE']]\n",
    "\n",
    "# Find the pearson correlations matrix\n",
    "corr = track_sentiment_df.corr(method = 'pearson')"
   ]
  },
  {
   "cell_type": "markdown",
   "id": "b251fd68",
   "metadata": {},
   "source": [
    "<iframe width=\"100%\" height=\"450px\" src=\"./01_sentiment_analysis/html/corr.html\" frameborder=\"0\" allowfullscreen=\"\" style=\"margin-bottom: -5px;\"></iframe>\n"
   ]
  },
  {
   "cell_type": "markdown",
   "id": "853e7f52",
   "metadata": {},
   "source": [
    "The code below produces a scatterplot that showcases the correlation between energy and fear. The x-axis represents the energy value, while the y-axis represents the fear sentiment. The size of each data point corresponds to the label indicating the neutral sentiment level, and its color represents the valence value. Moreover, each bubble contains its energy value within, allowing for a straightforward interpretation of the data.\n"
   ]
  },
  {
   "cell_type": "markdown",
   "id": "f7f6b452",
   "metadata": {},
   "source": [
    "<iframe width=\"100%\" height=\"340px\" src=\"./01_sentiment_analysis/html/corr_bubble1.html\" frameborder=\"0\" allowfullscreen=\"\" style=\"margin-bottom: -5px;\"></iframe>\n"
   ]
  },
  {
   "cell_type": "markdown",
   "id": "c74788ef",
   "metadata": {},
   "source": [
    "Similarly, the scatterplot presented above utilizes the track sentiment data, comparing the energy and fear levels of the tracks based on valence and size."
   ]
  },
  {
   "attachments": {},
   "cell_type": "markdown",
   "id": "84b5033b",
   "metadata": {},
   "source": [
    "------\n",
    "\n",
    "\n",
    "\n",
    "## Principal Component Analysis"
   ]
  },
  {
   "cell_type": "markdown",
   "id": "0cf0dcf8",
   "metadata": {},
   "source": [
    "Principal Component Analysis (PCA) is a **unsupervised** dimension reduction algorithm. We implement PCA on a range of track audio features as well as emotional sentiments such as sadness, joy, love, anger, and more from our data. This lets us transform the data into fewer columns, reducing the dimensionality without losing significant information.\n",
    "\n",
    "\n",
    "After performing PCA on the data, we apply it to generate a biplot depicting the relationship between the features and tracks. This biplot quickly reveals any discernible patterns and clusters within the dataset.\n"
   ]
  },
  {
   "cell_type": "code",
   "execution_count": 20,
   "id": "7ab5b6f4",
   "metadata": {},
   "outputs": [],
   "source": [
    "X_SMALL = df_final[['acousticness', 'danceability', 'energy', 'speechiness', \n",
    "                    'tempo', 'valence', 'sadness', 'joy', 'love', 'anger', \n",
    "                    'fear', 'surprise', 'name', 'LABEL_0', 'LABEL_1', 'LABEL_2']]"
   ]
  },
  {
   "cell_type": "markdown",
   "id": "86911cfb",
   "metadata": {},
   "source": [
    "\n",
    "\n",
    "We use the `PCA` and `StandardScaler` modules from the `sklearn` library. First, we select the first 12 columns from our data subset and form a matrix, named $X_i$. We then standardize the data. Next, we apply PCA to the standardized data, $X_{st}$. Lastly, we save the obtained loadings and eigenvalues.\n",
    "\n",
    "\n"
   ]
  },
  {
   "cell_type": "code",
   "execution_count": 21,
   "id": "27baa0a4",
   "metadata": {},
   "outputs": [
    {
     "data": {
      "text/plain": [
       "array([2.65011368e+00, 1.78220617e+00, 1.32078217e+00, 1.23927771e+00,\n",
       "       1.13536483e+00, 1.04777115e+00, 8.75900205e-01, 7.54116010e-01,\n",
       "       6.06658820e-01, 5.67131303e-01, 2.65575917e-01, 7.98632974e-15])"
      ]
     },
     "execution_count": 21,
     "metadata": {},
     "output_type": "execute_result"
    }
   ],
   "source": [
    "from sklearn.decomposition import PCA\n",
    "from sklearn.preprocessing import StandardScaler\n",
    "\n",
    "# Standard scaling track audio features\n",
    "X_i = X_SMALL.iloc[:,0:12]\n",
    "X_st =  StandardScaler().fit_transform(X_i)\n",
    "\n",
    "# Apply PCA to scaled data\n",
    "pca = PCA()\n",
    "pca_out = pca.fit(X_st)\n",
    "\n",
    "# component loadings\n",
    "loadings = pca_out.components_\n",
    "\n",
    "# get eigenvalues (variance explained by each PC)  \n",
    "pca_out.explained_variance_"
   ]
  },
  {
   "cell_type": "markdown",
   "id": "e7e9992a",
   "metadata": {},
   "source": [
    "Next, the following code uses the `PCA()` function to calculate the PCA scores of the standardized data set, $X_{st}$. "
   ]
  },
  {
   "cell_type": "code",
   "execution_count": 22,
   "id": "4235fdde",
   "metadata": {
    "tags": [
     "hide-code"
    ]
   },
   "outputs": [],
   "source": [
    "target = X_SMALL['name'].to_numpy()"
   ]
  },
  {
   "cell_type": "code",
   "execution_count": 23,
   "id": "38cc6e7e",
   "metadata": {},
   "outputs": [],
   "source": [
    "features = X_i.columns.values # Labels\n",
    "components = pca.fit_transform(X_st) # PCA Score\n",
    "loadings = pca_out.components_.T * np.sqrt(pca_out.explained_variance_)"
   ]
  },
  {
   "cell_type": "markdown",
   "id": "72689bae",
   "metadata": {},
   "source": [
    "A biplot is generated based on the PCA scores and loadings, and the column names of the $X_i$ data frame are used as labels for the plot. The variance explained by the first two principal components are also displayed on the plot.\n"
   ]
  },
  {
   "cell_type": "code",
   "execution_count": 24,
   "id": "23a8ff2e",
   "metadata": {
    "tags": [
     "hide-code"
    ]
   },
   "outputs": [
    {
     "data": {
      "text/html": [
       "        <script type=\"text/javascript\">\n",
       "        window.PlotlyConfig = {MathJaxConfig: 'local'};\n",
       "        if (window.MathJax && window.MathJax.Hub && window.MathJax.Hub.Config) {window.MathJax.Hub.Config({SVG: {font: \"STIX-Web\"}});}\n",
       "        if (typeof require !== 'undefined') {\n",
       "        require.undef(\"plotly\");\n",
       "        requirejs.config({\n",
       "            paths: {\n",
       "                'plotly': ['https://cdn.plot.ly/plotly-2.27.0.min']\n",
       "            }\n",
       "        });\n",
       "        require(['plotly'], function(Plotly) {\n",
       "            window._Plotly = Plotly;\n",
       "        });\n",
       "        }\n",
       "        </script>\n",
       "        "
      ]
     },
     "metadata": {},
     "output_type": "display_data"
    },
    {
     "data": {
      "application/vnd.plotly.v1+json": {
       "config": {
        "plotlyServerURL": "https://plot.ly"
       },
       "data": [
        {
         "hovertemplate": "2=%{x}<br>10=%{y}<br>0=%{marker.color}<extra></extra>",
         "legendgroup": "",
         "marker": {
          "color": [
           -0.6529410229507272,
           -1.1921088883104525,
           1.0803973460770857,
           -1.3063197129631825,
           -1.335645282807111,
           -0.8164227169471183,
           -1.6607144206070688,
           -1.7751464239035706,
           2.7539145374746443,
           -1.6242026170759172,
           -1.022032319657575,
           -1.666984292589261,
           2.1553980853380073,
           -1.7525751258712148,
           -1.1078269571848924,
           -0.39978048943973543,
           2.5969443307250675,
           1.3649169489353519,
           0.9619927234735535,
           1.4834300209427407,
           -2.619614155086019,
           -0.5537937474951462,
           -0.2775425716617555,
           2.2030539340358892,
           -1.276054602888579,
           0.021996215584201537,
           -1.1004522666675447,
           -0.7510236158004882,
           2.8317745644913237,
           3.1448527104560484,
           1.1411268492367292,
           0.4221072113344815,
           -0.9819724693151947,
           1.8719369471769913,
           -1.067349637351241,
           -2.9932998963220006,
           0.8374125070350272,
           -1.0834088348135023,
           -0.21583286991120715,
           2.073592442140298,
           2.608225588715174,
           2.071162331134727,
           2.100156299069605,
           -0.05030280103040167,
           1.1458261445636455,
           -2.4413867837503536,
           0.0027699760996006298,
           -1.2986233865622983,
           -1.055467984227936,
           -0.7941618208486989
          ],
          "coloraxis": "coloraxis",
          "size": 7.5,
          "symbol": "circle"
         },
         "mode": "markers",
         "name": "",
         "orientation": "v",
         "showlegend": false,
         "type": "scatter",
         "x": [
          0.2776007975899636,
          -0.6875708738841253,
          1.1294651556322115,
          0.5971857847311923,
          -0.08547631984434016,
          0.36439623754554057,
          0.08858615316682168,
          0.482335476182905,
          2.5708206102677753,
          0.21175568384329657,
          -0.3836718341790985,
          0.1131809439012467,
          -1.281747789318644,
          0.8645483348301155,
          1.2994468989550447,
          0.34467596886619706,
          -0.9231499679903055,
          -0.9227758136568818,
          -1.543725759127154,
          -1.477859530501295,
          -0.290973665945933,
          -0.47853982588131616,
          -0.3673580931540716,
          2.0385886017533705,
          -0.7798925923490967,
          -1.517167604661539,
          -0.832596890100365,
          -1.114215896416267,
          0.6921391937127778,
          -0.4162428020173477,
          -1.056663657182519,
          -0.4148899582443745,
          0.13940030043620963,
          -0.8879548037676493,
          0.4497225482034972,
          -0.472066054247392,
          0.3576574132782199,
          0.2631368203453167,
          0.16366869769973172,
          -1.173000784668452,
          2.8231970582022456,
          -1.8344099229043744,
          -1.0457037961305504,
          0.11028333749085019,
          2.1005167360405848,
          -0.7189552644632689,
          -0.7929800518967333,
          0.5303556221065605,
          -0.03000519572851415,
          3.5169303734799366
         ],
         "xaxis": "x",
         "y": [
          0.1480745627103491,
          -0.4298613617864686,
          -0.2876981905252528,
          0.7315282349792492,
          0.07271516618590558,
          -0.8558551651444758,
          0.18620915619398182,
          0.9015605657066007,
          0.27920946891619797,
          0.05237335567771286,
          -0.18836970862635125,
          -0.12062415479000847,
          -0.22825911177848945,
          0.8475934330302075,
          1.250397653236906,
          -0.44789019086717885,
          -0.35010699349737173,
          -0.00030950688478501086,
          0.01936698481372495,
          -0.9813697743111526,
          -0.5002277443083458,
          0.19110484920516294,
          -0.1848197028818856,
          0.6092974538987309,
          -0.13050784558276374,
          0.7684531381503334,
          0.5248429520971243,
          -0.8173280437612507,
          -0.23237830347640495,
          -0.2773695604085485,
          0.2815747724714443,
          -0.19300793712647044,
          -0.6170556438673953,
          0.4987521662887795,
          -0.23882733545995724,
          -0.02365506934922833,
          -0.7425093222723519,
          -0.7704122486485265,
          -0.2897687755238944,
          1.2344773666886486,
          -0.3390961204698993,
          0.5694103426297953,
          0.3310265871208446,
          -0.07450170240054389,
          -0.2883748813235694,
          0.32202400758954985,
          0.18047613915766864,
          -0.3841624296442471,
          -0.008689344159880659,
          0.002567812127778528
         ],
         "yaxis": "y"
        }
       ],
       "layout": {
        "annotations": [
         {
          "arrowhead": 2,
          "arrowsize": 2,
          "ax": 0,
          "axref": "x",
          "ay": 0,
          "ayref": "y",
          "showarrow": true,
          "x": 0.41201588319268256,
          "xanchor": "right",
          "y": 0.5681195005638003,
          "yanchor": "top"
         },
         {
          "ax": 0,
          "ay": 0,
          "text": "acousticness",
          "x": 0.41201588319268256,
          "xanchor": "center",
          "y": 0.5681195005638003,
          "yanchor": "bottom",
          "yshift": 5
         },
         {
          "arrowhead": 2,
          "arrowsize": 2,
          "ax": 0,
          "axref": "x",
          "ay": 0,
          "ayref": "y",
          "showarrow": true,
          "x": -0.6982388798491203,
          "xanchor": "right",
          "y": 0.4365904669974574,
          "yanchor": "top"
         },
         {
          "ax": 0,
          "ay": 0,
          "text": "danceability",
          "x": -0.6982388798491203,
          "xanchor": "center",
          "y": 0.4365904669974574,
          "yanchor": "bottom",
          "yshift": 5
         },
         {
          "arrowhead": 2,
          "arrowsize": 2,
          "ax": 0,
          "axref": "x",
          "ay": 0,
          "ayref": "y",
          "showarrow": true,
          "x": -0.503144139243102,
          "xanchor": "right",
          "y": -0.22641095800855046,
          "yanchor": "top"
         },
         {
          "ax": 0,
          "ay": 0,
          "text": "energy",
          "x": -0.503144139243102,
          "xanchor": "center",
          "y": -0.22641095800855046,
          "yanchor": "bottom",
          "yshift": 5
         },
         {
          "arrowhead": 2,
          "arrowsize": 2,
          "ax": 0,
          "axref": "x",
          "ay": 0,
          "ayref": "y",
          "showarrow": true,
          "x": -0.3071887078237197,
          "xanchor": "right",
          "y": 0.5273854438468057,
          "yanchor": "top"
         },
         {
          "ax": 0,
          "ay": 0,
          "text": "speechiness",
          "x": -0.3071887078237197,
          "xanchor": "center",
          "y": 0.5273854438468057,
          "yanchor": "bottom",
          "yshift": 5
         },
         {
          "arrowhead": 2,
          "arrowsize": 2,
          "ax": 0,
          "axref": "x",
          "ay": 0,
          "ayref": "y",
          "showarrow": true,
          "x": 0.16633993256400056,
          "xanchor": "right",
          "y": 0.15007803998140265,
          "yanchor": "top"
         },
         {
          "ax": 0,
          "ay": 0,
          "text": "tempo",
          "x": 0.16633993256400056,
          "xanchor": "center",
          "y": 0.15007803998140265,
          "yanchor": "bottom",
          "yshift": 5
         },
         {
          "arrowhead": 2,
          "arrowsize": 2,
          "ax": 0,
          "axref": "x",
          "ay": 0,
          "ayref": "y",
          "showarrow": true,
          "x": -0.7115864584668476,
          "xanchor": "right",
          "y": 0.20817348814970182,
          "yanchor": "top"
         },
         {
          "ax": 0,
          "ay": 0,
          "text": "valence",
          "x": -0.7115864584668476,
          "xanchor": "center",
          "y": 0.20817348814970182,
          "yanchor": "bottom",
          "yshift": 5
         },
         {
          "arrowhead": 2,
          "arrowsize": 2,
          "ax": 0,
          "axref": "x",
          "ay": 0,
          "ayref": "y",
          "showarrow": true,
          "x": 0.6452241572228861,
          "xanchor": "right",
          "y": 0.08256604912234528,
          "yanchor": "top"
         },
         {
          "ax": 0,
          "ay": 0,
          "text": "sadness",
          "x": 0.6452241572228861,
          "xanchor": "center",
          "y": 0.08256604912234528,
          "yanchor": "bottom",
          "yshift": 5
         },
         {
          "arrowhead": 2,
          "arrowsize": 2,
          "ax": 0,
          "axref": "x",
          "ay": 0,
          "ayref": "y",
          "showarrow": true,
          "x": -0.6716065892301798,
          "xanchor": "right",
          "y": -0.35571088571991527,
          "yanchor": "top"
         },
         {
          "ax": 0,
          "ay": 0,
          "text": "joy",
          "x": -0.6716065892301798,
          "xanchor": "center",
          "y": -0.35571088571991527,
          "yanchor": "bottom",
          "yshift": 5
         },
         {
          "arrowhead": 2,
          "arrowsize": 2,
          "ax": 0,
          "axref": "x",
          "ay": 0,
          "ayref": "y",
          "showarrow": true,
          "x": -0.04975561318616488,
          "xanchor": "right",
          "y": -0.4273071972405915,
          "yanchor": "top"
         },
         {
          "ax": 0,
          "ay": 0,
          "text": "love",
          "x": -0.04975561318616488,
          "xanchor": "center",
          "y": -0.4273071972405915,
          "yanchor": "bottom",
          "yshift": 5
         },
         {
          "arrowhead": 2,
          "arrowsize": 2,
          "ax": 0,
          "axref": "x",
          "ay": 0,
          "ayref": "y",
          "showarrow": true,
          "x": -0.20869797084488803,
          "xanchor": "right",
          "y": 0.7248101401890222,
          "yanchor": "top"
         },
         {
          "ax": 0,
          "ay": 0,
          "text": "anger",
          "x": -0.20869797084488803,
          "xanchor": "center",
          "y": 0.7248101401890222,
          "yanchor": "bottom",
          "yshift": 5
         },
         {
          "arrowhead": 2,
          "arrowsize": 2,
          "ax": 0,
          "axref": "x",
          "ay": 0,
          "ayref": "y",
          "showarrow": true,
          "x": 0.44045047839792617,
          "xanchor": "right",
          "y": 0.17671354338182313,
          "yanchor": "top"
         },
         {
          "ax": 0,
          "ay": 0,
          "text": "fear",
          "x": 0.44045047839792617,
          "xanchor": "center",
          "y": 0.17671354338182313,
          "yanchor": "bottom",
          "yshift": 5
         },
         {
          "arrowhead": 2,
          "arrowsize": 2,
          "ax": 0,
          "axref": "x",
          "ay": 0,
          "ayref": "y",
          "showarrow": true,
          "x": -0.06228289226191055,
          "xanchor": "right",
          "y": -0.032588024319481934,
          "yanchor": "top"
         },
         {
          "ax": 0,
          "ay": 0,
          "text": "surprise",
          "x": -0.06228289226191055,
          "xanchor": "center",
          "y": -0.032588024319481934,
          "yanchor": "bottom",
          "yshift": 5
         }
        ],
        "coloraxis": {
         "colorbar": {
          "dtick": 1,
          "lenmode": "pixels",
          "thickness": 5,
          "title": {
           "font": {
            "family": "Roboto Condensed",
            "size": 13
           },
           "text": "PC0"
          }
         },
         "colorscale": [
          [
           0.0,
           "#A951E0"
          ],
          [
           0.5,
           "#D0B6F7"
          ],
          [
           1.0,
           "#6941FA"
          ]
         ]
        },
        "font": {
         "family": "Roboto",
         "size": 13
        },
        "height": 400,
        "legend": {
         "tracegroupgap": 0
        },
        "margin": {
         "b": 50,
         "l": 10,
         "r": 10,
         "t": 50
        },
        "template": {
         "data": {
          "bar": [
           {
            "error_x": {
             "color": "#2a3f5f"
            },
            "error_y": {
             "color": "#2a3f5f"
            },
            "marker": {
             "line": {
              "color": "white",
              "width": 0.5
             },
             "pattern": {
              "fillmode": "overlay",
              "size": 10,
              "solidity": 0.2
             }
            },
            "type": "bar"
           }
          ],
          "barpolar": [
           {
            "marker": {
             "line": {
              "color": "white",
              "width": 0.5
             },
             "pattern": {
              "fillmode": "overlay",
              "size": 10,
              "solidity": 0.2
             }
            },
            "type": "barpolar"
           }
          ],
          "carpet": [
           {
            "aaxis": {
             "endlinecolor": "#2a3f5f",
             "gridcolor": "#C8D4E3",
             "linecolor": "#C8D4E3",
             "minorgridcolor": "#C8D4E3",
             "startlinecolor": "#2a3f5f"
            },
            "baxis": {
             "endlinecolor": "#2a3f5f",
             "gridcolor": "#C8D4E3",
             "linecolor": "#C8D4E3",
             "minorgridcolor": "#C8D4E3",
             "startlinecolor": "#2a3f5f"
            },
            "type": "carpet"
           }
          ],
          "choropleth": [
           {
            "colorbar": {
             "outlinewidth": 0,
             "tickcolor": "rgb(237,237,237)",
             "ticklen": 6,
             "ticks": ""
            },
            "type": "choropleth"
           }
          ],
          "contour": [
           {
            "colorbar": {
             "outlinewidth": 0,
             "tickcolor": "rgb(237,237,237)",
             "ticklen": 6,
             "ticks": ""
            },
            "colorscale": [
             [
              0.0,
              "#0d0887"
             ],
             [
              0.1111111111111111,
              "#46039f"
             ],
             [
              0.2222222222222222,
              "#7201a8"
             ],
             [
              0.3333333333333333,
              "#9c179e"
             ],
             [
              0.4444444444444444,
              "#bd3786"
             ],
             [
              0.5555555555555556,
              "#d8576b"
             ],
             [
              0.6666666666666666,
              "#ed7953"
             ],
             [
              0.7777777777777778,
              "#fb9f3a"
             ],
             [
              0.8888888888888888,
              "#fdca26"
             ],
             [
              1.0,
              "#f0f921"
             ]
            ],
            "type": "contour"
           }
          ],
          "contourcarpet": [
           {
            "colorbar": {
             "outlinewidth": 0,
             "tickcolor": "rgb(237,237,237)",
             "ticklen": 6,
             "ticks": ""
            },
            "type": "contourcarpet"
           }
          ],
          "heatmap": [
           {
            "colorbar": {
             "outlinewidth": 0,
             "tickcolor": "rgb(237,237,237)",
             "ticklen": 6,
             "ticks": ""
            },
            "colorscale": [
             [
              0.0,
              "#0d0887"
             ],
             [
              0.1111111111111111,
              "#46039f"
             ],
             [
              0.2222222222222222,
              "#7201a8"
             ],
             [
              0.3333333333333333,
              "#9c179e"
             ],
             [
              0.4444444444444444,
              "#bd3786"
             ],
             [
              0.5555555555555556,
              "#d8576b"
             ],
             [
              0.6666666666666666,
              "#ed7953"
             ],
             [
              0.7777777777777778,
              "#fb9f3a"
             ],
             [
              0.8888888888888888,
              "#fdca26"
             ],
             [
              1.0,
              "#f0f921"
             ]
            ],
            "type": "heatmap"
           }
          ],
          "heatmapgl": [
           {
            "colorbar": {
             "outlinewidth": 0,
             "tickcolor": "rgb(237,237,237)",
             "ticklen": 6,
             "ticks": ""
            },
            "colorscale": [
             [
              0.0,
              "#0d0887"
             ],
             [
              0.1111111111111111,
              "#46039f"
             ],
             [
              0.2222222222222222,
              "#7201a8"
             ],
             [
              0.3333333333333333,
              "#9c179e"
             ],
             [
              0.4444444444444444,
              "#bd3786"
             ],
             [
              0.5555555555555556,
              "#d8576b"
             ],
             [
              0.6666666666666666,
              "#ed7953"
             ],
             [
              0.7777777777777778,
              "#fb9f3a"
             ],
             [
              0.8888888888888888,
              "#fdca26"
             ],
             [
              1.0,
              "#f0f921"
             ]
            ],
            "type": "heatmapgl"
           }
          ],
          "histogram": [
           {
            "marker": {
             "pattern": {
              "fillmode": "overlay",
              "size": 10,
              "solidity": 0.2
             }
            },
            "type": "histogram"
           }
          ],
          "histogram2d": [
           {
            "colorbar": {
             "outlinewidth": 0,
             "tickcolor": "rgb(237,237,237)",
             "ticklen": 6,
             "ticks": ""
            },
            "colorscale": [
             [
              0.0,
              "#0d0887"
             ],
             [
              0.1111111111111111,
              "#46039f"
             ],
             [
              0.2222222222222222,
              "#7201a8"
             ],
             [
              0.3333333333333333,
              "#9c179e"
             ],
             [
              0.4444444444444444,
              "#bd3786"
             ],
             [
              0.5555555555555556,
              "#d8576b"
             ],
             [
              0.6666666666666666,
              "#ed7953"
             ],
             [
              0.7777777777777778,
              "#fb9f3a"
             ],
             [
              0.8888888888888888,
              "#fdca26"
             ],
             [
              1.0,
              "#f0f921"
             ]
            ],
            "type": "histogram2d"
           }
          ],
          "histogram2dcontour": [
           {
            "colorbar": {
             "outlinewidth": 0,
             "tickcolor": "rgb(237,237,237)",
             "ticklen": 6,
             "ticks": ""
            },
            "colorscale": [
             [
              0.0,
              "#0d0887"
             ],
             [
              0.1111111111111111,
              "#46039f"
             ],
             [
              0.2222222222222222,
              "#7201a8"
             ],
             [
              0.3333333333333333,
              "#9c179e"
             ],
             [
              0.4444444444444444,
              "#bd3786"
             ],
             [
              0.5555555555555556,
              "#d8576b"
             ],
             [
              0.6666666666666666,
              "#ed7953"
             ],
             [
              0.7777777777777778,
              "#fb9f3a"
             ],
             [
              0.8888888888888888,
              "#fdca26"
             ],
             [
              1.0,
              "#f0f921"
             ]
            ],
            "type": "histogram2dcontour"
           }
          ],
          "mesh3d": [
           {
            "colorbar": {
             "outlinewidth": 0,
             "tickcolor": "rgb(237,237,237)",
             "ticklen": 6,
             "ticks": ""
            },
            "type": "mesh3d"
           }
          ],
          "parcoords": [
           {
            "line": {
             "colorbar": {
              "outlinewidth": 0,
              "tickcolor": "rgb(237,237,237)",
              "ticklen": 6,
              "ticks": ""
             }
            },
            "type": "parcoords"
           }
          ],
          "pie": [
           {
            "automargin": true,
            "type": "pie"
           }
          ],
          "scatter": [
           {
            "fillpattern": {
             "fillmode": "overlay",
             "size": 10,
             "solidity": 0.2
            },
            "type": "scatter"
           }
          ],
          "scatter3d": [
           {
            "line": {
             "colorbar": {
              "outlinewidth": 0,
              "tickcolor": "rgb(237,237,237)",
              "ticklen": 6,
              "ticks": ""
             }
            },
            "marker": {
             "colorbar": {
              "outlinewidth": 0,
              "tickcolor": "rgb(237,237,237)",
              "ticklen": 6,
              "ticks": ""
             }
            },
            "type": "scatter3d"
           }
          ],
          "scattercarpet": [
           {
            "marker": {
             "colorbar": {
              "outlinewidth": 0,
              "tickcolor": "rgb(237,237,237)",
              "ticklen": 6,
              "ticks": ""
             }
            },
            "type": "scattercarpet"
           }
          ],
          "scattergeo": [
           {
            "marker": {
             "colorbar": {
              "outlinewidth": 0,
              "tickcolor": "rgb(237,237,237)",
              "ticklen": 6,
              "ticks": ""
             }
            },
            "type": "scattergeo"
           }
          ],
          "scattergl": [
           {
            "marker": {
             "colorbar": {
              "outlinewidth": 0,
              "tickcolor": "rgb(237,237,237)",
              "ticklen": 6,
              "ticks": ""
             }
            },
            "type": "scattergl"
           }
          ],
          "scattermapbox": [
           {
            "marker": {
             "colorbar": {
              "outlinewidth": 0,
              "tickcolor": "rgb(237,237,237)",
              "ticklen": 6,
              "ticks": ""
             }
            },
            "type": "scattermapbox"
           }
          ],
          "scatterpolar": [
           {
            "marker": {
             "colorbar": {
              "outlinewidth": 0,
              "tickcolor": "rgb(237,237,237)",
              "ticklen": 6,
              "ticks": ""
             }
            },
            "type": "scatterpolar"
           }
          ],
          "scatterpolargl": [
           {
            "marker": {
             "colorbar": {
              "outlinewidth": 0,
              "tickcolor": "rgb(237,237,237)",
              "ticklen": 6,
              "ticks": ""
             }
            },
            "type": "scatterpolargl"
           }
          ],
          "scatterternary": [
           {
            "marker": {
             "colorbar": {
              "outlinewidth": 0,
              "tickcolor": "rgb(237,237,237)",
              "ticklen": 6,
              "ticks": ""
             }
            },
            "type": "scatterternary"
           }
          ],
          "surface": [
           {
            "colorbar": {
             "outlinewidth": 0,
             "tickcolor": "rgb(237,237,237)",
             "ticklen": 6,
             "ticks": ""
            },
            "colorscale": [
             [
              0.0,
              "#0d0887"
             ],
             [
              0.1111111111111111,
              "#46039f"
             ],
             [
              0.2222222222222222,
              "#7201a8"
             ],
             [
              0.3333333333333333,
              "#9c179e"
             ],
             [
              0.4444444444444444,
              "#bd3786"
             ],
             [
              0.5555555555555556,
              "#d8576b"
             ],
             [
              0.6666666666666666,
              "#ed7953"
             ],
             [
              0.7777777777777778,
              "#fb9f3a"
             ],
             [
              0.8888888888888888,
              "#fdca26"
             ],
             [
              1.0,
              "#f0f921"
             ]
            ],
            "type": "surface"
           }
          ],
          "table": [
           {
            "cells": {
             "fill": {
              "color": "#EBF0F8"
             },
             "line": {
              "color": "white"
             }
            },
            "header": {
             "fill": {
              "color": "#C8D4E3"
             },
             "line": {
              "color": "white"
             }
            },
            "type": "table"
           }
          ]
         },
         "layout": {
          "annotationdefaults": {
           "arrowcolor": "#2a3f5f",
           "arrowhead": 0,
           "arrowwidth": 1
          },
          "autotypenumbers": "strict",
          "coloraxis": {
           "colorbar": {
            "outlinewidth": 0,
            "tickcolor": "rgb(237,237,237)",
            "ticklen": 6,
            "ticks": ""
           }
          },
          "colorscale": {
           "diverging": [
            [
             0,
             "#8e0152"
            ],
            [
             0.1,
             "#c51b7d"
            ],
            [
             0.2,
             "#de77ae"
            ],
            [
             0.3,
             "#f1b6da"
            ],
            [
             0.4,
             "#fde0ef"
            ],
            [
             0.5,
             "#f7f7f7"
            ],
            [
             0.6,
             "#e6f5d0"
            ],
            [
             0.7,
             "#b8e186"
            ],
            [
             0.8,
             "#7fbc41"
            ],
            [
             0.9,
             "#4d9221"
            ],
            [
             1,
             "#276419"
            ]
           ],
           "sequential": [
            [
             0.0,
             "#0d0887"
            ],
            [
             0.1111111111111111,
             "#46039f"
            ],
            [
             0.2222222222222222,
             "#7201a8"
            ],
            [
             0.3333333333333333,
             "#9c179e"
            ],
            [
             0.4444444444444444,
             "#bd3786"
            ],
            [
             0.5555555555555556,
             "#d8576b"
            ],
            [
             0.6666666666666666,
             "#ed7953"
            ],
            [
             0.7777777777777778,
             "#fb9f3a"
            ],
            [
             0.8888888888888888,
             "#fdca26"
            ],
            [
             1.0,
             "#f0f921"
            ]
           ],
           "sequentialminus": [
            [
             0.0,
             "#0d0887"
            ],
            [
             0.1111111111111111,
             "#46039f"
            ],
            [
             0.2222222222222222,
             "#7201a8"
            ],
            [
             0.3333333333333333,
             "#9c179e"
            ],
            [
             0.4444444444444444,
             "#bd3786"
            ],
            [
             0.5555555555555556,
             "#d8576b"
            ],
            [
             0.6666666666666666,
             "#ed7953"
            ],
            [
             0.7777777777777778,
             "#fb9f3a"
            ],
            [
             0.8888888888888888,
             "#fdca26"
            ],
            [
             1.0,
             "#f0f921"
            ]
           ]
          },
          "colorway": [
           "#636efa",
           "#EF553B",
           "#00cc96",
           "#ab63fa",
           "#FFA15A",
           "#19d3f3",
           "#FF6692",
           "#B6E880",
           "#FF97FF",
           "#FECB52"
          ],
          "font": {
           "color": "#2a3f5f"
          },
          "geo": {
           "bgcolor": "white",
           "lakecolor": "white",
           "landcolor": "white",
           "showlakes": true,
           "showland": true,
           "subunitcolor": "#C8D4E3"
          },
          "hoverlabel": {
           "align": "left"
          },
          "hovermode": "closest",
          "mapbox": {
           "style": "light"
          },
          "margin": {
           "b": 0,
           "l": 0,
           "r": 0,
           "t": 30
          },
          "paper_bgcolor": "white",
          "plot_bgcolor": "white",
          "polar": {
           "angularaxis": {
            "gridcolor": "#EBF0F8",
            "linecolor": "#EBF0F8",
            "showgrid": true,
            "tickcolor": "rgb(51,51,51)",
            "ticks": ""
           },
           "bgcolor": "white",
           "radialaxis": {
            "gridcolor": "#EBF0F8",
            "linecolor": "#EBF0F8",
            "showgrid": true,
            "tickcolor": "rgb(51,51,51)",
            "ticks": ""
           }
          },
          "scene": {
           "xaxis": {
            "backgroundcolor": "white",
            "gridcolor": "#DFE8F3",
            "gridwidth": 2,
            "linecolor": "#EBF0F8",
            "showbackground": true,
            "showgrid": true,
            "tickcolor": "rgb(51,51,51)",
            "ticks": "",
            "zerolinecolor": "#EBF0F8"
           },
           "yaxis": {
            "backgroundcolor": "white",
            "gridcolor": "#DFE8F3",
            "gridwidth": 2,
            "linecolor": "#EBF0F8",
            "showbackground": true,
            "showgrid": true,
            "tickcolor": "rgb(51,51,51)",
            "ticks": "",
            "zerolinecolor": "#EBF0F8"
           },
           "zaxis": {
            "backgroundcolor": "white",
            "gridcolor": "#DFE8F3",
            "gridwidth": 2,
            "linecolor": "#EBF0F8",
            "showbackground": true,
            "showgrid": true,
            "tickcolor": "rgb(51,51,51)",
            "ticks": "",
            "zerolinecolor": "#EBF0F8"
           }
          },
          "shapedefaults": {
           "fillcolor": "black",
           "line": {
            "color": "#2a3f5f",
            "width": 0
           },
           "opacity": 0.3
          },
          "ternary": {
           "aaxis": {
            "gridcolor": "#DFE8F3",
            "linecolor": "#A2B1C6",
            "showgrid": true,
            "tickcolor": "rgb(51,51,51)",
            "ticks": ""
           },
           "baxis": {
            "gridcolor": "#DFE8F3",
            "linecolor": "#A2B1C6",
            "showgrid": true,
            "tickcolor": "rgb(51,51,51)",
            "ticks": ""
           },
           "bgcolor": "white",
           "caxis": {
            "gridcolor": "#DFE8F3",
            "linecolor": "#A2B1C6",
            "showgrid": true,
            "tickcolor": "rgb(51,51,51)",
            "ticks": ""
           }
          },
          "title": {
           "x": 0.05
          },
          "xaxis": {
           "automargin": true,
           "gridcolor": "#EBF0F8",
           "linecolor": "#EBF0F8",
           "showgrid": true,
           "tickcolor": "rgb(51,51,51)",
           "ticks": "",
           "title": {
            "standoff": 15
           },
           "zerolinecolor": "#EBF0F8",
           "zerolinewidth": 2
          },
          "yaxis": {
           "automargin": true,
           "gridcolor": "#EBF0F8",
           "linecolor": "#EBF0F8",
           "showgrid": true,
           "tickcolor": "rgb(51,51,51)",
           "ticks": "",
           "title": {
            "standoff": 15
           },
           "zerolinecolor": "#EBF0F8",
           "zerolinewidth": 2
          }
         }
        },
        "title": {
         "automargin": true,
         "font": {
          "family": "Roboto Condensed",
          "size": 13
         },
         "text": "<b>Figure 7.</b> Principal Component Analysis Biplot",
         "xref": "paper",
         "yref": "paper"
        },
        "width": 800,
        "xaxis": {
         "anchor": "y",
         "domain": [
          0.0,
          1.0
         ],
         "gridcolor": "#eeeeee",
         "gridwidth": 1,
         "title": {
          "font": {
           "color": "black",
           "family": "Roboto Condensed",
           "size": 13
          },
          "text": "PC2 (10.79%)"
         }
        },
        "yaxis": {
         "anchor": "x",
         "domain": [
          0.0,
          1.0
         ],
         "gridcolor": "#eeeeee",
         "gridwidth": 1,
         "title": {
          "font": {
           "color": "black",
           "family": "Roboto Condensed",
           "size": 13
          },
          "text": "PC10 (2.17%)"
         }
        }
       }
      },
      "text/html": [
       "<div>                            <div id=\"baa590c5-bc84-45aa-9210-9be322d16014\" class=\"plotly-graph-div\" style=\"height:400px; width:800px;\"></div>            <script type=\"text/javascript\">                require([\"plotly\"], function(Plotly) {                    window.PLOTLYENV=window.PLOTLYENV || {};                                    if (document.getElementById(\"baa590c5-bc84-45aa-9210-9be322d16014\")) {                    Plotly.newPlot(                        \"baa590c5-bc84-45aa-9210-9be322d16014\",                        [{\"hovertemplate\":\"2=%{x}\\u003cbr\\u003e10=%{y}\\u003cbr\\u003e0=%{marker.color}\\u003cextra\\u003e\\u003c\\u002fextra\\u003e\",\"legendgroup\":\"\",\"marker\":{\"color\":[-0.6529410229507272,-1.1921088883104525,1.0803973460770857,-1.3063197129631825,-1.335645282807111,-0.8164227169471183,-1.6607144206070688,-1.7751464239035706,2.7539145374746443,-1.6242026170759172,-1.022032319657575,-1.666984292589261,2.1553980853380073,-1.7525751258712148,-1.1078269571848924,-0.39978048943973543,2.5969443307250675,1.3649169489353519,0.9619927234735535,1.4834300209427407,-2.619614155086019,-0.5537937474951462,-0.2775425716617555,2.2030539340358892,-1.276054602888579,0.021996215584201537,-1.1004522666675447,-0.7510236158004882,2.8317745644913237,3.1448527104560484,1.1411268492367292,0.4221072113344815,-0.9819724693151947,1.8719369471769913,-1.067349637351241,-2.9932998963220006,0.8374125070350272,-1.0834088348135023,-0.21583286991120715,2.073592442140298,2.608225588715174,2.071162331134727,2.100156299069605,-0.05030280103040167,1.1458261445636455,-2.4413867837503536,0.0027699760996006298,-1.2986233865622983,-1.055467984227936,-0.7941618208486989],\"coloraxis\":\"coloraxis\",\"symbol\":\"circle\",\"size\":7.5},\"mode\":\"markers\",\"name\":\"\",\"orientation\":\"v\",\"showlegend\":false,\"x\":[0.2776007975899636,-0.6875708738841253,1.1294651556322115,0.5971857847311923,-0.08547631984434016,0.36439623754554057,0.08858615316682168,0.482335476182905,2.5708206102677753,0.21175568384329657,-0.3836718341790985,0.1131809439012467,-1.281747789318644,0.8645483348301155,1.2994468989550447,0.34467596886619706,-0.9231499679903055,-0.9227758136568818,-1.543725759127154,-1.477859530501295,-0.290973665945933,-0.47853982588131616,-0.3673580931540716,2.0385886017533705,-0.7798925923490967,-1.517167604661539,-0.832596890100365,-1.114215896416267,0.6921391937127778,-0.4162428020173477,-1.056663657182519,-0.4148899582443745,0.13940030043620963,-0.8879548037676493,0.4497225482034972,-0.472066054247392,0.3576574132782199,0.2631368203453167,0.16366869769973172,-1.173000784668452,2.8231970582022456,-1.8344099229043744,-1.0457037961305504,0.11028333749085019,2.1005167360405848,-0.7189552644632689,-0.7929800518967333,0.5303556221065605,-0.03000519572851415,3.5169303734799366],\"xaxis\":\"x\",\"y\":[0.1480745627103491,-0.4298613617864686,-0.2876981905252528,0.7315282349792492,0.07271516618590558,-0.8558551651444758,0.18620915619398182,0.9015605657066007,0.27920946891619797,0.05237335567771286,-0.18836970862635125,-0.12062415479000847,-0.22825911177848945,0.8475934330302075,1.250397653236906,-0.44789019086717885,-0.35010699349737173,-0.00030950688478501086,0.01936698481372495,-0.9813697743111526,-0.5002277443083458,0.19110484920516294,-0.1848197028818856,0.6092974538987309,-0.13050784558276374,0.7684531381503334,0.5248429520971243,-0.8173280437612507,-0.23237830347640495,-0.2773695604085485,0.2815747724714443,-0.19300793712647044,-0.6170556438673953,0.4987521662887795,-0.23882733545995724,-0.02365506934922833,-0.7425093222723519,-0.7704122486485265,-0.2897687755238944,1.2344773666886486,-0.3390961204698993,0.5694103426297953,0.3310265871208446,-0.07450170240054389,-0.2883748813235694,0.32202400758954985,0.18047613915766864,-0.3841624296442471,-0.008689344159880659,0.002567812127778528],\"yaxis\":\"y\",\"type\":\"scatter\"}],                        {\"template\":{\"data\":{\"barpolar\":[{\"marker\":{\"line\":{\"color\":\"white\",\"width\":0.5},\"pattern\":{\"fillmode\":\"overlay\",\"size\":10,\"solidity\":0.2}},\"type\":\"barpolar\"}],\"bar\":[{\"error_x\":{\"color\":\"#2a3f5f\"},\"error_y\":{\"color\":\"#2a3f5f\"},\"marker\":{\"line\":{\"color\":\"white\",\"width\":0.5},\"pattern\":{\"fillmode\":\"overlay\",\"size\":10,\"solidity\":0.2}},\"type\":\"bar\"}],\"carpet\":[{\"aaxis\":{\"endlinecolor\":\"#2a3f5f\",\"gridcolor\":\"#C8D4E3\",\"linecolor\":\"#C8D4E3\",\"minorgridcolor\":\"#C8D4E3\",\"startlinecolor\":\"#2a3f5f\"},\"baxis\":{\"endlinecolor\":\"#2a3f5f\",\"gridcolor\":\"#C8D4E3\",\"linecolor\":\"#C8D4E3\",\"minorgridcolor\":\"#C8D4E3\",\"startlinecolor\":\"#2a3f5f\"},\"type\":\"carpet\"}],\"choropleth\":[{\"colorbar\":{\"outlinewidth\":0,\"tickcolor\":\"rgb(237,237,237)\",\"ticklen\":6,\"ticks\":\"\"},\"type\":\"choropleth\"}],\"contourcarpet\":[{\"colorbar\":{\"outlinewidth\":0,\"tickcolor\":\"rgb(237,237,237)\",\"ticklen\":6,\"ticks\":\"\"},\"type\":\"contourcarpet\"}],\"contour\":[{\"colorbar\":{\"outlinewidth\":0,\"tickcolor\":\"rgb(237,237,237)\",\"ticklen\":6,\"ticks\":\"\"},\"colorscale\":[[0.0,\"#0d0887\"],[0.1111111111111111,\"#46039f\"],[0.2222222222222222,\"#7201a8\"],[0.3333333333333333,\"#9c179e\"],[0.4444444444444444,\"#bd3786\"],[0.5555555555555556,\"#d8576b\"],[0.6666666666666666,\"#ed7953\"],[0.7777777777777778,\"#fb9f3a\"],[0.8888888888888888,\"#fdca26\"],[1.0,\"#f0f921\"]],\"type\":\"contour\"}],\"heatmapgl\":[{\"colorbar\":{\"outlinewidth\":0,\"tickcolor\":\"rgb(237,237,237)\",\"ticklen\":6,\"ticks\":\"\"},\"colorscale\":[[0.0,\"#0d0887\"],[0.1111111111111111,\"#46039f\"],[0.2222222222222222,\"#7201a8\"],[0.3333333333333333,\"#9c179e\"],[0.4444444444444444,\"#bd3786\"],[0.5555555555555556,\"#d8576b\"],[0.6666666666666666,\"#ed7953\"],[0.7777777777777778,\"#fb9f3a\"],[0.8888888888888888,\"#fdca26\"],[1.0,\"#f0f921\"]],\"type\":\"heatmapgl\"}],\"heatmap\":[{\"colorbar\":{\"outlinewidth\":0,\"tickcolor\":\"rgb(237,237,237)\",\"ticklen\":6,\"ticks\":\"\"},\"colorscale\":[[0.0,\"#0d0887\"],[0.1111111111111111,\"#46039f\"],[0.2222222222222222,\"#7201a8\"],[0.3333333333333333,\"#9c179e\"],[0.4444444444444444,\"#bd3786\"],[0.5555555555555556,\"#d8576b\"],[0.6666666666666666,\"#ed7953\"],[0.7777777777777778,\"#fb9f3a\"],[0.8888888888888888,\"#fdca26\"],[1.0,\"#f0f921\"]],\"type\":\"heatmap\"}],\"histogram2dcontour\":[{\"colorbar\":{\"outlinewidth\":0,\"tickcolor\":\"rgb(237,237,237)\",\"ticklen\":6,\"ticks\":\"\"},\"colorscale\":[[0.0,\"#0d0887\"],[0.1111111111111111,\"#46039f\"],[0.2222222222222222,\"#7201a8\"],[0.3333333333333333,\"#9c179e\"],[0.4444444444444444,\"#bd3786\"],[0.5555555555555556,\"#d8576b\"],[0.6666666666666666,\"#ed7953\"],[0.7777777777777778,\"#fb9f3a\"],[0.8888888888888888,\"#fdca26\"],[1.0,\"#f0f921\"]],\"type\":\"histogram2dcontour\"}],\"histogram2d\":[{\"colorbar\":{\"outlinewidth\":0,\"tickcolor\":\"rgb(237,237,237)\",\"ticklen\":6,\"ticks\":\"\"},\"colorscale\":[[0.0,\"#0d0887\"],[0.1111111111111111,\"#46039f\"],[0.2222222222222222,\"#7201a8\"],[0.3333333333333333,\"#9c179e\"],[0.4444444444444444,\"#bd3786\"],[0.5555555555555556,\"#d8576b\"],[0.6666666666666666,\"#ed7953\"],[0.7777777777777778,\"#fb9f3a\"],[0.8888888888888888,\"#fdca26\"],[1.0,\"#f0f921\"]],\"type\":\"histogram2d\"}],\"histogram\":[{\"marker\":{\"pattern\":{\"fillmode\":\"overlay\",\"size\":10,\"solidity\":0.2}},\"type\":\"histogram\"}],\"mesh3d\":[{\"colorbar\":{\"outlinewidth\":0,\"tickcolor\":\"rgb(237,237,237)\",\"ticklen\":6,\"ticks\":\"\"},\"type\":\"mesh3d\"}],\"parcoords\":[{\"line\":{\"colorbar\":{\"outlinewidth\":0,\"tickcolor\":\"rgb(237,237,237)\",\"ticklen\":6,\"ticks\":\"\"}},\"type\":\"parcoords\"}],\"pie\":[{\"automargin\":true,\"type\":\"pie\"}],\"scatter3d\":[{\"line\":{\"colorbar\":{\"outlinewidth\":0,\"tickcolor\":\"rgb(237,237,237)\",\"ticklen\":6,\"ticks\":\"\"}},\"marker\":{\"colorbar\":{\"outlinewidth\":0,\"tickcolor\":\"rgb(237,237,237)\",\"ticklen\":6,\"ticks\":\"\"}},\"type\":\"scatter3d\"}],\"scattercarpet\":[{\"marker\":{\"colorbar\":{\"outlinewidth\":0,\"tickcolor\":\"rgb(237,237,237)\",\"ticklen\":6,\"ticks\":\"\"}},\"type\":\"scattercarpet\"}],\"scattergeo\":[{\"marker\":{\"colorbar\":{\"outlinewidth\":0,\"tickcolor\":\"rgb(237,237,237)\",\"ticklen\":6,\"ticks\":\"\"}},\"type\":\"scattergeo\"}],\"scattergl\":[{\"marker\":{\"colorbar\":{\"outlinewidth\":0,\"tickcolor\":\"rgb(237,237,237)\",\"ticklen\":6,\"ticks\":\"\"}},\"type\":\"scattergl\"}],\"scattermapbox\":[{\"marker\":{\"colorbar\":{\"outlinewidth\":0,\"tickcolor\":\"rgb(237,237,237)\",\"ticklen\":6,\"ticks\":\"\"}},\"type\":\"scattermapbox\"}],\"scatterpolargl\":[{\"marker\":{\"colorbar\":{\"outlinewidth\":0,\"tickcolor\":\"rgb(237,237,237)\",\"ticklen\":6,\"ticks\":\"\"}},\"type\":\"scatterpolargl\"}],\"scatterpolar\":[{\"marker\":{\"colorbar\":{\"outlinewidth\":0,\"tickcolor\":\"rgb(237,237,237)\",\"ticklen\":6,\"ticks\":\"\"}},\"type\":\"scatterpolar\"}],\"scatter\":[{\"fillpattern\":{\"fillmode\":\"overlay\",\"size\":10,\"solidity\":0.2},\"type\":\"scatter\"}],\"scatterternary\":[{\"marker\":{\"colorbar\":{\"outlinewidth\":0,\"tickcolor\":\"rgb(237,237,237)\",\"ticklen\":6,\"ticks\":\"\"}},\"type\":\"scatterternary\"}],\"surface\":[{\"colorbar\":{\"outlinewidth\":0,\"tickcolor\":\"rgb(237,237,237)\",\"ticklen\":6,\"ticks\":\"\"},\"colorscale\":[[0.0,\"#0d0887\"],[0.1111111111111111,\"#46039f\"],[0.2222222222222222,\"#7201a8\"],[0.3333333333333333,\"#9c179e\"],[0.4444444444444444,\"#bd3786\"],[0.5555555555555556,\"#d8576b\"],[0.6666666666666666,\"#ed7953\"],[0.7777777777777778,\"#fb9f3a\"],[0.8888888888888888,\"#fdca26\"],[1.0,\"#f0f921\"]],\"type\":\"surface\"}],\"table\":[{\"cells\":{\"fill\":{\"color\":\"#EBF0F8\"},\"line\":{\"color\":\"white\"}},\"header\":{\"fill\":{\"color\":\"#C8D4E3\"},\"line\":{\"color\":\"white\"}},\"type\":\"table\"}]},\"layout\":{\"annotationdefaults\":{\"arrowcolor\":\"#2a3f5f\",\"arrowhead\":0,\"arrowwidth\":1},\"autotypenumbers\":\"strict\",\"coloraxis\":{\"colorbar\":{\"outlinewidth\":0,\"tickcolor\":\"rgb(237,237,237)\",\"ticklen\":6,\"ticks\":\"\"}},\"colorscale\":{\"diverging\":[[0,\"#8e0152\"],[0.1,\"#c51b7d\"],[0.2,\"#de77ae\"],[0.3,\"#f1b6da\"],[0.4,\"#fde0ef\"],[0.5,\"#f7f7f7\"],[0.6,\"#e6f5d0\"],[0.7,\"#b8e186\"],[0.8,\"#7fbc41\"],[0.9,\"#4d9221\"],[1,\"#276419\"]],\"sequential\":[[0.0,\"#0d0887\"],[0.1111111111111111,\"#46039f\"],[0.2222222222222222,\"#7201a8\"],[0.3333333333333333,\"#9c179e\"],[0.4444444444444444,\"#bd3786\"],[0.5555555555555556,\"#d8576b\"],[0.6666666666666666,\"#ed7953\"],[0.7777777777777778,\"#fb9f3a\"],[0.8888888888888888,\"#fdca26\"],[1.0,\"#f0f921\"]],\"sequentialminus\":[[0.0,\"#0d0887\"],[0.1111111111111111,\"#46039f\"],[0.2222222222222222,\"#7201a8\"],[0.3333333333333333,\"#9c179e\"],[0.4444444444444444,\"#bd3786\"],[0.5555555555555556,\"#d8576b\"],[0.6666666666666666,\"#ed7953\"],[0.7777777777777778,\"#fb9f3a\"],[0.8888888888888888,\"#fdca26\"],[1.0,\"#f0f921\"]]},\"colorway\":[\"#636efa\",\"#EF553B\",\"#00cc96\",\"#ab63fa\",\"#FFA15A\",\"#19d3f3\",\"#FF6692\",\"#B6E880\",\"#FF97FF\",\"#FECB52\"],\"font\":{\"color\":\"#2a3f5f\"},\"geo\":{\"bgcolor\":\"white\",\"lakecolor\":\"white\",\"landcolor\":\"white\",\"showlakes\":true,\"showland\":true,\"subunitcolor\":\"#C8D4E3\"},\"hoverlabel\":{\"align\":\"left\"},\"hovermode\":\"closest\",\"mapbox\":{\"style\":\"light\"},\"margin\":{\"b\":0,\"l\":0,\"r\":0,\"t\":30},\"paper_bgcolor\":\"white\",\"plot_bgcolor\":\"white\",\"polar\":{\"angularaxis\":{\"gridcolor\":\"#EBF0F8\",\"linecolor\":\"#EBF0F8\",\"showgrid\":true,\"tickcolor\":\"rgb(51,51,51)\",\"ticks\":\"\"},\"bgcolor\":\"white\",\"radialaxis\":{\"gridcolor\":\"#EBF0F8\",\"linecolor\":\"#EBF0F8\",\"showgrid\":true,\"tickcolor\":\"rgb(51,51,51)\",\"ticks\":\"\"}},\"scene\":{\"xaxis\":{\"backgroundcolor\":\"white\",\"gridcolor\":\"#DFE8F3\",\"gridwidth\":2,\"linecolor\":\"#EBF0F8\",\"showbackground\":true,\"showgrid\":true,\"tickcolor\":\"rgb(51,51,51)\",\"ticks\":\"\",\"zerolinecolor\":\"#EBF0F8\"},\"yaxis\":{\"backgroundcolor\":\"white\",\"gridcolor\":\"#DFE8F3\",\"gridwidth\":2,\"linecolor\":\"#EBF0F8\",\"showbackground\":true,\"showgrid\":true,\"tickcolor\":\"rgb(51,51,51)\",\"ticks\":\"\",\"zerolinecolor\":\"#EBF0F8\"},\"zaxis\":{\"backgroundcolor\":\"white\",\"gridcolor\":\"#DFE8F3\",\"gridwidth\":2,\"linecolor\":\"#EBF0F8\",\"showbackground\":true,\"showgrid\":true,\"tickcolor\":\"rgb(51,51,51)\",\"ticks\":\"\",\"zerolinecolor\":\"#EBF0F8\"}},\"shapedefaults\":{\"fillcolor\":\"black\",\"line\":{\"color\":\"#2a3f5f\",\"width\":0},\"opacity\":0.3},\"ternary\":{\"aaxis\":{\"gridcolor\":\"#DFE8F3\",\"linecolor\":\"#A2B1C6\",\"showgrid\":true,\"tickcolor\":\"rgb(51,51,51)\",\"ticks\":\"\"},\"baxis\":{\"gridcolor\":\"#DFE8F3\",\"linecolor\":\"#A2B1C6\",\"showgrid\":true,\"tickcolor\":\"rgb(51,51,51)\",\"ticks\":\"\"},\"bgcolor\":\"white\",\"caxis\":{\"gridcolor\":\"#DFE8F3\",\"linecolor\":\"#A2B1C6\",\"showgrid\":true,\"tickcolor\":\"rgb(51,51,51)\",\"ticks\":\"\"}},\"title\":{\"x\":0.05},\"xaxis\":{\"automargin\":true,\"gridcolor\":\"#EBF0F8\",\"linecolor\":\"#EBF0F8\",\"showgrid\":true,\"tickcolor\":\"rgb(51,51,51)\",\"ticks\":\"\",\"title\":{\"standoff\":15},\"zerolinecolor\":\"#EBF0F8\",\"zerolinewidth\":2},\"yaxis\":{\"automargin\":true,\"gridcolor\":\"#EBF0F8\",\"linecolor\":\"#EBF0F8\",\"showgrid\":true,\"tickcolor\":\"rgb(51,51,51)\",\"ticks\":\"\",\"title\":{\"standoff\":15},\"zerolinecolor\":\"#EBF0F8\",\"zerolinewidth\":2}}},\"xaxis\":{\"anchor\":\"y\",\"domain\":[0.0,1.0],\"title\":{\"text\":\"PC2 (10.79%)\",\"font\":{\"family\":\"Roboto Condensed\",\"size\":13,\"color\":\"black\"}},\"gridcolor\":\"#eeeeee\",\"gridwidth\":1},\"yaxis\":{\"anchor\":\"x\",\"domain\":[0.0,1.0],\"title\":{\"text\":\"PC10 (2.17%)\",\"font\":{\"family\":\"Roboto Condensed\",\"size\":13,\"color\":\"black\"}},\"gridcolor\":\"#eeeeee\",\"gridwidth\":1},\"coloraxis\":{\"colorbar\":{\"title\":{\"text\":\"PC0\",\"font\":{\"size\":13,\"family\":\"Roboto Condensed\"}},\"thickness\":5,\"lenmode\":\"pixels\",\"dtick\":1},\"colorscale\":[[0.0,\"#A951E0\"],[0.5,\"#D0B6F7\"],[1.0,\"#6941FA\"]]},\"legend\":{\"tracegroupgap\":0},\"height\":400,\"width\":800,\"annotations\":[{\"arrowhead\":2,\"arrowsize\":2,\"ax\":0,\"axref\":\"x\",\"ay\":0,\"ayref\":\"y\",\"showarrow\":true,\"x\":0.41201588319268256,\"xanchor\":\"right\",\"y\":0.5681195005638003,\"yanchor\":\"top\"},{\"ax\":0,\"ay\":0,\"text\":\"acousticness\",\"x\":0.41201588319268256,\"xanchor\":\"center\",\"y\":0.5681195005638003,\"yanchor\":\"bottom\",\"yshift\":5},{\"arrowhead\":2,\"arrowsize\":2,\"ax\":0,\"axref\":\"x\",\"ay\":0,\"ayref\":\"y\",\"showarrow\":true,\"x\":-0.6982388798491203,\"xanchor\":\"right\",\"y\":0.4365904669974574,\"yanchor\":\"top\"},{\"ax\":0,\"ay\":0,\"text\":\"danceability\",\"x\":-0.6982388798491203,\"xanchor\":\"center\",\"y\":0.4365904669974574,\"yanchor\":\"bottom\",\"yshift\":5},{\"arrowhead\":2,\"arrowsize\":2,\"ax\":0,\"axref\":\"x\",\"ay\":0,\"ayref\":\"y\",\"showarrow\":true,\"x\":-0.503144139243102,\"xanchor\":\"right\",\"y\":-0.22641095800855046,\"yanchor\":\"top\"},{\"ax\":0,\"ay\":0,\"text\":\"energy\",\"x\":-0.503144139243102,\"xanchor\":\"center\",\"y\":-0.22641095800855046,\"yanchor\":\"bottom\",\"yshift\":5},{\"arrowhead\":2,\"arrowsize\":2,\"ax\":0,\"axref\":\"x\",\"ay\":0,\"ayref\":\"y\",\"showarrow\":true,\"x\":-0.3071887078237197,\"xanchor\":\"right\",\"y\":0.5273854438468057,\"yanchor\":\"top\"},{\"ax\":0,\"ay\":0,\"text\":\"speechiness\",\"x\":-0.3071887078237197,\"xanchor\":\"center\",\"y\":0.5273854438468057,\"yanchor\":\"bottom\",\"yshift\":5},{\"arrowhead\":2,\"arrowsize\":2,\"ax\":0,\"axref\":\"x\",\"ay\":0,\"ayref\":\"y\",\"showarrow\":true,\"x\":0.16633993256400056,\"xanchor\":\"right\",\"y\":0.15007803998140265,\"yanchor\":\"top\"},{\"ax\":0,\"ay\":0,\"text\":\"tempo\",\"x\":0.16633993256400056,\"xanchor\":\"center\",\"y\":0.15007803998140265,\"yanchor\":\"bottom\",\"yshift\":5},{\"arrowhead\":2,\"arrowsize\":2,\"ax\":0,\"axref\":\"x\",\"ay\":0,\"ayref\":\"y\",\"showarrow\":true,\"x\":-0.7115864584668476,\"xanchor\":\"right\",\"y\":0.20817348814970182,\"yanchor\":\"top\"},{\"ax\":0,\"ay\":0,\"text\":\"valence\",\"x\":-0.7115864584668476,\"xanchor\":\"center\",\"y\":0.20817348814970182,\"yanchor\":\"bottom\",\"yshift\":5},{\"arrowhead\":2,\"arrowsize\":2,\"ax\":0,\"axref\":\"x\",\"ay\":0,\"ayref\":\"y\",\"showarrow\":true,\"x\":0.6452241572228861,\"xanchor\":\"right\",\"y\":0.08256604912234528,\"yanchor\":\"top\"},{\"ax\":0,\"ay\":0,\"text\":\"sadness\",\"x\":0.6452241572228861,\"xanchor\":\"center\",\"y\":0.08256604912234528,\"yanchor\":\"bottom\",\"yshift\":5},{\"arrowhead\":2,\"arrowsize\":2,\"ax\":0,\"axref\":\"x\",\"ay\":0,\"ayref\":\"y\",\"showarrow\":true,\"x\":-0.6716065892301798,\"xanchor\":\"right\",\"y\":-0.35571088571991527,\"yanchor\":\"top\"},{\"ax\":0,\"ay\":0,\"text\":\"joy\",\"x\":-0.6716065892301798,\"xanchor\":\"center\",\"y\":-0.35571088571991527,\"yanchor\":\"bottom\",\"yshift\":5},{\"arrowhead\":2,\"arrowsize\":2,\"ax\":0,\"axref\":\"x\",\"ay\":0,\"ayref\":\"y\",\"showarrow\":true,\"x\":-0.04975561318616488,\"xanchor\":\"right\",\"y\":-0.4273071972405915,\"yanchor\":\"top\"},{\"ax\":0,\"ay\":0,\"text\":\"love\",\"x\":-0.04975561318616488,\"xanchor\":\"center\",\"y\":-0.4273071972405915,\"yanchor\":\"bottom\",\"yshift\":5},{\"arrowhead\":2,\"arrowsize\":2,\"ax\":0,\"axref\":\"x\",\"ay\":0,\"ayref\":\"y\",\"showarrow\":true,\"x\":-0.20869797084488803,\"xanchor\":\"right\",\"y\":0.7248101401890222,\"yanchor\":\"top\"},{\"ax\":0,\"ay\":0,\"text\":\"anger\",\"x\":-0.20869797084488803,\"xanchor\":\"center\",\"y\":0.7248101401890222,\"yanchor\":\"bottom\",\"yshift\":5},{\"arrowhead\":2,\"arrowsize\":2,\"ax\":0,\"axref\":\"x\",\"ay\":0,\"ayref\":\"y\",\"showarrow\":true,\"x\":0.44045047839792617,\"xanchor\":\"right\",\"y\":0.17671354338182313,\"yanchor\":\"top\"},{\"ax\":0,\"ay\":0,\"text\":\"fear\",\"x\":0.44045047839792617,\"xanchor\":\"center\",\"y\":0.17671354338182313,\"yanchor\":\"bottom\",\"yshift\":5},{\"arrowhead\":2,\"arrowsize\":2,\"ax\":0,\"axref\":\"x\",\"ay\":0,\"ayref\":\"y\",\"showarrow\":true,\"x\":-0.06228289226191055,\"xanchor\":\"right\",\"y\":-0.032588024319481934,\"yanchor\":\"top\"},{\"ax\":0,\"ay\":0,\"text\":\"surprise\",\"x\":-0.06228289226191055,\"xanchor\":\"center\",\"y\":-0.032588024319481934,\"yanchor\":\"bottom\",\"yshift\":5}],\"font\":{\"family\":\"Roboto\",\"size\":13},\"margin\":{\"r\":10,\"t\":50,\"b\":50,\"l\":10},\"title\":{\"font\":{\"size\":13,\"family\":\"Roboto Condensed\"},\"text\":\"\\u003cb\\u003eFigure 7.\\u003c\\u002fb\\u003e Principal Component Analysis Biplot\",\"automargin\":true,\"yref\":\"paper\",\"xref\":\"paper\"}},                        {\"responsive\": true}                    ).then(function(){\n",
       "                            \n",
       "var gd = document.getElementById('baa590c5-bc84-45aa-9210-9be322d16014');\n",
       "var x = new MutationObserver(function (mutations, observer) {{\n",
       "        var display = window.getComputedStyle(gd).display;\n",
       "        if (!display || display === 'none') {{\n",
       "            console.log([gd, 'removed!']);\n",
       "            Plotly.purge(gd);\n",
       "            observer.disconnect();\n",
       "        }}\n",
       "}});\n",
       "\n",
       "// Listen for the removal of the full notebook cells\n",
       "var notebookContainer = gd.closest('#notebook-container');\n",
       "if (notebookContainer) {{\n",
       "    x.observe(notebookContainer, {childList: true});\n",
       "}}\n",
       "\n",
       "// Listen for the clearing of the current output cell\n",
       "var outputEl = gd.closest('.output');\n",
       "if (outputEl) {{\n",
       "    x.observe(outputEl, {childList: true});\n",
       "}}\n",
       "\n",
       "                        })                };                });            </script>        </div>"
      ]
     },
     "metadata": {},
     "output_type": "display_data"
    }
   ],
   "source": [
    "from numpy import size\n",
    "\n",
    "my_color_pal3 = [\"#6941FA\", \"#8F51ED\", \"#A951E0\"]\n",
    "my_color_pal3 = [\"#A951E0\", \"#D0B6F7\", \"#6941FA\"]\n",
    "\n",
    "fig = px.scatter(components, labels=X_i.columns.values, x=2, y=10, \n",
    "                 template=\"ggplot2+plotly_white\", color=0, \n",
    "                 color_continuous_scale=my_color_pal3,\n",
    "                 width=800, height=400)\n",
    "\n",
    "for i, feature in enumerate(features):\n",
    "    fig.add_annotation(\n",
    "        ax=0, ay=0, \n",
    "        axref=\"x\", ayref=\"y\",\n",
    "        x=loadings[i, 0], \n",
    "        y=loadings[i, 1],\n",
    "        showarrow=True, \n",
    "        arrowsize=2, \n",
    "        arrowhead=2,\n",
    "        xanchor=\"right\", \n",
    "        yanchor=\"top\"\n",
    "    )\n",
    "    fig.add_annotation(\n",
    "        x=loadings[i, 0], \n",
    "        y=loadings[i, 1], \n",
    "        ax=0, ay=0,\n",
    "        xanchor=\"center\", \n",
    "        yanchor=\"bottom\", \n",
    "        text=feature, \n",
    "        yshift=5,\n",
    "    )\n",
    "\n",
    "text1 = f\"PC2 ({str(round(pca_out.explained_variance_ratio_[2] * 100, 2))}%)\"\n",
    "text2 = f\"PC10 ({str(round(pca_out.explained_variance_ratio_[10] * 100, 2))}%)\"\n",
    "\n",
    "fig.update_layout(font_family=\"Roboto\", font_size=13, \n",
    "                  margin=dict(r=10, t=50, b=50, l=10),\n",
    "                  title=dict(\n",
    "                      text='<b>Figure 7.</b> Principal Component Analysis Biplot', \n",
    "                      font=dict(size=13, family=\"Roboto Condensed\"), \n",
    "                          automargin=True, yref='paper',xref='paper'),\n",
    "               xaxis=dict(title=text1,gridcolor='#eeeeee', gridwidth=1,title_font_family=\"Roboto Condensed\",\n",
    "                          title_font_size=13, title_font_color=\"black\"),\n",
    "               yaxis=dict(title=text2, gridcolor='#eeeeee', gridwidth=1,title_font_family=\"Roboto Condensed\",\n",
    "                          title_font_size=13, title_font_color=\"black\"),\n",
    ")\n",
    "\n",
    "\n",
    "#fig.update_xaxes(range=[-2, 2.5])\n",
    "fig.update_traces(marker_size=7.5)\n",
    "\n",
    "#fig.update_layout(coloraxis_showscale=False)\n",
    "fig.update_layout(coloraxis_colorbar=dict(\n",
    "    title=\"PC0\",thickness=5,\n",
    "     lenmode=\"pixels\",title_font_size=13,dtick = 1,title_font_family=\"Roboto Condensed\"\n",
    "    \n",
    "    \n",
    "    \n",
    "))\n",
    "\n",
    "#fig.write_html(\"html/pca.html\")\n",
    "\n",
    "fig.show()"
   ]
  },
  {
   "cell_type": "markdown",
   "id": "ddb9bc51",
   "metadata": {},
   "source": [
    "Below is a preview of all the PCA clustered groups."
   ]
  },
  {
   "cell_type": "code",
   "execution_count": 25,
   "id": "03ec527d",
   "metadata": {
    "tags": [
     "hide-code"
    ]
   },
   "outputs": [
    {
     "data": {
      "text/html": [
       "<div>\n",
       "<style scoped>\n",
       "    .dataframe tbody tr th:only-of-type {\n",
       "        vertical-align: middle;\n",
       "    }\n",
       "\n",
       "    .dataframe tbody tr th {\n",
       "        vertical-align: top;\n",
       "    }\n",
       "\n",
       "    .dataframe thead th {\n",
       "        text-align: right;\n",
       "    }\n",
       "</style>\n",
       "<table border=\"1\" class=\"dataframe\">\n",
       "  <thead>\n",
       "    <tr style=\"text-align: right;\">\n",
       "      <th></th>\n",
       "      <th>PC1</th>\n",
       "      <th>PC2</th>\n",
       "      <th>PC3</th>\n",
       "      <th>PC4</th>\n",
       "      <th>PC5</th>\n",
       "      <th>PC6</th>\n",
       "      <th>PC7</th>\n",
       "      <th>PC8</th>\n",
       "      <th>PC9</th>\n",
       "      <th>PC10</th>\n",
       "      <th>PC11</th>\n",
       "      <th>PC12</th>\n",
       "    </tr>\n",
       "  </thead>\n",
       "  <tbody>\n",
       "    <tr>\n",
       "      <th>0</th>\n",
       "      <td>-0.652941</td>\n",
       "      <td>-0.540595</td>\n",
       "      <td>0.277601</td>\n",
       "      <td>-1.276863</td>\n",
       "      <td>0.412919</td>\n",
       "      <td>-0.207641</td>\n",
       "      <td>-0.019832</td>\n",
       "      <td>0.451893</td>\n",
       "      <td>-0.773699</td>\n",
       "      <td>-0.432625</td>\n",
       "      <td>0.148075</td>\n",
       "      <td>-1.635591e-08</td>\n",
       "    </tr>\n",
       "    <tr>\n",
       "      <th>1</th>\n",
       "      <td>-1.192109</td>\n",
       "      <td>3.319574</td>\n",
       "      <td>-0.687571</td>\n",
       "      <td>1.032594</td>\n",
       "      <td>0.775812</td>\n",
       "      <td>-0.537727</td>\n",
       "      <td>-1.541805</td>\n",
       "      <td>-0.796704</td>\n",
       "      <td>-0.756995</td>\n",
       "      <td>0.949406</td>\n",
       "      <td>-0.429861</td>\n",
       "      <td>8.099381e-08</td>\n",
       "    </tr>\n",
       "    <tr>\n",
       "      <th>2</th>\n",
       "      <td>1.080397</td>\n",
       "      <td>0.204470</td>\n",
       "      <td>1.129465</td>\n",
       "      <td>-0.305987</td>\n",
       "      <td>0.566007</td>\n",
       "      <td>0.881001</td>\n",
       "      <td>-0.641871</td>\n",
       "      <td>0.360368</td>\n",
       "      <td>0.671404</td>\n",
       "      <td>0.286174</td>\n",
       "      <td>-0.287698</td>\n",
       "      <td>-1.186518e-07</td>\n",
       "    </tr>\n",
       "    <tr>\n",
       "      <th>3</th>\n",
       "      <td>-1.306320</td>\n",
       "      <td>-0.990882</td>\n",
       "      <td>0.597186</td>\n",
       "      <td>-1.050503</td>\n",
       "      <td>0.141820</td>\n",
       "      <td>-0.638868</td>\n",
       "      <td>-0.483447</td>\n",
       "      <td>0.085446</td>\n",
       "      <td>0.096276</td>\n",
       "      <td>0.019933</td>\n",
       "      <td>0.731528</td>\n",
       "      <td>7.415103e-09</td>\n",
       "    </tr>\n",
       "    <tr>\n",
       "      <th>4</th>\n",
       "      <td>-1.335645</td>\n",
       "      <td>-1.277782</td>\n",
       "      <td>-0.085476</td>\n",
       "      <td>-1.018065</td>\n",
       "      <td>0.395467</td>\n",
       "      <td>0.719844</td>\n",
       "      <td>-0.612023</td>\n",
       "      <td>0.245817</td>\n",
       "      <td>-0.426194</td>\n",
       "      <td>0.805717</td>\n",
       "      <td>0.072715</td>\n",
       "      <td>-9.832706e-08</td>\n",
       "    </tr>\n",
       "  </tbody>\n",
       "</table>\n",
       "</div>"
      ],
      "text/plain": [
       "        PC1       PC2       PC3       PC4       PC5       PC6       PC7  \\\n",
       "0 -0.652941 -0.540595  0.277601 -1.276863  0.412919 -0.207641 -0.019832   \n",
       "1 -1.192109  3.319574 -0.687571  1.032594  0.775812 -0.537727 -1.541805   \n",
       "2  1.080397  0.204470  1.129465 -0.305987  0.566007  0.881001 -0.641871   \n",
       "3 -1.306320 -0.990882  0.597186 -1.050503  0.141820 -0.638868 -0.483447   \n",
       "4 -1.335645 -1.277782 -0.085476 -1.018065  0.395467  0.719844 -0.612023   \n",
       "\n",
       "        PC8       PC9      PC10      PC11          PC12  \n",
       "0  0.451893 -0.773699 -0.432625  0.148075 -1.635591e-08  \n",
       "1 -0.796704 -0.756995  0.949406 -0.429861  8.099381e-08  \n",
       "2  0.360368  0.671404  0.286174 -0.287698 -1.186518e-07  \n",
       "3  0.085446  0.096276  0.019933  0.731528  7.415103e-09  \n",
       "4  0.245817 -0.426194  0.805717  0.072715 -9.832706e-08  "
      ]
     },
     "execution_count": 25,
     "metadata": {},
     "output_type": "execute_result"
    }
   ],
   "source": [
    "pca_scores = PCA().fit_transform(X_st)\n",
    "cols_pca = [f'PC{i}' for i in range(1, pca_out.n_components_+1)]\n",
    "df_pca = pd.DataFrame(pca_scores, columns=cols_pca, index=X_i.index)\n",
    "\n",
    "df_pca.head()"
   ]
  },
  {
   "attachments": {},
   "cell_type": "markdown",
   "id": "60ec7c2d",
   "metadata": {},
   "source": [
    "The variance ratios for the PCA output and the cumulative sum of the explained variance ratios are printed below. Specifically, the array displayed represents the amount of variability explained by each component."
   ]
  },
  {
   "cell_type": "code",
   "execution_count": 26,
   "id": "73733906",
   "metadata": {},
   "outputs": [
    {
     "name": "stdout",
     "output_type": "stream",
     "text": [
      "[2.16425951e-01 1.45546837e-01 1.07863877e-01 1.01207680e-01\n",
      " 9.27214608e-02 8.55679769e-02 7.15318501e-02 6.15861408e-02\n",
      " 4.95438036e-02 4.63157231e-02 2.16886999e-02 6.52216928e-16]\n",
      "----\n",
      "[0.21642595 0.36197279 0.46983667 0.57104434 0.66376581 0.74933378\n",
      " 0.82086563 0.88245177 0.93199558 0.9783113  1.         1.        ]\n"
     ]
    }
   ],
   "source": [
    "print(pca_out.explained_variance_ratio_)\n",
    "print('----')\n",
    "print(pca_out.explained_variance_ratio_.cumsum())"
   ]
  },
  {
   "attachments": {},
   "cell_type": "markdown",
   "id": "2fddeee4",
   "metadata": {},
   "source": [
    "\n",
    "The loading vectors help visualize the relationship between the original variables and their respective components. These vectors represent the weights of the variables within a mathematical equation used to generate the principal components."
   ]
  },
  {
   "cell_type": "code",
   "execution_count": 27,
   "id": "cc423252",
   "metadata": {},
   "outputs": [
    {
     "data": {
      "text/html": [
       "<div>\n",
       "<style scoped>\n",
       "    .dataframe tbody tr th:only-of-type {\n",
       "        vertical-align: middle;\n",
       "    }\n",
       "\n",
       "    .dataframe tbody tr th {\n",
       "        vertical-align: top;\n",
       "    }\n",
       "\n",
       "    .dataframe thead th {\n",
       "        text-align: right;\n",
       "    }\n",
       "</style>\n",
       "<table border=\"1\" class=\"dataframe\">\n",
       "  <thead>\n",
       "    <tr style=\"text-align: right;\">\n",
       "      <th></th>\n",
       "      <th>PC1</th>\n",
       "      <th>PC2</th>\n",
       "      <th>PC3</th>\n",
       "      <th>PC4</th>\n",
       "      <th>PC5</th>\n",
       "      <th>PC6</th>\n",
       "      <th>PC7</th>\n",
       "      <th>PC8</th>\n",
       "      <th>PC9</th>\n",
       "      <th>PC10</th>\n",
       "      <th>PC11</th>\n",
       "      <th>PC12</th>\n",
       "    </tr>\n",
       "  </thead>\n",
       "  <tbody>\n",
       "    <tr>\n",
       "      <th>acousticness</th>\n",
       "      <td>0.253094</td>\n",
       "      <td>0.425560</td>\n",
       "      <td>-0.081137</td>\n",
       "      <td>-0.051999</td>\n",
       "      <td>0.120657</td>\n",
       "      <td>-0.270423</td>\n",
       "      <td>0.038467</td>\n",
       "      <td>0.565513</td>\n",
       "      <td>-0.512979</td>\n",
       "      <td>-0.059977</td>\n",
       "      <td>-0.264270</td>\n",
       "      <td>-2.786806e-08</td>\n",
       "    </tr>\n",
       "    <tr>\n",
       "      <th>danceability</th>\n",
       "      <td>-0.428916</td>\n",
       "      <td>0.327036</td>\n",
       "      <td>-0.026959</td>\n",
       "      <td>-0.109895</td>\n",
       "      <td>0.101021</td>\n",
       "      <td>0.030147</td>\n",
       "      <td>-0.217469</td>\n",
       "      <td>0.138922</td>\n",
       "      <td>0.523550</td>\n",
       "      <td>-0.012503</td>\n",
       "      <td>-0.586779</td>\n",
       "      <td>4.801649e-10</td>\n",
       "    </tr>\n",
       "    <tr>\n",
       "      <th>energy</th>\n",
       "      <td>-0.309072</td>\n",
       "      <td>-0.169597</td>\n",
       "      <td>-0.250304</td>\n",
       "      <td>0.309696</td>\n",
       "      <td>-0.430665</td>\n",
       "      <td>0.106693</td>\n",
       "      <td>0.308849</td>\n",
       "      <td>0.025428</td>\n",
       "      <td>-0.270576</td>\n",
       "      <td>0.482465</td>\n",
       "      <td>-0.343909</td>\n",
       "      <td>-2.016976e-08</td>\n",
       "    </tr>\n",
       "    <tr>\n",
       "      <th>speechiness</th>\n",
       "      <td>-0.188700</td>\n",
       "      <td>0.395047</td>\n",
       "      <td>-0.062115</td>\n",
       "      <td>-0.032742</td>\n",
       "      <td>-0.118204</td>\n",
       "      <td>0.304929</td>\n",
       "      <td>0.670314</td>\n",
       "      <td>-0.052322</td>\n",
       "      <td>0.033915</td>\n",
       "      <td>-0.472329</td>\n",
       "      <td>0.141921</td>\n",
       "      <td>6.140892e-09</td>\n",
       "    </tr>\n",
       "    <tr>\n",
       "      <th>tempo</th>\n",
       "      <td>0.102180</td>\n",
       "      <td>0.112419</td>\n",
       "      <td>0.250471</td>\n",
       "      <td>0.222759</td>\n",
       "      <td>-0.388726</td>\n",
       "      <td>-0.698286</td>\n",
       "      <td>0.097755</td>\n",
       "      <td>-0.348045</td>\n",
       "      <td>0.104721</td>\n",
       "      <td>-0.220550</td>\n",
       "      <td>-0.188555</td>\n",
       "      <td>9.069694e-09</td>\n",
       "    </tr>\n",
       "    <tr>\n",
       "      <th>valence</th>\n",
       "      <td>-0.437115</td>\n",
       "      <td>0.155936</td>\n",
       "      <td>0.052694</td>\n",
       "      <td>0.248609</td>\n",
       "      <td>-0.017721</td>\n",
       "      <td>-0.338282</td>\n",
       "      <td>-0.003064</td>\n",
       "      <td>0.417016</td>\n",
       "      <td>0.182694</td>\n",
       "      <td>0.208423</td>\n",
       "      <td>0.595445</td>\n",
       "      <td>-1.736405e-08</td>\n",
       "    </tr>\n",
       "    <tr>\n",
       "      <th>sadness</th>\n",
       "      <td>0.396350</td>\n",
       "      <td>0.061848</td>\n",
       "      <td>-0.457667</td>\n",
       "      <td>-0.064144</td>\n",
       "      <td>-0.420210</td>\n",
       "      <td>0.034624</td>\n",
       "      <td>-0.077819</td>\n",
       "      <td>0.190498</td>\n",
       "      <td>0.359314</td>\n",
       "      <td>0.010301</td>\n",
       "      <td>0.101546</td>\n",
       "      <td>5.156194e-01</td>\n",
       "    </tr>\n",
       "    <tr>\n",
       "      <th>joy</th>\n",
       "      <td>-0.412556</td>\n",
       "      <td>-0.266452</td>\n",
       "      <td>0.186634</td>\n",
       "      <td>-0.496523</td>\n",
       "      <td>-0.074336</td>\n",
       "      <td>-0.157048</td>\n",
       "      <td>0.007957</td>\n",
       "      <td>0.032509</td>\n",
       "      <td>-0.274236</td>\n",
       "      <td>-0.148999</td>\n",
       "      <td>-0.020153</td>\n",
       "      <td>5.901792e-01</td>\n",
       "    </tr>\n",
       "    <tr>\n",
       "      <th>love</th>\n",
       "      <td>-0.030564</td>\n",
       "      <td>-0.320082</td>\n",
       "      <td>-0.212120</td>\n",
       "      <td>0.566633</td>\n",
       "      <td>0.503138</td>\n",
       "      <td>-0.097366</td>\n",
       "      <td>0.140785</td>\n",
       "      <td>0.062050</td>\n",
       "      <td>0.057297</td>\n",
       "      <td>-0.303900</td>\n",
       "      <td>-0.150700</td>\n",
       "      <td>3.548201e-01</td>\n",
       "    </tr>\n",
       "    <tr>\n",
       "      <th>anger</th>\n",
       "      <td>-0.128199</td>\n",
       "      <td>0.542932</td>\n",
       "      <td>-0.134174</td>\n",
       "      <td>0.206550</td>\n",
       "      <td>0.133607</td>\n",
       "      <td>0.089812</td>\n",
       "      <td>-0.313582</td>\n",
       "      <td>-0.502087</td>\n",
       "      <td>-0.289683</td>\n",
       "      <td>0.161095</td>\n",
       "      <td>0.126852</td>\n",
       "      <td>3.547164e-01</td>\n",
       "    </tr>\n",
       "    <tr>\n",
       "      <th>fear</th>\n",
       "      <td>0.270561</td>\n",
       "      <td>0.132370</td>\n",
       "      <td>0.620053</td>\n",
       "      <td>0.077554</td>\n",
       "      <td>0.159411</td>\n",
       "      <td>0.149327</td>\n",
       "      <td>0.334458</td>\n",
       "      <td>0.064617</td>\n",
       "      <td>0.185699</td>\n",
       "      <td>0.427809</td>\n",
       "      <td>-0.083975</td>\n",
       "      <td>3.612335e-01</td>\n",
       "    </tr>\n",
       "    <tr>\n",
       "      <th>surprise</th>\n",
       "      <td>-0.038259</td>\n",
       "      <td>-0.024411</td>\n",
       "      <td>0.410989</td>\n",
       "      <td>0.395483</td>\n",
       "      <td>-0.381912</td>\n",
       "      <td>0.392240</td>\n",
       "      <td>-0.401021</td>\n",
       "      <td>0.254973</td>\n",
       "      <td>-0.134342</td>\n",
       "      <td>-0.353076</td>\n",
       "      <td>-0.027541</td>\n",
       "      <td>6.012030e-02</td>\n",
       "    </tr>\n",
       "  </tbody>\n",
       "</table>\n",
       "</div>"
      ],
      "text/plain": [
       "                   PC1       PC2       PC3       PC4       PC5       PC6  \\\n",
       "acousticness  0.253094  0.425560 -0.081137 -0.051999  0.120657 -0.270423   \n",
       "danceability -0.428916  0.327036 -0.026959 -0.109895  0.101021  0.030147   \n",
       "energy       -0.309072 -0.169597 -0.250304  0.309696 -0.430665  0.106693   \n",
       "speechiness  -0.188700  0.395047 -0.062115 -0.032742 -0.118204  0.304929   \n",
       "tempo         0.102180  0.112419  0.250471  0.222759 -0.388726 -0.698286   \n",
       "valence      -0.437115  0.155936  0.052694  0.248609 -0.017721 -0.338282   \n",
       "sadness       0.396350  0.061848 -0.457667 -0.064144 -0.420210  0.034624   \n",
       "joy          -0.412556 -0.266452  0.186634 -0.496523 -0.074336 -0.157048   \n",
       "love         -0.030564 -0.320082 -0.212120  0.566633  0.503138 -0.097366   \n",
       "anger        -0.128199  0.542932 -0.134174  0.206550  0.133607  0.089812   \n",
       "fear          0.270561  0.132370  0.620053  0.077554  0.159411  0.149327   \n",
       "surprise     -0.038259 -0.024411  0.410989  0.395483 -0.381912  0.392240   \n",
       "\n",
       "                   PC7       PC8       PC9      PC10      PC11          PC12  \n",
       "acousticness  0.038467  0.565513 -0.512979 -0.059977 -0.264270 -2.786806e-08  \n",
       "danceability -0.217469  0.138922  0.523550 -0.012503 -0.586779  4.801649e-10  \n",
       "energy        0.308849  0.025428 -0.270576  0.482465 -0.343909 -2.016976e-08  \n",
       "speechiness   0.670314 -0.052322  0.033915 -0.472329  0.141921  6.140892e-09  \n",
       "tempo         0.097755 -0.348045  0.104721 -0.220550 -0.188555  9.069694e-09  \n",
       "valence      -0.003064  0.417016  0.182694  0.208423  0.595445 -1.736405e-08  \n",
       "sadness      -0.077819  0.190498  0.359314  0.010301  0.101546  5.156194e-01  \n",
       "joy           0.007957  0.032509 -0.274236 -0.148999 -0.020153  5.901792e-01  \n",
       "love          0.140785  0.062050  0.057297 -0.303900 -0.150700  3.548201e-01  \n",
       "anger        -0.313582 -0.502087 -0.289683  0.161095  0.126852  3.547164e-01  \n",
       "fear          0.334458  0.064617  0.185699  0.427809 -0.083975  3.612335e-01  \n",
       "surprise     -0.401021  0.254973 -0.134342 -0.353076 -0.027541  6.012030e-02  "
      ]
     },
     "execution_count": 27,
     "metadata": {},
     "output_type": "execute_result"
    }
   ],
   "source": [
    "df_weights = pd.DataFrame(pca_out.components_.T, columns=df_pca.columns, index=X_i.columns)\n",
    "df_weights"
   ]
  },
  {
   "attachments": {},
   "cell_type": "markdown",
   "id": "13af5dac",
   "metadata": {},
   "source": [
    "------------------------------\n",
    "\n",
    "## K Means Clustering\n",
    "\n",
    "\n",
    "> Clustering is an unsupervised machine learning technique used to categorize data points into distinct groups based on their similarities. In Spotify data, for example, clustering can categorize songs into genres or moods by analyzing characteristics like tempo, beat, and instrumentals. \n",
    "\n",
    "\n",
    "Next, we apply K-means clustering on the dimensionally reduced Spotify data to explore patterns in track audio features and sentiment. K-means is an unsupervised algorithm that optimizes the number of clusters ($K$). We use the Elbow method to determine the optimal $K$.\n",
    "\n",
    "\n",
    "As shown below, we use the KMeans algorithm from the *sklearn.cluster* library to categorize songs based on features like energy levels and sound qualities. Applying this to the \"playlist_tracks\" dataset, we create three [clusters](https://github.com/ankushbharadwaj/reorganize-my-spotify-playlist/blob/master/reorder%20my%20spotify%20playlist.ipynb), excluding the \"artist\" and \"name\" columns to focus on track features.\n",
    "\n"
   ]
  },
  {
   "cell_type": "code",
   "execution_count": 28,
   "id": "4724bc05",
   "metadata": {},
   "outputs": [
    {
     "data": {
      "text/html": [
       "<style>#sk-container-id-1 {color: black;background-color: white;}#sk-container-id-1 pre{padding: 0;}#sk-container-id-1 div.sk-toggleable {background-color: white;}#sk-container-id-1 label.sk-toggleable__label {cursor: pointer;display: block;width: 100%;margin-bottom: 0;padding: 0.3em;box-sizing: border-box;text-align: center;}#sk-container-id-1 label.sk-toggleable__label-arrow:before {content: \"▸\";float: left;margin-right: 0.25em;color: #696969;}#sk-container-id-1 label.sk-toggleable__label-arrow:hover:before {color: black;}#sk-container-id-1 div.sk-estimator:hover label.sk-toggleable__label-arrow:before {color: black;}#sk-container-id-1 div.sk-toggleable__content {max-height: 0;max-width: 0;overflow: hidden;text-align: left;background-color: #f0f8ff;}#sk-container-id-1 div.sk-toggleable__content pre {margin: 0.2em;color: black;border-radius: 0.25em;background-color: #f0f8ff;}#sk-container-id-1 input.sk-toggleable__control:checked~div.sk-toggleable__content {max-height: 200px;max-width: 100%;overflow: auto;}#sk-container-id-1 input.sk-toggleable__control:checked~label.sk-toggleable__label-arrow:before {content: \"▾\";}#sk-container-id-1 div.sk-estimator input.sk-toggleable__control:checked~label.sk-toggleable__label {background-color: #d4ebff;}#sk-container-id-1 div.sk-label input.sk-toggleable__control:checked~label.sk-toggleable__label {background-color: #d4ebff;}#sk-container-id-1 input.sk-hidden--visually {border: 0;clip: rect(1px 1px 1px 1px);clip: rect(1px, 1px, 1px, 1px);height: 1px;margin: -1px;overflow: hidden;padding: 0;position: absolute;width: 1px;}#sk-container-id-1 div.sk-estimator {font-family: monospace;background-color: #f0f8ff;border: 1px dotted black;border-radius: 0.25em;box-sizing: border-box;margin-bottom: 0.5em;}#sk-container-id-1 div.sk-estimator:hover {background-color: #d4ebff;}#sk-container-id-1 div.sk-parallel-item::after {content: \"\";width: 100%;border-bottom: 1px solid gray;flex-grow: 1;}#sk-container-id-1 div.sk-label:hover label.sk-toggleable__label {background-color: #d4ebff;}#sk-container-id-1 div.sk-serial::before {content: \"\";position: absolute;border-left: 1px solid gray;box-sizing: border-box;top: 0;bottom: 0;left: 50%;z-index: 0;}#sk-container-id-1 div.sk-serial {display: flex;flex-direction: column;align-items: center;background-color: white;padding-right: 0.2em;padding-left: 0.2em;position: relative;}#sk-container-id-1 div.sk-item {position: relative;z-index: 1;}#sk-container-id-1 div.sk-parallel {display: flex;align-items: stretch;justify-content: center;background-color: white;position: relative;}#sk-container-id-1 div.sk-item::before, #sk-container-id-1 div.sk-parallel-item::before {content: \"\";position: absolute;border-left: 1px solid gray;box-sizing: border-box;top: 0;bottom: 0;left: 50%;z-index: -1;}#sk-container-id-1 div.sk-parallel-item {display: flex;flex-direction: column;z-index: 1;position: relative;background-color: white;}#sk-container-id-1 div.sk-parallel-item:first-child::after {align-self: flex-end;width: 50%;}#sk-container-id-1 div.sk-parallel-item:last-child::after {align-self: flex-start;width: 50%;}#sk-container-id-1 div.sk-parallel-item:only-child::after {width: 0;}#sk-container-id-1 div.sk-dashed-wrapped {border: 1px dashed gray;margin: 0 0.4em 0.5em 0.4em;box-sizing: border-box;padding-bottom: 0.4em;background-color: white;}#sk-container-id-1 div.sk-label label {font-family: monospace;font-weight: bold;display: inline-block;line-height: 1.2em;}#sk-container-id-1 div.sk-label-container {text-align: center;}#sk-container-id-1 div.sk-container {/* jupyter's `normalize.less` sets `[hidden] { display: none; }` but bootstrap.min.css set `[hidden] { display: none !important; }` so we also need the `!important` here to be able to override the default hidden behavior on the sphinx rendered scikit-learn.org. See: https://github.com/scikit-learn/scikit-learn/issues/21755 */display: inline-block !important;position: relative;}#sk-container-id-1 div.sk-text-repr-fallback {display: none;}</style><div id=\"sk-container-id-1\" class=\"sk-top-container\"><div class=\"sk-text-repr-fallback\"><pre>KMeans(n_clusters=3)</pre><b>In a Jupyter environment, please rerun this cell to show the HTML representation or trust the notebook. <br />On GitHub, the HTML representation is unable to render, please try loading this page with nbviewer.org.</b></div><div class=\"sk-container\" hidden><div class=\"sk-item\"><div class=\"sk-estimator sk-toggleable\"><input class=\"sk-toggleable__control sk-hidden--visually\" id=\"sk-estimator-id-1\" type=\"checkbox\" checked><label for=\"sk-estimator-id-1\" class=\"sk-toggleable__label sk-toggleable__label-arrow\">KMeans</label><div class=\"sk-toggleable__content\"><pre>KMeans(n_clusters=3)</pre></div></div></div></div></div>"
      ],
      "text/plain": [
       "KMeans(n_clusters=3)"
      ]
     },
     "execution_count": 28,
     "metadata": {},
     "output_type": "execute_result"
    }
   ],
   "source": [
    "from sklearn.cluster import KMeans\n",
    "playlist_tracks = df_final[['name','acousticness','danceability','energy', 'liveness', \n",
    "                            'instrumentalness','speechiness','valence',\n",
    "                            'sadness', 'joy', 'love', 'anger', 'fear', ]]#'surprise'\n",
    "\n",
    "kmeans = KMeans(n_clusters = 3)\n",
    "kmeans.fit(playlist_tracks.drop(['name'], axis = 1))"
   ]
  },
  {
   "cell_type": "code",
   "execution_count": 29,
   "id": "6272ae27",
   "metadata": {
    "tags": [
     "hide-code"
    ]
   },
   "outputs": [
    {
     "data": {
      "application/vnd.plotly.v1+json": {
       "config": {
        "plotlyServerURL": "https://plot.ly"
       },
       "data": [
        {
         "cliponaxis": false,
         "histfunc": "count",
         "marker": {
          "color": "#6A8559",
          "line": {
           "color": "#4E6241",
           "width": 1.5
          }
         },
         "opacity": 0.996,
         "showlegend": false,
         "textangle": 0,
         "textfont": {
          "color": "black",
          "family": "Roboto",
          "size": 18
         },
         "textposition": "outside",
         "type": "histogram",
         "x": [
          "1",
          "0",
          "0",
          "1",
          "1",
          "1",
          "1",
          "1",
          "0",
          "1",
          "1",
          "1",
          "2",
          "1",
          "1",
          "1",
          "2",
          "2",
          "2",
          "2",
          "1",
          "0",
          "1",
          "0",
          "0",
          "2",
          "0",
          "0",
          "0",
          "2",
          "0",
          "0",
          "1",
          "2",
          "1",
          "1",
          "0",
          "1",
          "0",
          "0",
          "0",
          "2",
          "2",
          "0",
          "0",
          "0",
          "0",
          "1",
          "1",
          "0"
         ]
        }
       ],
       "layout": {
        "bargap": 0.125,
        "bargroupgap": 0.1,
        "barmode": "group",
        "font": {
         "family": "Roboto Condensed"
        },
        "template": {
         "data": {
          "bar": [
           {
            "error_x": {
             "color": "#2a3f5f"
            },
            "error_y": {
             "color": "#2a3f5f"
            },
            "marker": {
             "line": {
              "color": "white",
              "width": 0.5
             },
             "pattern": {
              "fillmode": "overlay",
              "size": 10,
              "solidity": 0.2
             }
            },
            "type": "bar"
           }
          ],
          "barpolar": [
           {
            "marker": {
             "line": {
              "color": "white",
              "width": 0.5
             },
             "pattern": {
              "fillmode": "overlay",
              "size": 10,
              "solidity": 0.2
             }
            },
            "type": "barpolar"
           }
          ],
          "carpet": [
           {
            "aaxis": {
             "endlinecolor": "#2a3f5f",
             "gridcolor": "#C8D4E3",
             "linecolor": "#C8D4E3",
             "minorgridcolor": "#C8D4E3",
             "startlinecolor": "#2a3f5f"
            },
            "baxis": {
             "endlinecolor": "#2a3f5f",
             "gridcolor": "#C8D4E3",
             "linecolor": "#C8D4E3",
             "minorgridcolor": "#C8D4E3",
             "startlinecolor": "#2a3f5f"
            },
            "type": "carpet"
           }
          ],
          "choropleth": [
           {
            "colorbar": {
             "outlinewidth": 0,
             "ticks": ""
            },
            "type": "choropleth"
           }
          ],
          "contour": [
           {
            "colorbar": {
             "outlinewidth": 0,
             "ticks": ""
            },
            "colorscale": [
             [
              0.0,
              "#0d0887"
             ],
             [
              0.1111111111111111,
              "#46039f"
             ],
             [
              0.2222222222222222,
              "#7201a8"
             ],
             [
              0.3333333333333333,
              "#9c179e"
             ],
             [
              0.4444444444444444,
              "#bd3786"
             ],
             [
              0.5555555555555556,
              "#d8576b"
             ],
             [
              0.6666666666666666,
              "#ed7953"
             ],
             [
              0.7777777777777778,
              "#fb9f3a"
             ],
             [
              0.8888888888888888,
              "#fdca26"
             ],
             [
              1.0,
              "#f0f921"
             ]
            ],
            "type": "contour"
           }
          ],
          "contourcarpet": [
           {
            "colorbar": {
             "outlinewidth": 0,
             "ticks": ""
            },
            "type": "contourcarpet"
           }
          ],
          "heatmap": [
           {
            "colorbar": {
             "outlinewidth": 0,
             "ticks": ""
            },
            "colorscale": [
             [
              0.0,
              "#0d0887"
             ],
             [
              0.1111111111111111,
              "#46039f"
             ],
             [
              0.2222222222222222,
              "#7201a8"
             ],
             [
              0.3333333333333333,
              "#9c179e"
             ],
             [
              0.4444444444444444,
              "#bd3786"
             ],
             [
              0.5555555555555556,
              "#d8576b"
             ],
             [
              0.6666666666666666,
              "#ed7953"
             ],
             [
              0.7777777777777778,
              "#fb9f3a"
             ],
             [
              0.8888888888888888,
              "#fdca26"
             ],
             [
              1.0,
              "#f0f921"
             ]
            ],
            "type": "heatmap"
           }
          ],
          "heatmapgl": [
           {
            "colorbar": {
             "outlinewidth": 0,
             "ticks": ""
            },
            "colorscale": [
             [
              0.0,
              "#0d0887"
             ],
             [
              0.1111111111111111,
              "#46039f"
             ],
             [
              0.2222222222222222,
              "#7201a8"
             ],
             [
              0.3333333333333333,
              "#9c179e"
             ],
             [
              0.4444444444444444,
              "#bd3786"
             ],
             [
              0.5555555555555556,
              "#d8576b"
             ],
             [
              0.6666666666666666,
              "#ed7953"
             ],
             [
              0.7777777777777778,
              "#fb9f3a"
             ],
             [
              0.8888888888888888,
              "#fdca26"
             ],
             [
              1.0,
              "#f0f921"
             ]
            ],
            "type": "heatmapgl"
           }
          ],
          "histogram": [
           {
            "marker": {
             "pattern": {
              "fillmode": "overlay",
              "size": 10,
              "solidity": 0.2
             }
            },
            "type": "histogram"
           }
          ],
          "histogram2d": [
           {
            "colorbar": {
             "outlinewidth": 0,
             "ticks": ""
            },
            "colorscale": [
             [
              0.0,
              "#0d0887"
             ],
             [
              0.1111111111111111,
              "#46039f"
             ],
             [
              0.2222222222222222,
              "#7201a8"
             ],
             [
              0.3333333333333333,
              "#9c179e"
             ],
             [
              0.4444444444444444,
              "#bd3786"
             ],
             [
              0.5555555555555556,
              "#d8576b"
             ],
             [
              0.6666666666666666,
              "#ed7953"
             ],
             [
              0.7777777777777778,
              "#fb9f3a"
             ],
             [
              0.8888888888888888,
              "#fdca26"
             ],
             [
              1.0,
              "#f0f921"
             ]
            ],
            "type": "histogram2d"
           }
          ],
          "histogram2dcontour": [
           {
            "colorbar": {
             "outlinewidth": 0,
             "ticks": ""
            },
            "colorscale": [
             [
              0.0,
              "#0d0887"
             ],
             [
              0.1111111111111111,
              "#46039f"
             ],
             [
              0.2222222222222222,
              "#7201a8"
             ],
             [
              0.3333333333333333,
              "#9c179e"
             ],
             [
              0.4444444444444444,
              "#bd3786"
             ],
             [
              0.5555555555555556,
              "#d8576b"
             ],
             [
              0.6666666666666666,
              "#ed7953"
             ],
             [
              0.7777777777777778,
              "#fb9f3a"
             ],
             [
              0.8888888888888888,
              "#fdca26"
             ],
             [
              1.0,
              "#f0f921"
             ]
            ],
            "type": "histogram2dcontour"
           }
          ],
          "mesh3d": [
           {
            "colorbar": {
             "outlinewidth": 0,
             "ticks": ""
            },
            "type": "mesh3d"
           }
          ],
          "parcoords": [
           {
            "line": {
             "colorbar": {
              "outlinewidth": 0,
              "ticks": ""
             }
            },
            "type": "parcoords"
           }
          ],
          "pie": [
           {
            "automargin": true,
            "type": "pie"
           }
          ],
          "scatter": [
           {
            "fillpattern": {
             "fillmode": "overlay",
             "size": 10,
             "solidity": 0.2
            },
            "type": "scatter"
           }
          ],
          "scatter3d": [
           {
            "line": {
             "colorbar": {
              "outlinewidth": 0,
              "ticks": ""
             }
            },
            "marker": {
             "colorbar": {
              "outlinewidth": 0,
              "ticks": ""
             }
            },
            "type": "scatter3d"
           }
          ],
          "scattercarpet": [
           {
            "marker": {
             "colorbar": {
              "outlinewidth": 0,
              "ticks": ""
             }
            },
            "type": "scattercarpet"
           }
          ],
          "scattergeo": [
           {
            "marker": {
             "colorbar": {
              "outlinewidth": 0,
              "ticks": ""
             }
            },
            "type": "scattergeo"
           }
          ],
          "scattergl": [
           {
            "marker": {
             "colorbar": {
              "outlinewidth": 0,
              "ticks": ""
             }
            },
            "type": "scattergl"
           }
          ],
          "scattermapbox": [
           {
            "marker": {
             "colorbar": {
              "outlinewidth": 0,
              "ticks": ""
             }
            },
            "type": "scattermapbox"
           }
          ],
          "scatterpolar": [
           {
            "marker": {
             "colorbar": {
              "outlinewidth": 0,
              "ticks": ""
             }
            },
            "type": "scatterpolar"
           }
          ],
          "scatterpolargl": [
           {
            "marker": {
             "colorbar": {
              "outlinewidth": 0,
              "ticks": ""
             }
            },
            "type": "scatterpolargl"
           }
          ],
          "scatterternary": [
           {
            "marker": {
             "colorbar": {
              "outlinewidth": 0,
              "ticks": ""
             }
            },
            "type": "scatterternary"
           }
          ],
          "surface": [
           {
            "colorbar": {
             "outlinewidth": 0,
             "ticks": ""
            },
            "colorscale": [
             [
              0.0,
              "#0d0887"
             ],
             [
              0.1111111111111111,
              "#46039f"
             ],
             [
              0.2222222222222222,
              "#7201a8"
             ],
             [
              0.3333333333333333,
              "#9c179e"
             ],
             [
              0.4444444444444444,
              "#bd3786"
             ],
             [
              0.5555555555555556,
              "#d8576b"
             ],
             [
              0.6666666666666666,
              "#ed7953"
             ],
             [
              0.7777777777777778,
              "#fb9f3a"
             ],
             [
              0.8888888888888888,
              "#fdca26"
             ],
             [
              1.0,
              "#f0f921"
             ]
            ],
            "type": "surface"
           }
          ],
          "table": [
           {
            "cells": {
             "fill": {
              "color": "#EBF0F8"
             },
             "line": {
              "color": "white"
             }
            },
            "header": {
             "fill": {
              "color": "#C8D4E3"
             },
             "line": {
              "color": "white"
             }
            },
            "type": "table"
           }
          ]
         },
         "layout": {
          "annotationdefaults": {
           "arrowcolor": "#2a3f5f",
           "arrowhead": 0,
           "arrowwidth": 1
          },
          "autotypenumbers": "strict",
          "coloraxis": {
           "colorbar": {
            "outlinewidth": 0,
            "ticks": ""
           }
          },
          "colorscale": {
           "diverging": [
            [
             0,
             "#8e0152"
            ],
            [
             0.1,
             "#c51b7d"
            ],
            [
             0.2,
             "#de77ae"
            ],
            [
             0.3,
             "#f1b6da"
            ],
            [
             0.4,
             "#fde0ef"
            ],
            [
             0.5,
             "#f7f7f7"
            ],
            [
             0.6,
             "#e6f5d0"
            ],
            [
             0.7,
             "#b8e186"
            ],
            [
             0.8,
             "#7fbc41"
            ],
            [
             0.9,
             "#4d9221"
            ],
            [
             1,
             "#276419"
            ]
           ],
           "sequential": [
            [
             0.0,
             "#0d0887"
            ],
            [
             0.1111111111111111,
             "#46039f"
            ],
            [
             0.2222222222222222,
             "#7201a8"
            ],
            [
             0.3333333333333333,
             "#9c179e"
            ],
            [
             0.4444444444444444,
             "#bd3786"
            ],
            [
             0.5555555555555556,
             "#d8576b"
            ],
            [
             0.6666666666666666,
             "#ed7953"
            ],
            [
             0.7777777777777778,
             "#fb9f3a"
            ],
            [
             0.8888888888888888,
             "#fdca26"
            ],
            [
             1.0,
             "#f0f921"
            ]
           ],
           "sequentialminus": [
            [
             0.0,
             "#0d0887"
            ],
            [
             0.1111111111111111,
             "#46039f"
            ],
            [
             0.2222222222222222,
             "#7201a8"
            ],
            [
             0.3333333333333333,
             "#9c179e"
            ],
            [
             0.4444444444444444,
             "#bd3786"
            ],
            [
             0.5555555555555556,
             "#d8576b"
            ],
            [
             0.6666666666666666,
             "#ed7953"
            ],
            [
             0.7777777777777778,
             "#fb9f3a"
            ],
            [
             0.8888888888888888,
             "#fdca26"
            ],
            [
             1.0,
             "#f0f921"
            ]
           ]
          },
          "colorway": [
           "#636efa",
           "#EF553B",
           "#00cc96",
           "#ab63fa",
           "#FFA15A",
           "#19d3f3",
           "#FF6692",
           "#B6E880",
           "#FF97FF",
           "#FECB52"
          ],
          "font": {
           "color": "#2a3f5f"
          },
          "geo": {
           "bgcolor": "white",
           "lakecolor": "white",
           "landcolor": "white",
           "showlakes": true,
           "showland": true,
           "subunitcolor": "#C8D4E3"
          },
          "hoverlabel": {
           "align": "left"
          },
          "hovermode": "closest",
          "mapbox": {
           "style": "light"
          },
          "margin": {
           "b": 0,
           "l": 0,
           "r": 0,
           "t": 30
          },
          "paper_bgcolor": "white",
          "plot_bgcolor": "white",
          "polar": {
           "angularaxis": {
            "gridcolor": "#EBF0F8",
            "linecolor": "#EBF0F8",
            "ticks": ""
           },
           "bgcolor": "white",
           "radialaxis": {
            "gridcolor": "#EBF0F8",
            "linecolor": "#EBF0F8",
            "ticks": ""
           }
          },
          "scene": {
           "xaxis": {
            "backgroundcolor": "white",
            "gridcolor": "#DFE8F3",
            "gridwidth": 2,
            "linecolor": "#EBF0F8",
            "showbackground": true,
            "ticks": "",
            "zerolinecolor": "#EBF0F8"
           },
           "yaxis": {
            "backgroundcolor": "white",
            "gridcolor": "#DFE8F3",
            "gridwidth": 2,
            "linecolor": "#EBF0F8",
            "showbackground": true,
            "ticks": "",
            "zerolinecolor": "#EBF0F8"
           },
           "zaxis": {
            "backgroundcolor": "white",
            "gridcolor": "#DFE8F3",
            "gridwidth": 2,
            "linecolor": "#EBF0F8",
            "showbackground": true,
            "ticks": "",
            "zerolinecolor": "#EBF0F8"
           }
          },
          "shapedefaults": {
           "line": {
            "color": "#2a3f5f"
           }
          },
          "ternary": {
           "aaxis": {
            "gridcolor": "#DFE8F3",
            "linecolor": "#A2B1C6",
            "ticks": ""
           },
           "baxis": {
            "gridcolor": "#DFE8F3",
            "linecolor": "#A2B1C6",
            "ticks": ""
           },
           "bgcolor": "white",
           "caxis": {
            "gridcolor": "#DFE8F3",
            "linecolor": "#A2B1C6",
            "ticks": ""
           }
          },
          "title": {
           "x": 0.05
          },
          "xaxis": {
           "automargin": true,
           "gridcolor": "#EBF0F8",
           "linecolor": "#EBF0F8",
           "ticks": "",
           "title": {
            "standoff": 15
           },
           "zerolinecolor": "#EBF0F8",
           "zerolinewidth": 2
          },
          "yaxis": {
           "automargin": true,
           "gridcolor": "#EBF0F8",
           "linecolor": "#EBF0F8",
           "ticks": "",
           "title": {
            "standoff": 15
           },
           "zerolinecolor": "#EBF0F8",
           "zerolinewidth": 2
          }
         }
        },
        "title": {
         "automargin": true,
         "font": {
          "family": "Roboto Condensed",
          "size": 15
         },
         "text": "<b>Figure 8.</b> KMeans Clustering (n_clusters=3)"
        },
        "xaxis": {
         "tickfont": {
          "color": "black",
          "family": "Roboto",
          "size": 10
         },
         "title": {
          "font": {
           "color": "black",
           "family": "Roboto Condensed",
           "size": 11
          },
          "standoff": 1,
          "text": "Count"
         }
        },
        "yaxis": {
         "tickfont": {
          "color": "black",
          "family": "Roboto",
          "size": 12
         }
        }
       }
      },
      "text/html": [
       "<div>                            <div id=\"30d69821-68b7-4144-9cf5-1f29e3511955\" class=\"plotly-graph-div\" style=\"height:525px; width:100%;\"></div>            <script type=\"text/javascript\">                require([\"plotly\"], function(Plotly) {                    window.PLOTLYENV=window.PLOTLYENV || {};                                    if (document.getElementById(\"30d69821-68b7-4144-9cf5-1f29e3511955\")) {                    Plotly.newPlot(                        \"30d69821-68b7-4144-9cf5-1f29e3511955\",                        [{\"histfunc\":\"count\",\"marker\":{\"color\":\"#6A8559\",\"line\":{\"color\":\"#4E6241\",\"width\":1.5}},\"showlegend\":false,\"textfont\":{\"color\":\"black\",\"family\":\"Roboto\",\"size\":18},\"x\":[\"1\",\"0\",\"0\",\"1\",\"1\",\"1\",\"1\",\"1\",\"0\",\"1\",\"1\",\"1\",\"2\",\"1\",\"1\",\"1\",\"2\",\"2\",\"2\",\"2\",\"1\",\"0\",\"1\",\"0\",\"0\",\"2\",\"0\",\"0\",\"0\",\"2\",\"0\",\"0\",\"1\",\"2\",\"1\",\"1\",\"0\",\"1\",\"0\",\"0\",\"0\",\"2\",\"2\",\"0\",\"0\",\"0\",\"0\",\"1\",\"1\",\"0\"],\"type\":\"histogram\",\"cliponaxis\":false,\"opacity\":0.996,\"textangle\":0,\"textposition\":\"outside\"}],                        {\"template\":{\"data\":{\"barpolar\":[{\"marker\":{\"line\":{\"color\":\"white\",\"width\":0.5},\"pattern\":{\"fillmode\":\"overlay\",\"size\":10,\"solidity\":0.2}},\"type\":\"barpolar\"}],\"bar\":[{\"error_x\":{\"color\":\"#2a3f5f\"},\"error_y\":{\"color\":\"#2a3f5f\"},\"marker\":{\"line\":{\"color\":\"white\",\"width\":0.5},\"pattern\":{\"fillmode\":\"overlay\",\"size\":10,\"solidity\":0.2}},\"type\":\"bar\"}],\"carpet\":[{\"aaxis\":{\"endlinecolor\":\"#2a3f5f\",\"gridcolor\":\"#C8D4E3\",\"linecolor\":\"#C8D4E3\",\"minorgridcolor\":\"#C8D4E3\",\"startlinecolor\":\"#2a3f5f\"},\"baxis\":{\"endlinecolor\":\"#2a3f5f\",\"gridcolor\":\"#C8D4E3\",\"linecolor\":\"#C8D4E3\",\"minorgridcolor\":\"#C8D4E3\",\"startlinecolor\":\"#2a3f5f\"},\"type\":\"carpet\"}],\"choropleth\":[{\"colorbar\":{\"outlinewidth\":0,\"ticks\":\"\"},\"type\":\"choropleth\"}],\"contourcarpet\":[{\"colorbar\":{\"outlinewidth\":0,\"ticks\":\"\"},\"type\":\"contourcarpet\"}],\"contour\":[{\"colorbar\":{\"outlinewidth\":0,\"ticks\":\"\"},\"colorscale\":[[0.0,\"#0d0887\"],[0.1111111111111111,\"#46039f\"],[0.2222222222222222,\"#7201a8\"],[0.3333333333333333,\"#9c179e\"],[0.4444444444444444,\"#bd3786\"],[0.5555555555555556,\"#d8576b\"],[0.6666666666666666,\"#ed7953\"],[0.7777777777777778,\"#fb9f3a\"],[0.8888888888888888,\"#fdca26\"],[1.0,\"#f0f921\"]],\"type\":\"contour\"}],\"heatmapgl\":[{\"colorbar\":{\"outlinewidth\":0,\"ticks\":\"\"},\"colorscale\":[[0.0,\"#0d0887\"],[0.1111111111111111,\"#46039f\"],[0.2222222222222222,\"#7201a8\"],[0.3333333333333333,\"#9c179e\"],[0.4444444444444444,\"#bd3786\"],[0.5555555555555556,\"#d8576b\"],[0.6666666666666666,\"#ed7953\"],[0.7777777777777778,\"#fb9f3a\"],[0.8888888888888888,\"#fdca26\"],[1.0,\"#f0f921\"]],\"type\":\"heatmapgl\"}],\"heatmap\":[{\"colorbar\":{\"outlinewidth\":0,\"ticks\":\"\"},\"colorscale\":[[0.0,\"#0d0887\"],[0.1111111111111111,\"#46039f\"],[0.2222222222222222,\"#7201a8\"],[0.3333333333333333,\"#9c179e\"],[0.4444444444444444,\"#bd3786\"],[0.5555555555555556,\"#d8576b\"],[0.6666666666666666,\"#ed7953\"],[0.7777777777777778,\"#fb9f3a\"],[0.8888888888888888,\"#fdca26\"],[1.0,\"#f0f921\"]],\"type\":\"heatmap\"}],\"histogram2dcontour\":[{\"colorbar\":{\"outlinewidth\":0,\"ticks\":\"\"},\"colorscale\":[[0.0,\"#0d0887\"],[0.1111111111111111,\"#46039f\"],[0.2222222222222222,\"#7201a8\"],[0.3333333333333333,\"#9c179e\"],[0.4444444444444444,\"#bd3786\"],[0.5555555555555556,\"#d8576b\"],[0.6666666666666666,\"#ed7953\"],[0.7777777777777778,\"#fb9f3a\"],[0.8888888888888888,\"#fdca26\"],[1.0,\"#f0f921\"]],\"type\":\"histogram2dcontour\"}],\"histogram2d\":[{\"colorbar\":{\"outlinewidth\":0,\"ticks\":\"\"},\"colorscale\":[[0.0,\"#0d0887\"],[0.1111111111111111,\"#46039f\"],[0.2222222222222222,\"#7201a8\"],[0.3333333333333333,\"#9c179e\"],[0.4444444444444444,\"#bd3786\"],[0.5555555555555556,\"#d8576b\"],[0.6666666666666666,\"#ed7953\"],[0.7777777777777778,\"#fb9f3a\"],[0.8888888888888888,\"#fdca26\"],[1.0,\"#f0f921\"]],\"type\":\"histogram2d\"}],\"histogram\":[{\"marker\":{\"pattern\":{\"fillmode\":\"overlay\",\"size\":10,\"solidity\":0.2}},\"type\":\"histogram\"}],\"mesh3d\":[{\"colorbar\":{\"outlinewidth\":0,\"ticks\":\"\"},\"type\":\"mesh3d\"}],\"parcoords\":[{\"line\":{\"colorbar\":{\"outlinewidth\":0,\"ticks\":\"\"}},\"type\":\"parcoords\"}],\"pie\":[{\"automargin\":true,\"type\":\"pie\"}],\"scatter3d\":[{\"line\":{\"colorbar\":{\"outlinewidth\":0,\"ticks\":\"\"}},\"marker\":{\"colorbar\":{\"outlinewidth\":0,\"ticks\":\"\"}},\"type\":\"scatter3d\"}],\"scattercarpet\":[{\"marker\":{\"colorbar\":{\"outlinewidth\":0,\"ticks\":\"\"}},\"type\":\"scattercarpet\"}],\"scattergeo\":[{\"marker\":{\"colorbar\":{\"outlinewidth\":0,\"ticks\":\"\"}},\"type\":\"scattergeo\"}],\"scattergl\":[{\"marker\":{\"colorbar\":{\"outlinewidth\":0,\"ticks\":\"\"}},\"type\":\"scattergl\"}],\"scattermapbox\":[{\"marker\":{\"colorbar\":{\"outlinewidth\":0,\"ticks\":\"\"}},\"type\":\"scattermapbox\"}],\"scatterpolargl\":[{\"marker\":{\"colorbar\":{\"outlinewidth\":0,\"ticks\":\"\"}},\"type\":\"scatterpolargl\"}],\"scatterpolar\":[{\"marker\":{\"colorbar\":{\"outlinewidth\":0,\"ticks\":\"\"}},\"type\":\"scatterpolar\"}],\"scatter\":[{\"fillpattern\":{\"fillmode\":\"overlay\",\"size\":10,\"solidity\":0.2},\"type\":\"scatter\"}],\"scatterternary\":[{\"marker\":{\"colorbar\":{\"outlinewidth\":0,\"ticks\":\"\"}},\"type\":\"scatterternary\"}],\"surface\":[{\"colorbar\":{\"outlinewidth\":0,\"ticks\":\"\"},\"colorscale\":[[0.0,\"#0d0887\"],[0.1111111111111111,\"#46039f\"],[0.2222222222222222,\"#7201a8\"],[0.3333333333333333,\"#9c179e\"],[0.4444444444444444,\"#bd3786\"],[0.5555555555555556,\"#d8576b\"],[0.6666666666666666,\"#ed7953\"],[0.7777777777777778,\"#fb9f3a\"],[0.8888888888888888,\"#fdca26\"],[1.0,\"#f0f921\"]],\"type\":\"surface\"}],\"table\":[{\"cells\":{\"fill\":{\"color\":\"#EBF0F8\"},\"line\":{\"color\":\"white\"}},\"header\":{\"fill\":{\"color\":\"#C8D4E3\"},\"line\":{\"color\":\"white\"}},\"type\":\"table\"}]},\"layout\":{\"annotationdefaults\":{\"arrowcolor\":\"#2a3f5f\",\"arrowhead\":0,\"arrowwidth\":1},\"autotypenumbers\":\"strict\",\"coloraxis\":{\"colorbar\":{\"outlinewidth\":0,\"ticks\":\"\"}},\"colorscale\":{\"diverging\":[[0,\"#8e0152\"],[0.1,\"#c51b7d\"],[0.2,\"#de77ae\"],[0.3,\"#f1b6da\"],[0.4,\"#fde0ef\"],[0.5,\"#f7f7f7\"],[0.6,\"#e6f5d0\"],[0.7,\"#b8e186\"],[0.8,\"#7fbc41\"],[0.9,\"#4d9221\"],[1,\"#276419\"]],\"sequential\":[[0.0,\"#0d0887\"],[0.1111111111111111,\"#46039f\"],[0.2222222222222222,\"#7201a8\"],[0.3333333333333333,\"#9c179e\"],[0.4444444444444444,\"#bd3786\"],[0.5555555555555556,\"#d8576b\"],[0.6666666666666666,\"#ed7953\"],[0.7777777777777778,\"#fb9f3a\"],[0.8888888888888888,\"#fdca26\"],[1.0,\"#f0f921\"]],\"sequentialminus\":[[0.0,\"#0d0887\"],[0.1111111111111111,\"#46039f\"],[0.2222222222222222,\"#7201a8\"],[0.3333333333333333,\"#9c179e\"],[0.4444444444444444,\"#bd3786\"],[0.5555555555555556,\"#d8576b\"],[0.6666666666666666,\"#ed7953\"],[0.7777777777777778,\"#fb9f3a\"],[0.8888888888888888,\"#fdca26\"],[1.0,\"#f0f921\"]]},\"colorway\":[\"#636efa\",\"#EF553B\",\"#00cc96\",\"#ab63fa\",\"#FFA15A\",\"#19d3f3\",\"#FF6692\",\"#B6E880\",\"#FF97FF\",\"#FECB52\"],\"font\":{\"color\":\"#2a3f5f\"},\"geo\":{\"bgcolor\":\"white\",\"lakecolor\":\"white\",\"landcolor\":\"white\",\"showlakes\":true,\"showland\":true,\"subunitcolor\":\"#C8D4E3\"},\"hoverlabel\":{\"align\":\"left\"},\"hovermode\":\"closest\",\"mapbox\":{\"style\":\"light\"},\"margin\":{\"b\":0,\"l\":0,\"r\":0,\"t\":30},\"paper_bgcolor\":\"white\",\"plot_bgcolor\":\"white\",\"polar\":{\"angularaxis\":{\"gridcolor\":\"#EBF0F8\",\"linecolor\":\"#EBF0F8\",\"ticks\":\"\"},\"bgcolor\":\"white\",\"radialaxis\":{\"gridcolor\":\"#EBF0F8\",\"linecolor\":\"#EBF0F8\",\"ticks\":\"\"}},\"scene\":{\"xaxis\":{\"backgroundcolor\":\"white\",\"gridcolor\":\"#DFE8F3\",\"gridwidth\":2,\"linecolor\":\"#EBF0F8\",\"showbackground\":true,\"ticks\":\"\",\"zerolinecolor\":\"#EBF0F8\"},\"yaxis\":{\"backgroundcolor\":\"white\",\"gridcolor\":\"#DFE8F3\",\"gridwidth\":2,\"linecolor\":\"#EBF0F8\",\"showbackground\":true,\"ticks\":\"\",\"zerolinecolor\":\"#EBF0F8\"},\"zaxis\":{\"backgroundcolor\":\"white\",\"gridcolor\":\"#DFE8F3\",\"gridwidth\":2,\"linecolor\":\"#EBF0F8\",\"showbackground\":true,\"ticks\":\"\",\"zerolinecolor\":\"#EBF0F8\"}},\"shapedefaults\":{\"line\":{\"color\":\"#2a3f5f\"}},\"ternary\":{\"aaxis\":{\"gridcolor\":\"#DFE8F3\",\"linecolor\":\"#A2B1C6\",\"ticks\":\"\"},\"baxis\":{\"gridcolor\":\"#DFE8F3\",\"linecolor\":\"#A2B1C6\",\"ticks\":\"\"},\"bgcolor\":\"white\",\"caxis\":{\"gridcolor\":\"#DFE8F3\",\"linecolor\":\"#A2B1C6\",\"ticks\":\"\"}},\"title\":{\"x\":0.05},\"xaxis\":{\"automargin\":true,\"gridcolor\":\"#EBF0F8\",\"linecolor\":\"#EBF0F8\",\"ticks\":\"\",\"title\":{\"standoff\":15},\"zerolinecolor\":\"#EBF0F8\",\"zerolinewidth\":2},\"yaxis\":{\"automargin\":true,\"gridcolor\":\"#EBF0F8\",\"linecolor\":\"#EBF0F8\",\"ticks\":\"\",\"title\":{\"standoff\":15},\"zerolinecolor\":\"#EBF0F8\",\"zerolinewidth\":2}}},\"xaxis\":{\"title\":{\"text\":\"Count\",\"font\":{\"size\":11,\"family\":\"Roboto Condensed\",\"color\":\"black\"},\"standoff\":1},\"tickfont\":{\"size\":10,\"family\":\"Roboto\",\"color\":\"black\"}},\"yaxis\":{\"tickfont\":{\"size\":12,\"family\":\"Roboto\",\"color\":\"black\"}},\"font\":{\"family\":\"Roboto Condensed\"},\"title\":{\"font\":{\"size\":15,\"family\":\"Roboto Condensed\"},\"text\":\"\\u003cb\\u003eFigure 8.\\u003c\\u002fb\\u003e KMeans Clustering (n_clusters=3)\",\"automargin\":true},\"barmode\":\"group\",\"bargap\":0.125,\"bargroupgap\":0.1},                        {\"responsive\": true}                    ).then(function(){\n",
       "                            \n",
       "var gd = document.getElementById('30d69821-68b7-4144-9cf5-1f29e3511955');\n",
       "var x = new MutationObserver(function (mutations, observer) {{\n",
       "        var display = window.getComputedStyle(gd).display;\n",
       "        if (!display || display === 'none') {{\n",
       "            console.log([gd, 'removed!']);\n",
       "            Plotly.purge(gd);\n",
       "            observer.disconnect();\n",
       "        }}\n",
       "}});\n",
       "\n",
       "// Listen for the removal of the full notebook cells\n",
       "var notebookContainer = gd.closest('#notebook-container');\n",
       "if (notebookContainer) {{\n",
       "    x.observe(notebookContainer, {childList: true});\n",
       "}}\n",
       "\n",
       "// Listen for the clearing of the current output cell\n",
       "var outputEl = gd.closest('.output');\n",
       "if (outputEl) {{\n",
       "    x.observe(outputEl, {childList: true});\n",
       "}}\n",
       "\n",
       "                        })                };                });            </script>        </div>"
      ]
     },
     "metadata": {},
     "output_type": "display_data"
    }
   ],
   "source": [
    "x=[str(group) for group in kmeans.labels_]\n",
    "#sns.countplot(x=[str(group) for group in kmeans.labels_], color = 'lightblue')\n",
    "\n",
    "fig = go.Figure()\n",
    "fig.add_trace(\n",
    "    go.Histogram(histfunc=\"count\", x=x, \n",
    "                 marker=dict(color=\"#EDB3F8\"), showlegend=False,\n",
    "                 textfont={\"family\": \"Roboto\", \"size\": 12, \"color\": \"black\"})\n",
    ")\n",
    "\n",
    "fig.update_layout(\n",
    "    xaxis=dict(title='Count',titlefont_size=12,tickfont_size=14),\n",
    "    yaxis=dict(tickfont_size=13),\n",
    "    barmode=\"group\",\n",
    "    bargap=0.125,  # gap between bars of adjacent location coordinates.\n",
    "    bargroupgap=0.1,  # gap between bars of the same location coordinate.\n",
    "    template=\"plotly_white\",\n",
    "    font_family = \"Roboto Condensed\",\n",
    "    #margin=dict(r=10, t=5, b=5, l=90),\n",
    "    title=dict(text='<b>Figure 8.</b> KMeans Clustering (n_clusters=3)', \n",
    "               font=dict(size=15, family=\"Roboto Condensed\"), automargin=True) #yref='paper'\n",
    "    )\n",
    "\n",
    "fig.update_traces(marker_color= '#6A8559', \n",
    "                  marker_line_color='#4E6241',\n",
    "                  marker_line_width=1.5, opacity=0.996,\n",
    "                  textfont_size=18, textangle=0, cliponaxis=False,textposition=\"outside\")\n",
    "\n",
    "fig.update_xaxes(title_standoff = 1,\n",
    "                 title_font=dict(size=11, family='Roboto Condensed', color='black'),\n",
    "                 tickfont=dict(family='Roboto', color='black', size=10))\n",
    "\n",
    "fig.update_yaxes(tickfont=dict(family='Roboto', color='black', size=12))\n",
    "#fig.write_html(\"html/lyrics.html\")\n",
    "\n",
    "fig.show()\n"
   ]
  },
  {
   "attachments": {},
   "cell_type": "markdown",
   "id": "6e04e714",
   "metadata": {},
   "source": [
    "#### Visualizing the Clusters\n",
    "\n",
    "\n",
    "Moving forward, let's look at differences in the audio features of each group.\n",
    "\n"
   ]
  },
  {
   "cell_type": "code",
   "execution_count": 30,
   "id": "746d27c7",
   "metadata": {},
   "outputs": [],
   "source": [
    "from sklearn.preprocessing import StandardScaler\n",
    "scaler = StandardScaler()\n",
    "scaler.fit(playlist_tracks.drop(['name'], axis = 1))\n",
    "scaled_data = scaler.transform(playlist_tracks.drop(['name'], axis = 1))"
   ]
  },
  {
   "cell_type": "code",
   "execution_count": 31,
   "id": "533b025e",
   "metadata": {},
   "outputs": [],
   "source": [
    "#| code-fold: true\n",
    "\n",
    "from sklearn.decomposition import PCA\n",
    "pca = PCA(n_components =2)\n",
    "pca.fit(scaled_data)\n",
    "data_pca = pca.transform(scaled_data)"
   ]
  },
  {
   "cell_type": "code",
   "execution_count": 32,
   "id": "a76c21c6",
   "metadata": {
    "tags": [
     "hide-code"
    ]
   },
   "outputs": [
    {
     "data": {
      "text/plain": [
       "Text(0, 0.5, 'PC2: 0.153')"
      ]
     },
     "execution_count": 32,
     "metadata": {},
     "output_type": "execute_result"
    },
    {
     "data": {
      "image/png": "[encoded data removed]",
      "text/plain": [
       "<Figure size 768x480 with 1 Axes>"
      ]
     },
     "metadata": {
      "image/png": {
       "height": 472,
       "width": 676
      }
     },
     "output_type": "display_data"
    }
   ],
   "source": [
    "plot = sns.scatterplot(x=data_pca[:,0], y=data_pca[:,1], hue = list(kmeans.labels_),\n",
    "                       alpha = 0.66, \n",
    "                       #size = data_pca[:,1], sizes = (50,200),\n",
    "                       palette = 'viridis', edgecolor = 'black', cmap='Paired')\n",
    "plot.set_title('PCA ANALYSIS', size = 16, weight='bold')\n",
    "\n",
    "plt.xlabel('PC1: {:.3f}'.format(pca.explained_variance_ratio_[0]), size = 15)\n",
    "plt.ylabel('PC2: {:.3f}'.format(pca.explained_variance_ratio_[1]), size = 15)\n"
   ]
  },
  {
   "cell_type": "code",
   "execution_count": 33,
   "id": "24f0f30d",
   "metadata": {},
   "outputs": [
    {
     "data": {
      "text/html": [
       "<div>\n",
       "<style scoped>\n",
       "    .dataframe tbody tr th:only-of-type {\n",
       "        vertical-align: middle;\n",
       "    }\n",
       "\n",
       "    .dataframe tbody tr th {\n",
       "        vertical-align: top;\n",
       "    }\n",
       "\n",
       "    .dataframe thead th {\n",
       "        text-align: right;\n",
       "    }\n",
       "</style>\n",
       "<table border=\"1\" class=\"dataframe\">\n",
       "  <thead>\n",
       "    <tr style=\"text-align: right;\">\n",
       "      <th></th>\n",
       "      <th>acousticness</th>\n",
       "      <th>danceability</th>\n",
       "      <th>energy</th>\n",
       "      <th>liveness</th>\n",
       "      <th>instrumentalness</th>\n",
       "      <th>speechiness</th>\n",
       "      <th>valence</th>\n",
       "      <th>sadness</th>\n",
       "      <th>joy</th>\n",
       "      <th>love</th>\n",
       "      <th>anger</th>\n",
       "      <th>fear</th>\n",
       "    </tr>\n",
       "  </thead>\n",
       "  <tbody>\n",
       "    <tr>\n",
       "      <th>0</th>\n",
       "      <td>0.20839</td>\n",
       "      <td>0.672</td>\n",
       "      <td>0.60875</td>\n",
       "      <td>0.144285</td>\n",
       "      <td>0.020388</td>\n",
       "      <td>0.059735</td>\n",
       "      <td>0.54265</td>\n",
       "      <td>0.151202</td>\n",
       "      <td>0.108936</td>\n",
       "      <td>0.206101</td>\n",
       "      <td>0.253816</td>\n",
       "      <td>0.259347</td>\n",
       "    </tr>\n",
       "    <tr>\n",
       "      <th>1</th>\n",
       "      <td>0.126155</td>\n",
       "      <td>0.74595</td>\n",
       "      <td>0.67765</td>\n",
       "      <td>0.110685</td>\n",
       "      <td>0.017031</td>\n",
       "      <td>0.052625</td>\n",
       "      <td>0.6812</td>\n",
       "      <td>0.028329</td>\n",
       "      <td>0.854914</td>\n",
       "      <td>0.046817</td>\n",
       "      <td>0.0533</td>\n",
       "      <td>0.013642</td>\n",
       "    </tr>\n",
       "    <tr>\n",
       "      <th>2</th>\n",
       "      <td>0.3229</td>\n",
       "      <td>0.615</td>\n",
       "      <td>0.6254</td>\n",
       "      <td>0.13608</td>\n",
       "      <td>0.000763</td>\n",
       "      <td>0.0478</td>\n",
       "      <td>0.4399</td>\n",
       "      <td>0.893231</td>\n",
       "      <td>0.046527</td>\n",
       "      <td>0.002716</td>\n",
       "      <td>0.032235</td>\n",
       "      <td>0.023872</td>\n",
       "    </tr>\n",
       "  </tbody>\n",
       "</table>\n",
       "</div>"
      ],
      "text/plain": [
       "  acousticness danceability   energy  liveness instrumentalness speechiness  \\\n",
       "0      0.20839        0.672  0.60875  0.144285         0.020388    0.059735   \n",
       "1     0.126155      0.74595  0.67765  0.110685         0.017031    0.052625   \n",
       "2       0.3229        0.615   0.6254   0.13608         0.000763      0.0478   \n",
       "\n",
       "   valence   sadness       joy      love     anger      fear  \n",
       "0  0.54265  0.151202  0.108936  0.206101  0.253816  0.259347  \n",
       "1   0.6812  0.028329  0.854914  0.046817    0.0533  0.013642  \n",
       "2   0.4399  0.893231  0.046527  0.002716  0.032235  0.023872  "
      ]
     },
     "execution_count": 33,
     "metadata": {},
     "output_type": "execute_result"
    }
   ],
   "source": [
    "playlist_tracks['group'] = list(kmeans.labels_)\n",
    "playlist_tracks = playlist_tracks.astype({'group': str})\n",
    "\n",
    "means = pd.DataFrame(index = range(0,3), \n",
    "                    columns = list(playlist_tracks[playlist_tracks['group'] == '0'].describe().loc['mean'].index))\n",
    "means.iloc[0] = playlist_tracks[playlist_tracks['group'] == '0'].describe().loc['mean']\n",
    "means.iloc[1] = playlist_tracks[playlist_tracks['group'] == '1'].describe().loc['mean']\n",
    "means.iloc[2] = playlist_tracks[playlist_tracks['group'] == '2'].describe().loc['mean']\n",
    "means"
   ]
  },
  {
   "attachments": {},
   "cell_type": "markdown",
   "id": "ea412d4b",
   "metadata": {},
   "source": [
    "----------------------\n",
    "\n",
    "#### Organized Songs in a Playlist\n",
    "\n",
    "\n",
    "K-means is an unsupervised clustering algorithm that partitions data into $K$ clusters, grouping similar points together. Using Spotify data, we can cluster songs based on attributes like acousticness, danceability, and energy. We import Python libraries such as pandas, matplotlib, and sklearn for data manipulation, visualization, and clustering. After obtaining song attributes, we use the `describe` function to gain insights and prepare the data for clustering, as demonstrated below."
   ]
  },
  {
   "cell_type": "code",
   "execution_count": 34,
   "id": "4f3b6ec4",
   "metadata": {},
   "outputs": [
    {
     "data": {
      "text/html": [
       "<div>\n",
       "<style scoped>\n",
       "    .dataframe tbody tr th:only-of-type {\n",
       "        vertical-align: middle;\n",
       "    }\n",
       "\n",
       "    .dataframe tbody tr th {\n",
       "        vertical-align: top;\n",
       "    }\n",
       "\n",
       "    .dataframe thead th {\n",
       "        text-align: right;\n",
       "    }\n",
       "</style>\n",
       "<table border=\"1\" class=\"dataframe\">\n",
       "  <thead>\n",
       "    <tr style=\"text-align: right;\">\n",
       "      <th></th>\n",
       "      <th>acousticness</th>\n",
       "      <th>danceability</th>\n",
       "      <th>energy</th>\n",
       "      <th>instrumentalness</th>\n",
       "      <th>liveness</th>\n",
       "      <th>speechiness</th>\n",
       "      <th>valence</th>\n",
       "      <th>loudness_scaled</th>\n",
       "      <th>anger</th>\n",
       "      <th>love</th>\n",
       "      <th>sadness</th>\n",
       "    </tr>\n",
       "  </thead>\n",
       "  <tbody>\n",
       "    <tr>\n",
       "      <th>count</th>\n",
       "      <td>50.000000</td>\n",
       "      <td>50.000000</td>\n",
       "      <td>50.000000</td>\n",
       "      <td>50.000000</td>\n",
       "      <td>50.000000</td>\n",
       "      <td>50.000000</td>\n",
       "      <td>50.000000</td>\n",
       "      <td>50.000000</td>\n",
       "      <td>50.000000</td>\n",
       "      <td>50.000000</td>\n",
       "      <td>50.000000</td>\n",
       "    </tr>\n",
       "    <tr>\n",
       "      <th>mean</th>\n",
       "      <td>0.198398</td>\n",
       "      <td>0.690180</td>\n",
       "      <td>0.639640</td>\n",
       "      <td>0.015120</td>\n",
       "      <td>0.129204</td>\n",
       "      <td>0.054504</td>\n",
       "      <td>0.577520</td>\n",
       "      <td>0.551367</td>\n",
       "      <td>0.129293</td>\n",
       "      <td>0.101710</td>\n",
       "      <td>0.250459</td>\n",
       "    </tr>\n",
       "    <tr>\n",
       "      <th>std</th>\n",
       "      <td>0.194310</td>\n",
       "      <td>0.144655</td>\n",
       "      <td>0.130139</td>\n",
       "      <td>0.059203</td>\n",
       "      <td>0.079672</td>\n",
       "      <td>0.032362</td>\n",
       "      <td>0.234215</td>\n",
       "      <td>0.221284</td>\n",
       "      <td>0.244960</td>\n",
       "      <td>0.245032</td>\n",
       "      <td>0.356076</td>\n",
       "    </tr>\n",
       "    <tr>\n",
       "      <th>min</th>\n",
       "      <td>0.000938</td>\n",
       "      <td>0.264000</td>\n",
       "      <td>0.386000</td>\n",
       "      <td>0.000000</td>\n",
       "      <td>0.029300</td>\n",
       "      <td>0.026400</td>\n",
       "      <td>0.190000</td>\n",
       "      <td>0.000000</td>\n",
       "      <td>0.000206</td>\n",
       "      <td>0.000193</td>\n",
       "      <td>0.001261</td>\n",
       "    </tr>\n",
       "    <tr>\n",
       "      <th>25%</th>\n",
       "      <td>0.040675</td>\n",
       "      <td>0.630500</td>\n",
       "      <td>0.552000</td>\n",
       "      <td>0.000000</td>\n",
       "      <td>0.082600</td>\n",
       "      <td>0.034775</td>\n",
       "      <td>0.373000</td>\n",
       "      <td>0.376041</td>\n",
       "      <td>0.002251</td>\n",
       "      <td>0.002018</td>\n",
       "      <td>0.007991</td>\n",
       "    </tr>\n",
       "    <tr>\n",
       "      <th>50%</th>\n",
       "      <td>0.140000</td>\n",
       "      <td>0.700500</td>\n",
       "      <td>0.635000</td>\n",
       "      <td>0.000003</td>\n",
       "      <td>0.106000</td>\n",
       "      <td>0.046450</td>\n",
       "      <td>0.591500</td>\n",
       "      <td>0.581936</td>\n",
       "      <td>0.026904</td>\n",
       "      <td>0.006858</td>\n",
       "      <td>0.041605</td>\n",
       "    </tr>\n",
       "    <tr>\n",
       "      <th>75%</th>\n",
       "      <td>0.270750</td>\n",
       "      <td>0.780000</td>\n",
       "      <td>0.727250</td>\n",
       "      <td>0.000082</td>\n",
       "      <td>0.139250</td>\n",
       "      <td>0.063300</td>\n",
       "      <td>0.775500</td>\n",
       "      <td>0.699484</td>\n",
       "      <td>0.124115</td>\n",
       "      <td>0.032315</td>\n",
       "      <td>0.401728</td>\n",
       "    </tr>\n",
       "    <tr>\n",
       "      <th>max</th>\n",
       "      <td>0.799000</td>\n",
       "      <td>0.936000</td>\n",
       "      <td>0.946000</td>\n",
       "      <td>0.336000</td>\n",
       "      <td>0.403000</td>\n",
       "      <td>0.204000</td>\n",
       "      <td>0.957000</td>\n",
       "      <td>1.000000</td>\n",
       "      <td>0.993250</td>\n",
       "      <td>0.994453</td>\n",
       "      <td>0.998848</td>\n",
       "    </tr>\n",
       "  </tbody>\n",
       "</table>\n",
       "</div>"
      ],
      "text/plain": [
       "       acousticness  danceability     energy  instrumentalness   liveness  \\\n",
       "count     50.000000     50.000000  50.000000         50.000000  50.000000   \n",
       "mean       0.198398      0.690180   0.639640          0.015120   0.129204   \n",
       "std        0.194310      0.144655   0.130139          0.059203   0.079672   \n",
       "min        0.000938      0.264000   0.386000          0.000000   0.029300   \n",
       "25%        0.040675      0.630500   0.552000          0.000000   0.082600   \n",
       "50%        0.140000      0.700500   0.635000          0.000003   0.106000   \n",
       "75%        0.270750      0.780000   0.727250          0.000082   0.139250   \n",
       "max        0.799000      0.936000   0.946000          0.336000   0.403000   \n",
       "\n",
       "       speechiness    valence  loudness_scaled      anger       love  \\\n",
       "count    50.000000  50.000000        50.000000  50.000000  50.000000   \n",
       "mean      0.054504   0.577520         0.551367   0.129293   0.101710   \n",
       "std       0.032362   0.234215         0.221284   0.244960   0.245032   \n",
       "min       0.026400   0.190000         0.000000   0.000206   0.000193   \n",
       "25%       0.034775   0.373000         0.376041   0.002251   0.002018   \n",
       "50%       0.046450   0.591500         0.581936   0.026904   0.006858   \n",
       "75%       0.063300   0.775500         0.699484   0.124115   0.032315   \n",
       "max       0.204000   0.957000         1.000000   0.993250   0.994453   \n",
       "\n",
       "         sadness  \n",
       "count  50.000000  \n",
       "mean    0.250459  \n",
       "std     0.356076  \n",
       "min     0.001261  \n",
       "25%     0.007991  \n",
       "50%     0.041605  \n",
       "75%     0.401728  \n",
       "max     0.998848  "
      ]
     },
     "execution_count": 34,
     "metadata": {},
     "output_type": "execute_result"
    }
   ],
   "source": [
    "import pandas as pd\n",
    "import matplotlib.pyplot as plt\n",
    "from sklearn import cluster, decomposition\n",
    "\n",
    "songs = df_final[['name','acousticness', 'danceability', 'energy', 'instrumentalness', \n",
    "            'liveness', 'speechiness', 'valence',  'loudness_scaled', \n",
    "            'anger', 'love', 'sadness']]\n",
    "songs.describe()"
   ]
  },
  {
   "cell_type": "markdown",
   "id": "8c8e5750",
   "metadata": {},
   "source": [
    "The first step is to extract song labels from the dataset. We then select key features to input into the Affinity Propagation clustering algorithm from the *scikit-learn* library. We set a preference value of -200 to optimize clustering performance. After inputting the data, we train the algorithm to cluster the Spotify songs effectively."
   ]
  },
  {
   "cell_type": "code",
   "execution_count": 35,
   "id": "dda942e6",
   "metadata": {},
   "outputs": [
    {
     "data": {
      "text/html": [
       "<style>#sk-container-id-2 {color: black;background-color: white;}#sk-container-id-2 pre{padding: 0;}#sk-container-id-2 div.sk-toggleable {background-color: white;}#sk-container-id-2 label.sk-toggleable__label {cursor: pointer;display: block;width: 100%;margin-bottom: 0;padding: 0.3em;box-sizing: border-box;text-align: center;}#sk-container-id-2 label.sk-toggleable__label-arrow:before {content: \"▸\";float: left;margin-right: 0.25em;color: #696969;}#sk-container-id-2 label.sk-toggleable__label-arrow:hover:before {color: black;}#sk-container-id-2 div.sk-estimator:hover label.sk-toggleable__label-arrow:before {color: black;}#sk-container-id-2 div.sk-toggleable__content {max-height: 0;max-width: 0;overflow: hidden;text-align: left;background-color: #f0f8ff;}#sk-container-id-2 div.sk-toggleable__content pre {margin: 0.2em;color: black;border-radius: 0.25em;background-color: #f0f8ff;}#sk-container-id-2 input.sk-toggleable__control:checked~div.sk-toggleable__content {max-height: 200px;max-width: 100%;overflow: auto;}#sk-container-id-2 input.sk-toggleable__control:checked~label.sk-toggleable__label-arrow:before {content: \"▾\";}#sk-container-id-2 div.sk-estimator input.sk-toggleable__control:checked~label.sk-toggleable__label {background-color: #d4ebff;}#sk-container-id-2 div.sk-label input.sk-toggleable__control:checked~label.sk-toggleable__label {background-color: #d4ebff;}#sk-container-id-2 input.sk-hidden--visually {border: 0;clip: rect(1px 1px 1px 1px);clip: rect(1px, 1px, 1px, 1px);height: 1px;margin: -1px;overflow: hidden;padding: 0;position: absolute;width: 1px;}#sk-container-id-2 div.sk-estimator {font-family: monospace;background-color: #f0f8ff;border: 1px dotted black;border-radius: 0.25em;box-sizing: border-box;margin-bottom: 0.5em;}#sk-container-id-2 div.sk-estimator:hover {background-color: #d4ebff;}#sk-container-id-2 div.sk-parallel-item::after {content: \"\";width: 100%;border-bottom: 1px solid gray;flex-grow: 1;}#sk-container-id-2 div.sk-label:hover label.sk-toggleable__label {background-color: #d4ebff;}#sk-container-id-2 div.sk-serial::before {content: \"\";position: absolute;border-left: 1px solid gray;box-sizing: border-box;top: 0;bottom: 0;left: 50%;z-index: 0;}#sk-container-id-2 div.sk-serial {display: flex;flex-direction: column;align-items: center;background-color: white;padding-right: 0.2em;padding-left: 0.2em;position: relative;}#sk-container-id-2 div.sk-item {position: relative;z-index: 1;}#sk-container-id-2 div.sk-parallel {display: flex;align-items: stretch;justify-content: center;background-color: white;position: relative;}#sk-container-id-2 div.sk-item::before, #sk-container-id-2 div.sk-parallel-item::before {content: \"\";position: absolute;border-left: 1px solid gray;box-sizing: border-box;top: 0;bottom: 0;left: 50%;z-index: -1;}#sk-container-id-2 div.sk-parallel-item {display: flex;flex-direction: column;z-index: 1;position: relative;background-color: white;}#sk-container-id-2 div.sk-parallel-item:first-child::after {align-self: flex-end;width: 50%;}#sk-container-id-2 div.sk-parallel-item:last-child::after {align-self: flex-start;width: 50%;}#sk-container-id-2 div.sk-parallel-item:only-child::after {width: 0;}#sk-container-id-2 div.sk-dashed-wrapped {border: 1px dashed gray;margin: 0 0.4em 0.5em 0.4em;box-sizing: border-box;padding-bottom: 0.4em;background-color: white;}#sk-container-id-2 div.sk-label label {font-family: monospace;font-weight: bold;display: inline-block;line-height: 1.2em;}#sk-container-id-2 div.sk-label-container {text-align: center;}#sk-container-id-2 div.sk-container {/* jupyter's `normalize.less` sets `[hidden] { display: none; }` but bootstrap.min.css set `[hidden] { display: none !important; }` so we also need the `!important` here to be able to override the default hidden behavior on the sphinx rendered scikit-learn.org. See: https://github.com/scikit-learn/scikit-learn/issues/21755 */display: inline-block !important;position: relative;}#sk-container-id-2 div.sk-text-repr-fallback {display: none;}</style><div id=\"sk-container-id-2\" class=\"sk-top-container\"><div class=\"sk-text-repr-fallback\"><pre>AffinityPropagation()</pre><b>In a Jupyter environment, please rerun this cell to show the HTML representation or trust the notebook. <br />On GitHub, the HTML representation is unable to render, please try loading this page with nbviewer.org.</b></div><div class=\"sk-container\" hidden><div class=\"sk-item\"><div class=\"sk-estimator sk-toggleable\"><input class=\"sk-toggleable__control sk-hidden--visually\" id=\"sk-estimator-id-2\" type=\"checkbox\" checked><label for=\"sk-estimator-id-2\" class=\"sk-toggleable__label sk-toggleable__label-arrow\">AffinityPropagation</label><div class=\"sk-toggleable__content\"><pre>AffinityPropagation()</pre></div></div></div></div></div>"
      ],
      "text/plain": [
       "AffinityPropagation()"
      ]
     },
     "execution_count": 35,
     "metadata": {},
     "output_type": "execute_result"
    }
   ],
   "source": [
    "labels = songs.values[:,0]\n",
    "X = songs.values[:,1:12]\n",
    "kmeans = cluster.AffinityPropagation()\n",
    "kmeans.fit(X)"
   ]
  },
  {
   "cell_type": "code",
   "execution_count": 36,
   "id": "e3a0369d",
   "metadata": {
    "tags": [
     "hide-code"
    ]
   },
   "outputs": [
    {
     "name": "stdout",
     "output_type": "stream",
     "text": [
      "Category 0\n",
      "-----\n",
      "Please Please Please\n",
      "Not Like Us\n",
      "Beautiful Things\n",
      "LUNCH\n",
      "End of Beginning\n",
      "Belong Together\n",
      "Slow It Down\n",
      "the boy is mine\n",
      "360\n",
      "Rockstar\n",
      "One Of The Girls (with JENNIE, Lily Rose Depp)\n",
      "Parking Lot\n",
      "Gata Only\n",
      "Santa\n",
      "Magnetic\n",
      "\n",
      "Category 1\n",
      "-----\n",
      "Si Antes Te Hubiera Conocido\n",
      "Nasty\n",
      "greedy\n",
      "BAND4BAND (feat. Lil Baby)\n",
      "\n",
      "Category 2\n",
      "-----\n",
      "BIRDS OF A FEATHER\n",
      "we can't be friends (wait for your love)\n",
      "Tough\n",
      "Fortnight (feat. Post Malone)\n",
      "Close To You\n",
      "Stumblin' In\n",
      "Scared To Start\n",
      "\n",
      "Category 5\n",
      "-----\n",
      "Good Luck, Babe!\n",
      "A Bar Song (Tipsy)\n",
      "MILLION DOLLAR BABY\n",
      "Too Sweet\n",
      "I Had Some Help (Feat. Morgan Wallen)\n",
      "Espresso\n",
      "i like the way you kiss me\n",
      "Houdini\n",
      "I Don't Wanna Wait\n",
      "Smeraldo Garden Marching Band (feat. Loco)\n",
      "Water\n",
      "Illusion\n",
      "\n",
      "Category 3\n",
      "-----\n",
      "Stargazing\n",
      "Lose Control\n",
      "Austin\n",
      "I Can Do It With a Broken Heart\n",
      "GIRLS\n",
      "Saturn\n",
      "Stick Season\n",
      "Lies Lies Lies\n",
      "feelslikeimfallinginlove\n",
      "\n",
      "Category 4\n",
      "-----\n",
      "HOT TO GO!\n",
      "Move\n",
      "28\n",
      "\n"
     ]
    }
   ],
   "source": [
    "predictions = {}\n",
    "for p,n in zip(kmeans.predict(X),labels):\n",
    "    if not predictions.get(p):\n",
    "        predictions[p] = []\n",
    "        \n",
    "    predictions[p] += [n]\n",
    "\n",
    "for p in predictions:\n",
    "    print(\"Category\",p)\n",
    "    print(\"-----\")\n",
    "    for n in predictions[p]:\n",
    "        print(n)\n",
    "    print(\"\")"
   ]
  },
  {
   "cell_type": "markdown",
   "id": "f7c28167",
   "metadata": {},
   "source": [
    "The script effectively categorized the playlist into six distinct groups based on shared features, resulting in a diverse selection of songs within each category."
   ]
  },
  {
   "attachments": {},
   "cell_type": "markdown",
   "id": "130cd4cd",
   "metadata": {},
   "source": [
    "--------------\n",
    "\n",
    "##  Supervised Learning: Similarity Search \n",
    "\n",
    "\n",
    "\n",
    "We create a query to retrieve [similar songs based on Euclidean distance](https://www.kaggle.com/code/leomauro/spotify-songs-similarity-search/notebook), where a shorter distance indicates greater similarity. Additionally, we employ the K-nearest neighbors (KNN) algorithm, a supervised learning method that classifies songs based on known data.\n",
    "\n",
    "\n",
    "\n",
    "#### KNN Algorithm\n",
    "\n",
    "> K-nearest neighbors (KNN) is a supervised algorithm for classification and regression. It predicts the category of new data points by comparing them to the K nearest neighbors with known classifications. For example, KNN can classify Spotify songs by analyzing their features and comparing them to similar, previously classified tracks.\n",
    "\n",
    "The KNN algorithm identifies $k$ similar elements around a query point. Using the `knnQuery` function, we input a query point (a specific song and artist), characteristic points, and a value for $k$. This function calculates the Euclidean distance between the query point and each data point, returning the $k$ closest points.\n",
    "\n",
    "The `querySimilars` function then applies KNN to find and return the $k$ most similar songs based on specified features.\n"
   ]
  },
  {
   "cell_type": "code",
   "execution_count": 37,
   "id": "da1d28e3",
   "metadata": {},
   "outputs": [],
   "source": [
    "# Get a song string search\n",
    "def getMusicName(elem):\n",
    "    return f\"{elem['artist']} - {elem['name']}\"\n",
    "\n",
    "def knnQuery(queryPoint, arrCharactPoints, k):\n",
    "    queryVals = queryPoint.tolist()\n",
    "    distVals = []\n",
    "    \n",
    "    # Copy of data indices and data\n",
    "    tmp = arrCharactPoints.copy(deep = True)  \n",
    "    for index, row in tmp.iterrows():\n",
    "        feat = row.values.tolist()\n",
    "        \n",
    "        # Calculate sum of squared differences\n",
    "        ssd = sum(abs(feat[i] - queryVals[i]) ** 2 for i in range(len(queryVals)))\n",
    "        \n",
    "        # Get euclidean distance\n",
    "        distVals.append(ssd ** 0.5)\n",
    "        \n",
    "    tmp['distance'] = distVals\n",
    "    tmp = tmp.sort_values('distance')\n",
    "    \n",
    "    # K closest and furthest points\n",
    "    return tmp.head(k).index, tmp.tail(k).index\n",
    "\n",
    "\n",
    "# Execute KNN removing the query point\n",
    "def querySimilar(df, columns, idx, func, param):\n",
    "    arr = df[columns].copy(deep = True)\n",
    "    queryPoint = arr.loc[idx]\n",
    "    arr = arr.drop([idx])\n",
    "    return func(queryPoint, arr, param)"
   ]
  },
  {
   "attachments": {},
   "cell_type": "markdown",
   "id": "efadcb53",
   "metadata": {},
   "source": [
    "**KNN Query Example.** \n",
    "\n",
    "Now we perform a KNN query to find the k most similar songs based on specified features. We first establish a function to generate custom query points. The code snippet below then selects specific song features and finds the top $k$ values within that feature set.\n",
    "\n",
    "\n",
    "<!--Using the *sklearn* preprocessing library, we create a scaler to normalize features. Since all feature values range between 0 and 1, except for loudness, we scale loudness to fit within this range.-->"
   ]
  },
  {
   "cell_type": "code",
   "execution_count": 38,
   "id": "a4858ca2",
   "metadata": {
    "tags": [
     "hide-code"
    ]
   },
   "outputs": [],
   "source": [
    "df = df_final"
   ]
  },
  {
   "cell_type": "markdown",
   "id": "e4e4d1cf",
   "metadata": {},
   "source": [
    "Let's search for  $k=3$  similar songs to a query point $\\textrm{songIndex} = 6$. "
   ]
  },
  {
   "cell_type": "code",
   "execution_count": 39,
   "id": "427b2c86",
   "metadata": {},
   "outputs": [
    {
     "name": "stdout",
     "output_type": "stream",
     "text": [
      "---- Query Point ----\n",
      "Shaboozey - A Bar Song (Tipsy)\n",
      "---- k = 3 similar songs ----\n",
      "Morgan Wallen - Lies Lies Lies\n",
      "Zach Bryan - 28\n",
      "The Weeknd - One Of The Girls (with JENNIE, Lily Rose Depp)\n",
      "---- k = 3 nonsimilar songs ----\n",
      "SZA - Saturn\n",
      "Benson Boone - Slow It Down\n",
      "Taylor Swift - Fortnight (feat. Post Malone)\n"
     ]
    }
   ],
   "source": [
    "# Select song and column attributes\n",
    "songIndex = 4 # query point\n",
    "columns = ['acousticness', 'danceability', 'energy', 'instrumentalness', 'liveness', \n",
    "           'loudness_scaled', 'tempo', \n",
    "           'speechiness', 'valence']\n",
    "\n",
    "# Set query parameters\n",
    "func, param = knnQuery,3\n",
    "\n",
    "# Implement query\n",
    "response = querySimilar(df, columns, songIndex, func, param)\n",
    "\n",
    "print(\"---- Query Point ----\")\n",
    "print(getMusicName(df.loc[songIndex]))\n",
    "print('---- k = 3 similar songs ----')\n",
    "for track_id in response[0]:\n",
    "    track_name = getMusicName(df.loc[track_id])\n",
    "    print(track_name)\n",
    "print('---- k = 3 nonsimilar songs ----')\n",
    "for track_id in response[1]:\n",
    "    track_name = getMusicName(df.loc[track_id])\n",
    "    print(track_name)"
   ]
  },
  {
   "attachments": {},
   "cell_type": "markdown",
   "id": "1fa8aa95",
   "metadata": {},
   "source": [
    "\n",
    "The code below extends the KNN algorithm to query each track in a playlist rather than a single defined query point.\n",
    "\n",
    "To track the number of similar and non-similar songs, we use two dictionaries: `similar_count` and `nonsimilar_count`. A loop iterates through the playlist, running the `querySimilars` function on each track. The results are processed into \"similar\" and \"non-similar\" categories stored in the `response` variable. \n",
    "\n"
   ]
  },
  {
   "cell_type": "code",
   "execution_count": 40,
   "id": "a1f41e82",
   "metadata": {},
   "outputs": [],
   "source": [
    "similar_count = {} # Similar songs count\n",
    "nonsimilar_count = {} # Non-similar songs count\n",
    "\n",
    "for track_index in df.index:\n",
    "    # Implement query\n",
    "    response = querySimilar(df, columns, track_index, func, param)\n",
    "    \n",
    "    # Get similar songs\n",
    "    for similar_index in response[0]:\n",
    "        track = getMusicName(df.loc[similar_index])\n",
    "        if track in similar_count:\n",
    "            similar_count[track] += 1\n",
    "        else:\n",
    "            similar_count[track] = 1\n",
    "    \n",
    "    # Get non-similar songs\n",
    "    for nonsimilar_index in response[1]:\n",
    "        track = getMusicName(df.loc[nonsimilar_index])\n",
    "        if track in nonsimilar_count:\n",
    "            nonsimilar_count[track] += 1\n",
    "        else:\n",
    "            nonsimilar_count[track] = 1"
   ]
  },
  {
   "cell_type": "code",
   "execution_count": 41,
   "id": "c6b6330e",
   "metadata": {
    "tags": [
     "hide-code"
    ]
   },
   "outputs": [
    {
     "name": "stdout",
     "output_type": "stream",
     "text": [
      "---- NON SIMILAR SONG COUNTS ----\n",
      "Benson Boone - Slow It Down : 39\n",
      "Taylor Swift - Fortnight (feat. Post Malone) : 39\n",
      "SZA - Saturn : 36\n",
      "Zach Bryan - 28 : 14\n",
      "Morgan Wallen - Lies Lies Lies : 11\n",
      "Shaboozey - A Bar Song (Tipsy) : 11\n",
      "\n",
      "---- SIMILAR SONG COUNTS ----\n",
      "Rvssian - Santa : 6\n",
      "Dua Lipa - Illusion : 5\n",
      "Hozier - Too Sweet : 5\n",
      "The Weeknd - One Of The Girls (with JENNIE, Lily Rose Depp) : 5\n",
      "Mustard - Parking Lot : 5\n",
      "Tinashe - Nasty : 5\n",
      "Chappell Roan - Good Luck, Babe! : 5\n",
      "Djo - End of Beginning : 5\n"
     ]
    }
   ],
   "source": [
    "nonsimilar = dict(sorted(nonsimilar_count.items(), key=lambda item: item[1], reverse=True))\n",
    "print('---- NON SIMILAR SONG COUNTS ----')\n",
    "for track_name, track_count in nonsimilar.items():\n",
    "    if track_count >= 8:\n",
    "        print(track_name, ':', track_count)\n",
    "\n",
    "similar = dict(sorted(similar_count.items(), key=lambda item: item[1], reverse=True))\n",
    "print('\\n---- SIMILAR SONG COUNTS ----')\n",
    "for track_name, track_count in similar.items():\n",
    "    if track_count >= 5:\n",
    "        print(track_name, ':', track_count)"
   ]
  },
  {
   "cell_type": "markdown",
   "id": "da17d668",
   "metadata": {},
   "source": [
    "------------------------------------------"
   ]
  },
  {
   "cell_type": "markdown",
   "id": "e04d3888",
   "metadata": {},
   "source": []
  }
 ],
 "metadata": {
  "kernelspec": {
   "display_name": "Python 3",
   "language": "python",
   "name": "python3"
  },
  "language_info": {
   "codemirror_mode": {
    "name": "ipython",
    "version": 3
   },
   "file_extension": ".py",
   "mimetype": "text/x-python",
   "name": "python",
   "nbconvert_exporter": "python",
   "pygments_lexer": "ipython3",
   "version": "3.11.0"
  }
 },
 "nbformat": 4,
 "nbformat_minor": 5
}
